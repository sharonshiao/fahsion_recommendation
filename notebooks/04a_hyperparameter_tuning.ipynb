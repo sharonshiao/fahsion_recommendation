{
 "cells": [
  {
   "cell_type": "markdown",
   "metadata": {},
   "source": [
    "# 4a Hyperparameter tuning\n"
   ]
  },
  {
   "cell_type": "code",
   "execution_count": 1,
   "metadata": {},
   "outputs": [],
   "source": [
    "%load_ext autoreload\n",
    "%autoreload 2"
   ]
  },
  {
   "cell_type": "code",
   "execution_count": 2,
   "metadata": {},
   "outputs": [
    {
     "name": "stderr",
     "output_type": "stream",
     "text": [
      "2025-06-05 13:06:26,286 - src.utils.core_utils - INFO - Creating file handler with level: 10\n",
      "2025-06-05 13:06:26,287 - src.utils.core_utils - DEBUG - Logging setup complete to hyperparameter_tuning.log\n"
     ]
    }
   ],
   "source": [
    "import sys\n",
    "import logging\n",
    "import pandas as pd\n",
    "import json\n",
    "\n",
    "# Import lightgbm here to ensure that it is imported before torch\n",
    "# See https://www.google.com/search?q=lightgbm+torch+segfauly&newwindow=1&client=safari&sca_esv=b42e03ff43b61ad3&rls=en&sxsrf=AE3TifPG5Xxf2f6TjGmcjxu7NsghDNfWqA%3A1749001272991&ei=OKQ_aPmmPPrA0PEPk-iYmQg&ved=0ahUKEwj5otq80daNAxV6IDQIHRM0JoMQ4dUDCBA&uact=5&oq=lightgbm+torch+segfauly&gs_lp=Egxnd3Mtd2l6LXNlcnAiF2xpZ2h0Z2JtIHRvcmNoIHNlZ2ZhdWx5MgUQIRigATIFECEYoAEyBRAhGKABMgUQIRifBUjQF1DeC1j7FnABeACQAQCYAXqgAbUFqgEDNC4zuAEDyAEA-AEBmAIIoALbBcICCxAAGLADGKIEGIkFwgILEAAYgAQYsAMYogTCAggQABiwAxjvBcICBRAhGKsCwgIHECEYoAEYCpgDAIgGAZAGBJIHAzQuNKAH0yGyBwMzLjS4B9cFwgcFMC41LjPIBxU&sclient=gws-wiz-serp\n",
    "from lightgbm import LGBMRanker\n",
    "\n",
    "sys.path.append(\"..\")\n",
    "\n",
    "from src.utils.core_utils import setup_logging\n",
    "\n",
    "# xInitialize logging\n",
    "file_log = \"hyperparameter_tuning.log\"\n",
    "root_logger = setup_logging(level=logging.DEBUG, log_file=file_log, remove_existing=True)"
   ]
  },
  {
   "cell_type": "code",
   "execution_count": 3,
   "metadata": {},
   "outputs": [
    {
     "name": "stderr",
     "output_type": "stream",
     "text": [
      "/Users/sharonshiao/Dropbox/Machine_learning/projects/fahsion_recommendation/venv/lib/python3.12/site-packages/tqdm/auto.py:21: TqdmWarning: IProgress not found. Please update jupyter and ipywidgets. See https://ipywidgets.readthedocs.io/en/stable/user_install.html\n",
      "  from .autonotebook import tqdm as notebook_tqdm\n"
     ]
    }
   ],
   "source": [
    "from src.train import RankerHyperparameterTuningPipeline, RankerHyperparameterTuningConfig"
   ]
  },
  {
   "cell_type": "code",
   "execution_count": 4,
   "metadata": {},
   "outputs": [],
   "source": [
    "# from src.input_preprocessing import LightGBMDataResult, get_path_to_lightgbm_data\n",
    "# from src.ranker import prepare_features_for_ranker, RankerConfig\n",
    "# from src.feature_extraction import load_optimized_raw_data\n",
    "# from src.train import RankerWithHyperparameterTuning, get_default_config_ranker_with_hyperparameter_tuning"
   ]
  },
  {
   "cell_type": "markdown",
   "metadata": {},
   "source": [
    "# Run pipeline\n"
   ]
  },
  {
   "cell_type": "code",
   "execution_count": 5,
   "metadata": {},
   "outputs": [],
   "source": [
    "hyperparameter_tuning_config = RankerHyperparameterTuningConfig.get_default_config()"
   ]
  },
  {
   "cell_type": "code",
   "execution_count": 6,
   "metadata": {},
   "outputs": [],
   "source": [
    "hyperparameter_tuning_pipeline = RankerHyperparameterTuningPipeline(hyperparameter_tuning_config)"
   ]
  },
  {
   "cell_type": "code",
   "execution_count": 7,
   "metadata": {},
   "outputs": [
    {
     "name": "stderr",
     "output_type": "stream",
     "text": [
      "2025-06-05 13:06:33,774 - src.utils.core_utils - INFO - Setting up RankerHyperparameterTuningPipeline\n",
      "2025-06-05 13:06:33,775 - src.utils.core_utils - INFO - Using configuration: {\n",
      "  \"sample\": \"train\",\n",
      "  \"subsample\": 0.25,\n",
      "  \"seed\": 42,\n",
      "  \"tag\": \"ranker-hyperparameter-tuning\",\n",
      "  \"experiment_name\": \"fashion_recommendation\",\n",
      "  \"hyperparameter_config\": {\n",
      "    \"feature_config\": {\n",
      "      \"article_static_features\": [\n",
      "        \"product_type_no\",\n",
      "        \"graphical_appearance_no\",\n",
      "        \"colour_group_code\",\n",
      "        \"perceived_colour_value_id\",\n",
      "        \"perceived_colour_master_id\",\n",
      "        \"department_no\",\n",
      "        \"index_code\",\n",
      "        \"index_group_no\",\n",
      "        \"section_no\",\n",
      "        \"garment_group_no\"\n",
      "      ],\n",
      "      \"article_dynamic_features\": [],\n",
      "      \"customer_static_features\": [\n",
      "        \"age\",\n",
      "        \"club_member_status\",\n",
      "        \"fashion_news_frequency\",\n",
      "        \"fn\",\n",
      "        \"active\",\n",
      "        \"postal_code\"\n",
      "      ],\n",
      "      \"customer_dynamic_features\": [],\n",
      "      \"transaction_features\": [],\n",
      "      \"interactions\": []\n",
      "    },\n",
      "    \"lightgbm_fixed_params\": {\n",
      "      \"objective\": \"lambdarank\",\n",
      "      \"metrics\": \"ndcg\",\n",
      "      \"importance_type\": \"gain\",\n",
      "      \"random_state\": 111,\n",
      "      \"verbosity\": -1,\n",
      "      \"feature_pre_filter\": false\n",
      "    },\n",
      "    \"hyperparameters_config\": {\n",
      "      \"learning_rate\": {\n",
      "        \"type\": \"float\",\n",
      "        \"min\": 1e-05,\n",
      "        \"max\": 0.2\n",
      "      },\n",
      "      \"n_estimators\": {\n",
      "        \"type\": \"int\",\n",
      "        \"min\": 50,\n",
      "        \"max\": 500\n",
      "      },\n",
      "      \"reg_alpha\": {\n",
      "        \"type\": \"float\",\n",
      "        \"min\": 1e-08,\n",
      "        \"max\": 100,\n",
      "        \"log\": true\n",
      "      },\n",
      "      \"reg_lambda\": {\n",
      "        \"type\": \"float\",\n",
      "        \"min\": 1e-08,\n",
      "        \"max\": 100,\n",
      "        \"log\": true\n",
      "      },\n",
      "      \"num_leaves\": {\n",
      "        \"type\": \"int\",\n",
      "        \"min\": 2,\n",
      "        \"max\": 512\n",
      "      },\n",
      "      \"colsample_bytree\": {\n",
      "        \"type\": \"float\",\n",
      "        \"min\": 0.1,\n",
      "        \"max\": 1.0\n",
      "      },\n",
      "      \"subsample\": {\n",
      "        \"type\": \"float\",\n",
      "        \"min\": 0.01,\n",
      "        \"max\": 1.0\n",
      "      },\n",
      "      \"subsample_freq\": {\n",
      "        \"type\": \"int\",\n",
      "        \"min\": 1,\n",
      "        \"max\": 7\n",
      "      },\n",
      "      \"min_child_samples\": {\n",
      "        \"type\": \"int\",\n",
      "        \"min\": 5,\n",
      "        \"max\": 100\n",
      "      }\n",
      "    },\n",
      "    \"n_trials\": 50,\n",
      "    \"early_stopping_rounds\": 25,\n",
      "    \"metric_return\": \"mapk_valid_inference\"\n",
      "  }\n",
      "}\n"
     ]
    },
    {
     "data": {
      "text/plain": [
       "<src.train.RankerHyperparameterTuningPipeline at 0x165ba72f0>"
      ]
     },
     "execution_count": 7,
     "metadata": {},
     "output_type": "execute_result"
    }
   ],
   "source": [
    "hyperparameter_tuning_pipeline.setup()"
   ]
  },
  {
   "cell_type": "code",
   "execution_count": 8,
   "metadata": {},
   "outputs": [
    {
     "name": "stderr",
     "output_type": "stream",
     "text": [
      "2025-06-05 13:06:33,798 - src.utils.core_utils - INFO - Loading data for hyperparameter tuning\n",
      "2025-06-05 13:06:34,092 - src.input_preprocessing - INFO - Metadata loaded: {'has_label': True, 'has_group': True, 'use_type': 'train', 'sample': 'train', 'has_default_prediction': False}\n",
      "2025-06-05 13:06:34,105 - src.input_preprocessing - INFO - Loaded label from ../data/model/input/train/subsample_0.25_42/label.npy\n",
      "2025-06-05 13:06:34,119 - src.input_preprocessing - INFO - Loaded group from ../data/model/input/train/subsample_0.25_42/group.npy\n",
      "2025-06-05 13:06:34,120 - src.utils.core_utils - INFO - Loaded training data from ../data/model/input/train/subsample_0.25_42\n",
      "2025-06-05 13:06:34,138 - src.input_preprocessing - INFO - Metadata loaded: {'has_label': True, 'has_group': True, 'use_type': 'train', 'sample': 'train', 'has_default_prediction': False}\n",
      "2025-06-05 13:06:34,141 - src.input_preprocessing - INFO - Loaded label from ../data/model/input/valid/subsample_0.25_42/label.npy\n",
      "2025-06-05 13:06:34,143 - src.input_preprocessing - INFO - Loaded group from ../data/model/input/valid/subsample_0.25_42/group.npy\n",
      "2025-06-05 13:06:34,144 - src.utils.core_utils - INFO - Loaded validation (train mode) data from ../data/model/input/valid/subsample_0.25_42\n",
      "2025-06-05 13:06:34,217 - src.input_preprocessing - INFO - Metadata loaded: {'has_label': False, 'has_group': True, 'use_type': 'inference', 'sample': 'valid', 'has_default_prediction': True}\n",
      "2025-06-05 13:06:34,219 - src.input_preprocessing - INFO - Loaded group from ../data/model/input_inference/valid/subsample_0.25_42/group.npy\n",
      "2025-06-05 13:06:34,219 - src.input_preprocessing - INFO - Loaded default prediction from ../data/model/input_inference/valid/subsample_0.25_42/default_prediction.npy\n",
      "2025-06-05 13:06:34,220 - src.utils.core_utils - INFO - Loaded validation (inference mode) data from ../data/model/input_inference/valid/subsample_0.25_42\n",
      "2025-06-05 13:06:34,221 - src.feature_extraction - INFO - Loading optimized raw data from candidates_to_articles_mapping valid 0.25 42\n",
      "2025-06-05 13:06:34,221 - src.feature_extraction - DEBUG - Loading data from ../data/candidates_to_articles_mapping_valid_sample_0.25_42.json\n",
      "2025-06-05 13:06:34,239 - src.utils.core_utils - INFO - Loaded validation mapping\n",
      "2025-06-05 13:06:34,331 - git.cmd - DEBUG - Popen(['git', 'version'], cwd=/Users/sharonshiao/Dropbox/Machine_learning/projects/fahsion_recommendation/notebooks, stdin=None, shell=False, universal_newlines=False)\n",
      "2025-06-05 13:06:34,373 - git.cmd - DEBUG - Popen(['git', 'version'], cwd=/Users/sharonshiao/Dropbox/Machine_learning/projects/fahsion_recommendation/notebooks, stdin=None, shell=False, universal_newlines=False)\n",
      "2025-06-05 13:06:34,421 - git.util - DEBUG - Failed checking if running in CYGWIN due to: FileNotFoundError(2, 'No such file or directory')\n",
      "2025-06-05 13:06:34,424 - git.cmd - DEBUG - Popen(['git', 'check-ignore', '/Users/sharonshiao/Dropbox/Machine_learning/projects/fahsion_recommendation/venv/lib/python3.12/site-packages'], cwd=/Users/sharonshiao/Dropbox/Machine_learning/projects/fahsion_recommendation, stdin=None, shell=False, universal_newlines=False)\n",
      "2025-06-05 13:06:34,482 - src.utils.core_utils - INFO - Starting hyperparameter tuning\n",
      "2025-06-05 13:06:34,483 - src.utils.core_utils - INFO - Training ranker\n",
      "2025-06-05 13:06:34,484 - src.utils.core_utils - INFO - Preparing features for training/ validation\n",
      "2025-06-05 13:06:34,484 - src.ranker - INFO - Preparing features for training/ validation\n",
      "2025-06-05 13:06:34,484 - src.ranker - INFO - Number of features: 16\n",
      "2025-06-05 13:06:34,484 - src.ranker - INFO - Number of features categorical: 13\n",
      "2025-06-05 13:06:34,485 - src.ranker - INFO - Cols features categorical: ['product_type_no', 'graphical_appearance_no', 'colour_group_code', 'perceived_colour_value_id', 'perceived_colour_master_id', 'department_no', 'index_code', 'index_group_no', 'section_no', 'garment_group_no', 'club_member_status', 'fashion_news_frequency', 'postal_code']\n",
      "2025-06-05 13:06:34,517 - src.utils.core_utils - INFO - Features by domain:\n",
      "2025-06-05 13:06:34,517 - src.utils.core_utils - INFO - article_static_features: 10 features\n",
      "2025-06-05 13:06:34,518 - src.utils.core_utils - INFO - ['product_type_no', 'graphical_appearance_no', 'colour_group_code', 'perceived_colour_value_id', 'perceived_colour_master_id', 'department_no', 'index_code', 'index_group_no', 'section_no', 'garment_group_no']\n",
      "2025-06-05 13:06:34,518 - src.utils.core_utils - INFO - article_dynamic_features: 0 features\n",
      "2025-06-05 13:06:34,519 - src.utils.core_utils - INFO - []\n",
      "2025-06-05 13:06:34,519 - src.utils.core_utils - INFO - customer_static_features: 6 features\n",
      "2025-06-05 13:06:34,519 - src.utils.core_utils - INFO - ['age', 'club_member_status', 'fashion_news_frequency', 'fn', 'active', 'postal_code']\n",
      "2025-06-05 13:06:34,524 - src.utils.core_utils - INFO - customer_dynamic_features: 0 features\n",
      "2025-06-05 13:06:34,524 - src.utils.core_utils - INFO - []\n",
      "2025-06-05 13:06:34,525 - src.utils.core_utils - INFO - transaction_features: 0 features\n",
      "2025-06-05 13:06:34,530 - src.utils.core_utils - INFO - []\n",
      "2025-06-05 13:06:34,530 - src.utils.core_utils - INFO - interactions: 0 features\n",
      "2025-06-05 13:06:34,531 - src.utils.core_utils - INFO - []\n",
      "2025-06-05 13:06:34,531 - src.utils.core_utils - INFO - Preparing features for training/ validation\n",
      "2025-06-05 13:06:34,531 - src.ranker - INFO - Preparing features for training/ validation\n",
      "2025-06-05 13:06:34,532 - src.ranker - INFO - Number of features: 16\n",
      "2025-06-05 13:06:34,532 - src.ranker - INFO - Number of features categorical: 13\n",
      "2025-06-05 13:06:34,532 - src.ranker - INFO - Cols features categorical: ['product_type_no', 'graphical_appearance_no', 'colour_group_code', 'perceived_colour_value_id', 'perceived_colour_master_id', 'department_no', 'index_code', 'index_group_no', 'section_no', 'garment_group_no', 'club_member_status', 'fashion_news_frequency', 'postal_code']\n",
      "2025-06-05 13:06:34,536 - src.utils.core_utils - INFO - Features by domain:\n",
      "2025-06-05 13:06:34,536 - src.utils.core_utils - INFO - article_static_features: 10 features\n",
      "2025-06-05 13:06:34,537 - src.utils.core_utils - INFO - ['product_type_no', 'graphical_appearance_no', 'colour_group_code', 'perceived_colour_value_id', 'perceived_colour_master_id', 'department_no', 'index_code', 'index_group_no', 'section_no', 'garment_group_no']\n",
      "2025-06-05 13:06:34,537 - src.utils.core_utils - INFO - article_dynamic_features: 0 features\n",
      "2025-06-05 13:06:34,537 - src.utils.core_utils - INFO - []\n",
      "2025-06-05 13:06:34,537 - src.utils.core_utils - INFO - customer_static_features: 6 features\n",
      "2025-06-05 13:06:34,538 - src.utils.core_utils - INFO - ['age', 'club_member_status', 'fashion_news_frequency', 'fn', 'active', 'postal_code']\n",
      "2025-06-05 13:06:34,538 - src.utils.core_utils - INFO - customer_dynamic_features: 0 features\n",
      "2025-06-05 13:06:34,538 - src.utils.core_utils - INFO - []\n",
      "2025-06-05 13:06:34,539 - src.utils.core_utils - INFO - transaction_features: 0 features\n",
      "2025-06-05 13:06:34,539 - src.utils.core_utils - INFO - []\n",
      "2025-06-05 13:06:34,539 - src.utils.core_utils - INFO - interactions: 0 features\n",
      "2025-06-05 13:06:34,539 - src.utils.core_utils - INFO - []\n",
      "2025-06-05 13:06:34,542 - src.utils.core_utils - INFO - Preparing features for training/ validation\n",
      "2025-06-05 13:06:34,543 - src.ranker - INFO - Preparing features for training/ validation\n",
      "2025-06-05 13:06:34,543 - src.ranker - INFO - Number of features: 16\n",
      "2025-06-05 13:06:34,543 - src.ranker - INFO - Number of features categorical: 13\n",
      "2025-06-05 13:06:34,544 - src.ranker - INFO - Cols features categorical: ['product_type_no', 'graphical_appearance_no', 'colour_group_code', 'perceived_colour_value_id', 'perceived_colour_master_id', 'department_no', 'index_code', 'index_group_no', 'section_no', 'garment_group_no', 'club_member_status', 'fashion_news_frequency', 'postal_code']\n",
      "2025-06-05 13:06:34,568 - src.utils.core_utils - INFO - Features by domain:\n",
      "2025-06-05 13:06:34,568 - src.utils.core_utils - INFO - article_static_features: 10 features\n",
      "2025-06-05 13:06:34,568 - src.utils.core_utils - INFO - ['product_type_no', 'graphical_appearance_no', 'colour_group_code', 'perceived_colour_value_id', 'perceived_colour_master_id', 'department_no', 'index_code', 'index_group_no', 'section_no', 'garment_group_no']\n",
      "2025-06-05 13:06:34,569 - src.utils.core_utils - INFO - article_dynamic_features: 0 features\n",
      "2025-06-05 13:06:34,569 - src.utils.core_utils - INFO - []\n",
      "2025-06-05 13:06:34,569 - src.utils.core_utils - INFO - customer_static_features: 6 features\n",
      "2025-06-05 13:06:34,569 - src.utils.core_utils - INFO - ['age', 'club_member_status', 'fashion_news_frequency', 'fn', 'active', 'postal_code']\n",
      "2025-06-05 13:06:34,570 - src.utils.core_utils - INFO - customer_dynamic_features: 0 features\n",
      "2025-06-05 13:06:34,570 - src.utils.core_utils - INFO - []\n",
      "2025-06-05 13:06:34,570 - src.utils.core_utils - INFO - transaction_features: 0 features\n",
      "2025-06-05 13:06:34,570 - src.utils.core_utils - INFO - []\n",
      "2025-06-05 13:06:34,571 - src.utils.core_utils - INFO - interactions: 0 features\n",
      "2025-06-05 13:06:34,571 - src.utils.core_utils - INFO - []\n",
      "[I 2025-06-05 13:06:34,584] A new study created in memory with name: no-name-cbfc6672-82a3-427c-b9b2-6c4587d45f88\n",
      "2025-06-05 13:06:40,385 - src.metrics - INFO - Evaluating ranking\n",
      "2025-06-05 13:06:40,395 - src.metrics - INFO - Mean average precision at k: 0.39096311900886144\n",
      "2025-06-05 13:06:40,808 - src.metrics - INFO - Evaluating ranking\n",
      "2025-06-05 13:06:40,851 - src.metrics - INFO - Mean average precision at k: 0.005660729579742846\n",
      "Best trial: 0. Best value: 0.00566073:   2%|▏         | 1/50 [00:06<05:07,  6.27s/it]"
     ]
    },
    {
     "name": "stdout",
     "output_type": "stream",
     "text": [
      "\n",
      "MAP@K (valid train): 0.391\n",
      "\n",
      "MAP@K (valid inference): 0.006\n",
      "[I 2025-06-05 13:06:40,878] Trial 0 finished with value: 0.005660729579742846 and parameters: {'learning_rate': 0.11574250716203772, 'n_estimators': 305, 'reg_alpha': 62.60427370793246, 'reg_lambda': 93.27347971273899, 'num_leaves': 342, 'colsample_bytree': 0.3525781232687435, 'subsample': 0.8075513644321428, 'subsample_freq': 6, 'min_child_samples': 88}. Best is trial 0 with value: 0.005660729579742846.\n"
     ]
    },
    {
     "name": "stderr",
     "output_type": "stream",
     "text": [
      "2025-06-05 13:06:49,225 - src.metrics - INFO - Evaluating ranking                    \n",
      "2025-06-05 13:06:49,234 - src.metrics - INFO - Mean average precision at k: 0.40325185731853574\n",
      "2025-06-05 13:06:49,587 - src.metrics - INFO - Evaluating ranking                    \n",
      "2025-06-05 13:06:49,632 - src.metrics - INFO - Mean average precision at k: 0.0060563492844555025\n",
      "Best trial: 1. Best value: 0.00605635:   4%|▍         | 2/50 [00:15<06:11,  7.74s/it]"
     ]
    },
    {
     "name": "stdout",
     "output_type": "stream",
     "text": [
      "\n",
      "MAP@K (valid train): 0.403\n",
      "\n",
      "MAP@K (valid inference): 0.006\n",
      "[I 2025-06-05 13:06:49,653] Trial 1 finished with value: 0.0060563492844555025 and parameters: {'learning_rate': 0.11071746808960335, 'n_estimators': 374, 'reg_alpha': 63.824171808174164, 'reg_lambda': 61.463565337042866, 'num_leaves': 381, 'colsample_bytree': 0.9710866998820615, 'subsample': 0.8398004245997915, 'subsample_freq': 2, 'min_child_samples': 71}. Best is trial 1 with value: 0.0060563492844555025.\n"
     ]
    },
    {
     "name": "stderr",
     "output_type": "stream",
     "text": [
      "2025-06-05 13:06:51,899 - src.metrics - INFO - Evaluating ranking                    \n",
      "2025-06-05 13:06:51,908 - src.metrics - INFO - Mean average precision at k: 0.39185733152543495\n",
      "2025-06-05 13:06:52,217 - src.metrics - INFO - Evaluating ranking                    \n",
      "2025-06-05 13:06:52,260 - src.metrics - INFO - Mean average precision at k: 0.005528276291461992\n",
      "Best trial: 1. Best value: 0.00605635:   6%|▌         | 3/50 [00:17<04:14,  5.41s/it]"
     ]
    },
    {
     "name": "stdout",
     "output_type": "stream",
     "text": [
      "\n",
      "MAP@K (valid train): 0.392\n",
      "\n",
      "MAP@K (valid inference): 0.006\n",
      "[I 2025-06-05 13:06:52,280] Trial 2 finished with value: 0.005528276291461992 and parameters: {'learning_rate': 0.19143988678451007, 'n_estimators': 80, 'reg_alpha': 72.85950317792422, 'reg_lambda': 36.99485195941265, 'num_leaves': 51, 'colsample_bytree': 0.7073863120843026, 'subsample': 0.863514728382467, 'subsample_freq': 7, 'min_child_samples': 25}. Best is trial 1 with value: 0.0060563492844555025.\n"
     ]
    },
    {
     "name": "stderr",
     "output_type": "stream",
     "text": [
      "2025-06-05 13:06:54,208 - src.metrics - INFO - Evaluating ranking                    \n",
      "2025-06-05 13:06:54,217 - src.metrics - INFO - Mean average precision at k: 0.3883051080237041\n",
      "2025-06-05 13:06:54,578 - src.metrics - INFO - Evaluating ranking                    \n",
      "2025-06-05 13:06:54,621 - src.metrics - INFO - Mean average precision at k: 0.005660177238965474\n",
      "Best trial: 1. Best value: 0.00605635:   8%|▊         | 4/50 [00:20<03:13,  4.21s/it]"
     ]
    },
    {
     "name": "stdout",
     "output_type": "stream",
     "text": [
      "\n",
      "MAP@K (valid train): 0.388\n",
      "\n",
      "MAP@K (valid inference): 0.006\n",
      "[I 2025-06-05 13:06:54,643] Trial 3 finished with value: 0.005660177238965474 and parameters: {'learning_rate': 0.09297175693371862, 'n_estimators': 267, 'reg_alpha': 31.110719878056088, 'reg_lambda': 64.31396101683006, 'num_leaves': 430, 'colsample_bytree': 0.14432048197840358, 'subsample': 0.7772442198316952, 'subsample_freq': 3, 'min_child_samples': 29}. Best is trial 1 with value: 0.0060563492844555025.\n"
     ]
    },
    {
     "name": "stderr",
     "output_type": "stream",
     "text": [
      "2025-06-05 13:06:56,319 - src.metrics - INFO - Evaluating ranking                    \n",
      "2025-06-05 13:06:56,327 - src.metrics - INFO - Mean average precision at k: 0.3790087207993612\n",
      "2025-06-05 13:06:56,601 - src.metrics - INFO - Evaluating ranking                    \n",
      "2025-06-05 13:06:56,645 - src.metrics - INFO - Mean average precision at k: 0.004708549263056262\n",
      "Best trial: 1. Best value: 0.00605635:  10%|█         | 5/50 [00:22<02:33,  3.42s/it]"
     ]
    },
    {
     "name": "stdout",
     "output_type": "stream",
     "text": [
      "\n",
      "MAP@K (valid train): 0.379\n",
      "\n",
      "MAP@K (valid inference): 0.005\n",
      "[I 2025-06-05 13:06:56,669] Trial 4 finished with value: 0.004708549263056262 and parameters: {'learning_rate': 0.13346763456412386, 'n_estimators': 169, 'reg_alpha': 97.11094161938082, 'reg_lambda': 90.48285739668415, 'num_leaves': 344, 'colsample_bytree': 0.4587893107193577, 'subsample': 0.1543875368036518, 'subsample_freq': 4, 'min_child_samples': 98}. Best is trial 1 with value: 0.0060563492844555025.\n"
     ]
    },
    {
     "name": "stderr",
     "output_type": "stream",
     "text": [
      "2025-06-05 13:07:04,799 - src.metrics - INFO - Evaluating ranking                    \n",
      "2025-06-05 13:07:04,808 - src.metrics - INFO - Mean average precision at k: 0.3988612775233993\n",
      "2025-06-05 13:07:05,478 - src.metrics - INFO - Evaluating ranking                    \n",
      "2025-06-05 13:07:05,521 - src.metrics - INFO - Mean average precision at k: 0.005705359610852444\n",
      "Best trial: 1. Best value: 0.00605635:  12%|█▏        | 6/50 [00:30<03:52,  5.27s/it]"
     ]
    },
    {
     "name": "stdout",
     "output_type": "stream",
     "text": [
      "\n",
      "MAP@K (valid train): 0.399\n",
      "\n",
      "MAP@K (valid inference): 0.006\n",
      "[I 2025-06-05 13:07:05,542] Trial 5 finished with value: 0.005705359610852444 and parameters: {'learning_rate': 0.14711893281954613, 'n_estimators': 450, 'reg_alpha': 87.36043058541155, 'reg_lambda': 41.87221276005041, 'num_leaves': 200, 'colsample_bytree': 0.9513414825130084, 'subsample': 0.4580272142399255, 'subsample_freq': 6, 'min_child_samples': 49}. Best is trial 1 with value: 0.0060563492844555025.\n"
     ]
    },
    {
     "name": "stderr",
     "output_type": "stream",
     "text": [
      "2025-06-05 13:07:06,844 - src.metrics - INFO - Evaluating ranking                    \n",
      "2025-06-05 13:07:06,853 - src.metrics - INFO - Mean average precision at k: 0.3766516546535019\n",
      "2025-06-05 13:07:07,215 - src.metrics - INFO - Evaluating ranking                    \n",
      "2025-06-05 13:07:07,257 - src.metrics - INFO - Mean average precision at k: 0.005494513192895521\n",
      "Best trial: 1. Best value: 0.00605635:  14%|█▍        | 7/50 [00:32<02:57,  4.12s/it]"
     ]
    },
    {
     "name": "stdout",
     "output_type": "stream",
     "text": [
      "\n",
      "MAP@K (valid train): 0.377\n",
      "\n",
      "MAP@K (valid inference): 0.005\n",
      "[I 2025-06-05 13:07:07,278] Trial 6 finished with value: 0.005494513192895521 and parameters: {'learning_rate': 0.06979770637665568, 'n_estimators': 82, 'reg_alpha': 24.554854611662265, 'reg_lambda': 47.54598504566599, 'num_leaves': 34, 'colsample_bytree': 0.31087905358286466, 'subsample': 0.0738007132045488, 'subsample_freq': 7, 'min_child_samples': 94}. Best is trial 1 with value: 0.0060563492844555025.\n"
     ]
    },
    {
     "name": "stderr",
     "output_type": "stream",
     "text": [
      "2025-06-05 13:07:11,716 - src.metrics - INFO - Evaluating ranking                    \n",
      "2025-06-05 13:07:11,725 - src.metrics - INFO - Mean average precision at k: 0.3937759790610776\n",
      "2025-06-05 13:07:12,018 - src.metrics - INFO - Evaluating ranking                    \n",
      "2025-06-05 13:07:12,061 - src.metrics - INFO - Mean average precision at k: 0.005199784607253499\n",
      "Best trial: 1. Best value: 0.00605635:  16%|█▌        | 8/50 [00:37<03:02,  4.34s/it]"
     ]
    },
    {
     "name": "stdout",
     "output_type": "stream",
     "text": [
      "\n",
      "MAP@K (valid train): 0.394\n",
      "\n",
      "MAP@K (valid inference): 0.005\n",
      "[I 2025-06-05 13:07:12,084] Trial 7 finished with value: 0.005199784607253499 and parameters: {'learning_rate': 0.14272151124537044, 'n_estimators': 310, 'reg_alpha': 70.97215964335497, 'reg_lambda': 51.41547268484114, 'num_leaves': 379, 'colsample_bytree': 0.9423799634436327, 'subsample': 0.29794994662324603, 'subsample_freq': 6, 'min_child_samples': 60}. Best is trial 1 with value: 0.0060563492844555025.\n"
     ]
    },
    {
     "name": "stderr",
     "output_type": "stream",
     "text": [
      "2025-06-05 13:07:13,301 - src.metrics - INFO - Evaluating ranking                    \n",
      "2025-06-05 13:07:13,310 - src.metrics - INFO - Mean average precision at k: 0.3891676049307119\n",
      "2025-06-05 13:07:13,598 - src.metrics - INFO - Evaluating ranking                    \n",
      "2025-06-05 13:07:13,641 - src.metrics - INFO - Mean average precision at k: 0.005715624228091662\n",
      "Best trial: 1. Best value: 0.00605635:  18%|█▊        | 9/50 [00:39<02:22,  3.47s/it]"
     ]
    },
    {
     "name": "stdout",
     "output_type": "stream",
     "text": [
      "\n",
      "MAP@K (valid train): 0.389\n",
      "\n",
      "MAP@K (valid inference): 0.006\n",
      "[I 2025-06-05 13:07:13,661] Trial 8 finished with value: 0.005715624228091662 and parameters: {'learning_rate': 0.038203045411470106, 'n_estimators': 402, 'reg_alpha': 24.71259340731936, 'reg_lambda': 39.41635997616292, 'num_leaves': 454, 'colsample_bytree': 0.14427486919073937, 'subsample': 0.16882595241991538, 'subsample_freq': 6, 'min_child_samples': 29}. Best is trial 1 with value: 0.0060563492844555025.\n"
     ]
    },
    {
     "name": "stderr",
     "output_type": "stream",
     "text": [
      "2025-06-05 13:07:19,617 - src.metrics - INFO - Evaluating ranking                    \n",
      "2025-06-05 13:07:19,626 - src.metrics - INFO - Mean average precision at k: 0.38661330679706823\n",
      "2025-06-05 13:07:20,198 - src.metrics - INFO - Evaluating ranking                    \n",
      "2025-06-05 13:07:20,241 - src.metrics - INFO - Mean average precision at k: 0.005862329153643894\n",
      "Best trial: 1. Best value: 0.00605635:  20%|██        | 10/50 [00:45<02:57,  4.44s/it]"
     ]
    },
    {
     "name": "stdout",
     "output_type": "stream",
     "text": [
      "\n",
      "MAP@K (valid train): 0.387\n",
      "\n",
      "MAP@K (valid inference): 0.006\n",
      "[I 2025-06-05 13:07:20,261] Trial 9 finished with value: 0.005862329153643894 and parameters: {'learning_rate': 0.034792390550713606, 'n_estimators': 93, 'reg_alpha': 66.84469044300782, 'reg_lambda': 40.51800406372795, 'num_leaves': 326, 'colsample_bytree': 0.2216186823013742, 'subsample': 0.4120680655811689, 'subsample_freq': 2, 'min_child_samples': 29}. Best is trial 1 with value: 0.0060563492844555025.\n"
     ]
    },
    {
     "name": "stderr",
     "output_type": "stream",
     "text": [
      "2025-06-05 13:07:29,539 - src.metrics - INFO - Evaluating ranking                     \n",
      "2025-06-05 13:07:29,548 - src.metrics - INFO - Mean average precision at k: 0.4132415084459419\n",
      "2025-06-05 13:07:30,486 - src.metrics - INFO - Evaluating ranking                     \n",
      "2025-06-05 13:07:30,531 - src.metrics - INFO - Mean average precision at k: 0.00596024529878286\n",
      "Best trial: 1. Best value: 0.00605635:  22%|██▏       | 11/50 [00:55<04:02,  6.23s/it]"
     ]
    },
    {
     "name": "stdout",
     "output_type": "stream",
     "text": [
      "\n",
      "MAP@K (valid train): 0.413\n",
      "\n",
      "MAP@K (valid inference): 0.006\n",
      "[I 2025-06-05 13:07:30,552] Trial 10 finished with value: 0.00596024529878286 and parameters: {'learning_rate': 0.18900206155818755, 'n_estimators': 495, 'reg_alpha': 4.016374150643891, 'reg_lambda': 7.54994010997148, 'num_leaves': 211, 'colsample_bytree': 0.7050045896898021, 'subsample': 0.6541343436153488, 'subsample_freq': 1, 'min_child_samples': 71}. Best is trial 1 with value: 0.0060563492844555025.\n"
     ]
    },
    {
     "name": "stderr",
     "output_type": "stream",
     "text": [
      "2025-06-05 13:07:43,661 - src.metrics - INFO - Evaluating ranking                     \n",
      "2025-06-05 13:07:43,670 - src.metrics - INFO - Mean average precision at k: 0.4087176183604755\n",
      "2025-06-05 13:07:45,283 - src.metrics - INFO - Evaluating ranking                     \n",
      "2025-06-05 13:07:45,325 - src.metrics - INFO - Mean average precision at k: 0.0066316198973099694\n",
      "Best trial: 11. Best value: 0.00663162:  24%|██▍       | 12/50 [01:10<05:35,  8.84s/it]"
     ]
    },
    {
     "name": "stdout",
     "output_type": "stream",
     "text": [
      "\n",
      "MAP@K (valid train): 0.409\n",
      "\n",
      "MAP@K (valid inference): 0.007\n",
      "[I 2025-06-05 13:07:45,349] Trial 11 finished with value: 0.0066316198973099694 and parameters: {'learning_rate': 0.19731139336789816, 'n_estimators': 483, 'reg_alpha': 0.8627132996924161, 'reg_lambda': 1.3878147053124934, 'num_leaves': 198, 'colsample_bytree': 0.7181108958412121, 'subsample': 0.6293881517306237, 'subsample_freq': 1, 'min_child_samples': 69}. Best is trial 11 with value: 0.0066316198973099694.\n"
     ]
    },
    {
     "name": "stderr",
     "output_type": "stream",
     "text": [
      "2025-06-05 13:07:51,734 - src.metrics - INFO - Evaluating ranking                      \n",
      "2025-06-05 13:07:51,743 - src.metrics - INFO - Mean average precision at k: 0.401271289264076\n",
      "2025-06-05 13:07:52,358 - src.metrics - INFO - Evaluating ranking                      \n",
      "2025-06-05 13:07:52,401 - src.metrics - INFO - Mean average precision at k: 0.005682825655293283\n",
      "Best trial: 11. Best value: 0.00663162:  26%|██▌       | 13/50 [01:17<05:07,  8.30s/it]"
     ]
    },
    {
     "name": "stdout",
     "output_type": "stream",
     "text": [
      "\n",
      "MAP@K (valid train): 0.401\n",
      "\n",
      "MAP@K (valid inference): 0.006\n",
      "[I 2025-06-05 13:07:52,427] Trial 12 finished with value: 0.005682825655293283 and parameters: {'learning_rate': 0.16396241291945968, 'n_estimators': 384, 'reg_alpha': 44.42681302876028, 'reg_lambda': 9.236061570746315, 'num_leaves': 122, 'colsample_bytree': 0.7759642510604416, 'subsample': 0.9723137052297088, 'subsample_freq': 1, 'min_child_samples': 74}. Best is trial 11 with value: 0.0066316198973099694.\n"
     ]
    },
    {
     "name": "stderr",
     "output_type": "stream",
     "text": [
      "2025-06-05 13:08:01,404 - src.metrics - INFO - Evaluating ranking                      \n",
      "2025-06-05 13:08:01,413 - src.metrics - INFO - Mean average precision at k: 0.3979585942278589\n",
      "2025-06-05 13:08:01,915 - src.metrics - INFO - Evaluating ranking                      \n",
      "2025-06-05 13:08:01,958 - src.metrics - INFO - Mean average precision at k: 0.005415662228139217\n",
      "Best trial: 11. Best value: 0.00663162:  28%|██▊       | 14/50 [01:27<05:12,  8.68s/it]"
     ]
    },
    {
     "name": "stdout",
     "output_type": "stream",
     "text": [
      "\n",
      "MAP@K (valid train): 0.398\n",
      "\n",
      "MAP@K (valid inference): 0.005\n",
      "[I 2025-06-05 13:08:01,979] Trial 13 finished with value: 0.005415662228139217 and parameters: {'learning_rate': 0.002066052792504894, 'n_estimators': 394, 'reg_alpha': 0.5448115021617108, 'reg_lambda': 72.19138335923645, 'num_leaves': 507, 'colsample_bytree': 0.8154870118168346, 'subsample': 0.6089950045414174, 'subsample_freq': 2, 'min_child_samples': 47}. Best is trial 11 with value: 0.0066316198973099694.\n"
     ]
    },
    {
     "name": "stderr",
     "output_type": "stream",
     "text": [
      "2025-06-05 13:08:06,741 - src.metrics - INFO - Evaluating ranking                      \n",
      "2025-06-05 13:08:06,751 - src.metrics - INFO - Mean average precision at k: 0.3914614829386997\n",
      "2025-06-05 13:08:07,055 - src.metrics - INFO - Evaluating ranking                      \n",
      "2025-06-05 13:08:07,103 - src.metrics - INFO - Mean average precision at k: 0.005123940179375706\n",
      "Best trial: 11. Best value: 0.00663162:  30%|███       | 15/50 [01:32<04:26,  7.61s/it]"
     ]
    },
    {
     "name": "stdout",
     "output_type": "stream",
     "text": [
      "\n",
      "MAP@K (valid train): 0.391\n",
      "\n",
      "MAP@K (valid inference): 0.005\n",
      "[I 2025-06-05 13:08:07,123] Trial 14 finished with value: 0.005123940179375706 and parameters: {'learning_rate': 0.08591555998449277, 'n_estimators': 487, 'reg_alpha': 48.92430151370767, 'reg_lambda': 20.653769622159707, 'num_leaves': 264, 'colsample_bytree': 0.5952854392778266, 'subsample': 0.6348324573347577, 'subsample_freq': 2, 'min_child_samples': 78}. Best is trial 11 with value: 0.0066316198973099694.\n"
     ]
    },
    {
     "name": "stderr",
     "output_type": "stream",
     "text": [
      "2025-06-05 13:08:26,287 - src.metrics - INFO - Evaluating ranking                      \n",
      "2025-06-05 13:08:26,297 - src.metrics - INFO - Mean average precision at k: 0.4153549315581336\n",
      "2025-06-05 13:08:27,898 - src.metrics - INFO - Evaluating ranking                      \n",
      "2025-06-05 13:08:27,940 - src.metrics - INFO - Mean average precision at k: 0.007186820773809989\n",
      "Best trial: 15. Best value: 0.00718682:  32%|███▏      | 16/50 [01:53<06:34, 11.59s/it]"
     ]
    },
    {
     "name": "stdout",
     "output_type": "stream",
     "text": [
      "\n",
      "MAP@K (valid train): 0.415\n",
      "\n",
      "MAP@K (valid inference): 0.007\n",
      "[I 2025-06-05 13:08:27,961] Trial 15 finished with value: 0.007186820773809989 and parameters: {'learning_rate': 0.16330485767058417, 'n_estimators': 343, 'reg_alpha': 34.95671675309684, 'reg_lambda': 72.39887086572803, 'num_leaves': 264, 'colsample_bytree': 0.8598623160849387, 'subsample': 0.9803197286821675, 'subsample_freq': 3, 'min_child_samples': 6}. Best is trial 15 with value: 0.007186820773809989.\n"
     ]
    },
    {
     "name": "stderr",
     "output_type": "stream",
     "text": [
      "2025-06-05 13:08:34,268 - src.metrics - INFO - Evaluating ranking                      \n",
      "2025-06-05 13:08:34,277 - src.metrics - INFO - Mean average precision at k: 0.41004651039397694\n",
      "2025-06-05 13:08:34,851 - src.metrics - INFO - Evaluating ranking                      \n",
      "2025-06-05 13:08:34,894 - src.metrics - INFO - Mean average precision at k: 0.006020842702287956\n",
      "Best trial: 15. Best value: 0.00718682:  34%|███▍      | 17/50 [02:00<05:36, 10.20s/it]"
     ]
    },
    {
     "name": "stdout",
     "output_type": "stream",
     "text": [
      "\n",
      "MAP@K (valid train): 0.410\n",
      "\n",
      "MAP@K (valid inference): 0.006\n",
      "[I 2025-06-05 13:08:34,917] Trial 16 finished with value: 0.006020842702287956 and parameters: {'learning_rate': 0.17103001329726264, 'n_estimators': 230, 'reg_alpha': 18.88184700264463, 'reg_lambda': 79.55019260027491, 'num_leaves': 130, 'colsample_bytree': 0.5732084628594332, 'subsample': 0.9262651043652792, 'subsample_freq': 4, 'min_child_samples': 5}. Best is trial 15 with value: 0.007186820773809989.\n"
     ]
    },
    {
     "name": "stderr",
     "output_type": "stream",
     "text": [
      "2025-06-05 13:08:42,913 - src.metrics - INFO - Evaluating ranking                      \n",
      "2025-06-05 13:08:42,922 - src.metrics - INFO - Mean average precision at k: 0.40331660164190075\n",
      "2025-06-05 13:08:43,487 - src.metrics - INFO - Evaluating ranking                      \n",
      "2025-06-05 13:08:43,532 - src.metrics - INFO - Mean average precision at k: 0.006720130112120433\n",
      "Best trial: 15. Best value: 0.00718682:  36%|███▌      | 18/50 [02:08<05:11,  9.73s/it]"
     ]
    },
    {
     "name": "stdout",
     "output_type": "stream",
     "text": [
      "\n",
      "MAP@K (valid train): 0.403\n",
      "\n",
      "MAP@K (valid inference): 0.007\n",
      "[I 2025-06-05 13:08:43,552] Trial 17 finished with value: 0.006720130112120433 and parameters: {'learning_rate': 0.1977943902507136, 'n_estimators': 342, 'reg_alpha': 9.724123094639374, 'reg_lambda': 24.384249038689738, 'num_leaves': 262, 'colsample_bytree': 0.8467539899094391, 'subsample': 0.688246092905319, 'subsample_freq': 3, 'min_child_samples': 7}. Best is trial 15 with value: 0.007186820773809989.\n"
     ]
    },
    {
     "name": "stderr",
     "output_type": "stream",
     "text": [
      "2025-06-05 13:08:45,614 - src.metrics - INFO - Evaluating ranking                      \n",
      "2025-06-05 13:08:45,624 - src.metrics - INFO - Mean average precision at k: 0.381662310413542\n",
      "2025-06-05 13:08:45,921 - src.metrics - INFO - Evaluating ranking                      \n",
      "2025-06-05 13:08:45,969 - src.metrics - INFO - Mean average precision at k: 0.0049643468510095915\n",
      "Best trial: 15. Best value: 0.00718682:  38%|███▊      | 19/50 [02:11<03:53,  7.54s/it]"
     ]
    },
    {
     "name": "stdout",
     "output_type": "stream",
     "text": [
      "\n",
      "MAP@K (valid train): 0.382\n",
      "\n",
      "MAP@K (valid inference): 0.005\n",
      "[I 2025-06-05 13:08:45,990] Trial 18 finished with value: 0.0049643468510095915 and parameters: {'learning_rate': 0.16769390075016252, 'n_estimators': 339, 'reg_alpha': 40.15047611139036, 'reg_lambda': 23.67748084532004, 'num_leaves': 270, 'colsample_bytree': 0.843462818271505, 'subsample': 0.9996632951130723, 'subsample_freq': 3, 'min_child_samples': 6}. Best is trial 15 with value: 0.007186820773809989.\n"
     ]
    },
    {
     "name": "stderr",
     "output_type": "stream",
     "text": [
      "2025-06-05 13:08:51,108 - src.metrics - INFO - Evaluating ranking                      \n",
      "2025-06-05 13:08:51,118 - src.metrics - INFO - Mean average precision at k: 0.3891100670252676\n",
      "2025-06-05 13:08:51,447 - src.metrics - INFO - Evaluating ranking                      \n",
      "2025-06-05 13:08:51,496 - src.metrics - INFO - Mean average precision at k: 0.005416876610769323\n",
      "Best trial: 15. Best value: 0.00718682:  40%|████      | 20/50 [02:16<03:28,  6.94s/it]"
     ]
    },
    {
     "name": "stdout",
     "output_type": "stream",
     "text": [
      "\n",
      "MAP@K (valid train): 0.389\n",
      "\n",
      "MAP@K (valid inference): 0.005\n",
      "[I 2025-06-05 13:08:51,520] Trial 19 finished with value: 0.005416876610769323 and parameters: {'learning_rate': 0.16255620398262732, 'n_estimators': 211, 'reg_alpha': 12.861519132041387, 'reg_lambda': 26.17453876033219, 'num_leaves': 129, 'colsample_bytree': 0.877434586783356, 'subsample': 0.7306123089043879, 'subsample_freq': 5, 'min_child_samples': 15}. Best is trial 15 with value: 0.007186820773809989.\n"
     ]
    },
    {
     "name": "stderr",
     "output_type": "stream",
     "text": [
      "2025-06-05 13:08:58,112 - src.metrics - INFO - Evaluating ranking                      \n",
      "2025-06-05 13:08:58,122 - src.metrics - INFO - Mean average precision at k: 0.3986699379607543\n",
      "2025-06-05 13:08:58,699 - src.metrics - INFO - Evaluating ranking                      \n",
      "2025-06-05 13:08:58,744 - src.metrics - INFO - Mean average precision at k: 0.00618857092505152\n",
      "Best trial: 15. Best value: 0.00718682:  42%|████▏     | 21/50 [02:24<03:23,  7.03s/it]"
     ]
    },
    {
     "name": "stdout",
     "output_type": "stream",
     "text": [
      "\n",
      "MAP@K (valid train): 0.399\n",
      "\n",
      "MAP@K (valid inference): 0.006\n",
      "[I 2025-06-05 13:08:58,768] Trial 20 finished with value: 0.00618857092505152 and parameters: {'learning_rate': 0.18012478226440534, 'n_estimators': 157, 'reg_alpha': 35.5333774441815, 'reg_lambda': 79.9542970430486, 'num_leaves': 306, 'colsample_bytree': 0.47505868414031205, 'subsample': 0.536298190663161, 'subsample_freq': 4, 'min_child_samples': 40}. Best is trial 15 with value: 0.007186820773809989.\n"
     ]
    },
    {
     "name": "stderr",
     "output_type": "stream",
     "text": [
      "2025-06-05 13:09:03,875 - src.metrics - INFO - Evaluating ranking                      \n",
      "2025-06-05 13:09:03,885 - src.metrics - INFO - Mean average precision at k: 0.40267169436565986\n",
      "2025-06-05 13:09:04,192 - src.metrics - INFO - Evaluating ranking                      \n",
      "2025-06-05 13:09:04,238 - src.metrics - INFO - Mean average precision at k: 0.006576980269158677\n",
      "Best trial: 15. Best value: 0.00718682:  44%|████▍     | 22/50 [02:29<03:03,  6.57s/it]"
     ]
    },
    {
     "name": "stdout",
     "output_type": "stream",
     "text": [
      "\n",
      "MAP@K (valid train): 0.403\n",
      "\n",
      "MAP@K (valid inference): 0.007\n",
      "[I 2025-06-05 13:09:04,260] Trial 21 finished with value: 0.006576980269158677 and parameters: {'learning_rate': 0.1976223099470294, 'n_estimators': 442, 'reg_alpha': 12.06043243159727, 'reg_lambda': 4.4817071631737875, 'num_leaves': 202, 'colsample_bytree': 0.6952125229307843, 'subsample': 0.7013443218454971, 'subsample_freq': 3, 'min_child_samples': 14}. Best is trial 15 with value: 0.007186820773809989.\n"
     ]
    },
    {
     "name": "stderr",
     "output_type": "stream",
     "text": [
      "2025-06-05 13:09:15,652 - src.metrics - INFO - Evaluating ranking                      \n",
      "2025-06-05 13:09:15,662 - src.metrics - INFO - Mean average precision at k: 0.41535823898649377\n",
      "2025-06-05 13:09:16,861 - src.metrics - INFO - Evaluating ranking                      \n",
      "2025-06-05 13:09:16,909 - src.metrics - INFO - Mean average precision at k: 0.006187464488009215\n",
      "Best trial: 15. Best value: 0.00718682:  46%|████▌     | 23/50 [02:42<03:46,  8.40s/it]"
     ]
    },
    {
     "name": "stdout",
     "output_type": "stream",
     "text": [
      "\n",
      "MAP@K (valid train): 0.415\n",
      "\n",
      "MAP@K (valid inference): 0.006\n",
      "[I 2025-06-05 13:09:16,932] Trial 22 finished with value: 0.006187464488009215 and parameters: {'learning_rate': 0.19680831842210428, 'n_estimators': 350, 'reg_alpha': 10.044289909683263, 'reg_lambda': 0.10947348245014155, 'num_leaves': 234, 'colsample_bytree': 0.6432975980275886, 'subsample': 0.5500960980270178, 'subsample_freq': 1, 'min_child_samples': 59}. Best is trial 15 with value: 0.007186820773809989.\n"
     ]
    },
    {
     "name": "stderr",
     "output_type": "stream",
     "text": [
      "2025-06-05 13:09:26,799 - src.metrics - INFO - Evaluating ranking                      \n",
      "2025-06-05 13:09:26,808 - src.metrics - INFO - Mean average precision at k: 0.41406106878239185\n",
      "2025-06-05 13:09:27,735 - src.metrics - INFO - Evaluating ranking                      \n",
      "2025-06-05 13:09:27,781 - src.metrics - INFO - Mean average precision at k: 0.006467291052403509\n",
      "Best trial: 15. Best value: 0.00718682:  48%|████▊     | 24/50 [02:53<03:57,  9.14s/it]"
     ]
    },
    {
     "name": "stdout",
     "output_type": "stream",
     "text": [
      "\n",
      "MAP@K (valid train): 0.414\n",
      "\n",
      "MAP@K (valid inference): 0.006\n",
      "[I 2025-06-05 13:09:27,801] Trial 23 finished with value: 0.006467291052403509 and parameters: {'learning_rate': 0.1563289478251566, 'n_estimators': 435, 'reg_alpha': 0.46724613625685013, 'reg_lambda': 15.13268300804427, 'num_leaves': 287, 'colsample_bytree': 0.7884084170973719, 'subsample': 0.42123156329813416, 'subsample_freq': 3, 'min_child_samples': 16}. Best is trial 15 with value: 0.007186820773809989.\n"
     ]
    },
    {
     "name": "stderr",
     "output_type": "stream",
     "text": [
      "2025-06-05 13:09:34,596 - src.metrics - INFO - Evaluating ranking                      \n",
      "2025-06-05 13:09:34,606 - src.metrics - INFO - Mean average precision at k: 0.3969789298687082\n",
      "2025-06-05 13:09:35,208 - src.metrics - INFO - Evaluating ranking                      \n",
      "2025-06-05 13:09:35,254 - src.metrics - INFO - Mean average precision at k: 0.006105289635212727\n",
      "Best trial: 15. Best value: 0.00718682:  50%|█████     | 25/50 [03:00<03:36,  8.64s/it]"
     ]
    },
    {
     "name": "stdout",
     "output_type": "stream",
     "text": [
      "\n",
      "MAP@K (valid train): 0.397\n",
      "\n",
      "MAP@K (valid inference): 0.006\n",
      "[I 2025-06-05 13:09:35,276] Trial 24 finished with value: 0.006105289635212727 and parameters: {'learning_rate': 0.13282929895309156, 'n_estimators': 268, 'reg_alpha': 20.550924711590362, 'reg_lambda': 31.455700030127684, 'num_leaves': 175, 'colsample_bytree': 0.900914401294301, 'subsample': 0.3388487546983369, 'subsample_freq': 4, 'min_child_samples': 59}. Best is trial 15 with value: 0.007186820773809989.\n"
     ]
    },
    {
     "name": "stderr",
     "output_type": "stream",
     "text": [
      "2025-06-05 13:09:41,238 - src.metrics - INFO - Evaluating ranking                      \n",
      "2025-06-05 13:09:41,248 - src.metrics - INFO - Mean average precision at k: 0.40178117080289855\n",
      "2025-06-05 13:09:41,727 - src.metrics - INFO - Evaluating ranking                      \n",
      "2025-06-05 13:09:41,770 - src.metrics - INFO - Mean average precision at k: 0.005663536746724002\n",
      "Best trial: 15. Best value: 0.00718682:  52%|█████▏    | 26/50 [03:07<03:12,  8.00s/it]"
     ]
    },
    {
     "name": "stdout",
     "output_type": "stream",
     "text": [
      "\n",
      "MAP@K (valid train): 0.402\n",
      "\n",
      "MAP@K (valid inference): 0.006\n",
      "[I 2025-06-05 13:09:41,792] Trial 25 finished with value: 0.005663536746724002 and parameters: {'learning_rate': 0.17662097700793689, 'n_estimators': 317, 'reg_alpha': 29.94405009393102, 'reg_lambda': 14.215839017545932, 'num_leaves': 154, 'colsample_bytree': 0.7487456804079368, 'subsample': 0.9051851743120206, 'subsample_freq': 5, 'min_child_samples': 39}. Best is trial 15 with value: 0.007186820773809989.\n"
     ]
    },
    {
     "name": "stderr",
     "output_type": "stream",
     "text": [
      "2025-06-05 13:09:47,398 - src.metrics - INFO - Evaluating ranking                      \n",
      "2025-06-05 13:09:47,409 - src.metrics - INFO - Mean average precision at k: 0.40121332756369704\n",
      "2025-06-05 13:09:48,029 - src.metrics - INFO - Evaluating ranking                      \n",
      "2025-06-05 13:09:48,072 - src.metrics - INFO - Mean average precision at k: 0.006337769878503242\n",
      "Best trial: 15. Best value: 0.00718682:  54%|█████▍    | 27/50 [03:13<02:52,  7.49s/it]"
     ]
    },
    {
     "name": "stdout",
     "output_type": "stream",
     "text": [
      "\n",
      "MAP@K (valid train): 0.401\n",
      "\n",
      "MAP@K (valid inference): 0.006\n",
      "[I 2025-06-05 13:09:48,092] Trial 26 finished with value: 0.006337769878503242 and parameters: {'learning_rate': 0.18130608329252623, 'n_estimators': 418, 'reg_alpha': 55.344551570831584, 'reg_lambda': 52.923209129625704, 'num_leaves': 74, 'colsample_bytree': 0.8939273228617082, 'subsample': 0.7435875161495025, 'subsample_freq': 2, 'min_child_samples': 20}. Best is trial 15 with value: 0.007186820773809989.\n"
     ]
    },
    {
     "name": "stderr",
     "output_type": "stream",
     "text": [
      "2025-06-05 13:10:02,525 - src.metrics - INFO - Evaluating ranking                      \n",
      "2025-06-05 13:10:02,535 - src.metrics - INFO - Mean average precision at k: 0.4197531561213827\n",
      "2025-06-05 13:10:04,492 - src.metrics - INFO - Evaluating ranking                      \n",
      "2025-06-05 13:10:04,539 - src.metrics - INFO - Mean average precision at k: 0.00728513453081293\n",
      "Best trial: 27. Best value: 0.00728513:  56%|█████▌    | 28/50 [03:29<03:44, 10.19s/it]"
     ]
    },
    {
     "name": "stdout",
     "output_type": "stream",
     "text": [
      "\n",
      "MAP@K (valid train): 0.420\n",
      "\n",
      "MAP@K (valid inference): 0.007\n",
      "[I 2025-06-05 13:10:04,562] Trial 27 finished with value: 0.00728513453081293 and parameters: {'learning_rate': 0.19773870091455958, 'n_estimators': 350, 'reg_alpha': 9.304967895793508, 'reg_lambda': 60.847162615000514, 'num_leaves': 236, 'colsample_bytree': 0.6390845276865088, 'subsample': 0.5335873626960013, 'subsample_freq': 1, 'min_child_samples': 84}. Best is trial 27 with value: 0.00728513453081293.\n"
     ]
    },
    {
     "name": "stderr",
     "output_type": "stream",
     "text": [
      "2025-06-05 13:10:11,090 - src.metrics - INFO - Evaluating ranking                      \n",
      "2025-06-05 13:10:11,100 - src.metrics - INFO - Mean average precision at k: 0.3892906513528435\n",
      "2025-06-05 13:10:11,722 - src.metrics - INFO - Evaluating ranking                      \n",
      "2025-06-05 13:10:11,770 - src.metrics - INFO - Mean average precision at k: 0.005743331289714122\n",
      "Best trial: 27. Best value: 0.00728513:  58%|█████▊    | 29/50 [03:37<03:15,  9.30s/it]"
     ]
    },
    {
     "name": "stdout",
     "output_type": "stream",
     "text": [
      "\n",
      "MAP@K (valid train): 0.389\n",
      "\n",
      "MAP@K (valid inference): 0.006\n",
      "[I 2025-06-05 13:10:11,790] Trial 28 finished with value: 0.005743331289714122 and parameters: {'learning_rate': 0.15230198602296682, 'n_estimators': 354, 'reg_alpha': 16.074090696020654, 'reg_lambda': 59.85168807308156, 'num_leaves': 242, 'colsample_bytree': 0.645722426842104, 'subsample': 0.32749841837885374, 'subsample_freq': 3, 'min_child_samples': 85}. Best is trial 27 with value: 0.00728513453081293.\n"
     ]
    },
    {
     "name": "stderr",
     "output_type": "stream",
     "text": [
      "2025-06-05 13:10:21,738 - src.metrics - INFO - Evaluating ranking                      \n",
      "2025-06-05 13:10:21,747 - src.metrics - INFO - Mean average precision at k: 0.3862098980658094\n",
      "2025-06-05 13:10:22,641 - src.metrics - INFO - Evaluating ranking                      \n",
      "2025-06-05 13:10:22,686 - src.metrics - INFO - Mean average precision at k: 0.00525263307906985\n",
      "Best trial: 27. Best value: 0.00728513:  60%|██████    | 30/50 [03:48<03:15,  9.78s/it]"
     ]
    },
    {
     "name": "stdout",
     "output_type": "stream",
     "text": [
      "\n",
      "MAP@K (valid train): 0.386\n",
      "\n",
      "MAP@K (valid inference): 0.005\n",
      "[I 2025-06-05 13:10:22,709] Trial 29 finished with value: 0.00525263307906985 and parameters: {'learning_rate': 0.12012346132994303, 'n_estimators': 299, 'reg_alpha': 8.130577649946122, 'reg_lambda': 96.14898453890659, 'num_leaves': 355, 'colsample_bytree': 0.4375842660021185, 'subsample': 0.5005632644099001, 'subsample_freq': 5, 'min_child_samples': 37}. Best is trial 27 with value: 0.00728513453081293.\n"
     ]
    },
    {
     "name": "stderr",
     "output_type": "stream",
     "text": [
      "2025-06-05 13:10:37,327 - src.metrics - INFO - Evaluating ranking                      \n",
      "2025-06-05 13:10:37,336 - src.metrics - INFO - Mean average precision at k: 0.4110160373548833\n",
      "2025-06-05 13:10:38,559 - src.metrics - INFO - Evaluating ranking                      \n",
      "2025-06-05 13:10:38,606 - src.metrics - INFO - Mean average precision at k: 0.006829418471085693\n",
      "Best trial: 27. Best value: 0.00728513:  62%|██████▏   | 31/50 [04:04<03:40, 11.63s/it]"
     ]
    },
    {
     "name": "stdout",
     "output_type": "stream",
     "text": [
      "\n",
      "MAP@K (valid train): 0.411\n",
      "\n",
      "MAP@K (valid inference): 0.007\n",
      "[I 2025-06-05 13:10:38,629] Trial 30 finished with value: 0.006829418471085693 and parameters: {'learning_rate': 0.18400632104087594, 'n_estimators': 239, 'reg_alpha': 53.36364987660978, 'reg_lambda': 70.0702509699144, 'num_leaves': 303, 'colsample_bytree': 0.8222722625401065, 'subsample': 0.7955632340855731, 'subsample_freq': 2, 'min_child_samples': 83}. Best is trial 27 with value: 0.00728513453081293.\n"
     ]
    },
    {
     "name": "stderr",
     "output_type": "stream",
     "text": [
      "2025-06-05 13:10:46,802 - src.metrics - INFO - Evaluating ranking                      \n",
      "2025-06-05 13:10:46,812 - src.metrics - INFO - Mean average precision at k: 0.41149193342560686\n",
      "2025-06-05 13:10:47,311 - src.metrics - INFO - Evaluating ranking                      \n",
      "2025-06-05 13:10:47,355 - src.metrics - INFO - Mean average precision at k: 0.005975219332303323\n",
      "Best trial: 27. Best value: 0.00728513:  64%|██████▍   | 32/50 [04:12<03:13, 10.76s/it]"
     ]
    },
    {
     "name": "stdout",
     "output_type": "stream",
     "text": [
      "\n",
      "MAP@K (valid train): 0.411\n",
      "\n",
      "MAP@K (valid inference): 0.006\n",
      "[I 2025-06-05 13:10:47,375] Trial 31 finished with value: 0.005975219332303323 and parameters: {'learning_rate': 0.18382273316893663, 'n_estimators': 229, 'reg_alpha': 54.040353707795546, 'reg_lambda': 71.70352375734343, 'num_leaves': 305, 'colsample_bytree': 0.8518969799195365, 'subsample': 0.8060071322238033, 'subsample_freq': 2, 'min_child_samples': 85}. Best is trial 27 with value: 0.00728513453081293.\n"
     ]
    },
    {
     "name": "stderr",
     "output_type": "stream",
     "text": [
      "2025-06-05 13:10:56,973 - src.metrics - INFO - Evaluating ranking                      \n",
      "2025-06-05 13:10:56,982 - src.metrics - INFO - Mean average precision at k: 0.40611033342032643\n",
      "2025-06-05 13:10:57,581 - src.metrics - INFO - Evaluating ranking                      \n",
      "2025-06-05 13:10:57,624 - src.metrics - INFO - Mean average precision at k: 0.006685398209425398\n",
      "Best trial: 27. Best value: 0.00728513:  66%|██████▌   | 33/50 [04:23<03:00, 10.61s/it]"
     ]
    },
    {
     "name": "stdout",
     "output_type": "stream",
     "text": [
      "\n",
      "MAP@K (valid train): 0.406\n",
      "\n",
      "MAP@K (valid inference): 0.007\n",
      "[I 2025-06-05 13:10:57,645] Trial 32 finished with value: 0.006685398209425398 and parameters: {'learning_rate': 0.1739610199839, 'n_estimators': 285, 'reg_alpha': 57.68551360675207, 'reg_lambda': 86.40161987947894, 'num_leaves': 233, 'colsample_bytree': 0.9678897839498987, 'subsample': 0.8695535557671776, 'subsample_freq': 2, 'min_child_samples': 90}. Best is trial 27 with value: 0.00728513453081293.\n"
     ]
    },
    {
     "name": "stderr",
     "output_type": "stream",
     "text": [
      "2025-06-05 13:11:03,238 - src.metrics - INFO - Evaluating ranking                      \n",
      "2025-06-05 13:11:03,248 - src.metrics - INFO - Mean average precision at k: 0.4030458773249062\n",
      "2025-06-05 13:11:03,539 - src.metrics - INFO - Evaluating ranking                      \n",
      "2025-06-05 13:11:03,583 - src.metrics - INFO - Mean average precision at k: 0.006090950810785004\n",
      "Best trial: 27. Best value: 0.00728513:  68%|██████▊   | 34/50 [04:28<02:27,  9.22s/it]"
     ]
    },
    {
     "name": "stdout",
     "output_type": "stream",
     "text": [
      "\n",
      "MAP@K (valid train): 0.403\n",
      "\n",
      "MAP@K (valid inference): 0.006\n",
      "[I 2025-06-05 13:11:03,604] Trial 33 finished with value: 0.006090950810785004 and parameters: {'learning_rate': 0.18803599631946102, 'n_estimators': 365, 'reg_alpha': 42.74001537852703, 'reg_lambda': 66.9031038701605, 'num_leaves': 285, 'colsample_bytree': 0.9877113571258391, 'subsample': 0.8125657030361416, 'subsample_freq': 1, 'min_child_samples': 80}. Best is trial 27 with value: 0.00728513453081293.\n"
     ]
    },
    {
     "name": "stderr",
     "output_type": "stream",
     "text": [
      "2025-06-05 13:11:09,263 - src.metrics - INFO - Evaluating ranking                      \n",
      "2025-06-05 13:11:09,273 - src.metrics - INFO - Mean average precision at k: 0.4073486243081599\n",
      "2025-06-05 13:11:09,617 - src.metrics - INFO - Evaluating ranking                      \n",
      "2025-06-05 13:11:09,663 - src.metrics - INFO - Mean average precision at k: 0.006508116391522226\n",
      "Best trial: 27. Best value: 0.00728513:  70%|███████   | 35/50 [04:35<02:04,  8.28s/it]"
     ]
    },
    {
     "name": "stdout",
     "output_type": "stream",
     "text": [
      "\n",
      "MAP@K (valid train): 0.407\n",
      "\n",
      "MAP@K (valid inference): 0.007\n",
      "[I 2025-06-05 13:11:09,684] Trial 34 finished with value: 0.006508116391522226 and parameters: {'learning_rate': 0.11186816731994423, 'n_estimators': 329, 'reg_alpha': 78.36426010263091, 'reg_lambda': 78.695523722073, 'num_leaves': 392, 'colsample_bytree': 0.6436951629546427, 'subsample': 0.694749408838091, 'subsample_freq': 3, 'min_child_samples': 65}. Best is trial 27 with value: 0.00728513453081293.\n"
     ]
    },
    {
     "name": "stderr",
     "output_type": "stream",
     "text": [
      "2025-06-05 13:11:21,665 - src.metrics - INFO - Evaluating ranking                      \n",
      "2025-06-05 13:11:21,675 - src.metrics - INFO - Mean average precision at k: 0.3944404477569502\n",
      "2025-06-05 13:11:22,825 - src.metrics - INFO - Evaluating ranking                      \n",
      "2025-06-05 13:11:22,871 - src.metrics - INFO - Mean average precision at k: 0.006337879949499187\n",
      "Best trial: 27. Best value: 0.00728513:  72%|███████▏  | 36/50 [04:48<02:16,  9.76s/it]"
     ]
    },
    {
     "name": "stdout",
     "output_type": "stream",
     "text": [
      "\n",
      "MAP@K (valid train): 0.394\n",
      "\n",
      "MAP@K (valid inference): 0.006\n",
      "[I 2025-06-05 13:11:22,897] Trial 35 finished with value: 0.006337879949499187 and parameters: {'learning_rate': 0.136701389033868, 'n_estimators': 244, 'reg_alpha': 33.75182843372542, 'reg_lambda': 57.02270882437239, 'num_leaves': 332, 'colsample_bytree': 0.512327301047724, 'subsample': 0.5824388919041366, 'subsample_freq': 2, 'min_child_samples': 8}. Best is trial 27 with value: 0.00728513453081293.\n"
     ]
    },
    {
     "name": "stderr",
     "output_type": "stream",
     "text": [
      "2025-06-05 13:11:38,432 - src.metrics - INFO - Evaluating ranking                      \n",
      "2025-06-05 13:11:38,441 - src.metrics - INFO - Mean average precision at k: 0.41239868305385546\n",
      "2025-06-05 13:11:39,880 - src.metrics - INFO - Evaluating ranking                      \n",
      "2025-06-05 13:11:39,928 - src.metrics - INFO - Mean average precision at k: 0.006436582130163832\n",
      "Best trial: 27. Best value: 0.00728513:  74%|███████▍  | 37/50 [05:05<02:35, 11.95s/it]"
     ]
    },
    {
     "name": "stdout",
     "output_type": "stream",
     "text": [
      "\n",
      "MAP@K (valid train): 0.412\n",
      "\n",
      "MAP@K (valid inference): 0.006\n",
      "[I 2025-06-05 13:11:39,952] Trial 36 finished with value: 0.006436582130163832 and parameters: {'learning_rate': 0.19989528375435411, 'n_estimators': 188, 'reg_alpha': 25.523291763088793, 'reg_lambda': 68.63254594234881, 'num_leaves': 251, 'colsample_bytree': 0.803583969464743, 'subsample': 0.863587225185378, 'subsample_freq': 3, 'min_child_samples': 22}. Best is trial 27 with value: 0.00728513453081293.\n"
     ]
    },
    {
     "name": "stderr",
     "output_type": "stream",
     "text": [
      "2025-06-05 13:11:48,431 - src.metrics - INFO - Evaluating ranking                      \n",
      "2025-06-05 13:11:48,441 - src.metrics - INFO - Mean average precision at k: 0.3962551267509044\n",
      "2025-06-05 13:11:48,977 - src.metrics - INFO - Evaluating ranking                      \n",
      "2025-06-05 13:11:49,019 - src.metrics - INFO - Mean average precision at k: 0.00566288575292376\n",
      "Best trial: 27. Best value: 0.00728513:  76%|███████▌  | 38/50 [05:14<02:13, 11.09s/it]"
     ]
    },
    {
     "name": "stdout",
     "output_type": "stream",
     "text": [
      "\n",
      "MAP@K (valid train): 0.396\n",
      "\n",
      "MAP@K (valid inference): 0.006\n",
      "[I 2025-06-05 13:11:49,040] Trial 37 finished with value: 0.00566288575292376 and parameters: {'learning_rate': 0.15570999121058005, 'n_estimators': 120, 'reg_alpha': 61.99163673738464, 'reg_lambda': 46.499483570230666, 'num_leaves': 302, 'colsample_bytree': 0.9209121451119867, 'subsample': 0.9412202619158107, 'subsample_freq': 4, 'min_child_samples': 96}. Best is trial 27 with value: 0.00728513453081293.\n"
     ]
    },
    {
     "name": "stderr",
     "output_type": "stream",
     "text": [
      "2025-06-05 13:11:57,749 - src.metrics - INFO - Evaluating ranking                      \n",
      "2025-06-05 13:11:57,759 - src.metrics - INFO - Mean average precision at k: 0.40203097028730383\n",
      "2025-06-05 13:11:58,610 - src.metrics - INFO - Evaluating ranking                      \n",
      "2025-06-05 13:11:58,653 - src.metrics - INFO - Mean average precision at k: 0.0061700657821199874\n",
      "Best trial: 27. Best value: 0.00728513:  78%|███████▊  | 39/50 [05:24<01:57, 10.65s/it]"
     ]
    },
    {
     "name": "stdout",
     "output_type": "stream",
     "text": [
      "\n",
      "MAP@K (valid train): 0.402\n",
      "\n",
      "MAP@K (valid inference): 0.006\n",
      "[I 2025-06-05 13:11:58,673] Trial 38 finished with value: 0.0061700657821199874 and parameters: {'learning_rate': 0.18570866102042033, 'n_estimators': 262, 'reg_alpha': 48.13669169440821, 'reg_lambda': 62.90872210018009, 'num_leaves': 393, 'colsample_bytree': 0.3699172275569179, 'subsample': 0.7803718326663507, 'subsample_freq': 1, 'min_child_samples': 100}. Best is trial 27 with value: 0.00728513453081293.\n"
     ]
    },
    {
     "name": "stderr",
     "output_type": "stream",
     "text": [
      "2025-06-05 13:12:05,816 - src.metrics - INFO - Evaluating ranking                      \n",
      "2025-06-05 13:12:05,825 - src.metrics - INFO - Mean average precision at k: 0.4012977608767545\n",
      "2025-06-05 13:12:06,209 - src.metrics - INFO - Evaluating ranking                      \n",
      "2025-06-05 13:12:06,254 - src.metrics - INFO - Mean average precision at k: 0.006325349599431092\n",
      "Best trial: 27. Best value: 0.00728513:  80%|████████  | 40/50 [05:31<01:37,  9.74s/it]"
     ]
    },
    {
     "name": "stdout",
     "output_type": "stream",
     "text": [
      "\n",
      "MAP@K (valid train): 0.401\n",
      "\n",
      "MAP@K (valid inference): 0.006\n",
      "[I 2025-06-05 13:12:06,274] Trial 39 finished with value: 0.006325349599431092 and parameters: {'learning_rate': 0.1256508546487819, 'n_estimators': 290, 'reg_alpha': 76.9813675025502, 'reg_lambda': 86.45224647663372, 'num_leaves': 366, 'colsample_bytree': 0.8495057154324219, 'subsample': 0.6811588288922416, 'subsample_freq': 3, 'min_child_samples': 10}. Best is trial 27 with value: 0.00728513453081293.\n"
     ]
    },
    {
     "name": "stderr",
     "output_type": "stream",
     "text": [
      "2025-06-05 13:12:11,712 - src.metrics - INFO - Evaluating ranking                      \n",
      "2025-06-05 13:12:11,722 - src.metrics - INFO - Mean average precision at k: 0.403839357348154\n",
      "2025-06-05 13:12:12,247 - src.metrics - INFO - Evaluating ranking                      \n",
      "2025-06-05 13:12:12,292 - src.metrics - INFO - Mean average precision at k: 0.005663209848704251\n",
      "Best trial: 27. Best value: 0.00728513:  82%|████████▏ | 41/50 [05:37<01:17,  8.63s/it]"
     ]
    },
    {
     "name": "stdout",
     "output_type": "stream",
     "text": [
      "\n",
      "MAP@K (valid train): 0.404\n",
      "\n",
      "MAP@K (valid inference): 0.006\n",
      "[I 2025-06-05 13:12:12,312] Trial 40 finished with value: 0.005663209848704251 and parameters: {'learning_rate': 0.14277592132472916, 'n_estimators': 326, 'reg_alpha': 37.991487719056536, 'reg_lambda': 56.787258360564934, 'num_leaves': 165, 'colsample_bytree': 0.7573536167768707, 'subsample': 0.7675013416245552, 'subsample_freq': 2, 'min_child_samples': 90}. Best is trial 27 with value: 0.00728513453081293.\n"
     ]
    },
    {
     "name": "stderr",
     "output_type": "stream",
     "text": [
      "2025-06-05 13:12:18,071 - src.metrics - INFO - Evaluating ranking                      \n",
      "2025-06-05 13:12:18,081 - src.metrics - INFO - Mean average precision at k: 0.37980377380588504\n",
      "2025-06-05 13:12:18,388 - src.metrics - INFO - Evaluating ranking                      \n",
      "2025-06-05 13:12:18,433 - src.metrics - INFO - Mean average precision at k: 0.005309851091984799\n",
      "Best trial: 27. Best value: 0.00728513:  84%|████████▍ | 42/50 [05:43<01:03,  7.88s/it]"
     ]
    },
    {
     "name": "stdout",
     "output_type": "stream",
     "text": [
      "\n",
      "MAP@K (valid train): 0.380\n",
      "\n",
      "MAP@K (valid inference): 0.005\n",
      "[I 2025-06-05 13:12:18,459] Trial 41 finished with value: 0.005309851091984799 and parameters: {'learning_rate': 0.17145542770998864, 'n_estimators': 282, 'reg_alpha': 57.294626415023004, 'reg_lambda': 87.54902364486534, 'num_leaves': 212, 'colsample_bytree': 0.9830784382596248, 'subsample': 0.887733674010136, 'subsample_freq': 2, 'min_child_samples': 91}. Best is trial 27 with value: 0.00728513453081293.\n"
     ]
    },
    {
     "name": "stderr",
     "output_type": "stream",
     "text": [
      "2025-06-05 13:12:24,643 - src.metrics - INFO - Evaluating ranking                      \n",
      "2025-06-05 13:12:24,653 - src.metrics - INFO - Mean average precision at k: 0.4064617773018547\n",
      "2025-06-05 13:12:24,970 - src.metrics - INFO - Evaluating ranking                      \n",
      "2025-06-05 13:12:25,015 - src.metrics - INFO - Mean average precision at k: 0.0058030305196482375\n",
      "Best trial: 27. Best value: 0.00728513:  86%|████████▌ | 43/50 [05:50<00:52,  7.49s/it]"
     ]
    },
    {
     "name": "stdout",
     "output_type": "stream",
     "text": [
      "\n",
      "MAP@K (valid train): 0.406\n",
      "\n",
      "MAP@K (valid inference): 0.006\n",
      "[I 2025-06-05 13:12:25,041] Trial 42 finished with value: 0.0058030305196482375 and parameters: {'learning_rate': 0.1779946991132867, 'n_estimators': 373, 'reg_alpha': 63.47098924262032, 'reg_lambda': 75.84067125618458, 'num_leaves': 230, 'colsample_bytree': 0.9423581523872235, 'subsample': 0.845560725022656, 'subsample_freq': 2, 'min_child_samples': 81}. Best is trial 27 with value: 0.00728513453081293.\n"
     ]
    },
    {
     "name": "stderr",
     "output_type": "stream",
     "text": [
      "2025-06-05 13:12:35,632 - src.metrics - INFO - Evaluating ranking                      \n",
      "2025-06-05 13:12:35,641 - src.metrics - INFO - Mean average precision at k: 0.4102463098191459\n",
      "2025-06-05 13:12:36,535 - src.metrics - INFO - Evaluating ranking                      \n",
      "2025-06-05 13:12:36,580 - src.metrics - INFO - Mean average precision at k: 0.007874256035215183\n",
      "Best trial: 43. Best value: 0.00787426:  88%|████████▊ | 44/50 [06:01<00:52,  8.71s/it]"
     ]
    },
    {
     "name": "stdout",
     "output_type": "stream",
     "text": [
      "\n",
      "MAP@K (valid train): 0.410\n",
      "\n",
      "MAP@K (valid inference): 0.008\n",
      "[I 2025-06-05 13:12:36,604] Trial 43 finished with value: 0.007874256035215183 and parameters: {'learning_rate': 0.18985390598482632, 'n_estimators': 307, 'reg_alpha': 59.42500712174797, 'reg_lambda': 98.56539859375346, 'num_leaves': 264, 'colsample_bytree': 0.9421778130189737, 'subsample': 0.9522696808025917, 'subsample_freq': 1, 'min_child_samples': 86}. Best is trial 43 with value: 0.007874256035215183.\n"
     ]
    },
    {
     "name": "stderr",
     "output_type": "stream",
     "text": [
      "2025-06-05 13:12:42,415 - src.metrics - INFO - Evaluating ranking                      \n",
      "2025-06-05 13:12:42,424 - src.metrics - INFO - Mean average precision at k: 0.4075813629153706\n",
      "2025-06-05 13:12:42,785 - src.metrics - INFO - Evaluating ranking                      \n",
      "2025-06-05 13:12:42,830 - src.metrics - INFO - Mean average precision at k: 0.006021133340023544\n",
      "Best trial: 43. Best value: 0.00787426:  90%|█████████ | 45/50 [06:08<00:39,  7.97s/it]"
     ]
    },
    {
     "name": "stdout",
     "output_type": "stream",
     "text": [
      "\n",
      "MAP@K (valid train): 0.408\n",
      "\n",
      "MAP@K (valid inference): 0.006\n",
      "[I 2025-06-05 13:12:42,851] Trial 44 finished with value: 0.006021133340023544 and parameters: {'learning_rate': 0.0998719708971741, 'n_estimators': 310, 'reg_alpha': 70.7008166316779, 'reg_lambda': 96.72522015642564, 'num_leaves': 325, 'colsample_bytree': 0.8288341698813831, 'subsample': 0.9598975484191057, 'subsample_freq': 1, 'min_child_samples': 75}. Best is trial 43 with value: 0.007874256035215183.\n"
     ]
    },
    {
     "name": "stderr",
     "output_type": "stream",
     "text": [
      "2025-06-05 13:12:54,042 - src.metrics - INFO - Evaluating ranking                      \n",
      "2025-06-05 13:12:54,052 - src.metrics - INFO - Mean average precision at k: 0.39962623948171094\n",
      "2025-06-05 13:12:55,270 - src.metrics - INFO - Evaluating ranking                      \n",
      "2025-06-05 13:12:55,317 - src.metrics - INFO - Mean average precision at k: 0.006570412916429383\n",
      "Best trial: 43. Best value: 0.00787426:  92%|█████████▏| 46/50 [06:20<00:37,  9.33s/it]"
     ]
    },
    {
     "name": "stdout",
     "output_type": "stream",
     "text": [
      "\n",
      "MAP@K (valid train): 0.400\n",
      "\n",
      "MAP@K (valid inference): 0.007\n",
      "[I 2025-06-05 13:12:55,343] Trial 45 finished with value: 0.006570412916429383 and parameters: {'learning_rate': 0.19141444703485266, 'n_estimators': 414, 'reg_alpha': 87.85787275625844, 'reg_lambda': 99.82142823335582, 'num_leaves': 270, 'colsample_bytree': 0.8872631243489643, 'subsample': 0.916382261079197, 'subsample_freq': 1, 'min_child_samples': 85}. Best is trial 43 with value: 0.007874256035215183.\n"
     ]
    },
    {
     "name": "stderr",
     "output_type": "stream",
     "text": [
      "2025-06-05 13:13:01,405 - src.metrics - INFO - Evaluating ranking                      \n",
      "2025-06-05 13:13:01,414 - src.metrics - INFO - Mean average precision at k: 0.39280327164950674\n",
      "2025-06-05 13:13:01,734 - src.metrics - INFO - Evaluating ranking                      \n",
      "2025-06-05 13:13:01,777 - src.metrics - INFO - Mean average precision at k: 0.005194920897896523\n",
      "Best trial: 43. Best value: 0.00787426:  94%|█████████▍| 47/50 [06:27<00:25,  8.47s/it]"
     ]
    },
    {
     "name": "stdout",
     "output_type": "stream",
     "text": [
      "\n",
      "MAP@K (valid train): 0.393\n",
      "\n",
      "MAP@K (valid inference): 0.005\n",
      "[I 2025-06-05 13:13:01,798] Trial 46 finished with value: 0.005194920897896523 and parameters: {'learning_rate': 0.16174118081661218, 'n_estimators': 257, 'reg_alpha': 6.300861722754704, 'reg_lambda': 32.77378531605763, 'num_leaves': 285, 'colsample_bytree': 0.7209436475301463, 'subsample': 0.49567361652521624, 'subsample_freq': 1, 'min_child_samples': 93}. Best is trial 43 with value: 0.007874256035215183.\n"
     ]
    },
    {
     "name": "stderr",
     "output_type": "stream",
     "text": [
      "2025-06-05 13:13:13,559 - src.metrics - INFO - Evaluating ranking                      \n",
      "2025-06-05 13:13:13,569 - src.metrics - INFO - Mean average precision at k: 0.4088332305156725\n",
      "2025-06-05 13:13:14,676 - src.metrics - INFO - Evaluating ranking                      \n",
      "2025-06-05 13:13:14,721 - src.metrics - INFO - Mean average precision at k: 0.006494347991392335\n",
      "Best trial: 43. Best value: 0.00787426:  96%|█████████▌| 48/50 [06:40<00:19,  9.81s/it]"
     ]
    },
    {
     "name": "stdout",
     "output_type": "stream",
     "text": [
      "\n",
      "MAP@K (valid train): 0.409\n",
      "\n",
      "MAP@K (valid inference): 0.006\n",
      "[I 2025-06-05 13:13:14,746] Trial 47 finished with value: 0.006494347991392335 and parameters: {'learning_rate': 0.19162414994867624, 'n_estimators': 350, 'reg_alpha': 27.37687249720372, 'reg_lambda': 46.27764486285534, 'num_leaves': 430, 'colsample_bytree': 0.9371045683023713, 'subsample': 0.7328382914711673, 'subsample_freq': 1, 'min_child_samples': 54}. Best is trial 43 with value: 0.007874256035215183.\n"
     ]
    },
    {
     "name": "stderr",
     "output_type": "stream",
     "text": [
      "2025-06-05 13:13:19,152 - src.metrics - INFO - Evaluating ranking                      \n",
      "2025-06-05 13:13:19,162 - src.metrics - INFO - Mean average precision at k: 0.39363141294483656\n",
      "2025-06-05 13:13:19,464 - src.metrics - INFO - Evaluating ranking                      \n",
      "2025-06-05 13:13:19,510 - src.metrics - INFO - Mean average precision at k: 0.005092376505337276\n",
      "Best trial: 43. Best value: 0.00787426:  98%|█████████▊| 49/50 [06:44<00:08,  8.30s/it]"
     ]
    },
    {
     "name": "stdout",
     "output_type": "stream",
     "text": [
      "\n",
      "MAP@K (valid train): 0.394\n",
      "\n",
      "MAP@K (valid inference): 0.005\n",
      "[I 2025-06-05 13:13:19,531] Trial 48 finished with value: 0.005092376505337276 and parameters: {'learning_rate': 0.07283814306921078, 'n_estimators': 381, 'reg_alpha': 45.58675544570908, 'reg_lambda': 66.99983899859463, 'num_leaves': 255, 'colsample_bytree': 0.6772510504952998, 'subsample': 0.8180619795569972, 'subsample_freq': 3, 'min_child_samples': 68}. Best is trial 43 with value: 0.007874256035215183.\n"
     ]
    },
    {
     "name": "stderr",
     "output_type": "stream",
     "text": [
      "2025-06-05 13:13:25,300 - src.metrics - INFO - Evaluating ranking                      \n",
      "2025-06-05 13:13:25,309 - src.metrics - INFO - Mean average precision at k: 0.40686726366916376\n",
      "2025-06-05 13:13:25,771 - src.metrics - INFO - Evaluating ranking                      \n",
      "2025-06-05 13:13:25,815 - src.metrics - INFO - Mean average precision at k: 0.006035936654904255\n",
      "Best trial: 43. Best value: 0.00787426: 100%|██████████| 50/50 [06:51<00:00,  8.22s/it]\n",
      "2025-06-05 13:13:25,837 - src.utils.core_utils - INFO - Best trial: 43\n",
      "2025-06-05 13:13:25,837 - src.utils.core_utils - INFO - Best value: 0.007874256035215183\n",
      "2025-06-05 13:13:25,837 - src.utils.core_utils - INFO - Best parameters: {'learning_rate': 0.18985390598482632, 'n_estimators': 307, 'reg_alpha': 59.42500712174797, 'reg_lambda': 98.56539859375346, 'num_leaves': 264, 'colsample_bytree': 0.9421778130189737, 'subsample': 0.9522696808025917, 'subsample_freq': 1, 'min_child_samples': 86}\n",
      "2025-06-05 13:13:25,844 - src.utils.core_utils - INFO - MLflow run ID: afbd31fb97b3437a89023e5587d02d3a\n"
     ]
    },
    {
     "name": "stdout",
     "output_type": "stream",
     "text": [
      "\n",
      "MAP@K (valid train): 0.407\n",
      "\n",
      "MAP@K (valid inference): 0.006\n",
      "[I 2025-06-05 13:13:25,834] Trial 49 finished with value: 0.006035936654904255 and parameters: {'learning_rate': 0.1896497840455346, 'n_estimators': 199, 'reg_alpha': 17.177761168870916, 'reg_lambda': 52.95531210706403, 'num_leaves': 178, 'colsample_bytree': 0.7826534601108672, 'subsample': 0.9937447110391067, 'subsample_freq': 2, 'min_child_samples': 34}. Best is trial 43 with value: 0.007874256035215183.\n"
     ]
    }
   ],
   "source": [
    "run_id = hyperparameter_tuning_pipeline.run()"
   ]
  },
  {
   "cell_type": "code",
   "execution_count": 9,
   "metadata": {},
   "outputs": [
    {
     "name": "stdout",
     "output_type": "stream",
     "text": [
      "afbd31fb97b3437a89023e5587d02d3a\n"
     ]
    }
   ],
   "source": [
    "print(run_id)"
   ]
  },
  {
   "cell_type": "code",
   "execution_count": null,
   "metadata": {},
   "outputs": [],
   "source": []
  },
  {
   "cell_type": "code",
   "execution_count": null,
   "metadata": {},
   "outputs": [],
   "source": []
  }
 ],
 "metadata": {
  "kernelspec": {
   "display_name": "venv",
   "language": "python",
   "name": "python3"
  },
  "language_info": {
   "codemirror_mode": {
    "name": "ipython",
    "version": 3
   },
   "file_extension": ".py",
   "mimetype": "text/x-python",
   "name": "python",
   "nbconvert_exporter": "python",
   "pygments_lexer": "ipython3",
   "version": "3.12.10"
  }
 },
 "nbformat": 4,
 "nbformat_minor": 2
}
