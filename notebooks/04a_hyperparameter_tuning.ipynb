{
 "cells": [
  {
   "cell_type": "markdown",
   "metadata": {},
   "source": [
    "# 4a Hyperparameter tuning\n"
   ]
  },
  {
   "cell_type": "code",
   "execution_count": null,
   "metadata": {},
   "outputs": [],
   "source": [
    "%load_ext autoreload\n",
    "%autoreload 2"
   ]
  },
  {
   "cell_type": "code",
   "execution_count": null,
   "metadata": {},
   "outputs": [],
   "source": [
    "import sys\n",
    "import logging\n",
    "import pandas as pd\n",
    "import json\n",
    "\n",
    "# Import lightgbm here to ensure that it is imported before torch\n",
    "# See https://www.google.com/search?q=lightgbm+torch+segfauly&newwindow=1&client=safari&sca_esv=b42e03ff43b61ad3&rls=en&sxsrf=AE3TifPG5Xxf2f6TjGmcjxu7NsghDNfWqA%3A1749001272991&ei=OKQ_aPmmPPrA0PEPk-iYmQg&ved=0ahUKEwj5otq80daNAxV6IDQIHRM0JoMQ4dUDCBA&uact=5&oq=lightgbm+torch+segfauly&gs_lp=Egxnd3Mtd2l6LXNlcnAiF2xpZ2h0Z2JtIHRvcmNoIHNlZ2ZhdWx5MgUQIRigATIFECEYoAEyBRAhGKABMgUQIRifBUjQF1DeC1j7FnABeACQAQCYAXqgAbUFqgEDNC4zuAEDyAEA-AEBmAIIoALbBcICCxAAGLADGKIEGIkFwgILEAAYgAQYsAMYogTCAggQABiwAxjvBcICBRAhGKsCwgIHECEYoAEYCpgDAIgGAZAGBJIHAzQuNKAH0yGyBwMzLjS4B9cFwgcFMC41LjPIBxU&sclient=gws-wiz-serp\n",
    "from lightgbm import LGBMRanker\n",
    "\n",
    "sys.path.append(\"..\")\n",
    "\n",
    "from src.utils.core_utils import setup_logging\n",
    "\n",
    "# xInitialize logging\n",
    "file_log = \"hyperparameter_tuning.log\"\n",
    "root_logger = setup_logging(level=logging.DEBUG, log_file=file_log, remove_existing=True)"
   ]
  },
  {
   "cell_type": "code",
   "execution_count": null,
   "metadata": {},
   "outputs": [],
   "source": [
    "from src.train import RankerHyperparameterTuningPipeline, RankerHyperparameterTuningConfig"
   ]
  },
  {
   "cell_type": "code",
   "execution_count": null,
   "metadata": {},
   "outputs": [],
   "source": [
    "# from src.input_preprocessing import LightGBMDataResult, get_path_to_lightgbm_data\n",
    "# from src.ranker import prepare_features_for_ranker, RankerConfig\n",
    "# from src.feature_extraction import load_optimized_raw_data\n",
    "# from src.train import RankerWithHyperparameterTuning, get_default_config_ranker_with_hyperparameter_tuning"
   ]
  },
  {
   "cell_type": "markdown",
   "metadata": {},
   "source": [
    "# Run pipeline\n"
   ]
  },
  {
   "cell_type": "code",
   "execution_count": null,
   "metadata": {},
   "outputs": [],
   "source": [
    "hyperparameter_tuning_config = RankerHyperparameterTuningConfig.get_default_config()"
   ]
  },
  {
   "cell_type": "code",
   "execution_count": null,
   "metadata": {},
   "outputs": [],
   "source": [
    "hyperparameter_tuning_pipeline = RankerHyperparameterTuningPipeline(hyperparameter_tuning_config)"
   ]
  },
  {
   "cell_type": "code",
   "execution_count": null,
   "metadata": {},
   "outputs": [],
   "source": [
    "hyperparameter_tuning_pipeline.setup()"
   ]
  },
  {
   "cell_type": "code",
   "execution_count": null,
   "metadata": {},
   "outputs": [],
   "source": [
    "run_id = hyperparameter_tuning_pipeline.run()"
   ]
  },
  {
   "cell_type": "code",
   "execution_count": null,
   "metadata": {},
   "outputs": [],
   "source": [
    "print(run_id)"
   ]
  },
  {
   "cell_type": "code",
   "execution_count": null,
   "metadata": {},
   "outputs": [],
   "source": []
  },
  {
   "cell_type": "code",
   "execution_count": null,
   "metadata": {},
   "outputs": [],
   "source": []
  }
 ],
 "metadata": {
  "kernelspec": {
   "display_name": "venv",
   "language": "python",
   "name": "python3"
  },
  "language_info": {
   "codemirror_mode": {
    "name": "ipython",
    "version": 3
   },
   "file_extension": ".py",
   "mimetype": "text/x-python",
   "name": "python",
   "nbconvert_exporter": "python",
   "pygments_lexer": "ipython3"
  }
 },
 "nbformat": 4,
 "nbformat_minor": 2
}
