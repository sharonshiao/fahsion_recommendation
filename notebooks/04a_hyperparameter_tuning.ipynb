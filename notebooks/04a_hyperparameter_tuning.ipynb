{
 "cells": [
  {
   "cell_type": "markdown",
   "metadata": {},
   "source": [
    "# 4a Hyperparameter tuning\n"
   ]
  },
  {
   "cell_type": "code",
   "execution_count": 1,
   "metadata": {},
   "outputs": [],
   "source": [
    "%load_ext autoreload\n",
    "%autoreload 2"
   ]
  },
  {
   "cell_type": "code",
   "execution_count": 2,
   "metadata": {},
   "outputs": [
    {
     "name": "stderr",
     "output_type": "stream",
     "text": [
      "2025-06-04 16:28:44,008 - src.utils.core_utils - INFO - Creating file handler with level: 10\n",
      "2025-06-04 16:28:44,009 - src.utils.core_utils - DEBUG - Logging setup complete to hyperparameter_tuning.log\n"
     ]
    }
   ],
   "source": [
    "import sys\n",
    "import logging\n",
    "import pandas as pd\n",
    "import json\n",
    "\n",
    "# Import lightgbm here to ensure that it is imported before torch\n",
    "# See https://www.google.com/search?q=lightgbm+torch+segfauly&newwindow=1&client=safari&sca_esv=b42e03ff43b61ad3&rls=en&sxsrf=AE3TifPG5Xxf2f6TjGmcjxu7NsghDNfWqA%3A1749001272991&ei=OKQ_aPmmPPrA0PEPk-iYmQg&ved=0ahUKEwj5otq80daNAxV6IDQIHRM0JoMQ4dUDCBA&uact=5&oq=lightgbm+torch+segfauly&gs_lp=Egxnd3Mtd2l6LXNlcnAiF2xpZ2h0Z2JtIHRvcmNoIHNlZ2ZhdWx5MgUQIRigATIFECEYoAEyBRAhGKABMgUQIRifBUjQF1DeC1j7FnABeACQAQCYAXqgAbUFqgEDNC4zuAEDyAEA-AEBmAIIoALbBcICCxAAGLADGKIEGIkFwgILEAAYgAQYsAMYogTCAggQABiwAxjvBcICBRAhGKsCwgIHECEYoAEYCpgDAIgGAZAGBJIHAzQuNKAH0yGyBwMzLjS4B9cFwgcFMC41LjPIBxU&sclient=gws-wiz-serp\n",
    "from lightgbm import LGBMRanker\n",
    "\n",
    "sys.path.append(\"..\")\n",
    "\n",
    "from src.utils.core_utils import setup_logging\n",
    "\n",
    "# xInitialize logging\n",
    "file_log = \"hyperparameter_tuning.log\"\n",
    "root_logger = setup_logging(level=logging.DEBUG, log_file=file_log, remove_existing=True)"
   ]
  },
  {
   "cell_type": "code",
   "execution_count": 3,
   "metadata": {},
   "outputs": [
    {
     "name": "stderr",
     "output_type": "stream",
     "text": [
      "/Users/sharonshiao/Dropbox/Machine_learning/projects/fahsion_recommendation/venv/lib/python3.12/site-packages/tqdm/auto.py:21: TqdmWarning: IProgress not found. Please update jupyter and ipywidgets. See https://ipywidgets.readthedocs.io/en/stable/user_install.html\n",
      "  from .autonotebook import tqdm as notebook_tqdm\n"
     ]
    }
   ],
   "source": [
    "from src.train import RankerHyperparameterTuningPipeline, RankerHyperparameterTuningConfig"
   ]
  },
  {
   "cell_type": "code",
   "execution_count": 4,
   "metadata": {},
   "outputs": [],
   "source": [
    "# from src.input_preprocessing import LightGBMDataResult, get_path_to_lightgbm_data\n",
    "# from src.ranker import prepare_features_for_ranker, RankerConfig\n",
    "# from src.feature_extraction import load_optimized_raw_data\n",
    "# from src.train import RankerWithHyperparameterTuning, get_default_config_ranker_with_hyperparameter_tuning"
   ]
  },
  {
   "cell_type": "markdown",
   "metadata": {},
   "source": [
    "# Run pipeline\n"
   ]
  },
  {
   "cell_type": "code",
   "execution_count": 5,
   "metadata": {},
   "outputs": [],
   "source": [
    "hyperparameter_tuning_config = RankerHyperparameterTuningConfig.get_default_config()"
   ]
  },
  {
   "cell_type": "code",
   "execution_count": 6,
   "metadata": {},
   "outputs": [],
   "source": [
    "hyperparameter_tuning_pipeline = RankerHyperparameterTuningPipeline(hyperparameter_tuning_config)"
   ]
  },
  {
   "cell_type": "code",
   "execution_count": 7,
   "metadata": {},
   "outputs": [
    {
     "name": "stderr",
     "output_type": "stream",
     "text": [
      "2025-06-04 16:28:50,956 - src.utils.core_utils - INFO - Setting up RankerHyperparameterTuningPipeline\n",
      "2025-06-04 16:28:50,958 - src.utils.core_utils - INFO - Using configuration: {\n",
      "  \"sample\": \"train\",\n",
      "  \"subsample\": 0.05,\n",
      "  \"seed\": 42,\n",
      "  \"tag\": \"ranker-hyperparameter-tuning\",\n",
      "  \"experiment_name\": \"fashion_recommendation\",\n",
      "  \"hyperparameter_config\": {\n",
      "    \"feature_config\": {\n",
      "      \"article_static_features\": [\n",
      "        \"product_type_no\",\n",
      "        \"graphical_appearance_no\",\n",
      "        \"colour_group_code\",\n",
      "        \"perceived_colour_value_id\",\n",
      "        \"perceived_colour_master_id\",\n",
      "        \"department_no\",\n",
      "        \"index_code\",\n",
      "        \"index_group_no\",\n",
      "        \"section_no\",\n",
      "        \"garment_group_no\"\n",
      "      ],\n",
      "      \"article_dynamic_features\": [\n",
      "        \"weekly_sales_count\",\n",
      "        \"weekly_avg_price\",\n",
      "        \"cumulative_mean_age\",\n",
      "        \"cumulative_sales_count\"\n",
      "      ],\n",
      "      \"customer_static_features\": [\n",
      "        \"age\",\n",
      "        \"club_member_status\",\n",
      "        \"fashion_news_frequency\",\n",
      "        \"fn\",\n",
      "        \"active\",\n",
      "        \"postal_code\"\n",
      "      ],\n",
      "      \"customer_dynamic_features\": [\n",
      "        \"customer_avg_price\",\n",
      "        \"text_embedding_similarity\",\n",
      "        \"image_embedding_similarity\"\n",
      "      ],\n",
      "      \"transaction_features\": [\n",
      "        \"bestseller_rank\"\n",
      "      ],\n",
      "      \"interactions\": [\n",
      "        \"age_difference\",\n",
      "        \"age_ratio\",\n",
      "        \"price_difference\",\n",
      "        \"price_ratio\"\n",
      "      ]\n",
      "    },\n",
      "    \"lightgbm_fixed_params\": {\n",
      "      \"objective\": \"lambdarank\",\n",
      "      \"metrics\": \"ndcg\",\n",
      "      \"importance_type\": \"gain\",\n",
      "      \"random_state\": 111,\n",
      "      \"verbosity\": -1,\n",
      "      \"feature_pre_filter\": false\n",
      "    },\n",
      "    \"hyperparameters_config\": {\n",
      "      \"learning_rate\": {\n",
      "        \"type\": \"float\",\n",
      "        \"min\": 1e-05,\n",
      "        \"max\": 0.2\n",
      "      },\n",
      "      \"n_estimators\": {\n",
      "        \"type\": \"int\",\n",
      "        \"min\": 50,\n",
      "        \"max\": 500\n",
      "      },\n",
      "      \"reg_alpha\": {\n",
      "        \"type\": \"float\",\n",
      "        \"min\": 1e-08,\n",
      "        \"max\": 100,\n",
      "        \"log\": true\n",
      "      },\n",
      "      \"reg_lambda\": {\n",
      "        \"type\": \"float\",\n",
      "        \"min\": 1e-08,\n",
      "        \"max\": 100,\n",
      "        \"log\": true\n",
      "      },\n",
      "      \"num_leaves\": {\n",
      "        \"type\": \"int\",\n",
      "        \"min\": 2,\n",
      "        \"max\": 512\n",
      "      },\n",
      "      \"colsample_bytree\": {\n",
      "        \"type\": \"float\",\n",
      "        \"min\": 0.1,\n",
      "        \"max\": 1.0\n",
      "      },\n",
      "      \"subsample\": {\n",
      "        \"type\": \"float\",\n",
      "        \"min\": 0.01,\n",
      "        \"max\": 1.0\n",
      "      },\n",
      "      \"subsample_freq\": {\n",
      "        \"type\": \"int\",\n",
      "        \"min\": 1,\n",
      "        \"max\": 7\n",
      "      },\n",
      "      \"min_child_samples\": {\n",
      "        \"type\": \"int\",\n",
      "        \"min\": 5,\n",
      "        \"max\": 100\n",
      "      }\n",
      "    },\n",
      "    \"n_trials\": 100,\n",
      "    \"early_stopping_rounds\": 25,\n",
      "    \"metric_return\": \"mapk_valid_inference\"\n",
      "  }\n",
      "}\n"
     ]
    },
    {
     "data": {
      "text/plain": [
       "<src.train.RankerHyperparameterTuningPipeline at 0x1612b4e30>"
      ]
     },
     "execution_count": 7,
     "metadata": {},
     "output_type": "execute_result"
    }
   ],
   "source": [
    "hyperparameter_tuning_pipeline.setup()"
   ]
  },
  {
   "cell_type": "code",
   "execution_count": 8,
   "metadata": {},
   "outputs": [
    {
     "name": "stderr",
     "output_type": "stream",
     "text": [
      "2025-06-04 16:28:51,002 - src.utils.core_utils - INFO - Loading data for hyperparameter tuning\n",
      "2025-06-04 16:28:51,238 - src.input_preprocessing - INFO - Metadata loaded: {'has_label': True, 'has_group': True, 'use_type': 'train', 'sample': 'train', 'has_default_prediction': False}\n",
      "2025-06-04 16:28:51,266 - src.input_preprocessing - INFO - Loaded label from ../data/model/input/train/subsample_0.05_42/label.npy\n",
      "2025-06-04 16:28:51,269 - src.input_preprocessing - INFO - Loaded group from ../data/model/input/train/subsample_0.05_42/group.npy\n",
      "2025-06-04 16:28:51,270 - src.utils.core_utils - INFO - Loaded training data from ../data/model/input/train/subsample_0.05_42\n",
      "2025-06-04 16:28:51,292 - src.input_preprocessing - INFO - Metadata loaded: {'has_label': True, 'has_group': True, 'use_type': 'train', 'sample': 'train', 'has_default_prediction': False}\n",
      "2025-06-04 16:28:51,293 - src.input_preprocessing - INFO - Loaded label from ../data/model/input/valid/subsample_0.05_42/label.npy\n",
      "2025-06-04 16:28:51,294 - src.input_preprocessing - INFO - Loaded group from ../data/model/input/valid/subsample_0.05_42/group.npy\n",
      "2025-06-04 16:28:51,295 - src.utils.core_utils - INFO - Loaded validation (train mode) data from ../data/model/input/valid/subsample_0.05_42\n",
      "2025-06-04 16:28:51,305 - src.input_preprocessing - INFO - Metadata loaded: {'has_label': False, 'has_group': True, 'use_type': 'inference', 'sample': 'valid', 'has_default_prediction': True}\n",
      "2025-06-04 16:28:51,306 - src.input_preprocessing - INFO - Loaded group from ../data/model/input_inference/valid/subsample_0.05_42/group.npy\n",
      "2025-06-04 16:28:51,307 - src.input_preprocessing - INFO - Loaded default prediction from ../data/model/input_inference/valid/subsample_0.05_42/default_prediction.npy\n",
      "2025-06-04 16:28:51,307 - src.utils.core_utils - INFO - Loaded validation (inference mode) data from ../data/model/input_inference/valid/subsample_0.05_42\n",
      "2025-06-04 16:28:51,308 - src.feature_extraction - INFO - Loading optimized raw data from candidates_to_articles_mapping valid 0.05 42\n",
      "2025-06-04 16:28:51,308 - src.feature_extraction - DEBUG - Loading data from ../data/candidates_to_articles_mapping_valid_sample_0.05_42.json\n",
      "2025-06-04 16:28:51,312 - src.utils.core_utils - INFO - Loaded validation mapping\n",
      "2025-06-04 16:28:51,379 - git.cmd - DEBUG - Popen(['git', 'version'], cwd=/Users/sharonshiao/Dropbox/Machine_learning/projects/fahsion_recommendation/notebooks, stdin=None, shell=False, universal_newlines=False)\n",
      "2025-06-04 16:28:51,416 - git.cmd - DEBUG - Popen(['git', 'version'], cwd=/Users/sharonshiao/Dropbox/Machine_learning/projects/fahsion_recommendation/notebooks, stdin=None, shell=False, universal_newlines=False)\n",
      "2025-06-04 16:28:51,458 - git.util - DEBUG - Failed checking if running in CYGWIN due to: FileNotFoundError(2, 'No such file or directory')\n",
      "2025-06-04 16:28:51,461 - git.cmd - DEBUG - Popen(['git', 'check-ignore', '/Users/sharonshiao/Dropbox/Machine_learning/projects/fahsion_recommendation/venv/lib/python3.12/site-packages'], cwd=/Users/sharonshiao/Dropbox/Machine_learning/projects/fahsion_recommendation, stdin=None, shell=False, universal_newlines=False)\n",
      "2025-06-04 16:28:51,506 - src.utils.core_utils - INFO - Starting hyperparameter tuning\n",
      "2025-06-04 16:28:51,507 - src.utils.core_utils - INFO - Training ranker\n",
      "2025-06-04 16:28:51,507 - src.utils.core_utils - INFO - Preparing features for training/ validation\n",
      "2025-06-04 16:28:51,508 - src.ranker - INFO - Preparing features for training/ validation\n",
      "2025-06-04 16:28:51,508 - src.ranker - INFO - Number of features: 28\n",
      "2025-06-04 16:28:51,508 - src.ranker - INFO - Number of features categorical: 13\n",
      "2025-06-04 16:28:51,508 - src.ranker - INFO - Cols features categorical: ['product_type_no', 'graphical_appearance_no', 'colour_group_code', 'perceived_colour_value_id', 'perceived_colour_master_id', 'department_no', 'index_code', 'index_group_no', 'section_no', 'garment_group_no', 'club_member_status', 'fashion_news_frequency', 'postal_code']\n",
      "2025-06-04 16:28:51,562 - src.utils.core_utils - INFO - Features by domain:\n",
      "2025-06-04 16:28:51,562 - src.utils.core_utils - INFO - article_static_features: 10 features\n",
      "2025-06-04 16:28:51,563 - src.utils.core_utils - INFO - ['product_type_no', 'graphical_appearance_no', 'colour_group_code', 'perceived_colour_value_id', 'perceived_colour_master_id', 'department_no', 'index_code', 'index_group_no', 'section_no', 'garment_group_no']\n",
      "2025-06-04 16:28:51,563 - src.utils.core_utils - INFO - article_dynamic_features: 4 features\n",
      "2025-06-04 16:28:51,563 - src.utils.core_utils - INFO - ['weekly_sales_count', 'weekly_avg_price', 'cumulative_mean_age', 'cumulative_sales_count']\n",
      "2025-06-04 16:28:51,564 - src.utils.core_utils - INFO - customer_static_features: 6 features\n",
      "2025-06-04 16:28:51,564 - src.utils.core_utils - INFO - ['age', 'club_member_status', 'fashion_news_frequency', 'fn', 'active', 'postal_code']\n",
      "2025-06-04 16:28:51,564 - src.utils.core_utils - INFO - customer_dynamic_features: 3 features\n",
      "2025-06-04 16:28:51,564 - src.utils.core_utils - INFO - ['customer_avg_price', 'text_embedding_similarity', 'image_embedding_similarity']\n",
      "2025-06-04 16:28:51,565 - src.utils.core_utils - INFO - transaction_features: 1 features\n",
      "2025-06-04 16:28:51,565 - src.utils.core_utils - INFO - ['bestseller_rank']\n",
      "2025-06-04 16:28:51,565 - src.utils.core_utils - INFO - interactions: 4 features\n",
      "2025-06-04 16:28:51,565 - src.utils.core_utils - INFO - ['age_difference', 'age_ratio', 'price_difference', 'price_ratio']\n",
      "2025-06-04 16:28:51,566 - src.utils.core_utils - INFO - Preparing features for training/ validation\n",
      "2025-06-04 16:28:51,566 - src.ranker - INFO - Preparing features for training/ validation\n",
      "2025-06-04 16:28:51,566 - src.ranker - INFO - Number of features: 28\n",
      "2025-06-04 16:28:51,567 - src.ranker - INFO - Number of features categorical: 13\n",
      "2025-06-04 16:28:51,567 - src.ranker - INFO - Cols features categorical: ['product_type_no', 'graphical_appearance_no', 'colour_group_code', 'perceived_colour_value_id', 'perceived_colour_master_id', 'department_no', 'index_code', 'index_group_no', 'section_no', 'garment_group_no', 'club_member_status', 'fashion_news_frequency', 'postal_code']\n",
      "2025-06-04 16:28:51,576 - src.utils.core_utils - INFO - Features by domain:\n",
      "2025-06-04 16:28:51,577 - src.utils.core_utils - INFO - article_static_features: 10 features\n",
      "2025-06-04 16:28:51,577 - src.utils.core_utils - INFO - ['product_type_no', 'graphical_appearance_no', 'colour_group_code', 'perceived_colour_value_id', 'perceived_colour_master_id', 'department_no', 'index_code', 'index_group_no', 'section_no', 'garment_group_no']\n",
      "2025-06-04 16:28:51,577 - src.utils.core_utils - INFO - article_dynamic_features: 4 features\n",
      "2025-06-04 16:28:51,578 - src.utils.core_utils - INFO - ['weekly_sales_count', 'weekly_avg_price', 'cumulative_mean_age', 'cumulative_sales_count']\n",
      "2025-06-04 16:28:51,578 - src.utils.core_utils - INFO - customer_static_features: 6 features\n",
      "2025-06-04 16:28:51,578 - src.utils.core_utils - INFO - ['age', 'club_member_status', 'fashion_news_frequency', 'fn', 'active', 'postal_code']\n",
      "2025-06-04 16:28:51,578 - src.utils.core_utils - INFO - customer_dynamic_features: 3 features\n",
      "2025-06-04 16:28:51,579 - src.utils.core_utils - INFO - ['customer_avg_price', 'text_embedding_similarity', 'image_embedding_similarity']\n",
      "2025-06-04 16:28:51,579 - src.utils.core_utils - INFO - transaction_features: 1 features\n",
      "2025-06-04 16:28:51,579 - src.utils.core_utils - INFO - ['bestseller_rank']\n",
      "2025-06-04 16:28:51,580 - src.utils.core_utils - INFO - interactions: 4 features\n",
      "2025-06-04 16:28:51,580 - src.utils.core_utils - INFO - ['age_difference', 'age_ratio', 'price_difference', 'price_ratio']\n",
      "2025-06-04 16:28:51,584 - src.utils.core_utils - INFO - Preparing features for training/ validation\n",
      "2025-06-04 16:28:51,584 - src.ranker - INFO - Preparing features for training/ validation\n",
      "2025-06-04 16:28:51,584 - src.ranker - INFO - Number of features: 28\n",
      "2025-06-04 16:28:51,585 - src.ranker - INFO - Number of features categorical: 13\n",
      "2025-06-04 16:28:51,585 - src.ranker - INFO - Cols features categorical: ['product_type_no', 'graphical_appearance_no', 'colour_group_code', 'perceived_colour_value_id', 'perceived_colour_master_id', 'department_no', 'index_code', 'index_group_no', 'section_no', 'garment_group_no', 'club_member_status', 'fashion_news_frequency', 'postal_code']\n",
      "2025-06-04 16:28:51,592 - src.utils.core_utils - INFO - Features by domain:\n",
      "2025-06-04 16:28:51,592 - src.utils.core_utils - INFO - article_static_features: 10 features\n",
      "2025-06-04 16:28:51,593 - src.utils.core_utils - INFO - ['product_type_no', 'graphical_appearance_no', 'colour_group_code', 'perceived_colour_value_id', 'perceived_colour_master_id', 'department_no', 'index_code', 'index_group_no', 'section_no', 'garment_group_no']\n",
      "2025-06-04 16:28:51,593 - src.utils.core_utils - INFO - article_dynamic_features: 4 features\n",
      "2025-06-04 16:28:51,593 - src.utils.core_utils - INFO - ['weekly_sales_count', 'weekly_avg_price', 'cumulative_mean_age', 'cumulative_sales_count']\n",
      "2025-06-04 16:28:51,594 - src.utils.core_utils - INFO - customer_static_features: 6 features\n",
      "2025-06-04 16:28:51,595 - src.utils.core_utils - INFO - ['age', 'club_member_status', 'fashion_news_frequency', 'fn', 'active', 'postal_code']\n",
      "2025-06-04 16:28:51,595 - src.utils.core_utils - INFO - customer_dynamic_features: 3 features\n",
      "2025-06-04 16:28:51,599 - src.utils.core_utils - INFO - ['customer_avg_price', 'text_embedding_similarity', 'image_embedding_similarity']\n",
      "2025-06-04 16:28:51,600 - src.utils.core_utils - INFO - transaction_features: 1 features\n",
      "2025-06-04 16:28:51,600 - src.utils.core_utils - INFO - ['bestseller_rank']\n",
      "2025-06-04 16:28:51,601 - src.utils.core_utils - INFO - interactions: 4 features\n",
      "2025-06-04 16:28:51,601 - src.utils.core_utils - INFO - ['age_difference', 'age_ratio', 'price_difference', 'price_ratio']\n",
      "[I 2025-06-04 16:28:51,605] A new study created in memory with name: no-name-b264d5c2-071c-4e99-ab98-8d0fc0917f8e\n",
      "2025-06-04 16:28:56,012 - src.metrics - INFO - Evaluating ranking\n",
      "2025-06-04 16:28:56,025 - src.metrics - INFO - Mean average precision at k: 0.9055558896776165\n",
      "2025-06-04 16:28:56,157 - src.metrics - INFO - Evaluating ranking\n",
      "2025-06-04 16:28:56,167 - src.metrics - INFO - Mean average precision at k: 0.01989597499875408\n",
      "Best trial: 0. Best value: 0.019896:   1%|          | 1/100 [00:04<07:31,  4.56s/it]"
     ]
    },
    {
     "name": "stdout",
     "output_type": "stream",
     "text": [
      "\n",
      "MAP@K (valid train): 0.906\n",
      "\n",
      "MAP@K (valid inference): 0.020\n",
      "[I 2025-06-04 16:28:56,185] Trial 0 finished with value: 0.01989597499875408 and parameters: {'learning_rate': 0.08243199196191922, 'n_estimators': 218, 'reg_alpha': 92.49979489272334, 'reg_lambda': 70.20439691329995, 'num_leaves': 402, 'colsample_bytree': 0.5448913693587409, 'subsample': 0.29162935427986836, 'subsample_freq': 5, 'min_child_samples': 18}. Best is trial 0 with value: 0.01989597499875408.\n"
     ]
    },
    {
     "name": "stderr",
     "output_type": "stream",
     "text": [
      "2025-06-04 16:28:57,685 - src.metrics - INFO - Evaluating ranking                   \n",
      "2025-06-04 16:28:57,698 - src.metrics - INFO - Mean average precision at k: 0.8202446301354913\n",
      "2025-06-04 16:28:57,757 - src.metrics - INFO - Evaluating ranking                   \n",
      "2025-06-04 16:28:57,767 - src.metrics - INFO - Mean average precision at k: 0.017420818442326444\n",
      "Best trial: 0. Best value: 0.019896:   2%|▏         | 2/100 [00:06<04:35,  2.82s/it]"
     ]
    },
    {
     "name": "stdout",
     "output_type": "stream",
     "text": [
      "\n",
      "MAP@K (valid train): 0.820\n",
      "\n",
      "MAP@K (valid inference): 0.017\n",
      "[I 2025-06-04 16:28:57,779] Trial 1 finished with value: 0.017420818442326444 and parameters: {'learning_rate': 0.0037582947467686327, 'n_estimators': 311, 'reg_alpha': 20.932268638592788, 'reg_lambda': 99.91725317822524, 'num_leaves': 94, 'colsample_bytree': 0.2983093294840805, 'subsample': 0.5481862591533151, 'subsample_freq': 1, 'min_child_samples': 27}. Best is trial 0 with value: 0.01989597499875408.\n"
     ]
    },
    {
     "name": "stderr",
     "output_type": "stream",
     "text": [
      "2025-06-04 16:29:03,744 - src.metrics - INFO - Evaluating ranking                   \n",
      "2025-06-04 16:29:03,759 - src.metrics - INFO - Mean average precision at k: 0.9113620643062688\n",
      "2025-06-04 16:29:03,900 - src.metrics - INFO - Evaluating ranking                   \n",
      "2025-06-04 16:29:03,910 - src.metrics - INFO - Mean average precision at k: 0.0212877337539922\n",
      "Best trial: 2. Best value: 0.0212877:   3%|▎         | 3/100 [00:12<07:00,  4.34s/it]"
     ]
    },
    {
     "name": "stdout",
     "output_type": "stream",
     "text": [
      "\n",
      "MAP@K (valid train): 0.911\n",
      "\n",
      "MAP@K (valid inference): 0.021\n",
      "[I 2025-06-04 16:29:03,922] Trial 2 finished with value: 0.0212877337539922 and parameters: {'learning_rate': 0.09908937493479822, 'n_estimators': 156, 'reg_alpha': 72.5637499525754, 'reg_lambda': 82.03028587891633, 'num_leaves': 343, 'colsample_bytree': 0.7012396887084623, 'subsample': 0.4952400999939322, 'subsample_freq': 6, 'min_child_samples': 90}. Best is trial 2 with value: 0.0212877337539922.\n"
     ]
    },
    {
     "name": "stderr",
     "output_type": "stream",
     "text": [
      "2025-06-04 16:29:07,658 - src.metrics - INFO - Evaluating ranking                    \n",
      "2025-06-04 16:29:07,673 - src.metrics - INFO - Mean average precision at k: 0.9115086026200548\n",
      "2025-06-04 16:29:07,781 - src.metrics - INFO - Evaluating ranking                    \n",
      "2025-06-04 16:29:07,792 - src.metrics - INFO - Mean average precision at k: 0.021959763886879587\n",
      "Best trial: 3. Best value: 0.0219598:   4%|▍         | 4/100 [00:16<06:39,  4.16s/it]"
     ]
    },
    {
     "name": "stdout",
     "output_type": "stream",
     "text": [
      "\n",
      "MAP@K (valid train): 0.912\n",
      "\n",
      "MAP@K (valid inference): 0.022\n",
      "[I 2025-06-04 16:29:07,811] Trial 3 finished with value: 0.021959763886879587 and parameters: {'learning_rate': 0.1157182869210545, 'n_estimators': 375, 'reg_alpha': 98.38202972519855, 'reg_lambda': 75.3809792042721, 'num_leaves': 260, 'colsample_bytree': 0.9943648906760231, 'subsample': 0.45323870930719157, 'subsample_freq': 3, 'min_child_samples': 8}. Best is trial 3 with value: 0.021959763886879587.\n"
     ]
    },
    {
     "name": "stderr",
     "output_type": "stream",
     "text": [
      "2025-06-04 16:29:17,578 - src.metrics - INFO - Evaluating ranking                    \n",
      "2025-06-04 16:29:17,590 - src.metrics - INFO - Mean average precision at k: 0.9119609467968527\n",
      "2025-06-04 16:29:17,789 - src.metrics - INFO - Evaluating ranking                    \n",
      "2025-06-04 16:29:17,799 - src.metrics - INFO - Mean average precision at k: 0.021138293088116974\n",
      "Best trial: 3. Best value: 0.0219598:   5%|▌         | 5/100 [00:26<09:55,  6.26s/it]"
     ]
    },
    {
     "name": "stdout",
     "output_type": "stream",
     "text": [
      "\n",
      "MAP@K (valid train): 0.912\n",
      "\n",
      "MAP@K (valid inference): 0.021\n",
      "[I 2025-06-04 16:29:17,810] Trial 4 finished with value: 0.021138293088116974 and parameters: {'learning_rate': 0.037496615316896194, 'n_estimators': 340, 'reg_alpha': 72.5222301443086, 'reg_lambda': 50.24011570232319, 'num_leaves': 155, 'colsample_bytree': 0.8128834933888488, 'subsample': 0.7317271359650479, 'subsample_freq': 5, 'min_child_samples': 54}. Best is trial 3 with value: 0.021959763886879587.\n"
     ]
    },
    {
     "name": "stderr",
     "output_type": "stream",
     "text": [
      "2025-06-04 16:29:21,714 - src.metrics - INFO - Evaluating ranking                    \n",
      "2025-06-04 16:29:21,726 - src.metrics - INFO - Mean average precision at k: 0.8919430771483771\n",
      "2025-06-04 16:29:21,851 - src.metrics - INFO - Evaluating ranking                    \n",
      "2025-06-04 16:29:21,861 - src.metrics - INFO - Mean average precision at k: 0.01765205138935558\n",
      "Best trial: 3. Best value: 0.0219598:   6%|▌         | 6/100 [00:30<08:38,  5.52s/it]"
     ]
    },
    {
     "name": "stdout",
     "output_type": "stream",
     "text": [
      "\n",
      "MAP@K (valid train): 0.892\n",
      "\n",
      "MAP@K (valid inference): 0.018\n",
      "[I 2025-06-04 16:29:21,873] Trial 5 finished with value: 0.01765205138935558 and parameters: {'learning_rate': 0.0813644347561954, 'n_estimators': 206, 'reg_alpha': 22.652853072972484, 'reg_lambda': 50.352081523789714, 'num_leaves': 8, 'colsample_bytree': 0.13234685752092826, 'subsample': 0.9956259873761949, 'subsample_freq': 2, 'min_child_samples': 31}. Best is trial 3 with value: 0.021959763886879587.\n"
     ]
    },
    {
     "name": "stderr",
     "output_type": "stream",
     "text": [
      "2025-06-04 16:29:25,610 - src.metrics - INFO - Evaluating ranking                    \n",
      "2025-06-04 16:29:25,622 - src.metrics - INFO - Mean average precision at k: 0.9071591398106527\n",
      "2025-06-04 16:29:25,718 - src.metrics - INFO - Evaluating ranking                    \n",
      "2025-06-04 16:29:25,728 - src.metrics - INFO - Mean average precision at k: 0.019909942987284875\n",
      "Best trial: 3. Best value: 0.0219598:   7%|▋         | 7/100 [00:34<07:42,  4.98s/it]"
     ]
    },
    {
     "name": "stdout",
     "output_type": "stream",
     "text": [
      "\n",
      "MAP@K (valid train): 0.907\n",
      "\n",
      "MAP@K (valid inference): 0.020\n",
      "[I 2025-06-04 16:29:25,741] Trial 6 finished with value: 0.019909942987284875 and parameters: {'learning_rate': 0.18325093492864336, 'n_estimators': 103, 'reg_alpha': 93.0549410849401, 'reg_lambda': 3.1078024122612997, 'num_leaves': 269, 'colsample_bytree': 0.39620871714934736, 'subsample': 0.754190023429535, 'subsample_freq': 6, 'min_child_samples': 21}. Best is trial 3 with value: 0.021959763886879587.\n"
     ]
    },
    {
     "name": "stderr",
     "output_type": "stream",
     "text": [
      "2025-06-04 16:29:28,167 - src.metrics - INFO - Evaluating ranking                    \n",
      "2025-06-04 16:29:28,180 - src.metrics - INFO - Mean average precision at k: 0.9130785496040871\n",
      "2025-06-04 16:29:28,282 - src.metrics - INFO - Evaluating ranking                    \n",
      "2025-06-04 16:29:28,292 - src.metrics - INFO - Mean average precision at k: 0.02196936627748911\n",
      "Best trial: 7. Best value: 0.0219694:   8%|▊         | 8/100 [00:36<06:27,  4.21s/it]"
     ]
    },
    {
     "name": "stdout",
     "output_type": "stream",
     "text": [
      "\n",
      "MAP@K (valid train): 0.913\n",
      "\n",
      "MAP@K (valid inference): 0.022\n",
      "[I 2025-06-04 16:29:28,304] Trial 7 finished with value: 0.02196936627748911 and parameters: {'learning_rate': 0.09338607960068712, 'n_estimators': 59, 'reg_alpha': 27.65163718402898, 'reg_lambda': 92.32122156562853, 'num_leaves': 53, 'colsample_bytree': 0.804054592808189, 'subsample': 0.26526589523903105, 'subsample_freq': 6, 'min_child_samples': 87}. Best is trial 7 with value: 0.02196936627748911.\n"
     ]
    },
    {
     "name": "stderr",
     "output_type": "stream",
     "text": [
      "2025-06-04 16:29:33,098 - src.metrics - INFO - Evaluating ranking                    \n",
      "2025-06-04 16:29:33,110 - src.metrics - INFO - Mean average precision at k: 0.9030132839537045\n",
      "2025-06-04 16:29:33,247 - src.metrics - INFO - Evaluating ranking                    \n",
      "2025-06-04 16:29:33,257 - src.metrics - INFO - Mean average precision at k: 0.019067040721312697\n",
      "Best trial: 7. Best value: 0.0219694:   9%|▉         | 9/100 [00:41<06:44,  4.45s/it]"
     ]
    },
    {
     "name": "stdout",
     "output_type": "stream",
     "text": [
      "\n",
      "MAP@K (valid train): 0.903\n",
      "\n",
      "MAP@K (valid inference): 0.019\n",
      "[I 2025-06-04 16:29:33,272] Trial 8 finished with value: 0.019067040721312697 and parameters: {'learning_rate': 0.10843728327911342, 'n_estimators': 245, 'reg_alpha': 80.16014469091616, 'reg_lambda': 67.18866152485667, 'num_leaves': 153, 'colsample_bytree': 0.3132196600413778, 'subsample': 0.6930255572952624, 'subsample_freq': 5, 'min_child_samples': 9}. Best is trial 7 with value: 0.02196936627748911.\n"
     ]
    },
    {
     "name": "stderr",
     "output_type": "stream",
     "text": [
      "2025-06-04 16:29:37,226 - src.metrics - INFO - Evaluating ranking                    \n",
      "2025-06-04 16:29:37,238 - src.metrics - INFO - Mean average precision at k: 0.90719342866696\n",
      "2025-06-04 16:29:37,382 - src.metrics - INFO - Evaluating ranking                    \n",
      "2025-06-04 16:29:37,392 - src.metrics - INFO - Mean average precision at k: 0.01965467278936555\n",
      "Best trial: 7. Best value: 0.0219694:  10%|█         | 10/100 [00:45<06:31,  4.35s/it]"
     ]
    },
    {
     "name": "stdout",
     "output_type": "stream",
     "text": [
      "\n",
      "MAP@K (valid train): 0.907\n",
      "\n",
      "MAP@K (valid inference): 0.020\n",
      "[I 2025-06-04 16:29:37,403] Trial 9 finished with value: 0.01965467278936555 and parameters: {'learning_rate': 0.15964643565157152, 'n_estimators': 148, 'reg_alpha': 23.581644090709947, 'reg_lambda': 17.122521849683118, 'num_leaves': 426, 'colsample_bytree': 0.2342260897744779, 'subsample': 0.26949107781369497, 'subsample_freq': 7, 'min_child_samples': 8}. Best is trial 7 with value: 0.02196936627748911.\n"
     ]
    },
    {
     "name": "stderr",
     "output_type": "stream",
     "text": [
      "2025-06-04 16:29:39,013 - src.metrics - INFO - Evaluating ranking                     \n",
      "2025-06-04 16:29:39,026 - src.metrics - INFO - Mean average precision at k: 0.9063290461051693\n",
      "2025-06-04 16:29:39,120 - src.metrics - INFO - Evaluating ranking                     \n",
      "2025-06-04 16:29:39,130 - src.metrics - INFO - Mean average precision at k: 0.019346606048593104\n",
      "Best trial: 7. Best value: 0.0219694:  11%|█         | 11/100 [00:47<05:15,  3.55s/it]"
     ]
    },
    {
     "name": "stdout",
     "output_type": "stream",
     "text": [
      "\n",
      "MAP@K (valid train): 0.906\n",
      "\n",
      "MAP@K (valid inference): 0.019\n",
      "[I 2025-06-04 16:29:39,143] Trial 10 finished with value: 0.019346606048593104 and parameters: {'learning_rate': 0.1504543732168583, 'n_estimators': 60, 'reg_alpha': 0.8991373677569143, 'reg_lambda': 99.82940849236388, 'num_leaves': 506, 'colsample_bytree': 0.9969593138469658, 'subsample': 0.06449740716648733, 'subsample_freq': 7, 'min_child_samples': 99}. Best is trial 7 with value: 0.02196936627748911.\n"
     ]
    },
    {
     "name": "stderr",
     "output_type": "stream",
     "text": [
      "2025-06-04 16:29:41,843 - src.metrics - INFO - Evaluating ranking                     \n",
      "2025-06-04 16:29:41,855 - src.metrics - INFO - Mean average precision at k: 0.908524732673412\n",
      "2025-06-04 16:29:41,935 - src.metrics - INFO - Evaluating ranking                     \n",
      "2025-06-04 16:29:41,946 - src.metrics - INFO - Mean average precision at k: 0.020986456517238967\n",
      "Best trial: 7. Best value: 0.0219694:  12%|█▏        | 12/100 [00:50<04:52,  3.33s/it]"
     ]
    },
    {
     "name": "stdout",
     "output_type": "stream",
     "text": [
      "\n",
      "MAP@K (valid train): 0.909\n",
      "\n",
      "MAP@K (valid inference): 0.021\n",
      "[I 2025-06-04 16:29:41,959] Trial 11 finished with value: 0.020986456517238967 and parameters: {'learning_rate': 0.12856439782437462, 'n_estimators': 456, 'reg_alpha': 41.2996073833954, 'reg_lambda': 81.86256922785299, 'num_leaves': 247, 'colsample_bytree': 0.9486002035476114, 'subsample': 0.28799775645776116, 'subsample_freq': 3, 'min_child_samples': 70}. Best is trial 7 with value: 0.02196936627748911.\n"
     ]
    },
    {
     "name": "stderr",
     "output_type": "stream",
     "text": [
      "2025-06-04 16:29:45,112 - src.metrics - INFO - Evaluating ranking                     \n",
      "2025-06-04 16:29:45,124 - src.metrics - INFO - Mean average precision at k: 0.9053127190399582\n",
      "2025-06-04 16:29:45,254 - src.metrics - INFO - Evaluating ranking                     \n",
      "2025-06-04 16:29:45,264 - src.metrics - INFO - Mean average precision at k: 0.019221024713986082\n",
      "Best trial: 7. Best value: 0.0219694:  13%|█▎        | 13/100 [00:53<04:49,  3.32s/it]"
     ]
    },
    {
     "name": "stdout",
     "output_type": "stream",
     "text": [
      "\n",
      "MAP@K (valid train): 0.905\n",
      "\n",
      "MAP@K (valid inference): 0.019\n",
      "[I 2025-06-04 16:29:45,277] Trial 12 finished with value: 0.019221024713986082 and parameters: {'learning_rate': 0.05629141994183405, 'n_estimators': 395, 'reg_alpha': 53.65465920150533, 'reg_lambda': 81.60943944480012, 'num_leaves': 265, 'colsample_bytree': 0.8243075609228006, 'subsample': 0.07938520061215945, 'subsample_freq': 3, 'min_child_samples': 72}. Best is trial 7 with value: 0.02196936627748911.\n"
     ]
    },
    {
     "name": "stderr",
     "output_type": "stream",
     "text": [
      "2025-06-04 16:29:47,300 - src.metrics - INFO - Evaluating ranking                     \n",
      "2025-06-04 16:29:47,312 - src.metrics - INFO - Mean average precision at k: 0.912443031899655\n",
      "2025-06-04 16:29:47,390 - src.metrics - INFO - Evaluating ranking                     \n",
      "2025-06-04 16:29:47,400 - src.metrics - INFO - Mean average precision at k: 0.02196483271320993\n",
      "Best trial: 7. Best value: 0.0219694:  14%|█▍        | 14/100 [00:55<04:15,  2.97s/it]"
     ]
    },
    {
     "name": "stdout",
     "output_type": "stream",
     "text": [
      "\n",
      "MAP@K (valid train): 0.912\n",
      "\n",
      "MAP@K (valid inference): 0.022\n",
      "[I 2025-06-04 16:29:47,414] Trial 13 finished with value: 0.02196483271320993 and parameters: {'learning_rate': 0.12871110831487828, 'n_estimators': 397, 'reg_alpha': 50.92530288851808, 'reg_lambda': 64.63954431628679, 'num_leaves': 11, 'colsample_bytree': 0.6715250564246329, 'subsample': 0.44476660508304444, 'subsample_freq': 4, 'min_child_samples': 45}. Best is trial 7 with value: 0.02196936627748911.\n"
     ]
    },
    {
     "name": "stderr",
     "output_type": "stream",
     "text": [
      "2025-06-04 16:29:49,877 - src.metrics - INFO - Evaluating ranking                     \n",
      "2025-06-04 16:29:49,890 - src.metrics - INFO - Mean average precision at k: 0.9104530014730053\n",
      "2025-06-04 16:29:49,975 - src.metrics - INFO - Evaluating ranking                     \n",
      "2025-06-04 16:29:49,984 - src.metrics - INFO - Mean average precision at k: 0.021227838567684197\n",
      "Best trial: 7. Best value: 0.0219694:  15%|█▌        | 15/100 [00:58<04:02,  2.85s/it]"
     ]
    },
    {
     "name": "stdout",
     "output_type": "stream",
     "text": [
      "\n",
      "MAP@K (valid train): 0.910\n",
      "\n",
      "MAP@K (valid inference): 0.021\n",
      "[I 2025-06-04 16:29:49,996] Trial 14 finished with value: 0.021227838567684197 and parameters: {'learning_rate': 0.15366316937776803, 'n_estimators': 487, 'reg_alpha': 53.14483086216213, 'reg_lambda': 40.30449144940471, 'num_leaves': 17, 'colsample_bytree': 0.6080004474293114, 'subsample': 0.3923739356808629, 'subsample_freq': 4, 'min_child_samples': 44}. Best is trial 7 with value: 0.02196936627748911.\n"
     ]
    },
    {
     "name": "stderr",
     "output_type": "stream",
     "text": [
      "2025-06-04 16:29:51,921 - src.metrics - INFO - Evaluating ranking                     \n",
      "2025-06-04 16:29:51,932 - src.metrics - INFO - Mean average precision at k: 0.9054477906323259\n",
      "2025-06-04 16:29:52,090 - src.metrics - INFO - Evaluating ranking                     \n",
      "2025-06-04 16:29:52,100 - src.metrics - INFO - Mean average precision at k: 0.020051644183055568\n",
      "Best trial: 7. Best value: 0.0219694:  16%|█▌        | 16/100 [01:00<03:41,  2.63s/it]"
     ]
    },
    {
     "name": "stdout",
     "output_type": "stream",
     "text": [
      "\n",
      "MAP@K (valid train): 0.905\n",
      "\n",
      "MAP@K (valid inference): 0.020\n",
      "[I 2025-06-04 16:29:52,121] Trial 15 finished with value: 0.020051644183055568 and parameters: {'learning_rate': 0.1997921730697278, 'n_estimators': 425, 'reg_alpha': 35.17729524233791, 'reg_lambda': 35.17687833661103, 'num_leaves': 93, 'colsample_bytree': 0.5598353147860288, 'subsample': 0.16083873654425385, 'subsample_freq': 4, 'min_child_samples': 60}. Best is trial 7 with value: 0.02196936627748911.\n"
     ]
    },
    {
     "name": "stderr",
     "output_type": "stream",
     "text": [
      "2025-06-04 16:29:58,642 - src.metrics - INFO - Evaluating ranking                     \n",
      "2025-06-04 16:29:58,653 - src.metrics - INFO - Mean average precision at k: 0.9153509036534326\n",
      "2025-06-04 16:29:58,811 - src.metrics - INFO - Evaluating ranking                     \n",
      "2025-06-04 16:29:58,821 - src.metrics - INFO - Mean average precision at k: 0.022220884716197032\n",
      "Best trial: 16. Best value: 0.0222209:  17%|█▋        | 17/100 [01:07<05:20,  3.86s/it]"
     ]
    },
    {
     "name": "stdout",
     "output_type": "stream",
     "text": [
      "\n",
      "MAP@K (valid train): 0.915\n",
      "\n",
      "MAP@K (valid inference): 0.022\n",
      "[I 2025-06-04 16:29:58,835] Trial 16 finished with value: 0.022220884716197032 and parameters: {'learning_rate': 0.054655849052699164, 'n_estimators': 286, 'reg_alpha': 2.9501540793726093, 'reg_lambda': 63.90966509365937, 'num_leaves': 59, 'colsample_bytree': 0.7601147744440475, 'subsample': 0.6307537659030726, 'subsample_freq': 6, 'min_child_samples': 40}. Best is trial 16 with value: 0.022220884716197032.\n"
     ]
    },
    {
     "name": "stderr",
     "output_type": "stream",
     "text": [
      "2025-06-04 16:30:10,346 - src.metrics - INFO - Evaluating ranking                      \n",
      "2025-06-04 16:30:10,359 - src.metrics - INFO - Mean average precision at k: 0.9156163650592567\n",
      "2025-06-04 16:30:10,564 - src.metrics - INFO - Evaluating ranking                      \n",
      "2025-06-04 16:30:10,574 - src.metrics - INFO - Mean average precision at k: 0.021258986945512787\n",
      "Best trial: 16. Best value: 0.0222209:  18%|█▊        | 18/100 [01:18<08:30,  6.23s/it]"
     ]
    },
    {
     "name": "stdout",
     "output_type": "stream",
     "text": [
      "\n",
      "MAP@K (valid train): 0.916\n",
      "\n",
      "MAP@K (valid inference): 0.021\n",
      "[I 2025-06-04 16:30:10,588] Trial 17 finished with value: 0.021258986945512787 and parameters: {'learning_rate': 0.04373286706604418, 'n_estimators': 277, 'reg_alpha': 2.7148877484893923, 'reg_lambda': 91.26174158758735, 'num_leaves': 96, 'colsample_bytree': 0.8086459393101834, 'subsample': 0.8945668346709063, 'subsample_freq': 6, 'min_child_samples': 82}. Best is trial 16 with value: 0.022220884716197032.\n"
     ]
    },
    {
     "name": "stderr",
     "output_type": "stream",
     "text": [
      "2025-06-04 16:30:14,298 - src.metrics - INFO - Evaluating ranking                      \n",
      "2025-06-04 16:30:14,310 - src.metrics - INFO - Mean average precision at k: 0.8988325366322124\n",
      "2025-06-04 16:30:14,403 - src.metrics - INFO - Evaluating ranking                      \n",
      "2025-06-04 16:30:14,413 - src.metrics - INFO - Mean average precision at k: 0.018374977334002424\n",
      "Best trial: 16. Best value: 0.0222209:  19%|█▉        | 19/100 [01:22<07:26,  5.51s/it]"
     ]
    },
    {
     "name": "stdout",
     "output_type": "stream",
     "text": [
      "\n",
      "MAP@K (valid train): 0.899\n",
      "\n",
      "MAP@K (valid inference): 0.018\n",
      "[I 2025-06-04 16:30:14,425] Trial 18 finished with value: 0.018374977334002424 and parameters: {'learning_rate': 0.013207043158852787, 'n_estimators': 51, 'reg_alpha': 12.22535964792558, 'reg_lambda': 58.365025504926685, 'num_leaves': 168, 'colsample_bytree': 0.7426746822820729, 'subsample': 0.5938771034350403, 'subsample_freq': 7, 'min_child_samples': 38}. Best is trial 16 with value: 0.022220884716197032.\n"
     ]
    },
    {
     "name": "stderr",
     "output_type": "stream",
     "text": [
      "2025-06-04 16:30:18,183 - src.metrics - INFO - Evaluating ranking                      \n",
      "2025-06-04 16:30:18,197 - src.metrics - INFO - Mean average precision at k: 0.9043571225089118\n",
      "2025-06-04 16:30:18,282 - src.metrics - INFO - Evaluating ranking                      \n",
      "2025-06-04 16:30:18,292 - src.metrics - INFO - Mean average precision at k: 0.018688598893983187\n",
      "Best trial: 16. Best value: 0.0222209:  20%|██        | 20/100 [01:26<06:41,  5.02s/it]"
     ]
    },
    {
     "name": "stdout",
     "output_type": "stream",
     "text": [
      "\n",
      "MAP@K (valid train): 0.904\n",
      "\n",
      "MAP@K (valid inference): 0.019\n",
      "[I 2025-06-04 16:30:18,305] Trial 19 finished with value: 0.018688598893983187 and parameters: {'learning_rate': 0.06541264370056213, 'n_estimators': 163, 'reg_alpha': 11.188852551961268, 'reg_lambda': 29.439419684999272, 'num_leaves': 73, 'colsample_bytree': 0.4607020080145826, 'subsample': 0.6341284382854812, 'subsample_freq': 6, 'min_child_samples': 64}. Best is trial 16 with value: 0.022220884716197032.\n"
     ]
    },
    {
     "name": "stderr",
     "output_type": "stream",
     "text": [
      "2025-06-04 16:30:20,139 - src.metrics - INFO - Evaluating ranking                      \n",
      "2025-06-04 16:30:20,152 - src.metrics - INFO - Mean average precision at k: 0.8984211832135652\n",
      "2025-06-04 16:30:20,226 - src.metrics - INFO - Evaluating ranking                      \n",
      "2025-06-04 16:30:20,236 - src.metrics - INFO - Mean average precision at k: 0.01964818563696124\n",
      "Best trial: 16. Best value: 0.0222209:  21%|██        | 21/100 [01:28<05:23,  4.10s/it]"
     ]
    },
    {
     "name": "stdout",
     "output_type": "stream",
     "text": [
      "\n",
      "MAP@K (valid train): 0.898\n",
      "\n",
      "MAP@K (valid inference): 0.020\n",
      "[I 2025-06-04 16:30:20,252] Trial 20 finished with value: 0.01964818563696124 and parameters: {'learning_rate': 0.026637294343149903, 'n_estimators': 308, 'reg_alpha': 34.20734897268871, 'reg_lambda': 58.95257343873221, 'num_leaves': 202, 'colsample_bytree': 0.9114249576725391, 'subsample': 0.21853498406159202, 'subsample_freq': 5, 'min_child_samples': 80}. Best is trial 16 with value: 0.022220884716197032.\n"
     ]
    },
    {
     "name": "stderr",
     "output_type": "stream",
     "text": [
      "2025-06-04 16:30:23,290 - src.metrics - INFO - Evaluating ranking                      \n",
      "2025-06-04 16:30:23,302 - src.metrics - INFO - Mean average precision at k: 0.9094433033674326\n",
      "2025-06-04 16:30:23,393 - src.metrics - INFO - Evaluating ranking                      \n",
      "2025-06-04 16:30:23,403 - src.metrics - INFO - Mean average precision at k: 0.021954744958540683\n",
      "Best trial: 16. Best value: 0.0222209:  22%|██▏       | 22/100 [01:31<04:57,  3.82s/it]"
     ]
    },
    {
     "name": "stdout",
     "output_type": "stream",
     "text": [
      "\n",
      "MAP@K (valid train): 0.909\n",
      "\n",
      "MAP@K (valid inference): 0.022\n",
      "[I 2025-06-04 16:30:23,421] Trial 21 finished with value: 0.021954744958540683 and parameters: {'learning_rate': 0.12787509532817024, 'n_estimators': 348, 'reg_alpha': 44.87126557927682, 'reg_lambda': 62.78061901428005, 'num_leaves': 50, 'colsample_bytree': 0.6807301131534454, 'subsample': 0.36785169829051945, 'subsample_freq': 4, 'min_child_samples': 36}. Best is trial 16 with value: 0.022220884716197032.\n"
     ]
    },
    {
     "name": "stderr",
     "output_type": "stream",
     "text": [
      "2025-06-04 16:30:27,947 - src.metrics - INFO - Evaluating ranking                      \n",
      "2025-06-04 16:30:27,960 - src.metrics - INFO - Mean average precision at k: 0.9102462081041773\n",
      "2025-06-04 16:30:28,098 - src.metrics - INFO - Evaluating ranking                      \n",
      "2025-06-04 16:30:28,108 - src.metrics - INFO - Mean average precision at k: 0.020796493211567426\n",
      "Best trial: 16. Best value: 0.0222209:  23%|██▎       | 23/100 [01:36<05:14,  4.08s/it]"
     ]
    },
    {
     "name": "stdout",
     "output_type": "stream",
     "text": [
      "\n",
      "MAP@K (valid train): 0.910\n",
      "\n",
      "MAP@K (valid inference): 0.021\n",
      "[I 2025-06-04 16:30:28,120] Trial 22 finished with value: 0.020796493211567426 and parameters: {'learning_rate': 0.08080232065618084, 'n_estimators': 262, 'reg_alpha': 30.825000941609197, 'reg_lambda': 73.98384989667315, 'num_leaves': 39, 'colsample_bytree': 0.6418899167810184, 'subsample': 0.41151261096708946, 'subsample_freq': 5, 'min_child_samples': 44}. Best is trial 16 with value: 0.022220884716197032.\n"
     ]
    },
    {
     "name": "stderr",
     "output_type": "stream",
     "text": [
      "2025-06-04 16:30:34,830 - src.metrics - INFO - Evaluating ranking                      \n",
      "2025-06-04 16:30:34,843 - src.metrics - INFO - Mean average precision at k: 0.914172425636862\n",
      "2025-06-04 16:30:34,982 - src.metrics - INFO - Evaluating ranking                      \n",
      "2025-06-04 16:30:34,992 - src.metrics - INFO - Mean average precision at k: 0.022039175642921557\n",
      "Best trial: 16. Best value: 0.0222209:  24%|██▍       | 24/100 [01:43<06:14,  4.92s/it]"
     ]
    },
    {
     "name": "stdout",
     "output_type": "stream",
     "text": [
      "\n",
      "MAP@K (valid train): 0.914\n",
      "\n",
      "MAP@K (valid inference): 0.022\n",
      "[I 2025-06-04 16:30:35,005] Trial 23 finished with value: 0.022039175642921557 and parameters: {'learning_rate': 0.09467451173215224, 'n_estimators': 411, 'reg_alpha': 61.909894712158774, 'reg_lambda': 88.56078178129638, 'num_leaves': 128, 'colsample_bytree': 0.8731074220928323, 'subsample': 0.8384879194251831, 'subsample_freq': 6, 'min_child_samples': 54}. Best is trial 16 with value: 0.022220884716197032.\n"
     ]
    },
    {
     "name": "stderr",
     "output_type": "stream",
     "text": [
      "2025-06-04 16:30:43,828 - src.metrics - INFO - Evaluating ranking                      \n",
      "2025-06-04 16:30:43,840 - src.metrics - INFO - Mean average precision at k: 0.9147189772656091\n",
      "2025-06-04 16:30:44,031 - src.metrics - INFO - Evaluating ranking                      \n",
      "2025-06-04 16:30:44,042 - src.metrics - INFO - Mean average precision at k: 0.022918348014567595\n",
      "Best trial: 24. Best value: 0.0229183:  25%|██▌       | 25/100 [01:52<07:42,  6.16s/it]"
     ]
    },
    {
     "name": "stdout",
     "output_type": "stream",
     "text": [
      "\n",
      "MAP@K (valid train): 0.915\n",
      "\n",
      "MAP@K (valid inference): 0.023\n",
      "[I 2025-06-04 16:30:44,059] Trial 24 finished with value: 0.022918348014567595 and parameters: {'learning_rate': 0.05935041628389258, 'n_estimators': 490, 'reg_alpha': 63.139427674765955, 'reg_lambda': 87.94517089904936, 'num_leaves': 123, 'colsample_bytree': 0.8660896305334534, 'subsample': 0.8022788026307694, 'subsample_freq': 6, 'min_child_samples': 53}. Best is trial 24 with value: 0.022918348014567595.\n"
     ]
    },
    {
     "name": "stderr",
     "output_type": "stream",
     "text": [
      "2025-06-04 16:30:51,391 - src.metrics - INFO - Evaluating ranking                      \n",
      "2025-06-04 16:30:51,402 - src.metrics - INFO - Mean average precision at k: 0.9145992994048412\n",
      "2025-06-04 16:30:51,538 - src.metrics - INFO - Evaluating ranking                      \n",
      "2025-06-04 16:30:51,548 - src.metrics - INFO - Mean average precision at k: 0.02209977604231286\n",
      "Best trial: 24. Best value: 0.0229183:  26%|██▌       | 26/100 [01:59<08:05,  6.57s/it]"
     ]
    },
    {
     "name": "stdout",
     "output_type": "stream",
     "text": [
      "\n",
      "MAP@K (valid train): 0.915\n",
      "\n",
      "MAP@K (valid inference): 0.022\n",
      "[I 2025-06-04 16:30:51,564] Trial 25 finished with value: 0.02209977604231286 and parameters: {'learning_rate': 0.06593706092203579, 'n_estimators': 499, 'reg_alpha': 61.01413685115577, 'reg_lambda': 88.05437914875193, 'num_leaves': 133, 'colsample_bytree': 0.8794998412611208, 'subsample': 0.8277883515418214, 'subsample_freq': 7, 'min_child_samples': 54}. Best is trial 24 with value: 0.022918348014567595.\n"
     ]
    },
    {
     "name": "stderr",
     "output_type": "stream",
     "text": [
      "2025-06-04 16:30:59,987 - src.metrics - INFO - Evaluating ranking                      \n",
      "2025-06-04 16:30:59,999 - src.metrics - INFO - Mean average precision at k: 0.9115570666386201\n",
      "2025-06-04 16:31:00,169 - src.metrics - INFO - Evaluating ranking                      \n",
      "2025-06-04 16:31:00,178 - src.metrics - INFO - Mean average precision at k: 0.02145798527940734\n",
      "Best trial: 24. Best value: 0.0229183:  27%|██▋       | 27/100 [02:08<08:44,  7.18s/it]"
     ]
    },
    {
     "name": "stdout",
     "output_type": "stream",
     "text": [
      "\n",
      "MAP@K (valid train): 0.912\n",
      "\n",
      "MAP@K (valid inference): 0.021\n",
      "[I 2025-06-04 16:31:00,191] Trial 26 finished with value: 0.02145798527940734 and parameters: {'learning_rate': 0.060929482477067795, 'n_estimators': 500, 'reg_alpha': 62.88236830363044, 'reg_lambda': 87.12755506290567, 'num_leaves': 207, 'colsample_bytree': 0.7433883070877495, 'subsample': 0.8369477248771033, 'subsample_freq': 7, 'min_child_samples': 50}. Best is trial 24 with value: 0.022918348014567595.\n"
     ]
    },
    {
     "name": "stderr",
     "output_type": "stream",
     "text": [
      "2025-06-04 16:31:05,439 - src.metrics - INFO - Evaluating ranking                      \n",
      "2025-06-04 16:31:05,451 - src.metrics - INFO - Mean average precision at k: 0.9144082980045803\n",
      "2025-06-04 16:31:05,557 - src.metrics - INFO - Evaluating ranking                      \n",
      "2025-06-04 16:31:05,567 - src.metrics - INFO - Mean average precision at k: 0.02134359427372989\n",
      "Best trial: 24. Best value: 0.0229183:  28%|██▊       | 28/100 [02:13<07:58,  6.65s/it]"
     ]
    },
    {
     "name": "stdout",
     "output_type": "stream",
     "text": [
      "\n",
      "MAP@K (valid train): 0.914\n",
      "\n",
      "MAP@K (valid inference): 0.021\n",
      "[I 2025-06-04 16:31:05,580] Trial 27 finished with value: 0.02134359427372989 and parameters: {'learning_rate': 0.046416942571410554, 'n_estimators': 450, 'reg_alpha': 66.6298748920401, 'reg_lambda': 75.53193533533283, 'num_leaves': 203, 'colsample_bytree': 0.88930219244682, 'subsample': 0.9907547139157362, 'subsample_freq': 7, 'min_child_samples': 62}. Best is trial 24 with value: 0.022918348014567595.\n"
     ]
    },
    {
     "name": "stderr",
     "output_type": "stream",
     "text": [
      "2025-06-04 16:31:10,972 - src.metrics - INFO - Evaluating ranking                      \n",
      "2025-06-04 16:31:10,984 - src.metrics - INFO - Mean average precision at k: 0.9136990590037171\n",
      "2025-06-04 16:31:11,089 - src.metrics - INFO - Evaluating ranking                      \n",
      "2025-06-04 16:31:11,098 - src.metrics - INFO - Mean average precision at k: 0.022066172371921617\n",
      "Best trial: 24. Best value: 0.0229183:  29%|██▉       | 29/100 [02:19<07:28,  6.31s/it]"
     ]
    },
    {
     "name": "stdout",
     "output_type": "stream",
     "text": [
      "\n",
      "MAP@K (valid train): 0.914\n",
      "\n",
      "MAP@K (valid inference): 0.022\n",
      "[I 2025-06-04 16:31:11,112] Trial 28 finished with value: 0.022066172371921617 and parameters: {'learning_rate': 0.07138896048601548, 'n_estimators': 454, 'reg_alpha': 83.21081872613954, 'reg_lambda': 42.22631238584499, 'num_leaves': 121, 'colsample_bytree': 0.7697379610443874, 'subsample': 0.8897565279304742, 'subsample_freq': 7, 'min_child_samples': 36}. Best is trial 24 with value: 0.022918348014567595.\n"
     ]
    },
    {
     "name": "stderr",
     "output_type": "stream",
     "text": [
      "2025-06-04 16:31:16,360 - src.metrics - INFO - Evaluating ranking                      \n",
      "2025-06-04 16:31:16,372 - src.metrics - INFO - Mean average precision at k: 0.8931214607745954\n",
      "2025-06-04 16:31:16,459 - src.metrics - INFO - Evaluating ranking                      \n",
      "2025-06-04 16:31:16,473 - src.metrics - INFO - Mean average precision at k: 0.01814998032737658\n",
      "Best trial: 24. Best value: 0.0229183:  30%|███       | 30/100 [02:24<07:02,  6.03s/it]"
     ]
    },
    {
     "name": "stdout",
     "output_type": "stream",
     "text": [
      "\n",
      "MAP@K (valid train): 0.893\n",
      "\n",
      "MAP@K (valid inference): 0.018\n",
      "[I 2025-06-04 16:31:16,486] Trial 29 finished with value: 0.01814998032737658 and parameters: {'learning_rate': 0.024737910482971442, 'n_estimators': 476, 'reg_alpha': 58.45210772129566, 'reg_lambda': 69.42657893565328, 'num_leaves': 310, 'colsample_bytree': 0.49248132634186925, 'subsample': 0.7934450652830533, 'subsample_freq': 6, 'min_child_samples': 23}. Best is trial 24 with value: 0.022918348014567595.\n"
     ]
    },
    {
     "name": "stderr",
     "output_type": "stream",
     "text": [
      "2025-06-04 16:31:24,485 - src.metrics - INFO - Evaluating ranking                      \n",
      "2025-06-04 16:31:24,497 - src.metrics - INFO - Mean average precision at k: 0.9136774904761928\n",
      "2025-06-04 16:31:24,666 - src.metrics - INFO - Evaluating ranking                      \n",
      "2025-06-04 16:31:24,677 - src.metrics - INFO - Mean average precision at k: 0.02207978313118917\n",
      "Best trial: 24. Best value: 0.0229183:  31%|███       | 31/100 [02:33<07:41,  6.68s/it]"
     ]
    },
    {
     "name": "stdout",
     "output_type": "stream",
     "text": [
      "\n",
      "MAP@K (valid train): 0.914\n",
      "\n",
      "MAP@K (valid inference): 0.022\n",
      "[I 2025-06-04 16:31:24,694] Trial 30 finished with value: 0.02207978313118917 and parameters: {'learning_rate': 0.04991782192444465, 'n_estimators': 215, 'reg_alpha': 79.88242105568258, 'reg_lambda': 93.4071451108251, 'num_leaves': 126, 'colsample_bytree': 0.9241904751897392, 'subsample': 0.6644339229064222, 'subsample_freq': 5, 'min_child_samples': 49}. Best is trial 24 with value: 0.022918348014567595.\n"
     ]
    },
    {
     "name": "stderr",
     "output_type": "stream",
     "text": [
      "2025-06-04 16:31:33,024 - src.metrics - INFO - Evaluating ranking                      \n",
      "2025-06-04 16:31:33,036 - src.metrics - INFO - Mean average precision at k: 0.914697307836777\n",
      "2025-06-04 16:31:33,239 - src.metrics - INFO - Evaluating ranking                      \n",
      "2025-06-04 16:31:33,250 - src.metrics - INFO - Mean average precision at k: 0.022633545829119285\n",
      "Best trial: 24. Best value: 0.0229183:  32%|███▏      | 32/100 [02:41<08:12,  7.25s/it]"
     ]
    },
    {
     "name": "stdout",
     "output_type": "stream",
     "text": [
      "\n",
      "MAP@K (valid train): 0.915\n",
      "\n",
      "MAP@K (valid inference): 0.023\n",
      "[I 2025-06-04 16:31:33,262] Trial 31 finished with value: 0.022633545829119285 and parameters: {'learning_rate': 0.05205355959528588, 'n_estimators': 209, 'reg_alpha': 80.19267409224466, 'reg_lambda': 93.84083263397778, 'num_leaves': 119, 'colsample_bytree': 0.8610068466972582, 'subsample': 0.6621131522452661, 'subsample_freq': 5, 'min_child_samples': 50}. Best is trial 24 with value: 0.022918348014567595.\n"
     ]
    },
    {
     "name": "stderr",
     "output_type": "stream",
     "text": [
      "2025-06-04 16:31:39,409 - src.metrics - INFO - Evaluating ranking                      \n",
      "2025-06-04 16:31:39,421 - src.metrics - INFO - Mean average precision at k: 0.9138569879529805\n",
      "2025-06-04 16:31:39,553 - src.metrics - INFO - Evaluating ranking                      \n",
      "2025-06-04 16:31:39,563 - src.metrics - INFO - Mean average precision at k: 0.02248608494785917\n",
      "Best trial: 24. Best value: 0.0229183:  33%|███▎      | 33/100 [02:47<07:46,  6.97s/it]"
     ]
    },
    {
     "name": "stdout",
     "output_type": "stream",
     "text": [
      "\n",
      "MAP@K (valid train): 0.914\n",
      "\n",
      "MAP@K (valid inference): 0.022\n",
      "[I 2025-06-04 16:31:39,575] Trial 32 finished with value: 0.02248608494785917 and parameters: {'learning_rate': 0.07203046933929368, 'n_estimators': 176, 'reg_alpha': 71.29594288455971, 'reg_lambda': 99.46656621762502, 'num_leaves': 175, 'colsample_bytree': 0.8615128224164712, 'subsample': 0.5584717846707499, 'subsample_freq': 5, 'min_child_samples': 67}. Best is trial 24 with value: 0.022918348014567595.\n"
     ]
    },
    {
     "name": "stderr",
     "output_type": "stream",
     "text": [
      "2025-06-04 16:31:49,464 - src.metrics - INFO - Evaluating ranking                      \n",
      "2025-06-04 16:31:49,476 - src.metrics - INFO - Mean average precision at k: 0.9112305200970959\n",
      "2025-06-04 16:31:49,743 - src.metrics - INFO - Evaluating ranking                      \n",
      "2025-06-04 16:31:49,753 - src.metrics - INFO - Mean average precision at k: 0.021262021422387384\n",
      "Best trial: 24. Best value: 0.0229183:  34%|███▍      | 34/100 [02:58<08:43,  7.94s/it]"
     ]
    },
    {
     "name": "stdout",
     "output_type": "stream",
     "text": [
      "\n",
      "MAP@K (valid train): 0.911\n",
      "\n",
      "MAP@K (valid inference): 0.021\n",
      "[I 2025-06-04 16:31:49,770] Trial 33 finished with value: 0.021262021422387384 and parameters: {'learning_rate': 0.031880022008428745, 'n_estimators': 188, 'reg_alpha': 85.71004051652984, 'reg_lambda': 99.65406918880385, 'num_leaves': 183, 'colsample_bytree': 0.8505486262586848, 'subsample': 0.5470111143725869, 'subsample_freq': 5, 'min_child_samples': 69}. Best is trial 24 with value: 0.022918348014567595.\n"
     ]
    },
    {
     "name": "stderr",
     "output_type": "stream",
     "text": [
      "2025-06-04 16:31:54,045 - src.metrics - INFO - Evaluating ranking                      \n",
      "2025-06-04 16:31:54,057 - src.metrics - INFO - Mean average precision at k: 0.887799876300511\n",
      "2025-06-04 16:31:54,150 - src.metrics - INFO - Evaluating ranking                      \n",
      "2025-06-04 16:31:54,160 - src.metrics - INFO - Mean average precision at k: 0.01874401129833471\n",
      "Best trial: 24. Best value: 0.0229183:  35%|███▌      | 35/100 [03:02<07:26,  6.88s/it]"
     ]
    },
    {
     "name": "stdout",
     "output_type": "stream",
     "text": [
      "\n",
      "MAP@K (valid train): 0.888\n",
      "\n",
      "MAP@K (valid inference): 0.019\n",
      "[I 2025-06-04 16:31:54,173] Trial 34 finished with value: 0.01874401129833471 and parameters: {'learning_rate': 0.0016488576625116186, 'n_estimators': 118, 'reg_alpha': 71.47820577410187, 'reg_lambda': 96.07470018859135, 'num_leaves': 78, 'colsample_bytree': 0.960023549937437, 'subsample': 0.5885955387478029, 'subsample_freq': 6, 'min_child_samples': 59}. Best is trial 24 with value: 0.022918348014567595.\n"
     ]
    },
    {
     "name": "stderr",
     "output_type": "stream",
     "text": [
      "2025-06-04 16:32:04,818 - src.metrics - INFO - Evaluating ranking                      \n",
      "2025-06-04 16:32:04,831 - src.metrics - INFO - Mean average precision at k: 0.9025989982100099\n",
      "2025-06-04 16:32:05,166 - src.metrics - INFO - Evaluating ranking                      \n",
      "2025-06-04 16:32:05,176 - src.metrics - INFO - Mean average precision at k: 0.01932518630508949\n",
      "Best trial: 24. Best value: 0.0229183:  36%|███▌      | 36/100 [03:13<08:39,  8.12s/it]"
     ]
    },
    {
     "name": "stdout",
     "output_type": "stream",
     "text": [
      "\n",
      "MAP@K (valid train): 0.903\n",
      "\n",
      "MAP@K (valid inference): 0.019\n",
      "[I 2025-06-04 16:32:05,190] Trial 35 finished with value: 0.01932518630508949 and parameters: {'learning_rate': 0.015684347810018755, 'n_estimators': 186, 'reg_alpha': 88.03164472510196, 'reg_lambda': 80.62414286837645, 'num_leaves': 231, 'colsample_bytree': 0.7346365896841502, 'subsample': 0.5011766823433307, 'subsample_freq': 1, 'min_child_samples': 30}. Best is trial 24 with value: 0.022918348014567595.\n"
     ]
    },
    {
     "name": "stderr",
     "output_type": "stream",
     "text": [
      "2025-06-04 16:32:10,941 - src.metrics - INFO - Evaluating ranking                      \n",
      "2025-06-04 16:32:10,954 - src.metrics - INFO - Mean average precision at k: 0.9137600458508901\n",
      "2025-06-04 16:32:11,091 - src.metrics - INFO - Evaluating ranking                      \n",
      "2025-06-04 16:32:11,102 - src.metrics - INFO - Mean average precision at k: 0.02271378557829955\n",
      "Best trial: 24. Best value: 0.0229183:  37%|███▋      | 37/100 [03:19<07:50,  7.46s/it]"
     ]
    },
    {
     "name": "stdout",
     "output_type": "stream",
     "text": [
      "\n",
      "MAP@K (valid train): 0.914\n",
      "\n",
      "MAP@K (valid inference): 0.023\n",
      "[I 2025-06-04 16:32:11,118] Trial 36 finished with value: 0.02271378557829955 and parameters: {'learning_rate': 0.07517049840766803, 'n_estimators': 242, 'reg_alpha': 74.61524567925653, 'reg_lambda': 84.65479823029287, 'num_leaves': 102, 'colsample_bytree': 0.7717827341983561, 'subsample': 0.7248379445789034, 'subsample_freq': 5, 'min_child_samples': 77}. Best is trial 24 with value: 0.022918348014567595.\n"
     ]
    },
    {
     "name": "stderr",
     "output_type": "stream",
     "text": [
      "2025-06-04 16:32:17,053 - src.metrics - INFO - Evaluating ranking                      \n",
      "2025-06-04 16:32:17,066 - src.metrics - INFO - Mean average precision at k: 0.9089982065875056\n",
      "2025-06-04 16:32:17,207 - src.metrics - INFO - Evaluating ranking                      \n",
      "2025-06-04 16:32:17,217 - src.metrics - INFO - Mean average precision at k: 0.020403635902377714\n",
      "Best trial: 24. Best value: 0.0229183:  38%|███▊      | 38/100 [03:25<07:17,  7.06s/it]"
     ]
    },
    {
     "name": "stdout",
     "output_type": "stream",
     "text": [
      "\n",
      "MAP@K (valid train): 0.909\n",
      "\n",
      "MAP@K (valid inference): 0.020\n",
      "[I 2025-06-04 16:32:17,231] Trial 37 finished with value: 0.020403635902377714 and parameters: {'learning_rate': 0.07600442295553221, 'n_estimators': 227, 'reg_alpha': 77.04949709349837, 'reg_lambda': 76.44123088685035, 'num_leaves': 103, 'colsample_bytree': 0.6019630800020577, 'subsample': 0.7322410283509371, 'subsample_freq': 5, 'min_child_samples': 76}. Best is trial 24 with value: 0.022918348014567595.\n"
     ]
    },
    {
     "name": "stderr",
     "output_type": "stream",
     "text": [
      "2025-06-04 16:32:22,114 - src.metrics - INFO - Evaluating ranking                      \n",
      "2025-06-04 16:32:22,127 - src.metrics - INFO - Mean average precision at k: 0.9131239302506217\n",
      "2025-06-04 16:32:22,338 - src.metrics - INFO - Evaluating ranking                      \n",
      "2025-06-04 16:32:22,348 - src.metrics - INFO - Mean average precision at k: 0.022595952575614867\n",
      "Best trial: 24. Best value: 0.0229183:  39%|███▉      | 39/100 [03:30<06:35,  6.48s/it]"
     ]
    },
    {
     "name": "stdout",
     "output_type": "stream",
     "text": [
      "\n",
      "MAP@K (valid train): 0.913\n",
      "\n",
      "MAP@K (valid inference): 0.023\n",
      "[I 2025-06-04 16:32:22,361] Trial 38 finished with value: 0.022595952575614867 and parameters: {'learning_rate': 0.10553725845294104, 'n_estimators': 245, 'reg_alpha': 98.32902356552879, 'reg_lambda': 85.88715196781011, 'num_leaves': 158, 'colsample_bytree': 0.8468348868931431, 'subsample': 0.5474430537372496, 'subsample_freq': 4, 'min_child_samples': 92}. Best is trial 24 with value: 0.022918348014567595.\n"
     ]
    },
    {
     "name": "stderr",
     "output_type": "stream",
     "text": [
      "2025-06-04 16:32:27,356 - src.metrics - INFO - Evaluating ranking                      \n",
      "2025-06-04 16:32:27,369 - src.metrics - INFO - Mean average precision at k: 0.9131577966837683\n",
      "2025-06-04 16:32:27,485 - src.metrics - INFO - Evaluating ranking                      \n",
      "2025-06-04 16:32:27,497 - src.metrics - INFO - Mean average precision at k: 0.022743205860732647\n",
      "Best trial: 24. Best value: 0.0229183:  40%|████      | 40/100 [03:35<06:04,  6.08s/it]"
     ]
    },
    {
     "name": "stdout",
     "output_type": "stream",
     "text": [
      "\n",
      "MAP@K (valid train): 0.913\n",
      "\n",
      "MAP@K (valid inference): 0.023\n",
      "[I 2025-06-04 16:32:27,509] Trial 39 finished with value: 0.022743205860732647 and parameters: {'learning_rate': 0.1073972471770091, 'n_estimators': 242, 'reg_alpha': 98.20024864462458, 'reg_lambda': 85.10231035297699, 'num_leaves': 300, 'colsample_bytree': 0.7057661098148731, 'subsample': 0.6931174061809106, 'subsample_freq': 3, 'min_child_samples': 98}. Best is trial 24 with value: 0.022918348014567595.\n"
     ]
    },
    {
     "name": "stderr",
     "output_type": "stream",
     "text": [
      "2025-06-04 16:32:32,145 - src.metrics - INFO - Evaluating ranking                      \n",
      "2025-06-04 16:32:32,158 - src.metrics - INFO - Mean average precision at k: 0.9111780357018282\n",
      "2025-06-04 16:32:32,257 - src.metrics - INFO - Evaluating ranking                      \n",
      "2025-06-04 16:32:32,268 - src.metrics - INFO - Mean average precision at k: 0.022203533364846928\n",
      "Best trial: 24. Best value: 0.0229183:  41%|████      | 41/100 [03:40<05:35,  5.69s/it]"
     ]
    },
    {
     "name": "stdout",
     "output_type": "stream",
     "text": [
      "\n",
      "MAP@K (valid train): 0.911\n",
      "\n",
      "MAP@K (valid inference): 0.022\n",
      "[I 2025-06-04 16:32:32,281] Trial 40 finished with value: 0.022203533364846928 and parameters: {'learning_rate': 0.08673533112535389, 'n_estimators': 310, 'reg_alpha': 92.74242040810208, 'reg_lambda': 71.76449996340725, 'num_leaves': 364, 'colsample_bytree': 0.706740170286029, 'subsample': 0.6861874573795503, 'subsample_freq': 2, 'min_child_samples': 100}. Best is trial 24 with value: 0.022918348014567595.\n"
     ]
    },
    {
     "name": "stderr",
     "output_type": "stream",
     "text": [
      "2025-06-04 16:32:36,821 - src.metrics - INFO - Evaluating ranking                      \n",
      "2025-06-04 16:32:36,834 - src.metrics - INFO - Mean average precision at k: 0.9141617433485945\n",
      "2025-06-04 16:32:36,949 - src.metrics - INFO - Evaluating ranking                      \n",
      "2025-06-04 16:32:36,959 - src.metrics - INFO - Mean average precision at k: 0.022136507817662354\n",
      "Best trial: 24. Best value: 0.0229183:  42%|████▏     | 42/100 [03:45<05:12,  5.39s/it]"
     ]
    },
    {
     "name": "stdout",
     "output_type": "stream",
     "text": [
      "\n",
      "MAP@K (valid train): 0.914\n",
      "\n",
      "MAP@K (valid inference): 0.022\n",
      "[I 2025-06-04 16:32:36,975] Trial 41 finished with value: 0.022136507817662354 and parameters: {'learning_rate': 0.10850114260955103, 'n_estimators': 241, 'reg_alpha': 99.42675979829903, 'reg_lambda': 88.42423419576288, 'num_leaves': 149, 'colsample_bytree': 0.8039230704234905, 'subsample': 0.7705198209694799, 'subsample_freq': 4, 'min_child_samples': 93}. Best is trial 24 with value: 0.022918348014567595.\n"
     ]
    },
    {
     "name": "stderr",
     "output_type": "stream",
     "text": [
      "2025-06-04 16:32:41,334 - src.metrics - INFO - Evaluating ranking                      \n",
      "2025-06-04 16:32:41,349 - src.metrics - INFO - Mean average precision at k: 0.9140390203345646\n",
      "2025-06-04 16:32:41,459 - src.metrics - INFO - Evaluating ranking                      \n",
      "2025-06-04 16:32:41,470 - src.metrics - INFO - Mean average precision at k: 0.022169283985656874\n",
      "Best trial: 24. Best value: 0.0229183:  43%|████▎     | 43/100 [03:49<04:52,  5.13s/it]"
     ]
    },
    {
     "name": "stdout",
     "output_type": "stream",
     "text": [
      "\n",
      "MAP@K (valid train): 0.914\n",
      "\n",
      "MAP@K (valid inference): 0.022\n",
      "[I 2025-06-04 16:32:41,484] Trial 42 finished with value: 0.022169283985656874 and parameters: {'learning_rate': 0.10541262861692426, 'n_estimators': 257, 'reg_alpha': 94.59562563350453, 'reg_lambda': 84.70430909366215, 'num_leaves': 303, 'colsample_bytree': 0.8363859380990372, 'subsample': 0.7153196790609737, 'subsample_freq': 3, 'min_child_samples': 93}. Best is trial 24 with value: 0.022918348014567595.\n"
     ]
    },
    {
     "name": "stderr",
     "output_type": "stream",
     "text": [
      "2025-06-04 16:32:45,812 - src.metrics - INFO - Evaluating ranking                      \n",
      "2025-06-04 16:32:45,824 - src.metrics - INFO - Mean average precision at k: 0.9146701961447122\n",
      "2025-06-04 16:32:45,944 - src.metrics - INFO - Evaluating ranking                      \n",
      "2025-06-04 16:32:45,955 - src.metrics - INFO - Mean average precision at k: 0.02258224996973744\n",
      "Best trial: 24. Best value: 0.0229183:  44%|████▍     | 44/100 [03:54<04:36,  4.93s/it]"
     ]
    },
    {
     "name": "stdout",
     "output_type": "stream",
     "text": [
      "\n",
      "MAP@K (valid train): 0.915\n",
      "\n",
      "MAP@K (valid inference): 0.023\n",
      "[I 2025-06-04 16:32:45,971] Trial 43 finished with value: 0.02258224996973744 and parameters: {'learning_rate': 0.12167976856293798, 'n_estimators': 293, 'reg_alpha': 89.19090284298312, 'reg_lambda': 78.79262477254082, 'num_leaves': 314, 'colsample_bytree': 0.9415762766514051, 'subsample': 0.9293727796293132, 'subsample_freq': 3, 'min_child_samples': 86}. Best is trial 24 with value: 0.022918348014567595.\n"
     ]
    },
    {
     "name": "stderr",
     "output_type": "stream",
     "text": [
      "2025-06-04 16:32:51,511 - src.metrics - INFO - Evaluating ranking                      \n",
      "2025-06-04 16:32:51,524 - src.metrics - INFO - Mean average precision at k: 0.914838300460785\n",
      "2025-06-04 16:32:51,644 - src.metrics - INFO - Evaluating ranking                      \n",
      "2025-06-04 16:32:51,654 - src.metrics - INFO - Mean average precision at k: 0.02256466995238529\n",
      "Best trial: 24. Best value: 0.0229183:  45%|████▌     | 45/100 [04:00<04:43,  5.16s/it]"
     ]
    },
    {
     "name": "stdout",
     "output_type": "stream",
     "text": [
      "\n",
      "MAP@K (valid train): 0.915\n",
      "\n",
      "MAP@K (valid inference): 0.023\n",
      "[I 2025-06-04 16:32:51,667] Trial 44 finished with value: 0.02256466995238529 and parameters: {'learning_rate': 0.08756331525118752, 'n_estimators': 208, 'reg_alpha': 76.21101205627632, 'reg_lambda': 95.20469573805065, 'num_leaves': 392, 'colsample_bytree': 0.7835700748026879, 'subsample': 0.6471773181694644, 'subsample_freq': 4, 'min_child_samples': 93}. Best is trial 24 with value: 0.022918348014567595.\n"
     ]
    },
    {
     "name": "stderr",
     "output_type": "stream",
     "text": [
      "2025-06-04 16:32:57,229 - src.metrics - INFO - Evaluating ranking                      \n",
      "2025-06-04 16:32:57,242 - src.metrics - INFO - Mean average precision at k: 0.9155364509966489\n",
      "2025-06-04 16:32:57,368 - src.metrics - INFO - Evaluating ranking                      \n",
      "2025-06-04 16:32:57,379 - src.metrics - INFO - Mean average precision at k: 0.02307327339299987\n",
      "Best trial: 45. Best value: 0.0230733:  46%|████▌     | 46/100 [04:05<04:47,  5.33s/it]"
     ]
    },
    {
     "name": "stdout",
     "output_type": "stream",
     "text": [
      "\n",
      "MAP@K (valid train): 0.916\n",
      "\n",
      "MAP@K (valid inference): 0.023\n",
      "[I 2025-06-04 16:32:57,392] Trial 45 finished with value: 0.02307327339299987 and parameters: {'learning_rate': 0.09619956645222151, 'n_estimators': 345, 'reg_alpha': 96.91574404040995, 'reg_lambda': 83.77826477431071, 'num_leaves': 280, 'colsample_bytree': 0.9805268852942068, 'subsample': 0.7928253521248246, 'subsample_freq': 2, 'min_child_samples': 75}. Best is trial 45 with value: 0.02307327339299987.\n"
     ]
    },
    {
     "name": "stderr",
     "output_type": "stream",
     "text": [
      "2025-06-04 16:33:02,624 - src.metrics - INFO - Evaluating ranking                      \n",
      "2025-06-04 16:33:02,637 - src.metrics - INFO - Mean average precision at k: 0.913119963496778\n",
      "2025-06-04 16:33:02,760 - src.metrics - INFO - Evaluating ranking                      \n",
      "2025-06-04 16:33:02,771 - src.metrics - INFO - Mean average precision at k: 0.022299600964024113\n",
      "Best trial: 45. Best value: 0.0230733:  47%|████▋     | 47/100 [04:11<04:43,  5.35s/it]"
     ]
    },
    {
     "name": "stdout",
     "output_type": "stream",
     "text": [
      "\n",
      "MAP@K (valid train): 0.913\n",
      "\n",
      "MAP@K (valid inference): 0.022\n",
      "[I 2025-06-04 16:33:02,786] Trial 46 finished with value: 0.022299600964024113 and parameters: {'learning_rate': 0.1375915839937113, 'n_estimators': 335, 'reg_alpha': 67.30638827047244, 'reg_lambda': 92.74479728445918, 'num_leaves': 334, 'colsample_bytree': 0.9919291263308925, 'subsample': 0.7809372117265365, 'subsample_freq': 2, 'min_child_samples': 15}. Best is trial 45 with value: 0.02307327339299987.\n"
     ]
    },
    {
     "name": "stderr",
     "output_type": "stream",
     "text": [
      "2025-06-04 16:33:08,508 - src.metrics - INFO - Evaluating ranking                      \n",
      "2025-06-04 16:33:08,521 - src.metrics - INFO - Mean average precision at k: 0.9156051770477375\n",
      "2025-06-04 16:33:08,646 - src.metrics - INFO - Evaluating ranking                      \n",
      "2025-06-04 16:33:08,657 - src.metrics - INFO - Mean average precision at k: 0.02278243338510992\n",
      "Best trial: 45. Best value: 0.0230733:  48%|████▊     | 48/100 [04:17<04:46,  5.51s/it]"
     ]
    },
    {
     "name": "stdout",
     "output_type": "stream",
     "text": [
      "\n",
      "MAP@K (valid train): 0.916\n",
      "\n",
      "MAP@K (valid inference): 0.023\n",
      "[I 2025-06-04 16:33:08,670] Trial 47 finished with value: 0.02278243338510992 and parameters: {'learning_rate': 0.09792250564411939, 'n_estimators': 132, 'reg_alpha': 82.66979377326872, 'reg_lambda': 83.4497136723859, 'num_leaves': 284, 'colsample_bytree': 0.9110733928555635, 'subsample': 0.7249273353651644, 'subsample_freq': 2, 'min_child_samples': 77}. Best is trial 45 with value: 0.02307327339299987.\n"
     ]
    },
    {
     "name": "stderr",
     "output_type": "stream",
     "text": [
      "2025-06-04 16:33:12,781 - src.metrics - INFO - Evaluating ranking                      \n",
      "2025-06-04 16:33:12,794 - src.metrics - INFO - Mean average precision at k: 0.9153170416269961\n",
      "2025-06-04 16:33:12,912 - src.metrics - INFO - Evaluating ranking                      \n",
      "2025-06-04 16:33:12,923 - src.metrics - INFO - Mean average precision at k: 0.02257151395896828\n",
      "Best trial: 45. Best value: 0.0230733:  49%|████▉     | 49/100 [04:21<04:22,  5.14s/it]"
     ]
    },
    {
     "name": "stdout",
     "output_type": "stream",
     "text": [
      "\n",
      "MAP@K (valid train): 0.915\n",
      "\n",
      "MAP@K (valid inference): 0.023\n",
      "[I 2025-06-04 16:33:12,943] Trial 48 finished with value: 0.02257151395896828 and parameters: {'learning_rate': 0.11536801166686252, 'n_estimators': 120, 'reg_alpha': 90.21981480108278, 'reg_lambda': 83.20537062859758, 'num_leaves': 278, 'colsample_bytree': 0.9087589114133073, 'subsample': 0.8983649655951211, 'subsample_freq': 1, 'min_child_samples': 75}. Best is trial 45 with value: 0.02307327339299987.\n"
     ]
    },
    {
     "name": "stderr",
     "output_type": "stream",
     "text": [
      "2025-06-04 16:33:17,757 - src.metrics - INFO - Evaluating ranking                      \n",
      "2025-06-04 16:33:17,770 - src.metrics - INFO - Mean average precision at k: 0.9146168947743265\n",
      "2025-06-04 16:33:17,879 - src.metrics - INFO - Evaluating ranking                      \n",
      "2025-06-04 16:33:17,889 - src.metrics - INFO - Mean average precision at k: 0.022543107688132884\n",
      "Best trial: 45. Best value: 0.0230733:  50%|█████     | 50/100 [04:26<04:14,  5.08s/it]"
     ]
    },
    {
     "name": "stdout",
     "output_type": "stream",
     "text": [
      "\n",
      "MAP@K (valid train): 0.915\n",
      "\n",
      "MAP@K (valid inference): 0.023\n",
      "[I 2025-06-04 16:33:17,902] Trial 49 finished with value: 0.022543107688132884 and parameters: {'learning_rate': 0.09761729433755871, 'n_estimators': 346, 'reg_alpha': 95.8118617033023, 'reg_lambda': 0.9717802923401138, 'num_leaves': 283, 'colsample_bytree': 0.9768625517217797, 'subsample': 0.7397632732716746, 'subsample_freq': 2, 'min_child_samples': 82}. Best is trial 45 with value: 0.02307327339299987.\n"
     ]
    },
    {
     "name": "stderr",
     "output_type": "stream",
     "text": [
      "2025-06-04 16:33:23,082 - src.metrics - INFO - Evaluating ranking                      \n",
      "2025-06-04 16:33:23,096 - src.metrics - INFO - Mean average precision at k: 0.914892667507287\n",
      "2025-06-04 16:33:23,227 - src.metrics - INFO - Evaluating ranking                      \n",
      "2025-06-04 16:33:23,237 - src.metrics - INFO - Mean average precision at k: 0.02260735023093904\n",
      "Best trial: 45. Best value: 0.0230733:  51%|█████     | 51/100 [04:31<04:13,  5.16s/it]"
     ]
    },
    {
     "name": "stdout",
     "output_type": "stream",
     "text": [
      "\n",
      "MAP@K (valid train): 0.915\n",
      "\n",
      "MAP@K (valid inference): 0.023\n",
      "[I 2025-06-04 16:33:23,251] Trial 50 finished with value: 0.02260735023093904 and parameters: {'learning_rate': 0.08948126477123068, 'n_estimators': 76, 'reg_alpha': 86.34059156198167, 'reg_lambda': 10.210479680059322, 'num_leaves': 243, 'colsample_bytree': 0.937344187873657, 'subsample': 0.8109399806830044, 'subsample_freq': 2, 'min_child_samples': 77}. Best is trial 45 with value: 0.02307327339299987.\n"
     ]
    },
    {
     "name": "stderr",
     "output_type": "stream",
     "text": [
      "2025-06-04 16:33:32,099 - src.metrics - INFO - Evaluating ranking                      \n",
      "2025-06-04 16:33:32,112 - src.metrics - INFO - Mean average precision at k: 0.9119043892329751\n",
      "2025-06-04 16:33:32,313 - src.metrics - INFO - Evaluating ranking                      \n",
      "2025-06-04 16:33:32,323 - src.metrics - INFO - Mean average precision at k: 0.021632206094579297\n",
      "Best trial: 45. Best value: 0.0230733:  52%|█████▏    | 52/100 [04:40<05:04,  6.34s/it]"
     ]
    },
    {
     "name": "stdout",
     "output_type": "stream",
     "text": [
      "\n",
      "MAP@K (valid train): 0.912\n",
      "\n",
      "MAP@K (valid inference): 0.022\n",
      "[I 2025-06-04 16:33:32,337] Trial 51 finished with value: 0.021632206094579297 and parameters: {'learning_rate': 0.04207498331780204, 'n_estimators': 133, 'reg_alpha': 80.7015042543003, 'reg_lambda': 78.72030486840083, 'num_leaves': 350, 'colsample_bytree': 0.9032479848477519, 'subsample': 0.6867547340714546, 'subsample_freq': 2, 'min_child_samples': 87}. Best is trial 45 with value: 0.02307327339299987.\n"
     ]
    },
    {
     "name": "stderr",
     "output_type": "stream",
     "text": [
      "2025-06-04 16:33:36,886 - src.metrics - INFO - Evaluating ranking                      \n",
      "2025-06-04 16:33:36,899 - src.metrics - INFO - Mean average precision at k: 0.9138668409367371\n",
      "2025-06-04 16:33:37,023 - src.metrics - INFO - Evaluating ranking                      \n",
      "2025-06-04 16:33:37,034 - src.metrics - INFO - Mean average precision at k: 0.022230315383197335\n",
      "Best trial: 45. Best value: 0.0230733:  53%|█████▎    | 53/100 [04:45<04:35,  5.85s/it]"
     ]
    },
    {
     "name": "stdout",
     "output_type": "stream",
     "text": [
      "\n",
      "MAP@K (valid train): 0.914\n",
      "\n",
      "MAP@K (valid inference): 0.022\n",
      "[I 2025-06-04 16:33:37,047] Trial 52 finished with value: 0.022230315383197335 and parameters: {'learning_rate': 0.08295262769199302, 'n_estimators': 371, 'reg_alpha': 74.76589794086163, 'reg_lambda': 91.8909877196202, 'num_leaves': 225, 'colsample_bytree': 0.7928027194156211, 'subsample': 0.753961119862671, 'subsample_freq': 1, 'min_child_samples': 73}. Best is trial 45 with value: 0.02307327339299987.\n"
     ]
    },
    {
     "name": "stderr",
     "output_type": "stream",
     "text": [
      "2025-06-04 16:33:43,858 - src.metrics - INFO - Evaluating ranking                      \n",
      "2025-06-04 16:33:43,871 - src.metrics - INFO - Mean average precision at k: 0.9095222290932305\n",
      "2025-06-04 16:33:44,048 - src.metrics - INFO - Evaluating ranking                      \n",
      "2025-06-04 16:33:44,059 - src.metrics - INFO - Mean average precision at k: 0.020414151016092882\n",
      "Best trial: 45. Best value: 0.0230733:  54%|█████▍    | 54/100 [04:52<04:45,  6.21s/it]"
     ]
    },
    {
     "name": "stdout",
     "output_type": "stream",
     "text": [
      "\n",
      "MAP@K (valid train): 0.910\n",
      "\n",
      "MAP@K (valid inference): 0.020\n",
      "[I 2025-06-04 16:33:44,077] Trial 53 finished with value: 0.020414151016092882 and parameters: {'learning_rate': 0.056268609025386204, 'n_estimators': 86, 'reg_alpha': 82.67257562988948, 'reg_lambda': 84.04160724053159, 'num_leaves': 292, 'colsample_bytree': 0.7126904585709896, 'subsample': 0.8590808981141245, 'subsample_freq': 3, 'min_child_samples': 57}. Best is trial 45 with value: 0.02307327339299987.\n"
     ]
    },
    {
     "name": "stderr",
     "output_type": "stream",
     "text": [
      "2025-06-04 16:33:49,039 - src.metrics - INFO - Evaluating ranking                      \n",
      "2025-06-04 16:33:49,052 - src.metrics - INFO - Mean average precision at k: 0.9140078898476294\n",
      "2025-06-04 16:33:49,174 - src.metrics - INFO - Evaluating ranking                      \n",
      "2025-06-04 16:33:49,184 - src.metrics - INFO - Mean average precision at k: 0.022491112570402184\n",
      "Best trial: 45. Best value: 0.0230733:  55%|█████▌    | 55/100 [04:57<04:24,  5.88s/it]"
     ]
    },
    {
     "name": "stdout",
     "output_type": "stream",
     "text": [
      "\n",
      "MAP@K (valid train): 0.914\n",
      "\n",
      "MAP@K (valid inference): 0.022\n",
      "[I 2025-06-04 16:33:49,199] Trial 54 finished with value: 0.022491112570402184 and parameters: {'learning_rate': 0.13872963747217398, 'n_estimators': 227, 'reg_alpha': 66.60315563971795, 'reg_lambda': 71.90335395762999, 'num_leaves': 441, 'colsample_bytree': 0.9578257289652602, 'subsample': 0.7080740688849149, 'subsample_freq': 3, 'min_child_samples': 68}. Best is trial 45 with value: 0.02307327339299987.\n"
     ]
    },
    {
     "name": "stderr",
     "output_type": "stream",
     "text": [
      "2025-06-04 16:33:54,143 - src.metrics - INFO - Evaluating ranking                      \n",
      "2025-06-04 16:33:54,157 - src.metrics - INFO - Mean average precision at k: 0.9145503795845028\n",
      "2025-06-04 16:33:54,274 - src.metrics - INFO - Evaluating ranking                      \n",
      "2025-06-04 16:33:54,285 - src.metrics - INFO - Mean average precision at k: 0.022111367808172373\n",
      "Best trial: 45. Best value: 0.0230733:  56%|█████▌    | 56/100 [05:02<04:08,  5.65s/it]"
     ]
    },
    {
     "name": "stdout",
     "output_type": "stream",
     "text": [
      "\n",
      "MAP@K (valid train): 0.915\n",
      "\n",
      "MAP@K (valid inference): 0.022\n",
      "[I 2025-06-04 16:33:54,299] Trial 55 finished with value: 0.022111367808172373 and parameters: {'learning_rate': 0.11599624380805806, 'n_estimators': 158, 'reg_alpha': 90.29534661407163, 'reg_lambda': 90.37269731595892, 'num_leaves': 256, 'colsample_bytree': 0.8303509024774944, 'subsample': 0.9477076424490263, 'subsample_freq': 2, 'min_child_samples': 97}. Best is trial 45 with value: 0.02307327339299987.\n"
     ]
    },
    {
     "name": "stderr",
     "output_type": "stream",
     "text": [
      "2025-06-04 16:34:02,021 - src.metrics - INFO - Evaluating ranking                      \n",
      "2025-06-04 16:34:02,033 - src.metrics - INFO - Mean average precision at k: 0.8986646579142061\n",
      "2025-06-04 16:34:02,251 - src.metrics - INFO - Evaluating ranking                      \n",
      "2025-06-04 16:34:02,262 - src.metrics - INFO - Mean average precision at k: 0.01845204642534261\n",
      "Best trial: 45. Best value: 0.0230733:  57%|█████▋    | 57/100 [05:10<04:32,  6.35s/it]"
     ]
    },
    {
     "name": "stdout",
     "output_type": "stream",
     "text": [
      "\n",
      "MAP@K (valid train): 0.899\n",
      "\n",
      "MAP@K (valid inference): 0.018\n",
      "[I 2025-06-04 16:34:02,276] Trial 56 finished with value: 0.01845204642534261 and parameters: {'learning_rate': 0.10128927606343184, 'n_estimators': 261, 'reg_alpha': 57.45006477749824, 'reg_lambda': 96.89334102933603, 'num_leaves': 318, 'colsample_bytree': 0.11728976347174691, 'subsample': 0.6222988120328337, 'subsample_freq': 3, 'min_child_samples': 80}. Best is trial 45 with value: 0.02307327339299987.\n"
     ]
    },
    {
     "name": "stderr",
     "output_type": "stream",
     "text": [
      "2025-06-04 16:34:07,207 - src.metrics - INFO - Evaluating ranking                      \n",
      "2025-06-04 16:34:07,220 - src.metrics - INFO - Mean average precision at k: 0.9148393269014184\n",
      "2025-06-04 16:34:07,364 - src.metrics - INFO - Evaluating ranking                      \n",
      "2025-06-04 16:34:07,375 - src.metrics - INFO - Mean average precision at k: 0.022148090399999654\n",
      "Best trial: 45. Best value: 0.0230733:  58%|█████▊    | 58/100 [05:15<04:11,  5.98s/it]"
     ]
    },
    {
     "name": "stdout",
     "output_type": "stream",
     "text": [
      "\n",
      "MAP@K (valid train): 0.915\n",
      "\n",
      "MAP@K (valid inference): 0.022\n",
      "[I 2025-06-04 16:34:07,399] Trial 57 finished with value: 0.022148090399999654 and parameters: {'learning_rate': 0.07922610591914768, 'n_estimators': 193, 'reg_alpha': 78.05387067390556, 'reg_lambda': 54.00458697943683, 'num_leaves': 36, 'colsample_bytree': 0.8782313581960288, 'subsample': 0.6714333712462993, 'subsample_freq': 1, 'min_child_samples': 85}. Best is trial 45 with value: 0.02307327339299987.\n"
     ]
    },
    {
     "name": "stderr",
     "output_type": "stream",
     "text": [
      "2025-06-04 16:34:15,637 - src.metrics - INFO - Evaluating ranking                      \n",
      "2025-06-04 16:34:15,651 - src.metrics - INFO - Mean average precision at k: 0.898187351648252\n",
      "2025-06-04 16:34:15,884 - src.metrics - INFO - Evaluating ranking                      \n",
      "2025-06-04 16:34:15,895 - src.metrics - INFO - Mean average precision at k: 0.01883681923003934\n",
      "Best trial: 45. Best value: 0.0230733:  59%|█████▉    | 59/100 [05:24<04:36,  6.74s/it]"
     ]
    },
    {
     "name": "stdout",
     "output_type": "stream",
     "text": [
      "\n",
      "MAP@K (valid train): 0.898\n",
      "\n",
      "MAP@K (valid inference): 0.019\n",
      "[I 2025-06-04 16:34:15,910] Trial 58 finished with value: 0.01883681923003934 and parameters: {'learning_rate': 0.06394395370297098, 'n_estimators': 286, 'reg_alpha': 83.6222389789763, 'reg_lambda': 68.33830554047529, 'num_leaves': 331, 'colsample_bytree': 0.18713020609573505, 'subsample': 0.5990973324138296, 'subsample_freq': 2, 'min_child_samples': 66}. Best is trial 45 with value: 0.02307327339299987.\n"
     ]
    },
    {
     "name": "stderr",
     "output_type": "stream",
     "text": [
      "2025-06-04 16:34:16,820 - src.metrics - INFO - Evaluating ranking                      \n",
      "2025-06-04 16:34:16,834 - src.metrics - INFO - Mean average precision at k: 0.8860303444585007\n",
      "2025-06-04 16:34:16,903 - src.metrics - INFO - Evaluating ranking                      \n",
      "2025-06-04 16:34:16,914 - src.metrics - INFO - Mean average precision at k: 0.018893830757989012\n",
      "Best trial: 45. Best value: 0.0230733:  60%|██████    | 60/100 [05:25<03:20,  5.02s/it]"
     ]
    },
    {
     "name": "stdout",
     "output_type": "stream",
     "text": [
      "\n",
      "MAP@K (valid train): 0.886\n",
      "\n",
      "MAP@K (valid inference): 0.019\n",
      "[I 2025-06-04 16:34:16,928] Trial 59 finished with value: 0.018893830757989012 and parameters: {'learning_rate': 0.16783166924151122, 'n_estimators': 329, 'reg_alpha': 70.12424656949061, 'reg_lambda': 79.35318374818331, 'num_leaves': 357, 'colsample_bytree': 0.6476704845293887, 'subsample': 0.018384819384347217, 'subsample_freq': 4, 'min_child_samples': 48}. Best is trial 45 with value: 0.02307327339299987.\n"
     ]
    },
    {
     "name": "stderr",
     "output_type": "stream",
     "text": [
      "2025-06-04 16:34:21,685 - src.metrics - INFO - Evaluating ranking                      \n",
      "2025-06-04 16:34:21,698 - src.metrics - INFO - Mean average precision at k: 0.9142780650348367\n",
      "2025-06-04 16:34:21,815 - src.metrics - INFO - Evaluating ranking                      \n",
      "2025-06-04 16:34:21,825 - src.metrics - INFO - Mean average precision at k: 0.022274969254623852\n",
      "Best trial: 45. Best value: 0.0230733:  61%|██████    | 61/100 [05:30<03:14,  4.99s/it]"
     ]
    },
    {
     "name": "stdout",
     "output_type": "stream",
     "text": [
      "\n",
      "MAP@K (valid train): 0.914\n",
      "\n",
      "MAP@K (valid inference): 0.022\n",
      "[I 2025-06-04 16:34:21,839] Trial 60 finished with value: 0.022274969254623852 and parameters: {'learning_rate': 0.09232514028326701, 'n_estimators': 362, 'reg_alpha': 96.02647074110534, 'reg_lambda': 82.96732454738994, 'num_leaves': 267, 'colsample_bytree': 0.9938456652929837, 'subsample': 0.8576100593939888, 'subsample_freq': 5, 'min_child_samples': 63}. Best is trial 45 with value: 0.02307327339299987.\n"
     ]
    },
    {
     "name": "stderr",
     "output_type": "stream",
     "text": [
      "2025-06-04 16:34:26,695 - src.metrics - INFO - Evaluating ranking                      \n",
      "2025-06-04 16:34:26,709 - src.metrics - INFO - Mean average precision at k: 0.9147118507114497\n",
      "2025-06-04 16:34:26,826 - src.metrics - INFO - Evaluating ranking                      \n",
      "2025-06-04 16:34:26,837 - src.metrics - INFO - Mean average precision at k: 0.02257258568305653\n",
      "Best trial: 45. Best value: 0.0230733:  62%|██████▏   | 62/100 [05:35<03:09,  5.00s/it]"
     ]
    },
    {
     "name": "stdout",
     "output_type": "stream",
     "text": [
      "\n",
      "MAP@K (valid train): 0.915\n",
      "\n",
      "MAP@K (valid inference): 0.023\n",
      "[I 2025-06-04 16:34:26,851] Trial 61 finished with value: 0.02257258568305653 and parameters: {'learning_rate': 0.09071306353689954, 'n_estimators': 74, 'reg_alpha': 86.451629979124, 'reg_lambda': 42.642805161077874, 'num_leaves': 233, 'colsample_bytree': 0.9351302257344312, 'subsample': 0.8198691298540761, 'subsample_freq': 2, 'min_child_samples': 77}. Best is trial 45 with value: 0.02307327339299987.\n"
     ]
    },
    {
     "name": "stderr",
     "output_type": "stream",
     "text": [
      "2025-06-04 16:34:33,448 - src.metrics - INFO - Evaluating ranking                      \n",
      "2025-06-04 16:34:33,461 - src.metrics - INFO - Mean average precision at k: 0.9141268576181472\n",
      "2025-06-04 16:34:33,603 - src.metrics - INFO - Evaluating ranking                      \n",
      "2025-06-04 16:34:33,614 - src.metrics - INFO - Mean average precision at k: 0.022496443538498626\n",
      "Best trial: 45. Best value: 0.0230733:  63%|██████▎   | 63/100 [05:42<03:24,  5.53s/it]"
     ]
    },
    {
     "name": "stdout",
     "output_type": "stream",
     "text": [
      "\n",
      "MAP@K (valid train): 0.914\n",
      "\n",
      "MAP@K (valid inference): 0.022\n",
      "[I 2025-06-04 16:34:33,635] Trial 62 finished with value: 0.022496443538498626 and parameters: {'learning_rate': 0.07209255002668978, 'n_estimators': 95, 'reg_alpha': 90.98816839620746, 'reg_lambda': 16.87752158928292, 'num_leaves': 293, 'colsample_bytree': 0.913211226662626, 'subsample': 0.7884993773313725, 'subsample_freq': 2, 'min_child_samples': 71}. Best is trial 45 with value: 0.02307327339299987.\n"
     ]
    },
    {
     "name": "stderr",
     "output_type": "stream",
     "text": [
      "2025-06-04 16:34:37,134 - src.metrics - INFO - Evaluating ranking                      \n",
      "2025-06-04 16:34:37,148 - src.metrics - INFO - Mean average precision at k: 0.9149073586919643\n",
      "2025-06-04 16:34:37,238 - src.metrics - INFO - Evaluating ranking                      \n",
      "2025-06-04 16:34:37,249 - src.metrics - INFO - Mean average precision at k: 0.022554848762561953\n",
      "Best trial: 45. Best value: 0.0230733:  64%|██████▍   | 64/100 [05:45<02:58,  4.96s/it]"
     ]
    },
    {
     "name": "stdout",
     "output_type": "stream",
     "text": [
      "\n",
      "MAP@K (valid train): 0.915\n",
      "\n",
      "MAP@K (valid inference): 0.023\n",
      "[I 2025-06-04 16:34:37,267] Trial 63 finished with value: 0.022554848762561953 and parameters: {'learning_rate': 0.11416374864712187, 'n_estimators': 141, 'reg_alpha': 85.90906642567322, 'reg_lambda': 9.694667612684313, 'num_leaves': 101, 'colsample_bytree': 0.8202474777566002, 'subsample': 0.8086300793391987, 'subsample_freq': 2, 'min_child_samples': 80}. Best is trial 45 with value: 0.02307327339299987.\n"
     ]
    },
    {
     "name": "stderr",
     "output_type": "stream",
     "text": [
      "2025-06-04 16:34:42,024 - src.metrics - INFO - Evaluating ranking                      \n",
      "2025-06-04 16:34:42,037 - src.metrics - INFO - Mean average precision at k: 0.9140627735674328\n",
      "2025-06-04 16:34:42,150 - src.metrics - INFO - Evaluating ranking                      \n",
      "2025-06-04 16:34:42,160 - src.metrics - INFO - Mean average precision at k: 0.022522345635138125\n",
      "Best trial: 45. Best value: 0.0230733:  65%|██████▌   | 65/100 [05:50<02:53,  4.95s/it]"
     ]
    },
    {
     "name": "stdout",
     "output_type": "stream",
     "text": [
      "\n",
      "MAP@K (valid train): 0.914\n",
      "\n",
      "MAP@K (valid inference): 0.023\n",
      "[I 2025-06-04 16:34:42,174] Trial 64 finished with value: 0.022522345635138125 and parameters: {'learning_rate': 0.0994748967660501, 'n_estimators': 68, 'reg_alpha': 74.36842120427951, 'reg_lambda': 32.9538582297321, 'num_leaves': 80, 'colsample_bytree': 0.954038066471099, 'subsample': 0.7557507754457494, 'subsample_freq': 3, 'min_child_samples': 56}. Best is trial 45 with value: 0.02307327339299987.\n"
     ]
    },
    {
     "name": "stderr",
     "output_type": "stream",
     "text": [
      "2025-06-04 16:34:46,337 - src.metrics - INFO - Evaluating ranking                      \n",
      "2025-06-04 16:34:46,349 - src.metrics - INFO - Mean average precision at k: 0.8975331997221028\n",
      "2025-06-04 16:34:46,480 - src.metrics - INFO - Evaluating ranking                      \n",
      "2025-06-04 16:34:46,491 - src.metrics - INFO - Mean average precision at k: 0.0186238414202042\n",
      "Best trial: 45. Best value: 0.0230733:  66%|██████▌   | 66/100 [05:54<02:41,  4.76s/it]"
     ]
    },
    {
     "name": "stdout",
     "output_type": "stream",
     "text": [
      "\n",
      "MAP@K (valid train): 0.898\n",
      "\n",
      "MAP@K (valid inference): 0.019\n",
      "[I 2025-06-04 16:34:46,506] Trial 65 finished with value: 0.0186238414202042 and parameters: {'learning_rate': 0.05354390451404554, 'n_estimators': 109, 'reg_alpha': 99.5840189489067, 'reg_lambda': 21.303565630163835, 'num_leaves': 374, 'colsample_bytree': 0.3383601562198887, 'subsample': 0.7126976072387371, 'subsample_freq': 1, 'min_child_samples': 89}. Best is trial 45 with value: 0.02307327339299987.\n"
     ]
    },
    {
     "name": "stderr",
     "output_type": "stream",
     "text": [
      "2025-06-04 16:34:51,855 - src.metrics - INFO - Evaluating ranking                      \n",
      "2025-06-04 16:34:51,868 - src.metrics - INFO - Mean average precision at k: 0.915009080970389\n",
      "2025-06-04 16:34:51,987 - src.metrics - INFO - Evaluating ranking                      \n",
      "2025-06-04 16:34:51,997 - src.metrics - INFO - Mean average precision at k: 0.022247598795486406\n",
      "Best trial: 45. Best value: 0.0230733:  67%|██████▋   | 67/100 [06:00<02:44,  4.98s/it]"
     ]
    },
    {
     "name": "stdout",
     "output_type": "stream",
     "text": [
      "\n",
      "MAP@K (valid train): 0.915\n",
      "\n",
      "MAP@K (valid inference): 0.022\n",
      "[I 2025-06-04 16:34:52,011] Trial 66 finished with value: 0.022247598795486406 and parameters: {'learning_rate': 0.08465044950315156, 'n_estimators': 171, 'reg_alpha': 92.33875863289461, 'reg_lambda': 6.550994211855446, 'num_leaves': 249, 'colsample_bytree': 0.8766194200838364, 'subsample': 0.8557499915937105, 'subsample_freq': 6, 'min_child_samples': 83}. Best is trial 45 with value: 0.02307327339299987.\n"
     ]
    },
    {
     "name": "stderr",
     "output_type": "stream",
     "text": [
      "2025-06-04 16:34:58,564 - src.metrics - INFO - Evaluating ranking                      \n",
      "2025-06-04 16:34:58,578 - src.metrics - INFO - Mean average precision at k: 0.911713445756946\n",
      "2025-06-04 16:34:58,727 - src.metrics - INFO - Evaluating ranking                      \n",
      "2025-06-04 16:34:58,738 - src.metrics - INFO - Mean average precision at k: 0.020941310290731492\n",
      "Best trial: 45. Best value: 0.0230733:  68%|██████▊   | 68/100 [06:07<02:56,  5.51s/it]"
     ]
    },
    {
     "name": "stdout",
     "output_type": "stream",
     "text": [
      "\n",
      "MAP@K (valid train): 0.912\n",
      "\n",
      "MAP@K (valid inference): 0.021\n",
      "[I 2025-06-04 16:34:58,753] Trial 67 finished with value: 0.020941310290731492 and parameters: {'learning_rate': 0.060028404001252186, 'n_estimators': 421, 'reg_alpha': 80.98136176507536, 'reg_lambda': 47.87205095810188, 'num_leaves': 113, 'colsample_bytree': 0.7576519897911221, 'subsample': 0.7968922850331048, 'subsample_freq': 3, 'min_child_samples': 78}. Best is trial 45 with value: 0.02307327339299987.\n"
     ]
    },
    {
     "name": "stderr",
     "output_type": "stream",
     "text": [
      "2025-06-04 16:35:08,429 - src.metrics - INFO - Evaluating ranking                      \n",
      "2025-06-04 16:35:08,442 - src.metrics - INFO - Mean average precision at k: 0.9144020389680066\n",
      "2025-06-04 16:35:08,690 - src.metrics - INFO - Evaluating ranking                      \n",
      "2025-06-04 16:35:08,701 - src.metrics - INFO - Mean average precision at k: 0.022085581816577167\n",
      "Best trial: 45. Best value: 0.0230733:  69%|██████▉   | 69/100 [06:17<03:32,  6.85s/it]"
     ]
    },
    {
     "name": "stdout",
     "output_type": "stream",
     "text": [
      "\n",
      "MAP@K (valid train): 0.914\n",
      "\n",
      "MAP@K (valid inference): 0.022\n",
      "[I 2025-06-04 16:35:08,715] Trial 68 finished with value: 0.022085581816577167 and parameters: {'learning_rate': 0.037135759405661856, 'n_estimators': 272, 'reg_alpha': 85.99224126084208, 'reg_lambda': 89.88163494209547, 'num_leaves': 142, 'colsample_bytree': 0.9304120422958836, 'subsample': 0.643497890953316, 'subsample_freq': 5, 'min_child_samples': 97}. Best is trial 45 with value: 0.02307327339299987.\n"
     ]
    },
    {
     "name": "stderr",
     "output_type": "stream",
     "text": [
      "2025-06-04 16:35:16,704 - src.metrics - INFO - Evaluating ranking                      \n",
      "2025-06-04 16:35:16,717 - src.metrics - INFO - Mean average precision at k: 0.91492707329354\n",
      "2025-06-04 16:35:16,889 - src.metrics - INFO - Evaluating ranking                      \n",
      "2025-06-04 16:35:16,900 - src.metrics - INFO - Mean average precision at k: 0.0219335336962224\n",
      "Best trial: 45. Best value: 0.0230733:  70%|███████   | 70/100 [06:25<03:37,  7.25s/it]"
     ]
    },
    {
     "name": "stdout",
     "output_type": "stream",
     "text": [
      "\n",
      "MAP@K (valid train): 0.915\n",
      "\n",
      "MAP@K (valid inference): 0.022\n",
      "[I 2025-06-04 16:35:16,916] Trial 69 finished with value: 0.0219335336962224 and parameters: {'learning_rate': 0.07093734840150166, 'n_estimators': 240, 'reg_alpha': 48.048866101279735, 'reg_lambda': 75.83205177715412, 'num_leaves': 501, 'colsample_bytree': 0.858598577202732, 'subsample': 0.885666539347526, 'subsample_freq': 4, 'min_child_samples': 72}. Best is trial 45 with value: 0.02307327339299987.\n"
     ]
    },
    {
     "name": "stderr",
     "output_type": "stream",
     "text": [
      "2025-06-04 16:35:22,459 - src.metrics - INFO - Evaluating ranking                      \n",
      "2025-06-04 16:35:22,472 - src.metrics - INFO - Mean average precision at k: 0.9139254629290772\n",
      "2025-06-04 16:35:22,602 - src.metrics - INFO - Evaluating ranking                      \n",
      "2025-06-04 16:35:22,614 - src.metrics - INFO - Mean average precision at k: 0.022696949852576052\n",
      "Best trial: 45. Best value: 0.0230733:  71%|███████   | 71/100 [06:31<03:16,  6.79s/it]"
     ]
    },
    {
     "name": "stdout",
     "output_type": "stream",
     "text": [
      "\n",
      "MAP@K (valid train): 0.914\n",
      "\n",
      "MAP@K (valid inference): 0.023\n",
      "[I 2025-06-04 16:35:22,628] Trial 70 finished with value: 0.022696949852576052 and parameters: {'learning_rate': 0.07712197123157301, 'n_estimators': 394, 'reg_alpha': 96.02986700538594, 'reg_lambda': 26.52840593665767, 'num_leaves': 185, 'colsample_bytree': 0.9715318134388936, 'subsample': 0.7367945007133037, 'subsample_freq': 2, 'min_child_samples': 41}. Best is trial 45 with value: 0.02307327339299987.\n"
     ]
    },
    {
     "name": "stderr",
     "output_type": "stream",
     "text": [
      "2025-06-04 16:35:28,528 - src.metrics - INFO - Evaluating ranking                      \n",
      "2025-06-04 16:35:28,541 - src.metrics - INFO - Mean average precision at k: 0.9145880031903203\n",
      "2025-06-04 16:35:28,681 - src.metrics - INFO - Evaluating ranking                      \n",
      "2025-06-04 16:35:28,692 - src.metrics - INFO - Mean average precision at k: 0.02255042030203258\n",
      "Best trial: 45. Best value: 0.0230733:  72%|███████▏  | 72/100 [06:37<03:04,  6.58s/it]"
     ]
    },
    {
     "name": "stdout",
     "output_type": "stream",
     "text": [
      "\n",
      "MAP@K (valid train): 0.915\n",
      "\n",
      "MAP@K (valid inference): 0.023\n",
      "[I 2025-06-04 16:35:28,706] Trial 71 finished with value: 0.02255042030203258 and parameters: {'learning_rate': 0.07651703136570871, 'n_estimators': 399, 'reg_alpha': 95.70976411337729, 'reg_lambda': 27.29674186964468, 'num_leaves': 217, 'colsample_bytree': 0.9788507254586989, 'subsample': 0.7289657651636582, 'subsample_freq': 2, 'min_child_samples': 41}. Best is trial 45 with value: 0.02307327339299987.\n"
     ]
    },
    {
     "name": "stderr",
     "output_type": "stream",
     "text": [
      "2025-06-04 16:35:35,425 - src.metrics - INFO - Evaluating ranking                      \n",
      "2025-06-04 16:35:35,438 - src.metrics - INFO - Mean average precision at k: 0.914149108075042\n",
      "2025-06-04 16:35:35,588 - src.metrics - INFO - Evaluating ranking                      \n",
      "2025-06-04 16:35:35,599 - src.metrics - INFO - Mean average precision at k: 0.02187128590725086\n",
      "Best trial: 45. Best value: 0.0230733:  73%|███████▎  | 73/100 [06:43<03:00,  6.68s/it]"
     ]
    },
    {
     "name": "stdout",
     "output_type": "stream",
     "text": [
      "\n",
      "MAP@K (valid train): 0.914\n",
      "\n",
      "MAP@K (valid inference): 0.022\n",
      "[I 2025-06-04 16:35:35,616] Trial 72 finished with value: 0.02187128590725086 and parameters: {'learning_rate': 0.06857224833928027, 'n_estimators': 320, 'reg_alpha': 94.07052597589738, 'reg_lambda': 11.58065632867035, 'num_leaves': 186, 'colsample_bytree': 0.9010591911036604, 'subsample': 0.7499600187046315, 'subsample_freq': 2, 'min_child_samples': 43}. Best is trial 45 with value: 0.02307327339299987.\n"
     ]
    },
    {
     "name": "stderr",
     "output_type": "stream",
     "text": [
      "2025-06-04 16:35:39,362 - src.metrics - INFO - Evaluating ranking                      \n",
      "2025-06-04 16:35:39,375 - src.metrics - INFO - Mean average precision at k: 0.9125092571316685\n",
      "2025-06-04 16:35:39,477 - src.metrics - INFO - Evaluating ranking                      \n",
      "2025-06-04 16:35:39,487 - src.metrics - INFO - Mean average precision at k: 0.0221229699831625\n",
      "Best trial: 45. Best value: 0.0230733:  74%|███████▍  | 74/100 [06:47<02:31,  5.84s/it]"
     ]
    },
    {
     "name": "stdout",
     "output_type": "stream",
     "text": [
      "\n",
      "MAP@K (valid train): 0.913\n",
      "\n",
      "MAP@K (valid inference): 0.022\n",
      "[I 2025-06-04 16:35:39,501] Trial 73 finished with value: 0.0221229699831625 and parameters: {'learning_rate': 0.09353508237591585, 'n_estimators': 437, 'reg_alpha': 97.52185120146204, 'reg_lambda': 17.79417812151297, 'num_leaves': 246, 'colsample_bytree': 0.961724041200013, 'subsample': 0.47253838454792996, 'subsample_freq': 2, 'min_child_samples': 33}. Best is trial 45 with value: 0.02307327339299987.\n"
     ]
    },
    {
     "name": "stderr",
     "output_type": "stream",
     "text": [
      "2025-06-04 16:35:46,201 - src.metrics - INFO - Evaluating ranking                      \n",
      "2025-06-04 16:35:46,213 - src.metrics - INFO - Mean average precision at k: 0.9143533583071415\n",
      "2025-06-04 16:35:46,390 - src.metrics - INFO - Evaluating ranking                      \n",
      "2025-06-04 16:35:46,401 - src.metrics - INFO - Mean average precision at k: 0.022872967158071064\n",
      "Best trial: 45. Best value: 0.0230733:  75%|███████▌  | 75/100 [06:54<02:34,  6.16s/it]"
     ]
    },
    {
     "name": "stdout",
     "output_type": "stream",
     "text": [
      "\n",
      "MAP@K (valid train): 0.914\n",
      "\n",
      "MAP@K (valid inference): 0.023\n",
      "[I 2025-06-04 16:35:46,414] Trial 74 finished with value: 0.022872967158071064 and parameters: {'learning_rate': 0.0507211077291702, 'n_estimators': 385, 'reg_alpha': 88.23009428659923, 'reg_lambda': 24.361576569825843, 'num_leaves': 164, 'colsample_bytree': 0.9340295238810917, 'subsample': 0.6668435967454108, 'subsample_freq': 1, 'min_child_samples': 46}. Best is trial 45 with value: 0.02307327339299987.\n"
     ]
    },
    {
     "name": "stderr",
     "output_type": "stream",
     "text": [
      "2025-06-04 16:35:55,735 - src.metrics - INFO - Evaluating ranking                      \n",
      "2025-06-04 16:35:55,747 - src.metrics - INFO - Mean average precision at k: 0.9142575063940475\n",
      "2025-06-04 16:35:55,919 - src.metrics - INFO - Evaluating ranking                      \n",
      "2025-06-04 16:35:55,930 - src.metrics - INFO - Mean average precision at k: 0.022758948371160822\n",
      "Best trial: 45. Best value: 0.0230733:  76%|███████▌  | 76/100 [07:04<02:52,  7.17s/it]"
     ]
    },
    {
     "name": "stdout",
     "output_type": "stream",
     "text": [
      "\n",
      "MAP@K (valid train): 0.914\n",
      "\n",
      "MAP@K (valid inference): 0.023\n",
      "[I 2025-06-04 16:35:55,945] Trial 75 finished with value: 0.022758948371160822 and parameters: {'learning_rate': 0.05127559140709729, 'n_estimators': 388, 'reg_alpha': 78.2272226705745, 'reg_lambda': 28.243378551020644, 'num_leaves': 168, 'colsample_bytree': 0.8883985339447777, 'subsample': 0.6705813201176819, 'subsample_freq': 1, 'min_child_samples': 47}. Best is trial 45 with value: 0.02307327339299987.\n"
     ]
    },
    {
     "name": "stderr",
     "output_type": "stream",
     "text": [
      "2025-06-04 16:36:02,907 - src.metrics - INFO - Evaluating ranking                      \n",
      "2025-06-04 16:36:02,919 - src.metrics - INFO - Mean average precision at k: 0.9141150700545835\n",
      "2025-06-04 16:36:03,107 - src.metrics - INFO - Evaluating ranking                      \n",
      "2025-06-04 16:36:03,118 - src.metrics - INFO - Mean average precision at k: 0.022412980443128103\n",
      "Best trial: 45. Best value: 0.0230733:  77%|███████▋  | 77/100 [07:11<02:45,  7.18s/it]"
     ]
    },
    {
     "name": "stdout",
     "output_type": "stream",
     "text": [
      "\n",
      "MAP@K (valid train): 0.914\n",
      "\n",
      "MAP@K (valid inference): 0.022\n",
      "[I 2025-06-04 16:36:03,134] Trial 76 finished with value: 0.022412980443128103 and parameters: {'learning_rate': 0.04630935210056189, 'n_estimators': 396, 'reg_alpha': 92.87819835845207, 'reg_lambda': 24.17149059642155, 'num_leaves': 196, 'colsample_bytree': 0.9981400400757745, 'subsample': 0.6972275326135374, 'subsample_freq': 1, 'min_child_samples': 48}. Best is trial 45 with value: 0.02307327339299987.\n"
     ]
    },
    {
     "name": "stderr",
     "output_type": "stream",
     "text": [
      "2025-06-04 16:36:08,680 - src.metrics - INFO - Evaluating ranking                      \n",
      "2025-06-04 16:36:08,692 - src.metrics - INFO - Mean average precision at k: 0.914145902779174\n",
      "2025-06-04 16:36:08,833 - src.metrics - INFO - Evaluating ranking                      \n",
      "2025-06-04 16:36:08,845 - src.metrics - INFO - Mean average precision at k: 0.022809974658970444\n",
      "Best trial: 45. Best value: 0.0230733:  78%|███████▊  | 78/100 [07:17<02:28,  6.74s/it]"
     ]
    },
    {
     "name": "stdout",
     "output_type": "stream",
     "text": [
      "\n",
      "MAP@K (valid train): 0.914\n",
      "\n",
      "MAP@K (valid inference): 0.023\n",
      "[I 2025-06-04 16:36:08,859] Trial 77 finished with value: 0.022809974658970444 and parameters: {'learning_rate': 0.05994814733227394, 'n_estimators': 377, 'reg_alpha': 83.29371591036218, 'reg_lambda': 37.083487761612574, 'num_leaves': 159, 'colsample_bytree': 0.9000832052013076, 'subsample': 0.598498063531006, 'subsample_freq': 1, 'min_child_samples': 52}. Best is trial 45 with value: 0.02307327339299987.\n"
     ]
    },
    {
     "name": "stderr",
     "output_type": "stream",
     "text": [
      "2025-06-04 16:36:16,847 - src.metrics - INFO - Evaluating ranking                      \n",
      "2025-06-04 16:36:16,860 - src.metrics - INFO - Mean average precision at k: 0.9141500175490753\n",
      "2025-06-04 16:36:17,072 - src.metrics - INFO - Evaluating ranking                      \n",
      "2025-06-04 16:36:17,083 - src.metrics - INFO - Mean average precision at k: 0.022200774607159295\n",
      "Best trial: 45. Best value: 0.0230733:  79%|███████▉  | 79/100 [07:25<02:31,  7.19s/it]"
     ]
    },
    {
     "name": "stdout",
     "output_type": "stream",
     "text": [
      "\n",
      "MAP@K (valid train): 0.914\n",
      "\n",
      "MAP@K (valid inference): 0.022\n",
      "[I 2025-06-04 16:36:17,101] Trial 78 finished with value: 0.022200774607159295 and parameters: {'learning_rate': 0.03794493542021189, 'n_estimators': 381, 'reg_alpha': 68.98108636491753, 'reg_lambda': 39.760834974814955, 'num_leaves': 162, 'colsample_bytree': 0.8915289279866498, 'subsample': 0.5788998804525921, 'subsample_freq': 1, 'min_child_samples': 52}. Best is trial 45 with value: 0.02307327339299987.\n"
     ]
    },
    {
     "name": "stderr",
     "output_type": "stream",
     "text": [
      "2025-06-04 16:36:21,823 - src.metrics - INFO - Evaluating ranking                      \n",
      "2025-06-04 16:36:21,836 - src.metrics - INFO - Mean average precision at k: 0.9122878901497384\n",
      "2025-06-04 16:36:21,960 - src.metrics - INFO - Evaluating ranking                      \n",
      "2025-06-04 16:36:21,971 - src.metrics - INFO - Mean average precision at k: 0.02188364135775005\n",
      "Best trial: 45. Best value: 0.0230733:  80%|████████  | 80/100 [07:30<02:09,  6.50s/it]"
     ]
    },
    {
     "name": "stdout",
     "output_type": "stream",
     "text": [
      "\n",
      "MAP@K (valid train): 0.912\n",
      "\n",
      "MAP@K (valid inference): 0.022\n",
      "[I 2025-06-04 16:36:21,986] Trial 79 finished with value: 0.02188364135775005 and parameters: {'learning_rate': 0.06051854844713979, 'n_estimators': 300, 'reg_alpha': 73.68069730438397, 'reg_lambda': 30.834322222273528, 'num_leaves': 141, 'colsample_bytree': 0.7784394902993597, 'subsample': 0.5180586115061909, 'subsample_freq': 1, 'min_child_samples': 60}. Best is trial 45 with value: 0.02307327339299987.\n"
     ]
    },
    {
     "name": "stderr",
     "output_type": "stream",
     "text": [
      "2025-06-04 16:36:30,260 - src.metrics - INFO - Evaluating ranking                      \n",
      "2025-06-04 16:36:30,273 - src.metrics - INFO - Mean average precision at k: 0.9121969103069189\n",
      "2025-06-04 16:36:30,503 - src.metrics - INFO - Evaluating ranking                      \n",
      "2025-06-04 16:36:30,514 - src.metrics - INFO - Mean average precision at k: 0.0215078145502918\n",
      "Best trial: 45. Best value: 0.0230733:  81%|████████  | 81/100 [07:38<02:15,  7.11s/it]"
     ]
    },
    {
     "name": "stdout",
     "output_type": "stream",
     "text": [
      "\n",
      "MAP@K (valid train): 0.912\n",
      "\n",
      "MAP@K (valid inference): 0.022\n",
      "[I 2025-06-04 16:36:30,529] Trial 80 finished with value: 0.0215078145502918 and parameters: {'learning_rate': 0.033796846190151456, 'n_estimators': 475, 'reg_alpha': 78.14079540273049, 'reg_lambda': 35.936534889770265, 'num_leaves': 63, 'colsample_bytree': 0.8169952291389496, 'subsample': 0.6229787233508708, 'subsample_freq': 1, 'min_child_samples': 45}. Best is trial 45 with value: 0.02307327339299987.\n"
     ]
    },
    {
     "name": "stderr",
     "output_type": "stream",
     "text": [
      "2025-06-04 16:36:37,812 - src.metrics - INFO - Evaluating ranking                      \n",
      "2025-06-04 16:36:37,826 - src.metrics - INFO - Mean average precision at k: 0.913773364994004\n",
      "2025-06-04 16:36:38,024 - src.metrics - INFO - Evaluating ranking                      \n",
      "2025-06-04 16:36:38,034 - src.metrics - INFO - Mean average precision at k: 0.022569495693665582\n",
      "Best trial: 45. Best value: 0.0230733:  82%|████████▏ | 82/100 [07:46<02:10,  7.23s/it]"
     ]
    },
    {
     "name": "stdout",
     "output_type": "stream",
     "text": [
      "\n",
      "MAP@K (valid train): 0.914\n",
      "\n",
      "MAP@K (valid inference): 0.023\n",
      "[I 2025-06-04 16:36:38,048] Trial 81 finished with value: 0.022569495693665582 and parameters: {'learning_rate': 0.04879819795085216, 'n_estimators': 381, 'reg_alpha': 82.73883971968344, 'reg_lambda': 29.1687707660209, 'num_leaves': 166, 'colsample_bytree': 0.9204418565066131, 'subsample': 0.6627336177911392, 'subsample_freq': 1, 'min_child_samples': 41}. Best is trial 45 with value: 0.02307327339299987.\n"
     ]
    },
    {
     "name": "stderr",
     "output_type": "stream",
     "text": [
      "2025-06-04 16:36:43,424 - src.metrics - INFO - Evaluating ranking                      \n",
      "2025-06-04 16:36:43,437 - src.metrics - INFO - Mean average precision at k: 0.9153806156868932\n",
      "2025-06-04 16:36:43,578 - src.metrics - INFO - Evaluating ranking                      \n",
      "2025-06-04 16:36:43,589 - src.metrics - INFO - Mean average precision at k: 0.022753185464712725\n",
      "Best trial: 45. Best value: 0.0230733:  83%|████████▎ | 83/100 [07:51<01:54,  6.73s/it]"
     ]
    },
    {
     "name": "stdout",
     "output_type": "stream",
     "text": [
      "\n",
      "MAP@K (valid train): 0.915\n",
      "\n",
      "MAP@K (valid inference): 0.023\n",
      "[I 2025-06-04 16:36:43,603] Trial 82 finished with value: 0.022753185464712725 and parameters: {'learning_rate': 0.0655444118613187, 'n_estimators': 356, 'reg_alpha': 88.56891237220418, 'reg_lambda': 26.395501188029147, 'num_leaves': 180, 'colsample_bytree': 0.9671394881360056, 'subsample': 0.6934217176646714, 'subsample_freq': 1, 'min_child_samples': 52}. Best is trial 45 with value: 0.02307327339299987.\n"
     ]
    },
    {
     "name": "stderr",
     "output_type": "stream",
     "text": [
      "2025-06-04 16:36:48,631 - src.metrics - INFO - Evaluating ranking                      \n",
      "2025-06-04 16:36:48,644 - src.metrics - INFO - Mean average precision at k: 0.9138320069320178\n",
      "2025-06-04 16:36:48,779 - src.metrics - INFO - Evaluating ranking                      \n",
      "2025-06-04 16:36:48,790 - src.metrics - INFO - Mean average precision at k: 0.022746068994064738\n",
      "Best trial: 45. Best value: 0.0230733:  84%|████████▍ | 84/100 [07:57<01:40,  6.27s/it]"
     ]
    },
    {
     "name": "stdout",
     "output_type": "stream",
     "text": [
      "\n",
      "MAP@K (valid train): 0.914\n",
      "\n",
      "MAP@K (valid inference): 0.023\n",
      "[I 2025-06-04 16:36:48,805] Trial 83 finished with value: 0.022746068994064738 and parameters: {'learning_rate': 0.05760755508550125, 'n_estimators': 368, 'reg_alpha': 88.43426153862856, 'reg_lambda': 20.823283517353303, 'num_leaves': 133, 'colsample_bytree': 0.8434947920374434, 'subsample': 0.6133162817779108, 'subsample_freq': 1, 'min_child_samples': 51}. Best is trial 45 with value: 0.02307327339299987.\n"
     ]
    },
    {
     "name": "stderr",
     "output_type": "stream",
     "text": [
      "2025-06-04 16:36:58,951 - src.metrics - INFO - Evaluating ranking                      \n",
      "2025-06-04 16:36:58,965 - src.metrics - INFO - Mean average precision at k: 0.9111284896479075\n",
      "2025-06-04 16:36:59,256 - src.metrics - INFO - Evaluating ranking                      \n",
      "2025-06-04 16:36:59,267 - src.metrics - INFO - Mean average precision at k: 0.02116872293558069\n",
      "Best trial: 45. Best value: 0.0230733:  85%|████████▌ | 85/100 [08:07<01:52,  7.53s/it]"
     ]
    },
    {
     "name": "stdout",
     "output_type": "stream",
     "text": [
      "\n",
      "MAP@K (valid train): 0.911\n",
      "\n",
      "MAP@K (valid inference): 0.021\n",
      "[I 2025-06-04 16:36:59,281] Trial 84 finished with value: 0.02116872293558069 and parameters: {'learning_rate': 0.02662281334550004, 'n_estimators': 359, 'reg_alpha': 88.77200206722725, 'reg_lambda': 19.961644571957734, 'num_leaves': 137, 'colsample_bytree': 0.8443170471393628, 'subsample': 0.5998602300227944, 'subsample_freq': 1, 'min_child_samples': 52}. Best is trial 45 with value: 0.02307327339299987.\n"
     ]
    },
    {
     "name": "stderr",
     "output_type": "stream",
     "text": [
      "2025-06-04 16:37:04,845 - src.metrics - INFO - Evaluating ranking                      \n",
      "2025-06-04 16:37:04,858 - src.metrics - INFO - Mean average precision at k: 0.9136298990566484\n",
      "2025-06-04 16:37:05,004 - src.metrics - INFO - Evaluating ranking                      \n",
      "2025-06-04 16:37:05,014 - src.metrics - INFO - Mean average precision at k: 0.021729527070519023\n",
      "Best trial: 45. Best value: 0.0230733:  86%|████████▌ | 86/100 [08:13<01:37,  7.00s/it]"
     ]
    },
    {
     "name": "stdout",
     "output_type": "stream",
     "text": [
      "\n",
      "MAP@K (valid train): 0.914\n",
      "\n",
      "MAP@K (valid inference): 0.022\n",
      "[I 2025-06-04 16:37:05,029] Trial 85 finished with value: 0.021729527070519023 and parameters: {'learning_rate': 0.06273521764845871, 'n_estimators': 357, 'reg_alpha': 84.25629668997692, 'reg_lambda': 24.7902006931664, 'num_leaves': 157, 'colsample_bytree': 0.8905843395097086, 'subsample': 0.6763173672854222, 'subsample_freq': 1, 'min_child_samples': 47}. Best is trial 45 with value: 0.02307327339299987.\n"
     ]
    },
    {
     "name": "stderr",
     "output_type": "stream",
     "text": [
      "2025-06-04 16:37:12,295 - src.metrics - INFO - Evaluating ranking                      \n",
      "2025-06-04 16:37:12,309 - src.metrics - INFO - Mean average precision at k: 0.913994272120828\n",
      "2025-06-04 16:37:12,501 - src.metrics - INFO - Evaluating ranking                      \n",
      "2025-06-04 16:37:12,512 - src.metrics - INFO - Mean average precision at k: 0.022666257793240295\n",
      "Best trial: 45. Best value: 0.0230733:  87%|████████▋ | 87/100 [08:20<01:32,  7.15s/it]"
     ]
    },
    {
     "name": "stdout",
     "output_type": "stream",
     "text": [
      "\n",
      "MAP@K (valid train): 0.914\n",
      "\n",
      "MAP@K (valid inference): 0.023\n",
      "[I 2025-06-04 16:37:12,527] Trial 86 finished with value: 0.022666257793240295 and parameters: {'learning_rate': 0.04190177745834756, 'n_estimators': 410, 'reg_alpha': 87.9138769750624, 'reg_lambda': 14.231182327300317, 'num_leaves': 207, 'colsample_bytree': 0.9401352303268103, 'subsample': 0.5731882333042612, 'subsample_freq': 1, 'min_child_samples': 57}. Best is trial 45 with value: 0.02307327339299987.\n"
     ]
    },
    {
     "name": "stderr",
     "output_type": "stream",
     "text": [
      "2025-06-04 16:37:17,221 - src.metrics - INFO - Evaluating ranking                      \n",
      "2025-06-04 16:37:17,234 - src.metrics - INFO - Mean average precision at k: 0.9039986803805267\n",
      "2025-06-04 16:37:17,361 - src.metrics - INFO - Evaluating ranking                      \n",
      "2025-06-04 16:37:17,372 - src.metrics - INFO - Mean average precision at k: 0.01943000232232722\n",
      "Best trial: 45. Best value: 0.0230733:  88%|████████▊ | 88/100 [08:25<01:17,  6.46s/it]"
     ]
    },
    {
     "name": "stdout",
     "output_type": "stream",
     "text": [
      "\n",
      "MAP@K (valid train): 0.904\n",
      "\n",
      "MAP@K (valid inference): 0.019\n",
      "[I 2025-06-04 16:37:17,389] Trial 87 finished with value: 0.01943000232232722 and parameters: {'learning_rate': 0.05215569612488, 'n_estimators': 442, 'reg_alpha': 90.57099885430077, 'reg_lambda': 22.55200712898413, 'num_leaves': 174, 'colsample_bytree': 0.5896370455549359, 'subsample': 0.5185545124120501, 'subsample_freq': 1, 'min_child_samples': 54}. Best is trial 45 with value: 0.02307327339299987.\n"
     ]
    },
    {
     "name": "stderr",
     "output_type": "stream",
     "text": [
      "2025-06-04 16:37:23,045 - src.metrics - INFO - Evaluating ranking                      \n",
      "2025-06-04 16:37:23,059 - src.metrics - INFO - Mean average precision at k: 0.9054531150670471\n",
      "2025-06-04 16:37:23,213 - src.metrics - INFO - Evaluating ranking                      \n",
      "2025-06-04 16:37:23,224 - src.metrics - INFO - Mean average precision at k: 0.019583613898370954\n",
      "Best trial: 45. Best value: 0.0230733:  89%|████████▉ | 89/100 [08:31<01:09,  6.28s/it]"
     ]
    },
    {
     "name": "stdout",
     "output_type": "stream",
     "text": [
      "\n",
      "MAP@K (valid train): 0.905\n",
      "\n",
      "MAP@K (valid inference): 0.020\n",
      "[I 2025-06-04 16:37:23,240] Trial 88 finished with value: 0.019583613898370954 and parameters: {'learning_rate': 0.05778131638013073, 'n_estimators': 324, 'reg_alpha': 92.61246956987998, 'reg_lambda': 34.3988022155784, 'num_leaves': 118, 'colsample_bytree': 0.5007415545964742, 'subsample': 0.6323654203528571, 'subsample_freq': 1, 'min_child_samples': 37}. Best is trial 45 with value: 0.02307327339299987.\n"
     ]
    },
    {
     "name": "stderr",
     "output_type": "stream",
     "text": [
      "2025-06-04 16:37:34,708 - src.metrics - INFO - Evaluating ranking                      \n",
      "2025-06-04 16:37:34,722 - src.metrics - INFO - Mean average precision at k: 0.9097495712381947\n",
      "2025-06-04 16:37:35,064 - src.metrics - INFO - Evaluating ranking                      \n",
      "2025-06-04 16:37:35,075 - src.metrics - INFO - Mean average precision at k: 0.021074290530397215\n",
      "Best trial: 45. Best value: 0.0230733:  90%|█████████ | 90/100 [08:43<01:19,  7.95s/it]"
     ]
    },
    {
     "name": "stdout",
     "output_type": "stream",
     "text": [
      "\n",
      "MAP@K (valid train): 0.910\n",
      "\n",
      "MAP@K (valid inference): 0.021\n",
      "[I 2025-06-04 16:37:35,089] Trial 89 finished with value: 0.021074290530397215 and parameters: {'learning_rate': 0.020497827789806, 'n_estimators': 347, 'reg_alpha': 99.94123830843138, 'reg_lambda': 18.942344185100232, 'num_leaves': 194, 'colsample_bytree': 0.8611157876871797, 'subsample': 0.6153081739889783, 'subsample_freq': 1, 'min_child_samples': 50}. Best is trial 45 with value: 0.02307327339299987.\n"
     ]
    },
    {
     "name": "stderr",
     "output_type": "stream",
     "text": [
      "2025-06-04 16:37:40,364 - src.metrics - INFO - Evaluating ranking                      \n",
      "2025-06-04 16:37:40,378 - src.metrics - INFO - Mean average precision at k: 0.9149420873630433\n",
      "2025-06-04 16:37:40,527 - src.metrics - INFO - Evaluating ranking                      \n",
      "2025-06-04 16:37:40,538 - src.metrics - INFO - Mean average precision at k: 0.02264692542632865\n",
      "Best trial: 45. Best value: 0.0230733:  91%|█████████ | 91/100 [08:48<01:04,  7.21s/it]"
     ]
    },
    {
     "name": "stdout",
     "output_type": "stream",
     "text": [
      "\n",
      "MAP@K (valid train): 0.915\n",
      "\n",
      "MAP@K (valid inference): 0.023\n",
      "[I 2025-06-04 16:37:40,562] Trial 90 finished with value: 0.02264692542632865 and parameters: {'learning_rate': 0.06738473237835846, 'n_estimators': 369, 'reg_alpha': 79.31173325884203, 'reg_lambda': 29.270887850792416, 'num_leaves': 89, 'colsample_bytree': 0.9157658034127935, 'subsample': 0.6560026874714355, 'subsample_freq': 1, 'min_child_samples': 46}. Best is trial 45 with value: 0.02307327339299987.\n"
     ]
    },
    {
     "name": "stderr",
     "output_type": "stream",
     "text": [
      "2025-06-04 16:37:46,389 - src.metrics - INFO - Evaluating ranking                      \n",
      "2025-06-04 16:37:46,402 - src.metrics - INFO - Mean average precision at k: 0.912521788526368\n",
      "2025-06-04 16:37:46,539 - src.metrics - INFO - Evaluating ranking                      \n",
      "2025-06-04 16:37:46,550 - src.metrics - INFO - Mean average precision at k: 0.02184197322391197\n",
      "Best trial: 45. Best value: 0.0230733:  92%|█████████▏| 92/100 [08:54<00:54,  6.85s/it]"
     ]
    },
    {
     "name": "stdout",
     "output_type": "stream",
     "text": [
      "\n",
      "MAP@K (valid train): 0.913\n",
      "\n",
      "MAP@K (valid inference): 0.022\n",
      "[I 2025-06-04 16:37:46,566] Trial 91 finished with value: 0.02184197322391197 and parameters: {'learning_rate': 0.054734507471627135, 'n_estimators': 385, 'reg_alpha': 64.25171609794474, 'reg_lambda': 38.733750807410786, 'num_leaves': 112, 'colsample_bytree': 0.7932367669344182, 'subsample': 0.7614971932607079, 'subsample_freq': 1, 'min_child_samples': 65}. Best is trial 45 with value: 0.02307327339299987.\n"
     ]
    },
    {
     "name": "stderr",
     "output_type": "stream",
     "text": [
      "2025-06-04 16:37:51,410 - src.metrics - INFO - Evaluating ranking                      \n",
      "2025-06-04 16:37:51,424 - src.metrics - INFO - Mean average precision at k: 0.913240496769936\n",
      "2025-06-04 16:37:51,577 - src.metrics - INFO - Evaluating ranking                      \n",
      "2025-06-04 16:37:51,588 - src.metrics - INFO - Mean average precision at k: 0.021766625137303083\n",
      "Best trial: 45. Best value: 0.0230733:  93%|█████████▎| 93/100 [08:59<00:44,  6.30s/it]"
     ]
    },
    {
     "name": "stdout",
     "output_type": "stream",
     "text": [
      "\n",
      "MAP@K (valid train): 0.913\n",
      "\n",
      "MAP@K (valid inference): 0.022\n",
      "[I 2025-06-04 16:37:51,603] Trial 92 finished with value: 0.021766625137303083 and parameters: {'learning_rate': 0.10965686016305372, 'n_estimators': 408, 'reg_alpha': 81.89709654954764, 'reg_lambda': 85.50654486001778, 'num_leaves': 151, 'colsample_bytree': 0.8370942776106991, 'subsample': 0.7124766262237106, 'subsample_freq': 1, 'min_child_samples': 59}. Best is trial 45 with value: 0.02307327339299987.\n"
     ]
    },
    {
     "name": "stderr",
     "output_type": "stream",
     "text": [
      "2025-06-04 16:38:00,169 - src.metrics - INFO - Evaluating ranking                      \n",
      "2025-06-04 16:38:00,182 - src.metrics - INFO - Mean average precision at k: 0.9134417833492415\n",
      "2025-06-04 16:38:00,420 - src.metrics - INFO - Evaluating ranking                      \n",
      "2025-06-04 16:38:00,432 - src.metrics - INFO - Mean average precision at k: 0.021527611953743506\n",
      "Best trial: 45. Best value: 0.0230733:  94%|█████████▍| 94/100 [09:08<00:42,  7.07s/it]"
     ]
    },
    {
     "name": "stdout",
     "output_type": "stream",
     "text": [
      "\n",
      "MAP@K (valid train): 0.913\n",
      "\n",
      "MAP@K (valid inference): 0.022\n",
      "[I 2025-06-04 16:38:00,447] Trial 93 finished with value: 0.021527611953743506 and parameters: {'learning_rate': 0.047057942567711, 'n_estimators': 336, 'reg_alpha': 76.07067296302911, 'reg_lambda': 32.15861060509502, 'num_leaves': 274, 'colsample_bytree': 0.7174136410858559, 'subsample': 0.7777320034340722, 'subsample_freq': 1, 'min_child_samples': 51}. Best is trial 45 with value: 0.02307327339299987.\n"
     ]
    },
    {
     "name": "stderr",
     "output_type": "stream",
     "text": [
      "2025-06-04 16:38:05,436 - src.metrics - INFO - Evaluating ranking                      \n",
      "2025-06-04 16:38:05,450 - src.metrics - INFO - Mean average precision at k: 0.9137256670849611\n",
      "2025-06-04 16:38:05,583 - src.metrics - INFO - Evaluating ranking                      \n",
      "2025-06-04 16:38:05,594 - src.metrics - INFO - Mean average precision at k: 0.022420913491389877\n",
      "Best trial: 45. Best value: 0.0230733:  95%|█████████▌| 95/100 [09:13<00:32,  6.49s/it]"
     ]
    },
    {
     "name": "stdout",
     "output_type": "stream",
     "text": [
      "\n",
      "MAP@K (valid train): 0.914\n",
      "\n",
      "MAP@K (valid inference): 0.022\n",
      "[I 2025-06-04 16:38:05,608] Trial 94 finished with value: 0.022420913491389877 and parameters: {'learning_rate': 0.06489612672867269, 'n_estimators': 420, 'reg_alpha': 88.43184784764466, 'reg_lambda': 46.05651471806345, 'num_leaves': 128, 'colsample_bytree': 0.8741486785749096, 'subsample': 0.6938451531429095, 'subsample_freq': 1, 'min_child_samples': 54}. Best is trial 45 with value: 0.02307327339299987.\n"
     ]
    },
    {
     "name": "stderr",
     "output_type": "stream",
     "text": [
      "2025-06-04 16:38:10,455 - src.metrics - INFO - Evaluating ranking                      \n",
      "2025-06-04 16:38:10,469 - src.metrics - INFO - Mean average precision at k: 0.9141573450289928\n",
      "2025-06-04 16:38:10,582 - src.metrics - INFO - Evaluating ranking                      \n",
      "2025-06-04 16:38:10,593 - src.metrics - INFO - Mean average precision at k: 0.02251798608981492\n",
      "Best trial: 45. Best value: 0.0230733:  96%|█████████▌| 96/100 [09:18<00:24,  6.05s/it]"
     ]
    },
    {
     "name": "stdout",
     "output_type": "stream",
     "text": [
      "\n",
      "MAP@K (valid train): 0.914\n",
      "\n",
      "MAP@K (valid inference): 0.023\n",
      "[I 2025-06-04 16:38:10,606] Trial 95 finished with value: 0.02251798608981492 and parameters: {'learning_rate': 0.10431778464730684, 'n_estimators': 315, 'reg_alpha': 72.59339507814354, 'reg_lambda': 87.54912764520701, 'num_leaves': 288, 'colsample_bytree': 0.9469588268650049, 'subsample': 0.6877489749275881, 'subsample_freq': 6, 'min_child_samples': 61}. Best is trial 45 with value: 0.02307327339299987.\n"
     ]
    },
    {
     "name": "stderr",
     "output_type": "stream",
     "text": [
      "2025-06-04 16:38:13,689 - src.metrics - INFO - Evaluating ranking                      \n",
      "2025-06-04 16:38:13,703 - src.metrics - INFO - Mean average precision at k: 0.9103190354918731\n",
      "2025-06-04 16:38:13,801 - src.metrics - INFO - Evaluating ranking                      \n",
      "2025-06-04 16:38:13,812 - src.metrics - INFO - Mean average precision at k: 0.02179617687015215\n",
      "Best trial: 45. Best value: 0.0230733:  97%|█████████▋| 97/100 [09:22<00:15,  5.20s/it]"
     ]
    },
    {
     "name": "stdout",
     "output_type": "stream",
     "text": [
      "\n",
      "MAP@K (valid train): 0.910\n",
      "\n",
      "MAP@K (valid inference): 0.022\n",
      "[I 2025-06-04 16:38:13,826] Trial 96 finished with value: 0.02179617687015215 and parameters: {'learning_rate': 0.12051033987338541, 'n_estimators': 354, 'reg_alpha': 84.73983785151407, 'reg_lambda': 37.29556900401671, 'num_leaves': 217, 'colsample_bytree': 0.6689878453426988, 'subsample': 0.5579807570173017, 'subsample_freq': 1, 'min_child_samples': 43}. Best is trial 45 with value: 0.02307327339299987.\n"
     ]
    },
    {
     "name": "stderr",
     "output_type": "stream",
     "text": [
      "2025-06-04 16:38:22,106 - src.metrics - INFO - Evaluating ranking                      \n",
      "2025-06-04 16:38:22,120 - src.metrics - INFO - Mean average precision at k: 0.9154677736446334\n",
      "2025-06-04 16:38:22,312 - src.metrics - INFO - Evaluating ranking                      \n",
      "2025-06-04 16:38:22,322 - src.metrics - INFO - Mean average precision at k: 0.02288687571989654\n",
      "Best trial: 45. Best value: 0.0230733:  98%|█████████▊| 98/100 [09:30<00:12,  6.19s/it]"
     ]
    },
    {
     "name": "stdout",
     "output_type": "stream",
     "text": [
      "\n",
      "MAP@K (valid train): 0.915\n",
      "\n",
      "MAP@K (valid inference): 0.023\n",
      "[I 2025-06-04 16:38:22,337] Trial 97 finished with value: 0.02288687571989654 and parameters: {'learning_rate': 0.0732588162212124, 'n_estimators': 386, 'reg_alpha': 54.728227354256305, 'reg_lambda': 26.243222255819624, 'num_leaves': 330, 'colsample_bytree': 0.9730550108153205, 'subsample': 0.7260660821248917, 'subsample_freq': 2, 'min_child_samples': 74}. Best is trial 45 with value: 0.02307327339299987.\n"
     ]
    },
    {
     "name": "stderr",
     "output_type": "stream",
     "text": [
      "2025-06-04 16:38:28,871 - src.metrics - INFO - Evaluating ranking                      \n",
      "2025-06-04 16:38:28,884 - src.metrics - INFO - Mean average precision at k: 0.9147627344116073\n",
      "2025-06-04 16:38:29,021 - src.metrics - INFO - Evaluating ranking                      \n",
      "2025-06-04 16:38:29,032 - src.metrics - INFO - Mean average precision at k: 0.02248701774866534\n",
      "Best trial: 45. Best value: 0.0230733:  99%|█████████▉| 99/100 [09:37<00:06,  6.35s/it]"
     ]
    },
    {
     "name": "stdout",
     "output_type": "stream",
     "text": [
      "\n",
      "MAP@K (valid train): 0.915\n",
      "\n",
      "MAP@K (valid inference): 0.022\n",
      "[I 2025-06-04 16:38:29,047] Trial 98 finished with value: 0.02248701774866534 and parameters: {'learning_rate': 0.0731905128281869, 'n_estimators': 374, 'reg_alpha': 51.466622841618026, 'reg_lambda': 23.1596348075288, 'num_leaves': 321, 'colsample_bytree': 0.9762703731594188, 'subsample': 0.6107917526969784, 'subsample_freq': 2, 'min_child_samples': 74}. Best is trial 45 with value: 0.02307327339299987.\n"
     ]
    },
    {
     "name": "stderr",
     "output_type": "stream",
     "text": [
      "2025-06-04 16:38:34,421 - src.metrics - INFO - Evaluating ranking                      \n",
      "2025-06-04 16:38:34,434 - src.metrics - INFO - Mean average precision at k: 0.915057707172106\n",
      "2025-06-04 16:38:34,557 - src.metrics - INFO - Evaluating ranking                      \n",
      "2025-06-04 16:38:34,568 - src.metrics - INFO - Mean average precision at k: 0.022283357618543238\n",
      "Best trial: 45. Best value: 0.0230733: 100%|██████████| 100/100 [09:42<00:00,  5.83s/it]\n",
      "2025-06-04 16:38:34,586 - src.utils.core_utils - INFO - Best trial: 45\n",
      "2025-06-04 16:38:34,587 - src.utils.core_utils - INFO - Best value: 0.02307327339299987\n",
      "2025-06-04 16:38:34,587 - src.utils.core_utils - INFO - Best parameters: {'learning_rate': 0.09619956645222151, 'n_estimators': 345, 'reg_alpha': 96.91574404040995, 'reg_lambda': 83.77826477431071, 'num_leaves': 280, 'colsample_bytree': 0.9805268852942068, 'subsample': 0.7928253521248246, 'subsample_freq': 2, 'min_child_samples': 75}\n",
      "2025-06-04 16:38:34,594 - src.utils.core_utils - INFO - MLflow run ID: 04b35282c29a459998dc2200885348e6\n"
     ]
    },
    {
     "name": "stdout",
     "output_type": "stream",
     "text": [
      "\n",
      "MAP@K (valid train): 0.915\n",
      "\n",
      "MAP@K (valid inference): 0.022\n",
      "[I 2025-06-04 16:38:34,584] Trial 99 finished with value: 0.022283357618543238 and parameters: {'learning_rate': 0.08171487264468276, 'n_estimators': 466, 'reg_alpha': 56.19162548698226, 'reg_lambda': 26.556832031166238, 'num_leaves': 307, 'colsample_bytree': 0.9226439616662236, 'subsample': 0.646668900249789, 'subsample_freq': 2, 'min_child_samples': 55}. Best is trial 45 with value: 0.02307327339299987.\n"
     ]
    }
   ],
   "source": [
    "run_id = hyperparameter_tuning_pipeline.run()"
   ]
  },
  {
   "cell_type": "code",
   "execution_count": 9,
   "metadata": {},
   "outputs": [
    {
     "name": "stdout",
     "output_type": "stream",
     "text": [
      "04b35282c29a459998dc2200885348e6\n"
     ]
    }
   ],
   "source": [
    "print(run_id)"
   ]
  },
  {
   "cell_type": "code",
   "execution_count": null,
   "metadata": {},
   "outputs": [],
   "source": []
  }
 ],
 "metadata": {
  "kernelspec": {
   "display_name": "venv",
   "language": "python",
   "name": "python3"
  },
  "language_info": {
   "codemirror_mode": {
    "name": "ipython",
    "version": 3
   },
   "file_extension": ".py",
   "mimetype": "text/x-python",
   "name": "python",
   "nbconvert_exporter": "python",
   "pygments_lexer": "ipython3",
   "version": "3.12.10"
  }
 },
 "nbformat": 4,
 "nbformat_minor": 2
}
