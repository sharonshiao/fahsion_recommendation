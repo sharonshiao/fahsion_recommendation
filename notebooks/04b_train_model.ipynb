{
 "cells": [
  {
   "cell_type": "markdown",
   "metadata": {},
   "source": [
    "# 4b Train model with tuned hyperparameters\n"
   ]
  },
  {
   "cell_type": "code",
   "execution_count": null,
   "metadata": {},
   "outputs": [],
   "source": [
    "%load_ext autoreload\n",
    "%autoreload 2"
   ]
  },
  {
   "cell_type": "code",
   "execution_count": null,
   "metadata": {},
   "outputs": [],
   "source": [
    "import sys\n",
    "import logging\n",
    "\n",
    "\n",
    "# Import lightgbm here to ensure that it is imported before torch\n",
    "# See https://www.google.com/search?q=lightgbm+torch+segfauly&newwindow=1&client=safari&sca_esv=b42e03ff43b61ad3&rls=en&sxsrf=AE3TifPG5Xxf2f6TjGmcjxu7NsghDNfWqA%3A1749001272991&ei=OKQ_aPmmPPrA0PEPk-iYmQg&ved=0ahUKEwj5otq80daNAxV6IDQIHRM0JoMQ4dUDCBA&uact=5&oq=lightgbm+torch+segfauly&gs_lp=Egxnd3Mtd2l6LXNlcnAiF2xpZ2h0Z2JtIHRvcmNoIHNlZ2ZhdWx5MgUQIRigATIFECEYoAEyBRAhGKABMgUQIRifBUjQF1DeC1j7FnABeACQAQCYAXqgAbUFqgEDNC4zuAEDyAEA-AEBmAIIoALbBcICCxAAGLADGKIEGIkFwgILEAAYgAQYsAMYogTCAggQABiwAxjvBcICBRAhGKsCwgIHECEYoAEYCpgDAIgGAZAGBJIHAzQuNKAH0yGyBwMzLjS4B9cFwgcFMC41LjPIBxU&sclient=gws-wiz-serp\n",
    "from lightgbm import LGBMRanker\n",
    "\n",
    "sys.path.append(\"..\")\n",
    "\n",
    "from src.utils.core_utils import setup_logging\n",
    "\n",
    "# xInitialize logging\n",
    "file_log = \"train_ranker.log\"\n",
    "root_logger = setup_logging(level=logging.DEBUG, log_file=file_log, remove_existing=True)"
   ]
  },
  {
   "cell_type": "code",
   "execution_count": null,
   "metadata": {},
   "outputs": [],
   "source": [
    "from src.ranker import RankerConfig, RankerTrainValidPipeline"
   ]
  },
  {
   "cell_type": "markdown",
   "metadata": {},
   "source": [
    "# Pipeline\n"
   ]
  },
  {
   "cell_type": "code",
   "execution_count": null,
   "metadata": {},
   "outputs": [],
   "source": [
    "ranker_config_with_tuned_hyperparameters = RankerConfig.get_config_with_tuned_hyperparameters()"
   ]
  },
  {
   "cell_type": "code",
   "execution_count": null,
   "metadata": {},
   "outputs": [],
   "source": [
    "ranker_config_with_tuned_hyperparameters.__dict__"
   ]
  },
  {
   "cell_type": "code",
   "execution_count": null,
   "metadata": {},
   "outputs": [],
   "source": [
    "ranker_pipeline = RankerTrainValidPipeline(config=ranker_config_with_tuned_hyperparameters)"
   ]
  },
  {
   "cell_type": "code",
   "execution_count": null,
   "metadata": {},
   "outputs": [],
   "source": [
    "ranker_pipeline.setup()"
   ]
  },
  {
   "cell_type": "code",
   "execution_count": null,
   "metadata": {},
   "outputs": [],
   "source": [
    "metics, feature_importance, run_id = ranker_pipeline.run()"
   ]
  },
  {
   "cell_type": "code",
   "execution_count": null,
   "metadata": {},
   "outputs": [],
   "source": [
    "print(run_id)\n",
    "print(metics)\n",
    "display(feature_importance)"
   ]
  },
  {
   "cell_type": "code",
   "execution_count": null,
   "metadata": {},
   "outputs": [],
   "source": []
  },
  {
   "cell_type": "code",
   "execution_count": null,
   "metadata": {},
   "outputs": [],
   "source": []
  }
 ],
 "metadata": {
  "kernelspec": {
   "display_name": "venv",
   "language": "python",
   "name": "python3"
  },
  "language_info": {
   "codemirror_mode": {
    "name": "ipython",
    "version": 3
   },
   "file_extension": ".py",
   "mimetype": "text/x-python",
   "name": "python",
   "nbconvert_exporter": "python",
   "pygments_lexer": "ipython3"
  }
 },
 "nbformat": 4,
 "nbformat_minor": 2
}
