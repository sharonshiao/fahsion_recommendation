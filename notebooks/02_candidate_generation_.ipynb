{
 "cells": [
  {
   "cell_type": "markdown",
   "id": "ddeec4d8",
   "metadata": {},
   "source": [
    "# 02 Candidate generation\n"
   ]
  },
  {
   "cell_type": "code",
   "execution_count": 1,
   "id": "4096ad6e",
   "metadata": {},
   "outputs": [],
   "source": [
    "%load_ext autoreload\n",
    "%autoreload 2"
   ]
  },
  {
   "cell_type": "code",
   "execution_count": 2,
   "id": "d2e127de",
   "metadata": {},
   "outputs": [],
   "source": [
    "import sys\n",
    "import logging\n",
    "import pandas as pd\n",
    "\n",
    "sys.path.append(\"..\")\n",
    "\n",
    "from src.utils.core_utils import setup_logging"
   ]
  },
  {
   "cell_type": "code",
   "execution_count": 3,
   "id": "be6200fc",
   "metadata": {},
   "outputs": [
    {
     "name": "stderr",
     "output_type": "stream",
     "text": [
      "2025-06-01 17:04:06,856 - src.utils.core_utils - INFO - Creating file handler with level: 10\n",
      "2025-06-01 17:04:06,856 - src.utils.core_utils - DEBUG - Logging setup complete to candidate_generation.log\n"
     ]
    }
   ],
   "source": [
    "# Initialize logging\n",
    "file_log = \"candidate_generation.log\"\n",
    "root_logger = setup_logging(level=logging.DEBUG, log_file=file_log, remove_existing=True)"
   ]
  },
  {
   "cell_type": "code",
   "execution_count": 4,
   "id": "613e2169",
   "metadata": {},
   "outputs": [
    {
     "ename": "NameError",
     "evalue": "name 'Union' is not defined",
     "output_type": "error",
     "traceback": [
      "\u001b[31m---------------------------------------------------------------------------\u001b[39m",
      "\u001b[31mNameError\u001b[39m                                 Traceback (most recent call last)",
      "\u001b[36mCell\u001b[39m\u001b[36m \u001b[39m\u001b[32mIn[4]\u001b[39m\u001b[32m, line 1\u001b[39m\n\u001b[32m----> \u001b[39m\u001b[32m1\u001b[39m \u001b[38;5;28;01mfrom\u001b[39;00m\u001b[38;5;250m \u001b[39m\u001b[34;01msrc\u001b[39;00m\u001b[34;01m.\u001b[39;00m\u001b[34;01mcandidate_generator\u001b[39;00m\u001b[38;5;250m \u001b[39m\u001b[38;5;28;01mimport\u001b[39;00m CandidateGeneratorPipeline, CandidatePipelineConfig\n",
      "\u001b[36mFile \u001b[39m\u001b[32m~/Dropbox/Machine_learning/projects/fahsion_recommendation/notebooks/../src/candidate_generator.py:31\u001b[39m\n\u001b[32m     27\u001b[39m     logger.info(\u001b[33mf\u001b[39m\u001b[33m\"\u001b[39m\u001b[33mFiltering transactions from \u001b[39m\u001b[38;5;132;01m{\u001b[39;00mstart_date\u001b[38;5;132;01m}\u001b[39;00m\u001b[33m to \u001b[39m\u001b[38;5;132;01m{\u001b[39;00mend_date\u001b[38;5;132;01m}\u001b[39;00m\u001b[33m\"\u001b[39m)\n\u001b[32m     28\u001b[39m     \u001b[38;5;28;01mreturn\u001b[39;00m transactions[(transactions[\u001b[33m\"\u001b[39m\u001b[33mt_dat\u001b[39m\u001b[33m\"\u001b[39m] >= start_date) & (transactions[\u001b[33m\"\u001b[39m\u001b[33mt_dat\u001b[39m\u001b[33m\"\u001b[39m] <= end_date)].copy()\n\u001b[32m---> \u001b[39m\u001b[32m31\u001b[39m \u001b[38;5;28;01mdef\u001b[39;00m\u001b[38;5;250m \u001b[39m\u001b[34mget_week_starting_wed\u001b[39m(s: \u001b[43mUnion\u001b[49m[pd.Series, pd.Timestamp]) -> pd.Series:\n\u001b[32m     32\u001b[39m     \u001b[38;5;28;01mif\u001b[39;00m \u001b[38;5;28misinstance\u001b[39m(s, pd.Series):\n\u001b[32m     33\u001b[39m         \u001b[38;5;28;01mreturn\u001b[39;00m s.dt.to_period(\u001b[33m\"\u001b[39m\u001b[33mW-TUE\u001b[39m\u001b[33m\"\u001b[39m).dt.start_time\n",
      "\u001b[31mNameError\u001b[39m: name 'Union' is not defined"
     ]
    }
   ],
   "source": [
    "from src.candidate_generator import CandidateGeneratorPipeline, CandidateGeneratorPipelineConfig"
   ]
  },
  {
   "cell_type": "markdown",
   "id": "631674c2",
   "metadata": {},
   "source": [
    "# Config\n"
   ]
  },
  {
   "cell_type": "code",
   "execution_count": 5,
   "id": "029b8d3b",
   "metadata": {},
   "outputs": [
    {
     "ename": "NameError",
     "evalue": "name 'CandidateGeneratorPipelineConfig' is not defined",
     "output_type": "error",
     "traceback": [
      "\u001b[31m---------------------------------------------------------------------------\u001b[39m",
      "\u001b[31mNameError\u001b[39m                                 Traceback (most recent call last)",
      "\u001b[36mCell\u001b[39m\u001b[36m \u001b[39m\u001b[32mIn[5]\u001b[39m\u001b[32m, line 1\u001b[39m\n\u001b[32m----> \u001b[39m\u001b[32m1\u001b[39m config_candidate_generation = \u001b[43mCandidateGeneratorPipelineConfig\u001b[49m.create_default()\n",
      "\u001b[31mNameError\u001b[39m: name 'CandidateGeneratorPipelineConfig' is not defined"
     ]
    }
   ],
   "source": [
    "config_candidate_generation = CandidateGeneratorPipelineConfig.create_default()"
   ]
  },
  {
   "cell_type": "markdown",
   "id": "b06f89fd",
   "metadata": {},
   "source": [
    "## Candidate generation\n"
   ]
  },
  {
   "cell_type": "code",
   "execution_count": 6,
   "id": "2135f3d5",
   "metadata": {},
   "outputs": [],
   "source": [
    "candidate_generator_pipeline = CandidateGeneratorPipeline(config=config_candidate_generation)"
   ]
  },
  {
   "cell_type": "code",
   "execution_count": null,
   "id": "ed0a9175",
   "metadata": {},
   "outputs": [],
   "source": [
    "candidate_generator_pipeline = candidate_generator_pipeline.setup()"
   ]
  },
  {
   "cell_type": "code",
   "execution_count": null,
   "id": "dc65c3f9",
   "metadata": {},
   "outputs": [],
   "source": [
    "candidates_train, candidates_valid, candidates_test = candidate_generator_pipeline.run()"
   ]
  },
  {
   "cell_type": "markdown",
   "id": "aa1dc561",
   "metadata": {},
   "source": [
    "## For debug\n"
   ]
  },
  {
   "cell_type": "code",
   "execution_count": null,
   "id": "2ec65f79",
   "metadata": {},
   "outputs": [],
   "source": [
    "print(list(candidates_train.__dict__.keys()))\n",
    "print(list(candidates_valid.__dict__.keys()))\n",
    "print(list(candidates_test.__dict__.keys()))"
   ]
  },
  {
   "cell_type": "code",
   "execution_count": null,
   "id": "3153ee9e",
   "metadata": {},
   "outputs": [],
   "source": [
    "print(candidates_train.get_feature_list())\n",
    "print(candidates_valid.get_feature_list())\n",
    "print(candidates_test.get_feature_list())"
   ]
  },
  {
   "cell_type": "code",
   "execution_count": null,
   "id": "8b3cf9b5",
   "metadata": {},
   "outputs": [],
   "source": [
    "print(candidates_train.data.shape)\n",
    "print(candidates_valid.data.shape)\n",
    "print(candidates_valid.data_inference.shape)\n",
    "print(candidates_test.data.shape)\n",
    "print(candidates_test.data_inference.shape)"
   ]
  },
  {
   "cell_type": "code",
   "execution_count": null,
   "id": "57088b5c",
   "metadata": {},
   "outputs": [],
   "source": [
    "candidates_train.data.info()"
   ]
  },
  {
   "cell_type": "code",
   "execution_count": null,
   "id": "e2a353e1",
   "metadata": {},
   "outputs": [],
   "source": [
    "candidates_train.data.source.value_counts()"
   ]
  },
  {
   "cell_type": "code",
   "execution_count": 14,
   "id": "9ea752fb",
   "metadata": {},
   "outputs": [],
   "source": [
    "from src.feature_extraction import load_optimized_raw_data"
   ]
  },
  {
   "cell_type": "code",
   "execution_count": null,
   "id": "d2d8faa5",
   "metadata": {},
   "outputs": [],
   "source": [
    "transactions_train = load_optimized_raw_data(\"transactions\", \"train\", 0.05, 42)"
   ]
  },
  {
   "cell_type": "code",
   "execution_count": null,
   "id": "e1e9594e",
   "metadata": {},
   "outputs": [],
   "source": [
    "transactions_valid = load_optimized_raw_data(\"transactions\", \"valid\", 0.05, 42)"
   ]
  },
  {
   "cell_type": "code",
   "execution_count": 17,
   "id": "62ae1db5",
   "metadata": {},
   "outputs": [],
   "source": [
    "train_start_date = pd.to_datetime(\"2020-07-29\")"
   ]
  },
  {
   "cell_type": "code",
   "execution_count": null,
   "id": "64546a44",
   "metadata": {},
   "outputs": [],
   "source": [
    "transactions_train = transactions_train.query(\"t_dat >= '2020-07-29' and t_dat <= '2020-09-08'\")\n",
    "transactions_train.info()"
   ]
  },
  {
   "cell_type": "code",
   "execution_count": null,
   "id": "ba77256a",
   "metadata": {},
   "outputs": [],
   "source": [
    "candidates_train.data.query(\"customer_id == 1773900972412728\")"
   ]
  },
  {
   "cell_type": "code",
   "execution_count": null,
   "id": "ee6ab5d3",
   "metadata": {},
   "outputs": [],
   "source": [
    "transactions_train.query(\"customer_id == 1773900972412728\").drop_duplicates([\"customer_id\", \"article_id\", \"week_num\"])"
   ]
  },
  {
   "cell_type": "code",
   "execution_count": null,
   "id": "4632fd9a",
   "metadata": {},
   "outputs": [],
   "source": [
    "transactions_valid.query(\"customer_id == 1773900972412728\")"
   ]
  },
  {
   "cell_type": "code",
   "execution_count": null,
   "id": "c295f538",
   "metadata": {},
   "outputs": [],
   "source": [
    "transactions_valid.customer_id.nunique()"
   ]
  },
  {
   "cell_type": "code",
   "execution_count": null,
   "id": "e74d1387",
   "metadata": {},
   "outputs": [],
   "source": [
    "candidates_valid.data.customer_id.nunique()"
   ]
  },
  {
   "cell_type": "code",
   "execution_count": null,
   "id": "933a4ec8",
   "metadata": {},
   "outputs": [],
   "source": [
    "candidates_valid.data.info()"
   ]
  },
  {
   "cell_type": "code",
   "execution_count": null,
   "id": "e2fda0dd",
   "metadata": {},
   "outputs": [],
   "source": [
    "transactions_valid[[\"customer_id\", \"article_id\", \"week_num\"]].drop_duplicates().shape"
   ]
  },
  {
   "cell_type": "code",
   "execution_count": null,
   "id": "1c5274dd",
   "metadata": {},
   "outputs": [],
   "source": [
    "candidates_valid.data.source.value_counts()"
   ]
  },
  {
   "cell_type": "code",
   "execution_count": null,
   "id": "3347e250",
   "metadata": {},
   "outputs": [],
   "source": [
    "candidates_valid.data_inference.info()"
   ]
  },
  {
   "cell_type": "code",
   "execution_count": 28,
   "id": "c1b6c184",
   "metadata": {},
   "outputs": [],
   "source": [
    "# Double check that call the negative examples in candidates_valid.data should be a subset of candidate_valid.data_inference\n",
    "tmp = candidates_valid.data.merge(\n",
    "    candidates_valid.data_inference, on=[\"customer_id\", \"article_id\", \"week_num\"], how=\"left\", indicator=True\n",
    ")"
   ]
  },
  {
   "cell_type": "code",
   "execution_count": null,
   "id": "25eac5fe",
   "metadata": {},
   "outputs": [],
   "source": [
    "# Expect that left_only should have a similar shape as positive examples\n",
    "# There should be no right_only\n",
    "tmp._merge.value_counts()"
   ]
  },
  {
   "cell_type": "code",
   "execution_count": null,
   "id": "0f8e47ca",
   "metadata": {},
   "outputs": [],
   "source": [
    "candidates_valid.data_inference.query(\"customer_id == 8383252499052781\")"
   ]
  },
  {
   "cell_type": "code",
   "execution_count": null,
   "id": "a42695bf",
   "metadata": {},
   "outputs": [],
   "source": [
    "transactions_train.query(\"customer_id == 8383252499052781\")"
   ]
  },
  {
   "cell_type": "code",
   "execution_count": null,
   "id": "247a3220",
   "metadata": {},
   "outputs": [],
   "source": [
    "transactions_valid.query(\"customer_id == 8383252499052781\")"
   ]
  },
  {
   "cell_type": "code",
   "execution_count": null,
   "id": "25b11e5f",
   "metadata": {},
   "outputs": [],
   "source": [
    "candidates_valid.data.query(\"customer_id == 8383252499052781\")"
   ]
  },
  {
   "cell_type": "markdown",
   "id": "5c85c228",
   "metadata": {},
   "source": [
    "## Test\n"
   ]
  },
  {
   "cell_type": "code",
   "execution_count": null,
   "id": "adfb5736",
   "metadata": {},
   "outputs": [],
   "source": [
    "transactions_test = load_optimized_raw_data(\"transactions\", \"test\", 0.05, 42)"
   ]
  },
  {
   "cell_type": "code",
   "execution_count": null,
   "id": "0b83b280",
   "metadata": {},
   "outputs": [],
   "source": [
    "transactions_test.info()\n",
    "print(transactions_test.shape)\n",
    "print(transactions_test.customer_id.nunique())"
   ]
  },
  {
   "cell_type": "code",
   "execution_count": null,
   "id": "bdf4103f",
   "metadata": {},
   "outputs": [],
   "source": [
    "candidates_test.data.info()"
   ]
  },
  {
   "cell_type": "code",
   "execution_count": null,
   "id": "9b607779",
   "metadata": {},
   "outputs": [],
   "source": [
    "print(candidates_test.data.customer_id.nunique())\n",
    "print(candidates_test.data_inference.customer_id.nunique())"
   ]
  },
  {
   "cell_type": "code",
   "execution_count": null,
   "id": "de00ff12",
   "metadata": {},
   "outputs": [],
   "source": [
    "print(candidates_test.data.source.value_counts())\n",
    "print(candidates_test.data_inference.source.value_counts())"
   ]
  },
  {
   "cell_type": "code",
   "execution_count": 39,
   "id": "c410ad61",
   "metadata": {},
   "outputs": [],
   "source": [
    "tmp_test = candidates_test.data.merge(\n",
    "    candidates_test.data_inference, on=[\"customer_id\", \"article_id\", \"week_num\"], how=\"left\", indicator=True\n",
    ")"
   ]
  },
  {
   "cell_type": "code",
   "execution_count": null,
   "id": "4ee1125d",
   "metadata": {},
   "outputs": [],
   "source": [
    "tmp_test._merge.value_counts()"
   ]
  },
  {
   "cell_type": "code",
   "execution_count": null,
   "id": "51b3fd79",
   "metadata": {},
   "outputs": [],
   "source": [
    "candidates_test.data_inference.head()"
   ]
  },
  {
   "cell_type": "code",
   "execution_count": null,
   "id": "d8eff6dc",
   "metadata": {},
   "outputs": [],
   "source": [
    "transactions_test.query(\"customer_id ==81250068469314753\t\")"
   ]
  },
  {
   "cell_type": "code",
   "execution_count": null,
   "id": "7a422e46",
   "metadata": {},
   "outputs": [],
   "source": [
    "candidates_test.data.query(\"customer_id == 81250068469314753\")"
   ]
  },
  {
   "cell_type": "code",
   "execution_count": null,
   "id": "a3f2f452",
   "metadata": {},
   "outputs": [],
   "source": [
    "transactions_valid.query(\"customer_id == 81250068469314753\")"
   ]
  },
  {
   "cell_type": "code",
   "execution_count": null,
   "id": "3777bd90",
   "metadata": {},
   "outputs": [],
   "source": []
  }
 ],
 "metadata": {
  "kernelspec": {
   "display_name": "venv",
   "language": "python",
   "name": "python3"
  },
  "language_info": {
   "codemirror_mode": {
    "name": "ipython",
    "version": 3
   },
   "file_extension": ".py",
   "mimetype": "text/x-python",
   "name": "python",
   "nbconvert_exporter": "python",
   "pygments_lexer": "ipython3",
   "version": "3.12.10"
  }
 },
 "nbformat": 4,
 "nbformat_minor": 5
}
