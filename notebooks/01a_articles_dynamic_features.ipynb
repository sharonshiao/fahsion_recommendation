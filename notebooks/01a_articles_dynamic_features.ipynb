{
 "cells": [
  {
   "cell_type": "markdown",
   "metadata": {},
   "source": [
    "# 1a Articles dynamic features\n"
   ]
  },
  {
   "cell_type": "code",
   "execution_count": 1,
   "metadata": {},
   "outputs": [],
   "source": [
    "%load_ext autoreload\n",
    "%autoreload 2"
   ]
  },
  {
   "cell_type": "code",
   "execution_count": 2,
   "metadata": {},
   "outputs": [],
   "source": [
    "import sys\n",
    "import logging\n",
    "import pandas as pd\n",
    "\n",
    "sys.path.append(\"..\")\n",
    "\n",
    "from src.utils.core_utils import setup_logging"
   ]
  },
  {
   "cell_type": "code",
   "execution_count": 3,
   "metadata": {},
   "outputs": [
    {
     "name": "stderr",
     "output_type": "stream",
     "text": [
      "2025-06-05 12:21:11,682 - src.utils.core_utils - INFO - Creating file handler with level: 10\n",
      "2025-06-05 12:21:11,682 - src.utils.core_utils - DEBUG - Logging setup complete to articles_dynamic_features.log\n"
     ]
    }
   ],
   "source": [
    "# Initialize logging\n",
    "file_log = \"articles_dynamic_features.log\"\n",
    "root_logger = setup_logging(level=logging.DEBUG, log_file=file_log, remove_existing=True)"
   ]
  },
  {
   "cell_type": "code",
   "execution_count": 4,
   "metadata": {},
   "outputs": [
    {
     "name": "stderr",
     "output_type": "stream",
     "text": [
      "/Users/sharonshiao/Dropbox/Machine_learning/projects/fahsion_recommendation/venv/lib/python3.12/site-packages/tqdm/auto.py:21: TqdmWarning: IProgress not found. Please update jupyter and ipywidgets. See https://ipywidgets.readthedocs.io/en/stable/user_install.html\n",
      "  from .autonotebook import tqdm as notebook_tqdm\n"
     ]
    }
   ],
   "source": [
    "from src.features_articles import ArticleDynamicFeaturePipeline, ArticleDynamicFeaturePipelineConfig\n",
    "from src.features_articles import load_optimized_raw_data"
   ]
  },
  {
   "cell_type": "markdown",
   "metadata": {},
   "source": [
    "# Run pipeline\n"
   ]
  },
  {
   "cell_type": "code",
   "execution_count": 5,
   "metadata": {},
   "outputs": [],
   "source": [
    "articles_dynamic_features_config = ArticleDynamicFeaturePipelineConfig.create_default()"
   ]
  },
  {
   "cell_type": "code",
   "execution_count": 6,
   "metadata": {},
   "outputs": [],
   "source": [
    "articles_dynamic_feature_pipeline = ArticleDynamicFeaturePipeline(articles_dynamic_features_config)"
   ]
  },
  {
   "cell_type": "code",
   "execution_count": 7,
   "metadata": {},
   "outputs": [
    {
     "name": "stderr",
     "output_type": "stream",
     "text": [
      "2025-06-05 12:21:14,310 - src.features_articles - INFO - Setting up ArticleDynamicFeaturePipeline\n",
      "2025-06-05 12:21:14,311 - src.features_articles - DEBUG - Config: {\n",
      "  \"config_processor\": {\n",
      "    \"encoding_strategy\": \"ordinal\",\n",
      "    \"categorical_features\": [],\n",
      "    \"numerical_features\": [\n",
      "      \"weekly_sales_count\",\n",
      "      \"weekly_avg_price\",\n",
      "      \"cumulative_mean_age\",\n",
      "      \"cumulative_sales_count\"\n",
      "    ],\n",
      "    \"one_hot_features\": [],\n",
      "    \"start_week_num\": 92,\n",
      "    \"end_week_num\": 104,\n",
      "    \"history_start_week_num\": 52,\n",
      "    \"history_end_week_num\": 104\n",
      "  },\n",
      "  \"subsample\": 0.25,\n",
      "  \"seed\": 42\n",
      "}\n"
     ]
    },
    {
     "data": {
      "text/plain": [
       "<src.features_articles.ArticleDynamicFeaturePipeline at 0x15b302720>"
      ]
     },
     "execution_count": 7,
     "metadata": {},
     "output_type": "execute_result"
    }
   ],
   "source": [
    "articles_dynamic_feature_pipeline.setup()"
   ]
  },
  {
   "cell_type": "code",
   "execution_count": 8,
   "metadata": {},
   "outputs": [
    {
     "name": "stderr",
     "output_type": "stream",
     "text": [
      "2025-06-05 12:21:14,333 - src.features_articles - INFO - Loading data for ArticleDynamicFeaturePipeline\n",
      "2025-06-05 12:21:14,334 - src.feature_extraction - INFO - Loading optimized raw data from transactions train 0.25 42\n",
      "2025-06-05 12:21:14,334 - src.feature_extraction - DEBUG - Loading data from ../data/transactions_train_sample_0.25_42.parquet\n",
      "2025-06-05 12:21:14,535 - src.feature_extraction - INFO - Loading optimized raw data from articles train 0.25 42\n",
      "2025-06-05 12:21:14,535 - src.feature_extraction - DEBUG - Loading data from ../data/articles_sample_0.25_42.parquet\n",
      "2025-06-05 12:21:14,582 - src.feature_extraction - INFO - Loading optimized raw data from customers train 0.25 42\n",
      "2025-06-05 12:21:14,582 - src.feature_extraction - DEBUG - Loading data from ../data/customers_sample_0.25_42.parquet\n",
      "2025-06-05 12:21:14,658 - src.features_articles - INFO - Processing article dynamic features\n",
      "2025-06-05 12:21:14,821 - src.features_articles - INFO - Generating a cross join of articles and weeks from 92 to 104\n",
      "2025-06-05 12:21:14,824 - src.features_articles - DEBUG - Found 95295 unique articles\n",
      "2025-06-05 12:21:14,824 - src.features_articles - DEBUG - Found 13 unique weeks\n",
      "2025-06-05 12:21:14,872 - src.features_articles - DEBUG - Cross join has shape: (1238835, 2)\n",
      "2025-06-05 12:21:14,873 - src.features_articles - INFO - Calculating weekly statistics\n",
      "2025-06-05 12:21:15,108 - src.features_articles - DEBUG - Weekly sales has shape: (622967, 4)\n",
      "2025-06-05 12:21:15,109 - src.features_articles - DEBUG - Weekly sales: Index(['article_id', 'week_num', 'weekly_sales_count', 'weekly_avg_price'], dtype='object')\n",
      "2025-06-05 12:21:15,110 - src.features_articles - INFO - Generating weekly statistics features\n",
      "2025-06-05 12:21:15,442 - src.features_articles - DEBUG - Weekly statistics features have shape: (1238835, 4)\n",
      "2025-06-05 12:21:15,442 - src.features_articles - DEBUG - Weekly statistics features: Index(['article_id', 'week_num', 'weekly_sales_count', 'weekly_avg_price'], dtype='object')\n",
      "2025-06-05 12:21:15,445 - src.features_articles - DEBUG - Missing values: article_id            0\n",
      "week_num              0\n",
      "weekly_sales_count    0\n",
      "weekly_avg_price      0\n",
      "dtype: int64\n",
      "2025-06-05 12:21:15,446 - src.features_articles - INFO - Calculating cumulative statistics of customers who bought the article\n",
      "2025-06-05 12:21:16,951 - src.features_articles - DEBUG - Cumulative mean age has shape: (622967, 6)\n",
      "2025-06-05 12:21:16,952 - src.features_articles - DEBUG - Cumulative mean age: Index(['article_id', 'week_num', 'customer_id', 'age',\n",
      "       'cumulative_sales_count', 'cumulative_mean_age'],\n",
      "      dtype='object')\n",
      "2025-06-05 12:21:16,956 - src.features_articles - INFO - Generating cumulative statistics\n",
      "2025-06-05 12:21:17,185 - src.features_articles - DEBUG - Filling in remaining missing values with median age or 0\n",
      "2025-06-05 12:21:17,190 - src.features_articles - DEBUG - Cumulative statistics have shape: (1238835, 6)\n",
      "2025-06-05 12:21:17,190 - src.features_articles - DEBUG - Cumulative statistics: Index(['article_id', 'week_num', 'weekly_sales_count', 'weekly_avg_price',\n",
      "       'cumulative_mean_age', 'cumulative_sales_count'],\n",
      "      dtype='object')\n",
      "2025-06-05 12:21:17,194 - src.features_articles - DEBUG - Missing values: article_id                0\n",
      "week_num                  0\n",
      "weekly_sales_count        0\n",
      "weekly_avg_price          0\n",
      "cumulative_mean_age       0\n",
      "cumulative_sales_count    0\n",
      "dtype: int64\n",
      "2025-06-05 12:21:17,195 - src.features_articles - DEBUG - Collecting feature names for 6 columns\n",
      "2025-06-05 12:21:17,195 - src.features_articles - DEBUG - Collected 0 categorical features\n",
      "2025-06-05 12:21:17,195 - src.features_articles - DEBUG - Collected 4 numerical features\n",
      "2025-06-05 12:21:17,196 - src.features_articles - DEBUG - Collected 0 one-hot features\n",
      "2025-06-05 12:21:17,196 - src.features_articles - INFO - Saving article dynamic feature result to ../data/preprocessed/articles_dynamic/subsample_0.25_42\n",
      "2025-06-05 12:21:17,299 - src.features_articles - INFO - Saved data to ../data/preprocessed/articles_dynamic/subsample_0.25_42/data.parquet\n",
      "2025-06-05 12:21:17,300 - src.features_articles - INFO - Saved feature names to ../data/preprocessed/articles_dynamic/subsample_0.25_42/feature_names.json\n"
     ]
    }
   ],
   "source": [
    "results_articles_dynamic = articles_dynamic_feature_pipeline.run()"
   ]
  },
  {
   "cell_type": "markdown",
   "metadata": {},
   "source": [
    "# Checks\n"
   ]
  },
  {
   "cell_type": "code",
   "execution_count": 9,
   "metadata": {},
   "outputs": [
    {
     "name": "stderr",
     "output_type": "stream",
     "text": [
      "2025-06-05 12:21:17,536 - matplotlib - DEBUG - matplotlib data path: /Users/sharonshiao/Dropbox/Machine_learning/projects/fahsion_recommendation/venv/lib/python3.12/site-packages/matplotlib/mpl-data\n",
      "2025-06-05 12:21:17,541 - matplotlib - DEBUG - CONFIGDIR=/Users/sharonshiao/.matplotlib\n",
      "2025-06-05 12:21:17,580 - matplotlib - DEBUG - interactive is False\n",
      "2025-06-05 12:21:17,581 - matplotlib - DEBUG - platform is darwin\n",
      "2025-06-05 12:21:17,708 - matplotlib - DEBUG - CACHEDIR=/Users/sharonshiao/.matplotlib\n",
      "2025-06-05 12:21:17,715 - matplotlib.font_manager - DEBUG - Using fontManager instance from /Users/sharonshiao/.matplotlib/fontlist-v390.json\n"
     ]
    }
   ],
   "source": [
    "from src.utils.data_checks import test_feature_article_dynamic_feature_pipeline, test_feature_article_dynamic_feature"
   ]
  },
  {
   "cell_type": "code",
   "execution_count": 10,
   "metadata": {},
   "outputs": [
    {
     "name": "stdout",
     "output_type": "stream",
     "text": [
      "(1238835, 6)\n",
      "Index(['article_id', 'week_num', 'weekly_sales_count', 'weekly_avg_price',\n",
      "       'cumulative_mean_age', 'cumulative_sales_count'],\n",
      "      dtype='object')\n",
      "article_id                0\n",
      "week_num                  0\n",
      "weekly_sales_count        0\n",
      "weekly_avg_price          0\n",
      "cumulative_mean_age       0\n",
      "cumulative_sales_count    0\n",
      "dtype: int64\n"
     ]
    },
    {
     "data": {
      "text/html": [
       "<div>\n",
       "<style scoped>\n",
       "    .dataframe tbody tr th:only-of-type {\n",
       "        vertical-align: middle;\n",
       "    }\n",
       "\n",
       "    .dataframe tbody tr th {\n",
       "        vertical-align: top;\n",
       "    }\n",
       "\n",
       "    .dataframe thead th {\n",
       "        text-align: right;\n",
       "    }\n",
       "</style>\n",
       "<table border=\"1\" class=\"dataframe\">\n",
       "  <thead>\n",
       "    <tr style=\"text-align: right;\">\n",
       "      <th></th>\n",
       "      <th>article_id</th>\n",
       "      <th>week_num</th>\n",
       "      <th>weekly_sales_count</th>\n",
       "      <th>weekly_avg_price</th>\n",
       "      <th>cumulative_mean_age</th>\n",
       "      <th>cumulative_sales_count</th>\n",
       "    </tr>\n",
       "  </thead>\n",
       "  <tbody>\n",
       "    <tr>\n",
       "      <th>0</th>\n",
       "      <td>108775015</td>\n",
       "      <td>92</td>\n",
       "      <td>0.0</td>\n",
       "      <td>0.024174</td>\n",
       "      <td>32.0</td>\n",
       "      <td>0.0</td>\n",
       "    </tr>\n",
       "    <tr>\n",
       "      <th>1</th>\n",
       "      <td>108775015</td>\n",
       "      <td>93</td>\n",
       "      <td>0.0</td>\n",
       "      <td>0.024904</td>\n",
       "      <td>32.0</td>\n",
       "      <td>0.0</td>\n",
       "    </tr>\n",
       "    <tr>\n",
       "      <th>2</th>\n",
       "      <td>108775015</td>\n",
       "      <td>94</td>\n",
       "      <td>0.0</td>\n",
       "      <td>0.024781</td>\n",
       "      <td>32.0</td>\n",
       "      <td>0.0</td>\n",
       "    </tr>\n",
       "    <tr>\n",
       "      <th>3</th>\n",
       "      <td>108775015</td>\n",
       "      <td>95</td>\n",
       "      <td>0.0</td>\n",
       "      <td>0.024747</td>\n",
       "      <td>32.0</td>\n",
       "      <td>0.0</td>\n",
       "    </tr>\n",
       "    <tr>\n",
       "      <th>4</th>\n",
       "      <td>108775015</td>\n",
       "      <td>96</td>\n",
       "      <td>0.0</td>\n",
       "      <td>0.024882</td>\n",
       "      <td>32.0</td>\n",
       "      <td>0.0</td>\n",
       "    </tr>\n",
       "  </tbody>\n",
       "</table>\n",
       "</div>"
      ],
      "text/plain": [
       "   article_id  week_num  weekly_sales_count  weekly_avg_price  \\\n",
       "0   108775015        92                 0.0          0.024174   \n",
       "1   108775015        93                 0.0          0.024904   \n",
       "2   108775015        94                 0.0          0.024781   \n",
       "3   108775015        95                 0.0          0.024747   \n",
       "4   108775015        96                 0.0          0.024882   \n",
       "\n",
       "   cumulative_mean_age  cumulative_sales_count  \n",
       "0                 32.0                     0.0  \n",
       "1                 32.0                     0.0  \n",
       "2                 32.0                     0.0  \n",
       "3                 32.0                     0.0  \n",
       "4                 32.0                     0.0  "
      ]
     },
     "metadata": {},
     "output_type": "display_data"
    }
   ],
   "source": [
    "print(results_articles_dynamic.data.shape)\n",
    "print(results_articles_dynamic.data.columns)\n",
    "print(results_articles_dynamic.data.isnull().sum())\n",
    "display(results_articles_dynamic.data.head())"
   ]
  },
  {
   "cell_type": "code",
   "execution_count": 11,
   "metadata": {},
   "outputs": [
    {
     "name": "stderr",
     "output_type": "stream",
     "text": [
      "2025-06-05 12:21:18,336 - src.feature_extraction - INFO - Loading optimized raw data from articles train 0.25 42\n",
      "2025-06-05 12:21:18,337 - src.feature_extraction - DEBUG - Loading data from ../data/articles_sample_0.25_42.parquet\n",
      "2025-06-05 12:21:18,382 - src.feature_extraction - INFO - Loading optimized raw data from transactions train 0.25 42\n",
      "2025-06-05 12:21:18,383 - src.feature_extraction - DEBUG - Loading data from ../data/transactions_train_sample_0.25_42.parquet\n",
      "2025-06-05 12:21:18,460 - src.feature_extraction - INFO - Loading optimized raw data from transactions valid 0.25 42\n",
      "2025-06-05 12:21:18,461 - src.feature_extraction - DEBUG - Loading data from ../data/transactions_valid_sample_0.25_42.parquet\n",
      "2025-06-05 12:21:18,470 - src.feature_extraction - INFO - Loading optimized raw data from transactions test 0.25 42\n",
      "2025-06-05 12:21:18,470 - src.feature_extraction - DEBUG - Loading data from ../data/transactions_test_sample_0.25_42.parquet\n",
      "2025-06-05 12:21:18,486 - src.feature_extraction - INFO - Loading optimized raw data from customers train 0.25 42\n",
      "2025-06-05 12:21:18,487 - src.feature_extraction - DEBUG - Loading data from ../data/customers_sample_0.25_42.parquet\n"
     ]
    }
   ],
   "source": [
    "# Load raw data\n",
    "subsample = articles_dynamic_features_config.subsample\n",
    "seed = articles_dynamic_features_config.seed\n",
    "articles = load_optimized_raw_data(data_type=\"articles\", subsample=subsample, seed=seed)\n",
    "transactions_train = load_optimized_raw_data(data_type=\"transactions\", sample=\"train\", subsample=subsample, seed=seed)\n",
    "transactions_valid = load_optimized_raw_data(data_type=\"transactions\", sample=\"valid\", subsample=subsample, seed=seed)\n",
    "transactions_test = load_optimized_raw_data(data_type=\"transactions\", sample=\"test\", subsample=subsample, seed=seed)\n",
    "customers = load_optimized_raw_data(data_type=\"customers\", subsample=subsample, seed=seed)\n",
    "transactions = pd.concat([transactions_train, transactions_valid, transactions_test], axis=0, ignore_index=True)\n",
    "del transactions_train, transactions_valid, transactions_test"
   ]
  },
  {
   "cell_type": "code",
   "execution_count": 12,
   "metadata": {},
   "outputs": [
    {
     "name": "stdout",
     "output_type": "stream",
     "text": [
      "Metadata checks passed\n"
     ]
    }
   ],
   "source": [
    "test_feature_article_dynamic_feature_pipeline(\n",
    "    results_articles_dynamic=results_articles_dynamic,\n",
    "    articles=articles,\n",
    "    pipeline_config=articles_dynamic_features_config,\n",
    ")"
   ]
  },
  {
   "cell_type": "code",
   "execution_count": 13,
   "metadata": {},
   "outputs": [
    {
     "name": "stdout",
     "output_type": "stream",
     "text": [
      "Article ID 108775015\n",
      "--------------------------------------------------------------------------------\n",
      "Article ID 108775044\n",
      "Week number 92\n",
      "Numbers matched for week 92\n",
      "Week number 93\n",
      "Numbers matched for week 93\n",
      "Week number 94\n",
      "Numbers matched for week 94\n",
      "Week number 98\n",
      "Numbers matched for week 98\n",
      "Week number 99\n",
      "Numbers matched for week 99\n",
      "Week number 100\n",
      "Numbers matched for week 100\n",
      "Week number 101\n",
      "Numbers matched for week 101\n",
      "--------------------------------------------------------------------------------\n",
      "Article ID 108775051\n",
      "--------------------------------------------------------------------------------\n",
      "Article ID 110065001\n",
      "Week number 92\n",
      "Numbers matched for week 92\n",
      "Week number 93\n",
      "Numbers matched for week 93\n",
      "--------------------------------------------------------------------------------\n",
      "Article ID 110065002\n",
      "Week number 94\n",
      "Numbers matched for week 94\n",
      "Week number 95\n",
      "Numbers matched for week 95\n",
      "--------------------------------------------------------------------------------\n"
     ]
    }
   ],
   "source": [
    "test_feature_article_dynamic_feature(\n",
    "    results_articles_dynamic=results_articles_dynamic,\n",
    "    transactions=transactions,\n",
    "    customers=customers,\n",
    "    pipeline_config=articles_dynamic_features_config,\n",
    "    article_ids=results_articles_dynamic.data.article_id.unique()[:5],\n",
    ")"
   ]
  },
  {
   "cell_type": "code",
   "execution_count": null,
   "metadata": {},
   "outputs": [],
   "source": []
  },
  {
   "cell_type": "code",
   "execution_count": null,
   "metadata": {},
   "outputs": [],
   "source": []
  }
 ],
 "metadata": {
  "kernelspec": {
   "display_name": "venv",
   "language": "python",
   "name": "python3"
  },
  "language_info": {
   "codemirror_mode": {
    "name": "ipython",
    "version": 3
   },
   "file_extension": ".py",
   "mimetype": "text/x-python",
   "name": "python",
   "nbconvert_exporter": "python",
   "pygments_lexer": "ipython3",
   "version": "3.12.10"
  }
 },
 "nbformat": 4,
 "nbformat_minor": 2
}
