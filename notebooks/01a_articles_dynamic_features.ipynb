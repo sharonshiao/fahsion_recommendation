{
 "cells": [
  {
   "cell_type": "markdown",
   "metadata": {},
   "source": [
    "# 1a Articles dynamic features\n"
   ]
  },
  {
   "cell_type": "code",
   "execution_count": null,
   "metadata": {},
   "outputs": [],
   "source": [
    "%load_ext autoreload\n",
    "%autoreload 2"
   ]
  },
  {
   "cell_type": "code",
   "execution_count": null,
   "metadata": {},
   "outputs": [],
   "source": [
    "import sys\n",
    "import logging\n",
    "import pandas as pd\n",
    "\n",
    "sys.path.append(\"..\")\n",
    "\n",
    "from src.utils.core_utils import setup_logging"
   ]
  },
  {
   "cell_type": "code",
   "execution_count": null,
   "metadata": {},
   "outputs": [],
   "source": [
    "# Initialize logging\n",
    "file_log = \"articles_dynamic_features.log\"\n",
    "root_logger = setup_logging(level=logging.DEBUG, log_file=file_log, remove_existing=True)"
   ]
  },
  {
   "cell_type": "code",
   "execution_count": null,
   "metadata": {},
   "outputs": [],
   "source": [
    "from src.features_articles import ArticleDynamicFeaturePipeline, ArticleDynamicFeaturePipelineConfig\n",
    "from src.features_articles import load_optimized_raw_data"
   ]
  },
  {
   "cell_type": "markdown",
   "metadata": {},
   "source": [
    "# Run pipeline\n"
   ]
  },
  {
   "cell_type": "code",
   "execution_count": null,
   "metadata": {},
   "outputs": [],
   "source": [
    "articles_dynamic_features_config = ArticleDynamicFeaturePipelineConfig.create_default()"
   ]
  },
  {
   "cell_type": "code",
   "execution_count": null,
   "metadata": {},
   "outputs": [],
   "source": [
    "articles_dynamic_feature_pipeline = ArticleDynamicFeaturePipeline(articles_dynamic_features_config)"
   ]
  },
  {
   "cell_type": "code",
   "execution_count": null,
   "metadata": {},
   "outputs": [],
   "source": [
    "articles_dynamic_feature_pipeline.setup()"
   ]
  },
  {
   "cell_type": "code",
   "execution_count": null,
   "metadata": {},
   "outputs": [],
   "source": [
    "results_articles_dynamic = articles_dynamic_feature_pipeline.run()"
   ]
  },
  {
   "cell_type": "markdown",
   "metadata": {},
   "source": [
    "# Checks\n"
   ]
  },
  {
   "cell_type": "code",
   "execution_count": null,
   "metadata": {},
   "outputs": [],
   "source": [
    "from src.utils.data_checks import test_feature_article_dynamic_feature_pipeline, test_feature_article_dynamic_feature"
   ]
  },
  {
   "cell_type": "code",
   "execution_count": null,
   "metadata": {},
   "outputs": [],
   "source": [
    "print(results_articles_dynamic.data.shape)\n",
    "print(results_articles_dynamic.data.columns)\n",
    "print(results_articles_dynamic.data.isnull().sum())\n",
    "display(results_articles_dynamic.data.head())"
   ]
  },
  {
   "cell_type": "code",
   "execution_count": null,
   "metadata": {},
   "outputs": [],
   "source": [
    "# Load raw data\n",
    "subsample = articles_dynamic_features_config.subsample\n",
    "seed = articles_dynamic_features_config.seed\n",
    "articles = load_optimized_raw_data(data_type=\"articles\", subsample=subsample, seed=seed)\n",
    "transactions_train = load_optimized_raw_data(data_type=\"transactions\", sample=\"train\", subsample=subsample, seed=seed)\n",
    "transactions_valid = load_optimized_raw_data(data_type=\"transactions\", sample=\"valid\", subsample=subsample, seed=seed)\n",
    "transactions_test = load_optimized_raw_data(data_type=\"transactions\", sample=\"test\", subsample=subsample, seed=seed)\n",
    "customers = load_optimized_raw_data(data_type=\"customers\", subsample=subsample, seed=seed)\n",
    "transactions = pd.concat([transactions_train, transactions_valid, transactions_test], axis=0, ignore_index=True)\n",
    "del transactions_train, transactions_valid, transactions_test"
   ]
  },
  {
   "cell_type": "code",
   "execution_count": null,
   "metadata": {},
   "outputs": [],
   "source": [
    "test_feature_article_dynamic_feature_pipeline(\n",
    "    results_articles_dynamic=results_articles_dynamic,\n",
    "    articles=articles,\n",
    "    pipeline_config=articles_dynamic_features_config,\n",
    ")"
   ]
  },
  {
   "cell_type": "code",
   "execution_count": null,
   "metadata": {},
   "outputs": [],
   "source": [
    "test_feature_article_dynamic_feature(\n",
    "    results_articles_dynamic=results_articles_dynamic,\n",
    "    transactions=transactions,\n",
    "    customers=customers,\n",
    "    pipeline_config=articles_dynamic_features_config,\n",
    "    article_ids=results_articles_dynamic.data.article_id.unique()[:5],\n",
    ")"
   ]
  },
  {
   "cell_type": "code",
   "execution_count": null,
   "metadata": {},
   "outputs": [],
   "source": []
  },
  {
   "cell_type": "code",
   "execution_count": null,
   "metadata": {},
   "outputs": [],
   "source": []
  }
 ],
 "metadata": {
  "kernelspec": {
   "display_name": "venv",
   "language": "python",
   "name": "python3"
  },
  "language_info": {
   "codemirror_mode": {
    "name": "ipython",
    "version": 3
   },
   "file_extension": ".py",
   "mimetype": "text/x-python",
   "name": "python",
   "nbconvert_exporter": "python",
   "pygments_lexer": "ipython3"
  }
 },
 "nbformat": 4,
 "nbformat_minor": 2
}
