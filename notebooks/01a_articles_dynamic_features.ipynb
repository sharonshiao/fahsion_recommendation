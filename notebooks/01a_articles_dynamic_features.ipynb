{
 "cells": [
  {
   "cell_type": "markdown",
   "metadata": {},
   "source": [
    "# 1a Articles dynamic features\n"
   ]
  },
  {
   "cell_type": "code",
   "execution_count": 1,
   "metadata": {},
   "outputs": [],
   "source": [
    "%load_ext autoreload\n",
    "%autoreload 2"
   ]
  },
  {
   "cell_type": "code",
   "execution_count": 2,
   "metadata": {},
   "outputs": [],
   "source": [
    "import sys\n",
    "import logging\n",
    "import pandas as pd\n",
    "\n",
    "sys.path.append(\"..\")\n",
    "\n",
    "from src.utils.core_utils import setup_logging"
   ]
  },
  {
   "cell_type": "code",
   "execution_count": 3,
   "metadata": {},
   "outputs": [
    {
     "name": "stderr",
     "output_type": "stream",
     "text": [
      "2025-06-03 12:07:19,881 - src.utils.core_utils - INFO - Creating file handler with level: 10\n",
      "2025-06-03 12:07:19,882 - src.utils.core_utils - DEBUG - Logging setup complete to articles_dynamic_features.log\n"
     ]
    }
   ],
   "source": [
    "# Initialize logging\n",
    "file_log = \"articles_dynamic_features.log\"\n",
    "root_logger = setup_logging(level=logging.DEBUG, log_file=file_log, remove_existing=True)"
   ]
  },
  {
   "cell_type": "code",
   "execution_count": 4,
   "metadata": {},
   "outputs": [
    {
     "name": "stderr",
     "output_type": "stream",
     "text": [
      "/Users/sharonshiao/Dropbox/Machine_learning/projects/fahsion_recommendation/venv/lib/python3.12/site-packages/tqdm/auto.py:21: TqdmWarning: IProgress not found. Please update jupyter and ipywidgets. See https://ipywidgets.readthedocs.io/en/stable/user_install.html\n",
      "  from .autonotebook import tqdm as notebook_tqdm\n"
     ]
    }
   ],
   "source": [
    "from src.features_articles import ArticleDynamicFeaturePipeline, ArticleDynamicFeaturePipelineConfig\n",
    "from src.features_articles import load_optimized_raw_data"
   ]
  },
  {
   "cell_type": "markdown",
   "metadata": {},
   "source": [
    "# Run pipeline\n"
   ]
  },
  {
   "cell_type": "code",
   "execution_count": 5,
   "metadata": {},
   "outputs": [],
   "source": [
    "articles_dynamic_features_config = ArticleDynamicFeaturePipelineConfig.create_default()"
   ]
  },
  {
   "cell_type": "code",
   "execution_count": 6,
   "metadata": {},
   "outputs": [],
   "source": [
    "articles_dynamic_feature_pipeline = ArticleDynamicFeaturePipeline(articles_dynamic_features_config)"
   ]
  },
  {
   "cell_type": "code",
   "execution_count": 7,
   "metadata": {},
   "outputs": [
    {
     "name": "stderr",
     "output_type": "stream",
     "text": [
      "2025-06-03 12:07:24,796 - src.features_articles - INFO - Setting up ArticleDynamicFeaturePipeline\n",
      "2025-06-03 12:07:24,797 - src.features_articles - DEBUG - Config: {\n",
      "  \"config_processor\": {\n",
      "    \"encoding_strategy\": \"ordinal\",\n",
      "    \"categorical_features\": [],\n",
      "    \"numerical_features\": [\n",
      "      \"weekly_sales_count\",\n",
      "      \"weekly_avg_price\",\n",
      "      \"cumulative_mean_age\",\n",
      "      \"cumulative_sales_count\"\n",
      "    ],\n",
      "    \"one_hot_features\": [],\n",
      "    \"start_week_num\": 52,\n",
      "    \"end_week_num\": 104\n",
      "  },\n",
      "  \"subsample\": 0.05,\n",
      "  \"seed\": 42\n",
      "}\n"
     ]
    },
    {
     "data": {
      "text/plain": [
       "<src.features_articles.ArticleDynamicFeaturePipeline at 0x10d04aed0>"
      ]
     },
     "execution_count": 7,
     "metadata": {},
     "output_type": "execute_result"
    }
   ],
   "source": [
    "articles_dynamic_feature_pipeline.setup()"
   ]
  },
  {
   "cell_type": "code",
   "execution_count": 8,
   "metadata": {},
   "outputs": [
    {
     "name": "stderr",
     "output_type": "stream",
     "text": [
      "2025-06-03 12:07:24,818 - src.features_articles - INFO - Loading data for ArticleDynamicFeaturePipeline\n",
      "2025-06-03 12:07:24,818 - src.feature_extraction - INFO - Loading optimized raw data from transactions train 0.05 42\n",
      "2025-06-03 12:07:24,818 - src.feature_extraction - DEBUG - Loading data from ../data/transactions_train_sample_0.05_42.parquet\n",
      "2025-06-03 12:07:24,947 - src.feature_extraction - INFO - Loading optimized raw data from articles train 0.05 42\n",
      "2025-06-03 12:07:24,948 - src.feature_extraction - DEBUG - Loading data from ../data/articles_sample_0.05_42.parquet\n",
      "2025-06-03 12:07:24,988 - src.feature_extraction - INFO - Loading optimized raw data from customers train 0.05 42\n",
      "2025-06-03 12:07:24,989 - src.feature_extraction - DEBUG - Loading data from ../data/customers_sample_0.05_42.parquet\n",
      "2025-06-03 12:07:25,004 - src.features_articles - INFO - Processing article dynamic features\n",
      "2025-06-03 12:07:25,041 - src.features_articles - INFO - Generating a cross join of articles and weeks from 52 to 104\n",
      "2025-06-03 12:07:25,043 - src.features_articles - DEBUG - Found 77382 unique articles\n",
      "2025-06-03 12:07:25,043 - src.features_articles - DEBUG - Found 53 unique weeks\n",
      "2025-06-03 12:07:25,183 - src.features_articles - DEBUG - Cross join has shape: (4101246, 2)\n",
      "2025-06-03 12:07:25,183 - src.features_articles - INFO - Calculating weekly statistics\n",
      "2025-06-03 12:07:25,251 - src.features_articles - DEBUG - Weekly sales has shape: (288142, 4)\n",
      "2025-06-03 12:07:25,252 - src.features_articles - DEBUG - Weekly sales: Index(['article_id', 'week_num', 'weekly_sales_count', 'weekly_avg_price'], dtype='object')\n",
      "2025-06-03 12:07:25,252 - src.features_articles - INFO - Generating weekly statistics features\n",
      "2025-06-03 12:07:25,912 - src.features_articles - DEBUG - Weekly statistics features have shape: (4101246, 4)\n",
      "2025-06-03 12:07:25,912 - src.features_articles - DEBUG - Weekly statistics features: Index(['article_id', 'week_num', 'weekly_sales_count', 'weekly_avg_price'], dtype='object')\n",
      "2025-06-03 12:07:25,919 - src.features_articles - DEBUG - Missing values: article_id            0\n",
      "week_num              0\n",
      "weekly_sales_count    0\n",
      "weekly_avg_price      0\n",
      "dtype: int64\n",
      "2025-06-03 12:07:25,919 - src.features_articles - INFO - Calculating cumulative statistics of customers who bought the article\n",
      "2025-06-03 12:07:26,198 - src.features_articles - DEBUG - Cumulative mean age has shape: (288142, 6)\n",
      "2025-06-03 12:07:26,198 - src.features_articles - DEBUG - Cumulative mean age: Index(['article_id', 'week_num', 'customer_id', 'age',\n",
      "       'cumulative_sales_count', 'cumulative_mean_age'],\n",
      "      dtype='object')\n",
      "2025-06-03 12:07:26,200 - src.features_articles - INFO - Generating cumulative statistics\n",
      "2025-06-03 12:07:26,542 - src.features_articles - DEBUG - Filling in remaining missing values with median age or 0\n",
      "2025-06-03 12:07:26,555 - src.features_articles - DEBUG - Cumulative statistics have shape: (4101246, 6)\n",
      "2025-06-03 12:07:26,556 - src.features_articles - DEBUG - Cumulative statistics: Index(['article_id', 'week_num', 'weekly_sales_count', 'weekly_avg_price',\n",
      "       'cumulative_mean_age', 'cumulative_sales_count'],\n",
      "      dtype='object')\n",
      "2025-06-03 12:07:26,566 - src.features_articles - DEBUG - Missing values: article_id                0\n",
      "week_num                  0\n",
      "weekly_sales_count        0\n",
      "weekly_avg_price          0\n",
      "cumulative_mean_age       0\n",
      "cumulative_sales_count    0\n",
      "dtype: int64\n",
      "2025-06-03 12:07:26,567 - src.features_articles - DEBUG - Collecting feature names for 6 columns\n",
      "2025-06-03 12:07:26,567 - src.features_articles - DEBUG - Collected 0 categorical features\n",
      "2025-06-03 12:07:26,567 - src.features_articles - DEBUG - Collected 4 numerical features\n",
      "2025-06-03 12:07:26,568 - src.features_articles - DEBUG - Collected 0 one-hot features\n",
      "2025-06-03 12:07:26,568 - src.features_articles - INFO - Saving article dynamic feature result to ../data/preprocessed/articles_dynamic/subsample_0.05_42\n",
      "2025-06-03 12:07:26,784 - src.features_articles - INFO - Saved data to ../data/preprocessed/articles_dynamic/subsample_0.05_42/data.parquet\n",
      "2025-06-03 12:07:26,785 - src.features_articles - INFO - Saved feature names to ../data/preprocessed/articles_dynamic/subsample_0.05_42/feature_names.json\n"
     ]
    }
   ],
   "source": [
    "results_articles_dynamic = articles_dynamic_feature_pipeline.run()"
   ]
  },
  {
   "cell_type": "markdown",
   "metadata": {},
   "source": [
    "# Checks\n"
   ]
  },
  {
   "cell_type": "code",
   "execution_count": 9,
   "metadata": {},
   "outputs": [],
   "source": [
    "from src.utils.data_checks import test_feature_article_dynamic_feature_pipeline, test_feature_article_dynamic_feature"
   ]
  },
  {
   "cell_type": "code",
   "execution_count": 10,
   "metadata": {},
   "outputs": [
    {
     "name": "stdout",
     "output_type": "stream",
     "text": [
      "(4101246, 6)\n",
      "Index(['article_id', 'week_num', 'weekly_sales_count', 'weekly_avg_price',\n",
      "       'cumulative_mean_age', 'cumulative_sales_count'],\n",
      "      dtype='object')\n",
      "article_id                0\n",
      "week_num                  0\n",
      "weekly_sales_count        0\n",
      "weekly_avg_price          0\n",
      "cumulative_mean_age       0\n",
      "cumulative_sales_count    0\n",
      "dtype: int64\n"
     ]
    },
    {
     "data": {
      "text/html": [
       "<div>\n",
       "<style scoped>\n",
       "    .dataframe tbody tr th:only-of-type {\n",
       "        vertical-align: middle;\n",
       "    }\n",
       "\n",
       "    .dataframe tbody tr th {\n",
       "        vertical-align: top;\n",
       "    }\n",
       "\n",
       "    .dataframe thead th {\n",
       "        text-align: right;\n",
       "    }\n",
       "</style>\n",
       "<table border=\"1\" class=\"dataframe\">\n",
       "  <thead>\n",
       "    <tr style=\"text-align: right;\">\n",
       "      <th></th>\n",
       "      <th>article_id</th>\n",
       "      <th>week_num</th>\n",
       "      <th>weekly_sales_count</th>\n",
       "      <th>weekly_avg_price</th>\n",
       "      <th>cumulative_mean_age</th>\n",
       "      <th>cumulative_sales_count</th>\n",
       "    </tr>\n",
       "  </thead>\n",
       "  <tbody>\n",
       "    <tr>\n",
       "      <th>0</th>\n",
       "      <td>108775015</td>\n",
       "      <td>52</td>\n",
       "      <td>0.0</td>\n",
       "      <td>0.033479</td>\n",
       "      <td>32.0</td>\n",
       "      <td>0.0</td>\n",
       "    </tr>\n",
       "    <tr>\n",
       "      <th>1</th>\n",
       "      <td>108775015</td>\n",
       "      <td>53</td>\n",
       "      <td>0.0</td>\n",
       "      <td>0.033179</td>\n",
       "      <td>32.0</td>\n",
       "      <td>0.0</td>\n",
       "    </tr>\n",
       "    <tr>\n",
       "      <th>2</th>\n",
       "      <td>108775015</td>\n",
       "      <td>54</td>\n",
       "      <td>0.0</td>\n",
       "      <td>0.032718</td>\n",
       "      <td>32.0</td>\n",
       "      <td>0.0</td>\n",
       "    </tr>\n",
       "    <tr>\n",
       "      <th>3</th>\n",
       "      <td>108775015</td>\n",
       "      <td>55</td>\n",
       "      <td>0.0</td>\n",
       "      <td>0.032448</td>\n",
       "      <td>32.0</td>\n",
       "      <td>0.0</td>\n",
       "    </tr>\n",
       "    <tr>\n",
       "      <th>4</th>\n",
       "      <td>108775015</td>\n",
       "      <td>56</td>\n",
       "      <td>0.0</td>\n",
       "      <td>0.032142</td>\n",
       "      <td>32.0</td>\n",
       "      <td>0.0</td>\n",
       "    </tr>\n",
       "  </tbody>\n",
       "</table>\n",
       "</div>"
      ],
      "text/plain": [
       "   article_id  week_num  weekly_sales_count  weekly_avg_price  \\\n",
       "0   108775015        52                 0.0          0.033479   \n",
       "1   108775015        53                 0.0          0.033179   \n",
       "2   108775015        54                 0.0          0.032718   \n",
       "3   108775015        55                 0.0          0.032448   \n",
       "4   108775015        56                 0.0          0.032142   \n",
       "\n",
       "   cumulative_mean_age  cumulative_sales_count  \n",
       "0                 32.0                     0.0  \n",
       "1                 32.0                     0.0  \n",
       "2                 32.0                     0.0  \n",
       "3                 32.0                     0.0  \n",
       "4                 32.0                     0.0  "
      ]
     },
     "metadata": {},
     "output_type": "display_data"
    }
   ],
   "source": [
    "print(results_articles_dynamic.data.shape)\n",
    "print(results_articles_dynamic.data.columns)\n",
    "print(results_articles_dynamic.data.isnull().sum())\n",
    "display(results_articles_dynamic.data.head())"
   ]
  },
  {
   "cell_type": "code",
   "execution_count": 11,
   "metadata": {},
   "outputs": [
    {
     "name": "stderr",
     "output_type": "stream",
     "text": [
      "2025-06-03 12:07:26,985 - src.feature_extraction - INFO - Loading optimized raw data from articles train 0.05 42\n",
      "2025-06-03 12:07:26,986 - src.feature_extraction - DEBUG - Loading data from ../data/articles_sample_0.05_42.parquet\n",
      "2025-06-03 12:07:27,021 - src.feature_extraction - INFO - Loading optimized raw data from transactions train 0.05 42\n",
      "2025-06-03 12:07:27,022 - src.feature_extraction - DEBUG - Loading data from ../data/transactions_train_sample_0.05_42.parquet\n",
      "2025-06-03 12:07:27,040 - src.feature_extraction - INFO - Loading optimized raw data from transactions valid 0.05 42\n",
      "2025-06-03 12:07:27,041 - src.feature_extraction - DEBUG - Loading data from ../data/transactions_valid_sample_0.05_42.parquet\n",
      "2025-06-03 12:07:27,044 - src.feature_extraction - INFO - Loading optimized raw data from transactions test 0.05 42\n",
      "2025-06-03 12:07:27,044 - src.feature_extraction - DEBUG - Loading data from ../data/transactions_test_sample_0.05_42.parquet\n",
      "2025-06-03 12:07:27,046 - src.feature_extraction - INFO - Loading optimized raw data from customers train 0.05 42\n",
      "2025-06-03 12:07:27,047 - src.feature_extraction - DEBUG - Loading data from ../data/customers_sample_0.05_42.parquet\n"
     ]
    }
   ],
   "source": [
    "# Load raw data\n",
    "articles = load_optimized_raw_data(data_type=\"articles\", subsample=0.05, seed=42)\n",
    "transactions_train = load_optimized_raw_data(data_type=\"transactions\", sample=\"train\", subsample=0.05, seed=42)\n",
    "transactions_valid = load_optimized_raw_data(data_type=\"transactions\", sample=\"valid\", subsample=0.05, seed=42)\n",
    "transactions_test = load_optimized_raw_data(data_type=\"transactions\", sample=\"test\", subsample=0.05, seed=42)\n",
    "customers = load_optimized_raw_data(data_type=\"customers\", subsample=0.05, seed=42)\n",
    "transactions = pd.concat([transactions_train, transactions_valid, transactions_test], axis=0, ignore_index=True)"
   ]
  },
  {
   "cell_type": "code",
   "execution_count": 12,
   "metadata": {},
   "outputs": [
    {
     "name": "stdout",
     "output_type": "stream",
     "text": [
      "Metadata checks passed\n"
     ]
    }
   ],
   "source": [
    "test_feature_article_dynamic_feature_pipeline(\n",
    "    results_articles_dynamic=results_articles_dynamic,\n",
    "    articles=articles,\n",
    "    pipeline_config=articles_dynamic_features_config,\n",
    ")"
   ]
  },
  {
   "cell_type": "code",
   "execution_count": 13,
   "metadata": {},
   "outputs": [
    {
     "name": "stdout",
     "output_type": "stream",
     "text": [
      "Article ID 108775015\n",
      "Week number 62\n",
      "Numbers matched for week 62\n",
      "Week number 63\n",
      "Numbers matched for week 63\n",
      "Week number 66\n",
      "Numbers matched for week 66\n",
      "Week number 73\n",
      "Numbers matched for week 73\n",
      "--------------------------------------------------------------------------------\n",
      "Article ID 108775044\n",
      "Week number 53\n",
      "Numbers matched for week 53\n",
      "Week number 55\n",
      "Numbers matched for week 55\n",
      "Week number 60\n",
      "Numbers matched for week 60\n",
      "Week number 68\n",
      "Numbers matched for week 68\n",
      "Week number 82\n",
      "Numbers matched for week 82\n",
      "Week number 83\n",
      "Numbers matched for week 83\n",
      "Week number 88\n",
      "Numbers matched for week 88\n",
      "Week number 91\n",
      "Numbers matched for week 91\n",
      "Week number 93\n",
      "Numbers matched for week 93\n",
      "--------------------------------------------------------------------------------\n",
      "Article ID 108775051\n",
      "--------------------------------------------------------------------------------\n",
      "Article ID 110065001\n",
      "Week number 53\n",
      "Numbers matched for week 53\n",
      "Week number 54\n",
      "Numbers matched for week 54\n",
      "Week number 55\n",
      "Numbers matched for week 55\n",
      "Week number 61\n",
      "Numbers matched for week 61\n",
      "Week number 62\n",
      "Numbers matched for week 62\n",
      "Week number 70\n",
      "Numbers matched for week 70\n",
      "Week number 71\n",
      "Numbers matched for week 71\n",
      "Week number 72\n",
      "Numbers matched for week 72\n",
      "Week number 74\n",
      "Numbers matched for week 74\n",
      "Week number 90\n",
      "Numbers matched for week 90\n",
      "--------------------------------------------------------------------------------\n",
      "Article ID 110065002\n",
      "Week number 64\n",
      "Numbers matched for week 64\n",
      "Week number 66\n",
      "Numbers matched for week 66\n",
      "--------------------------------------------------------------------------------\n"
     ]
    }
   ],
   "source": [
    "test_feature_article_dynamic_feature(\n",
    "    results_articles_dynamic=results_articles_dynamic,\n",
    "    transactions=transactions,\n",
    "    customers=customers,\n",
    "    pipeline_config=articles_dynamic_features_config,\n",
    "    article_ids=results_articles_dynamic.data.article_id.unique()[:5],\n",
    ")"
   ]
  },
  {
   "cell_type": "code",
   "execution_count": null,
   "metadata": {},
   "outputs": [],
   "source": []
  },
  {
   "cell_type": "code",
   "execution_count": null,
   "metadata": {},
   "outputs": [],
   "source": []
  }
 ],
 "metadata": {
  "kernelspec": {
   "display_name": "venv",
   "language": "python",
   "name": "python3"
  },
  "language_info": {
   "codemirror_mode": {
    "name": "ipython",
    "version": 3
   },
   "file_extension": ".py",
   "mimetype": "text/x-python",
   "name": "python",
   "nbconvert_exporter": "python",
   "pygments_lexer": "ipython3",
   "version": "3.12.10"
  }
 },
 "nbformat": 4,
 "nbformat_minor": 2
}
