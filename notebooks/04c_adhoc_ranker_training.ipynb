{
 "cells": [
  {
   "cell_type": "markdown",
   "id": "f30c775e",
   "metadata": {},
   "source": [
    "# 04c Adhoc ranker training\n"
   ]
  },
  {
   "cell_type": "code",
   "execution_count": null,
   "id": "8bb5bb92",
   "metadata": {},
   "outputs": [],
   "source": [
    "%load_ext autoreload\n",
    "%autoreload 2"
   ]
  },
  {
   "cell_type": "code",
   "execution_count": null,
   "id": "ad34eec9",
   "metadata": {},
   "outputs": [],
   "source": [
    "import sys\n",
    "import logging\n",
    "import pandas as pd\n",
    "\n",
    "sys.path.append(\"..\")\n",
    "\n",
    "from src.utils.core_utils import setup_logging\n",
    "\n",
    "# Initialize logging\n",
    "file_log = \"train_ranker.log\"\n",
    "root_logger = setup_logging(level=logging.DEBUG, log_file=file_log, remove_existing=True)"
   ]
  },
  {
   "cell_type": "code",
   "execution_count": null,
   "id": "2af6abae",
   "metadata": {},
   "outputs": [],
   "source": [
    "from src.ranker import RankerTrainValidPipeline, RankerConfig\n",
    "from src.config import generate_config_evaluator_pipeline\n",
    "\n",
    "# from src.eval import RankerEvaluatorPipeline"
   ]
  },
  {
   "cell_type": "markdown",
   "id": "75a50355",
   "metadata": {},
   "source": [
    "# Model training\n"
   ]
  },
  {
   "cell_type": "code",
   "execution_count": null,
   "id": "8cbfdfaa",
   "metadata": {},
   "outputs": [],
   "source": [
    "default_ranker_pipeline_config = RankerConfig.get_default_config()"
   ]
  },
  {
   "cell_type": "code",
   "execution_count": null,
   "id": "ac6ed6b5",
   "metadata": {},
   "outputs": [],
   "source": [
    "ranker_train_valid_pipeline = RankerTrainValidPipeline(config=default_ranker_pipeline_config)"
   ]
  },
  {
   "cell_type": "code",
   "execution_count": null,
   "id": "77e9f18b",
   "metadata": {},
   "outputs": [],
   "source": [
    "ranker_train_valid_pipeline.setup()"
   ]
  },
  {
   "cell_type": "code",
   "execution_count": null,
   "id": "e4db601c",
   "metadata": {},
   "outputs": [],
   "source": [
    "metics, feature_importance, run_id = ranker_train_valid_pipeline.run()"
   ]
  },
  {
   "cell_type": "code",
   "execution_count": null,
   "id": "c52deba6",
   "metadata": {},
   "outputs": [],
   "source": [
    "print(run_id)\n",
    "print(metics)\n",
    "display(feature_importance)\n",
    "# path_dir_model = ranker_train_valid_pipeline._get_path_to_dir()"
   ]
  },
  {
   "cell_type": "code",
   "execution_count": null,
   "id": "263980d4",
   "metadata": {},
   "outputs": [],
   "source": []
  },
  {
   "cell_type": "markdown",
   "id": "3e79bddb",
   "metadata": {},
   "source": [
    "# Baseline and ideal case\n"
   ]
  },
  {
   "cell_type": "code",
   "execution_count": null,
   "id": "152828a1",
   "metadata": {},
   "outputs": [],
   "source": [
    "# Baseline: if we guess the most popular items from last month\n",
    "from src.feature_extraction import load_optimized_raw_data\n",
    "from src.metrics import (\n",
    "    mean_average_precision_at_k,\n",
    "    get_mapping_from_labels,\n",
    "    mean_average_precision_at_k_hierarchical,\n",
    "    ideal_mean_average_precision_at_k,\n",
    ")\n",
    "from src.utils.popularity import calculate_weekly_popular_items, calculate_rolling_popular_items\n",
    "from src.input_preprocessing import get_path_to_lightgbm_data, LightGBMDataResult"
   ]
  },
  {
   "cell_type": "code",
   "execution_count": null,
   "id": "d8eb9799",
   "metadata": {},
   "outputs": [],
   "source": [
    "transactions_train = load_optimized_raw_data(\n",
    "    data_type=\"transactions\",\n",
    "    sample=\"train\",\n",
    "    subsample=default_ranker_pipeline_config.subsample,\n",
    "    seed=default_ranker_pipeline_config.seed,\n",
    ")\n",
    "transactions_valid = load_optimized_raw_data(\n",
    "    data_type=\"transactions\",\n",
    "    sample=\"valid\",\n",
    "    subsample=default_ranker_pipeline_config.subsample,\n",
    "    seed=default_ranker_pipeline_config.seed,\n",
    ")\n",
    "transactions_test = load_optimized_raw_data(\n",
    "    data_type=\"transactions\",\n",
    "    sample=\"test\",\n",
    "    subsample=default_ranker_pipeline_config.subsample,\n",
    "    seed=default_ranker_pipeline_config.seed,\n",
    ")\n",
    "transactions = pd.concat([transactions_train, transactions_valid, transactions_test], ignore_index=True)\n",
    "del transactions_train, transactions_valid, transactions_test"
   ]
  },
  {
   "cell_type": "code",
   "execution_count": null,
   "id": "c43afc19",
   "metadata": {},
   "outputs": [],
   "source": [
    "valid_mapping = load_optimized_raw_data(\n",
    "    data_type=\"candidates_to_articles_mapping\",\n",
    "    sample=\"valid\",\n",
    "    subsample=default_ranker_pipeline_config.subsample,\n",
    "    seed=default_ranker_pipeline_config.seed,\n",
    ")"
   ]
  },
  {
   "cell_type": "code",
   "execution_count": null,
   "id": "81c5cbbe",
   "metadata": {},
   "outputs": [],
   "source": [
    "valid_inference_data = LightGBMDataResult.load(\n",
    "    get_path_to_lightgbm_data(\n",
    "        sample=\"valid\",\n",
    "        use_type=\"inference\",\n",
    "        subsample=default_ranker_pipeline_config.subsample,\n",
    "        seed=default_ranker_pipeline_config.seed,\n",
    "    )\n",
    ")"
   ]
  },
  {
   "cell_type": "code",
   "execution_count": null,
   "id": "4bf2d48c",
   "metadata": {},
   "outputs": [],
   "source": [
    "# Generate heuristic prediction for valid dataset\n",
    "week_num_valid = 103\n",
    "# heuristic_pred = calculate_weekly_popular_items(\n",
    "#     transactions.query(\"week_num == @week_num_valid - 1\"), 12, \"week_num\", \"article_id\"\n",
    "# ).article_id.to_list()\n",
    "heuristic_pred = (\n",
    "    calculate_rolling_popular_items(\n",
    "        transactions.query(\"week_num >= @week_num_valid - 1 and week_num < @week_num_valid\"),\n",
    "        1,\n",
    "        12,\n",
    "        \"week_num\",\n",
    "        \"article_id\",\n",
    "    )\n",
    "    .query(\"week_num == @week_num_valid - 1\")[\"article_id\"]\n",
    "    .to_list()\n",
    ")\n",
    "\n",
    "heuristic_pred_mapping = {k: heuristic_pred for k in valid_mapping.keys()}\n",
    "\n",
    "mean_average_precision_at_k(valid_mapping, heuristic_pred_mapping, k=12)"
   ]
  },
  {
   "cell_type": "code",
   "execution_count": null,
   "id": "d4cd0954",
   "metadata": {},
   "outputs": [],
   "source": [
    "# Ideal case\n",
    "# Out of all candidates, if we can rank the correct ones first, what is the MAP@K?\n",
    "# Calculate the best possible ranking\n",
    "valid_inference_data.data.head()\n",
    "\n",
    "# Evaluate valid\n",
    "valid_inference_pred = ranker_train_valid_pipeline.ranker.predict_ranks(valid_inference_data)\n",
    "\n",
    "# Double check the results above\n",
    "print(\"MAP@K\", mean_average_precision_at_k(valid_mapping, valid_inference_pred, k=12))\n",
    "print(\"MAP@K ideal\", ideal_mean_average_precision_at_k(valid_mapping, valid_inference_pred, k=12))"
   ]
  },
  {
   "cell_type": "code",
   "execution_count": null,
   "id": "a29923e9",
   "metadata": {},
   "outputs": [],
   "source": []
  },
  {
   "cell_type": "code",
   "execution_count": null,
   "id": "f87a09be",
   "metadata": {},
   "outputs": [],
   "source": []
  },
  {
   "cell_type": "markdown",
   "id": "a309ff4b",
   "metadata": {},
   "source": [
    "# === Understand below; to clean up ===\n"
   ]
  },
  {
   "cell_type": "markdown",
   "id": "4e61e5da",
   "metadata": {},
   "source": [
    "# Debug - MAPK\n"
   ]
  },
  {
   "cell_type": "code",
   "execution_count": null,
   "id": "ba3ffb97",
   "metadata": {},
   "outputs": [],
   "source": [
    "from src.input_preprocessing import get_path_to_lightgbm_data, LightGBMDataResult\n",
    "from src.feature_extraction import load_optimized_raw_data\n",
    "from src.metrics import mean_average_precision_at_k, get_mapping_from_labels, mean_average_precision_at_k_hierarchical"
   ]
  },
  {
   "cell_type": "code",
   "execution_count": null,
   "id": "28a8c88c",
   "metadata": {},
   "outputs": [],
   "source": [
    "path_train = get_path_to_lightgbm_data(sample=\"train\", use_type=\"train\", subsample=0.05, seed=42)\n",
    "path_valid_train = get_path_to_lightgbm_data(sample=\"valid\", use_type=\"train\", subsample=0.05, seed=42)\n",
    "path_valid_inference = get_path_to_lightgbm_data(sample=\"valid\", use_type=\"inference\", subsample=0.05, seed=42)"
   ]
  },
  {
   "cell_type": "code",
   "execution_count": null,
   "id": "16202286",
   "metadata": {},
   "outputs": [],
   "source": [
    "train_data = LightGBMDataResult.load(path_train)\n",
    "valid_train_data = LightGBMDataResult.load(path_valid_train)\n",
    "valid_inference_data = LightGBMDataResult.load(path_valid_inference)"
   ]
  },
  {
   "cell_type": "code",
   "execution_count": null,
   "id": "58901151",
   "metadata": {},
   "outputs": [],
   "source": [
    "# Evaluate train\n",
    "train_scores = ranker_train_valid_pipeline.ranker.predict_scores(train_data)"
   ]
  },
  {
   "cell_type": "code",
   "execution_count": null,
   "id": "1febc5eb",
   "metadata": {},
   "outputs": [],
   "source": [
    "train_scores.shape"
   ]
  },
  {
   "cell_type": "code",
   "execution_count": null,
   "id": "14c018b7",
   "metadata": {},
   "outputs": [],
   "source": [
    "train_df = train_data.data.copy()\n",
    "train_df[\"score\"] = train_scores\n",
    "train_df.head()"
   ]
  },
  {
   "cell_type": "code",
   "execution_count": null,
   "id": "d31610d3",
   "metadata": {},
   "outputs": [],
   "source": [
    "# Get pred ranking for the last week\n",
    "# train_df = train_df.query(\"week_num == 102\")\n",
    "train_df.sort_values(\"score\", ascending=False, inplace=True)\n",
    "# train_preds = train_df.groupby(\"customer_id\")[\"article_id\"].apply(list)"
   ]
  },
  {
   "cell_type": "code",
   "execution_count": null,
   "id": "74ac1c1a",
   "metadata": {},
   "outputs": [],
   "source": [
    "# Transform DataFrame into nested dictionary structure\n",
    "train_preds = {}\n",
    "for week in train_df[\"week_num\"].unique():\n",
    "    week_df = train_df[train_df[\"week_num\"] == week]\n",
    "    train_preds[week] = week_df.groupby(\"customer_id\")[\"article_id\"].apply(list).to_dict()"
   ]
  },
  {
   "cell_type": "code",
   "execution_count": null,
   "id": "993a0f02",
   "metadata": {},
   "outputs": [],
   "source": [
    "len(train_preds), list(train_preds.keys())"
   ]
  },
  {
   "cell_type": "code",
   "execution_count": null,
   "id": "c8c1a0dc",
   "metadata": {},
   "outputs": [],
   "source": [
    "train_mapping = get_mapping_from_labels(train_df, \"label\")"
   ]
  },
  {
   "cell_type": "code",
   "execution_count": null,
   "id": "5f330618",
   "metadata": {},
   "outputs": [],
   "source": [
    "len(train_preds), list(train_preds.keys())"
   ]
  },
  {
   "cell_type": "code",
   "execution_count": null,
   "id": "ba44ec0d",
   "metadata": {},
   "outputs": [],
   "source": [
    "len(train_mapping[101]), len(train_preds[101])"
   ]
  },
  {
   "cell_type": "code",
   "execution_count": null,
   "id": "d5f1ddd1",
   "metadata": {},
   "outputs": [],
   "source": [
    "tmp = mean_average_precision_at_k_hierarchical(train_mapping, train_preds, k=12)"
   ]
  },
  {
   "cell_type": "code",
   "execution_count": null,
   "id": "c7a18ba7",
   "metadata": {},
   "outputs": [],
   "source": [
    "print(tmp)"
   ]
  },
  {
   "cell_type": "code",
   "execution_count": null,
   "id": "879d6382",
   "metadata": {},
   "outputs": [],
   "source": [
    "tmp = mean_average_precision_at_k(train_mapping[102], train_preds[102], k=12)"
   ]
  },
  {
   "cell_type": "code",
   "execution_count": null,
   "id": "632da1d0",
   "metadata": {},
   "outputs": [],
   "source": [
    "for k in list(train_mapping[102].keys())[:10]:\n",
    "    print(k)\n",
    "    print(train_mapping[102][k])\n",
    "    print(train_preds[102][k])\n",
    "    print(\"-\" * 100)"
   ]
  },
  {
   "cell_type": "code",
   "execution_count": null,
   "id": "6b0c8e69",
   "metadata": {},
   "outputs": [],
   "source": [
    "train_df[[\"customer_id\", \"week_num\", \"score\", \"label\"]].sort_values(\n",
    "    [\"customer_id\", \"week_num\", \"score\"], ascending=[True, True, False]\n",
    ").head(20)"
   ]
  },
  {
   "cell_type": "code",
   "execution_count": null,
   "id": "fbbc9852",
   "metadata": {},
   "outputs": [],
   "source": []
  },
  {
   "cell_type": "markdown",
   "id": "b277b979",
   "metadata": {},
   "source": [
    "## Valid train\n"
   ]
  },
  {
   "cell_type": "code",
   "execution_count": null,
   "id": "bca0bf42",
   "metadata": {},
   "outputs": [],
   "source": [
    "valid_train_scores = ranker_train_valid_pipeline.ranker.predict_scores(valid_train_data)\n",
    "valid_train_df = valid_train_data.data.copy()\n",
    "valid_train_df[\"score\"] = valid_train_scores\n",
    "valid_train_df.head()"
   ]
  },
  {
   "cell_type": "code",
   "execution_count": null,
   "id": "e811ddd7",
   "metadata": {},
   "outputs": [],
   "source": [
    "valid_train_df.sort_values(\"score\", ascending=False, inplace=True)\n",
    "valid_train_preds = valid_train_df.groupby(\"customer_id\")[\"article_id\"].apply(list)"
   ]
  },
  {
   "cell_type": "code",
   "execution_count": null,
   "id": "0b52bf99",
   "metadata": {},
   "outputs": [],
   "source": [
    "valid_train_mapping = get_mapping_from_labels(valid_train_df, \"label\")"
   ]
  },
  {
   "cell_type": "code",
   "execution_count": null,
   "id": "81753d8b",
   "metadata": {},
   "outputs": [],
   "source": [
    "tmp1 = mean_average_precision_at_k(valid_train_mapping, valid_train_preds, k=12)"
   ]
  },
  {
   "cell_type": "code",
   "execution_count": null,
   "id": "12f1ad01",
   "metadata": {},
   "outputs": [],
   "source": [
    "print(tmp1)"
   ]
  },
  {
   "cell_type": "code",
   "execution_count": null,
   "id": "f2c6adad",
   "metadata": {},
   "outputs": [],
   "source": [
    "# Make sure we are looking at the right data\n",
    "valid_train_data.data.shape, valid_inference_data.data.shape"
   ]
  },
  {
   "cell_type": "code",
   "execution_count": null,
   "id": "18a33d54",
   "metadata": {},
   "outputs": [],
   "source": [
    "valid_train_data.label.sum()"
   ]
  },
  {
   "cell_type": "code",
   "execution_count": null,
   "id": "177a2f4e",
   "metadata": {},
   "outputs": [],
   "source": [
    "comp = valid_train_data.data.merge(\n",
    "    valid_inference_data.data, on=[\"customer_id\", \"article_id\"], how=\"outer\", indicator=True\n",
    ")"
   ]
  },
  {
   "cell_type": "code",
   "execution_count": null,
   "id": "d5d1799b",
   "metadata": {},
   "outputs": [],
   "source": [
    "comp._merge.value_counts()"
   ]
  },
  {
   "cell_type": "code",
   "execution_count": null,
   "id": "ce0139cb",
   "metadata": {},
   "outputs": [],
   "source": [
    "# Anything in the left side only must be 1\n",
    "comp.query(\"_merge == 'left_only'\").label.mean()"
   ]
  },
  {
   "cell_type": "code",
   "execution_count": null,
   "id": "0ad834e0",
   "metadata": {},
   "outputs": [],
   "source": [
    "valid_train_df[[\"customer_id\", \"week_num\", \"score\", \"label\"]].sort_values(\n",
    "    [\"customer_id\", \"week_num\", \"score\"], ascending=[True, True, False]\n",
    ").head(20)"
   ]
  },
  {
   "cell_type": "code",
   "execution_count": null,
   "id": "38b10f2e",
   "metadata": {},
   "outputs": [],
   "source": []
  },
  {
   "cell_type": "code",
   "execution_count": null,
   "id": "406ebfed",
   "metadata": {},
   "outputs": [],
   "source": []
  },
  {
   "cell_type": "markdown",
   "id": "96890844",
   "metadata": {},
   "source": [
    "# [Archived] Evaluation\n"
   ]
  },
  {
   "cell_type": "code",
   "execution_count": null,
   "id": "5f01781a",
   "metadata": {},
   "outputs": [],
   "source": [
    "# config_evaluator_pipeline = generate_config_evaluator_pipeline(\n",
    "#     ranker_path=path_dir_model,\n",
    "#     sample=\"valid\",\n",
    "#     subsample=0.05,\n",
    "#     seed=42,\n",
    "# )"
   ]
  },
  {
   "cell_type": "code",
   "execution_count": null,
   "id": "d3eede0b",
   "metadata": {},
   "outputs": [],
   "source": [
    "# ranker_evaluator_pipeline = RankerEvaluatorPipeline(config_evaluator_pipeline)"
   ]
  },
  {
   "cell_type": "code",
   "execution_count": null,
   "id": "eabc9ea0",
   "metadata": {},
   "outputs": [],
   "source": [
    "# ranker_evaluator_pipeline.run()"
   ]
  },
  {
   "cell_type": "code",
   "execution_count": null,
   "id": "2885e75c",
   "metadata": {},
   "outputs": [],
   "source": []
  },
  {
   "cell_type": "code",
   "execution_count": null,
   "id": "81b32c26",
   "metadata": {},
   "outputs": [],
   "source": []
  },
  {
   "cell_type": "code",
   "execution_count": null,
   "id": "3630b07c",
   "metadata": {},
   "outputs": [],
   "source": []
  }
 ],
 "metadata": {
  "kernelspec": {
   "display_name": "venv",
   "language": "python",
   "name": "python3"
  },
  "language_info": {
   "codemirror_mode": {
    "name": "ipython",
    "version": 3
   },
   "file_extension": ".py",
   "mimetype": "text/x-python",
   "name": "python",
   "nbconvert_exporter": "python",
   "pygments_lexer": "ipython3"
  }
 },
 "nbformat": 4,
 "nbformat_minor": 5
}
