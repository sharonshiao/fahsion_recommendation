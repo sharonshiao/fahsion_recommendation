{
 "cells": [
  {
   "cell_type": "markdown",
   "metadata": {},
   "source": [
    "# 1C Customers dynamic features\n"
   ]
  },
  {
   "cell_type": "code",
   "execution_count": 1,
   "metadata": {},
   "outputs": [],
   "source": [
    "%load_ext autoreload\n",
    "%autoreload 2"
   ]
  },
  {
   "cell_type": "code",
   "execution_count": 2,
   "metadata": {},
   "outputs": [
    {
     "name": "stderr",
     "output_type": "stream",
     "text": [
      "2025-05-31 19:10:32,128 - src.utils - INFO - Creating file handler with level: 10\n",
      "2025-05-31 19:10:32,129 - src.utils - DEBUG - Logging setup complete to customer_dynamic_feature.log\n"
     ]
    }
   ],
   "source": [
    "import sys\n",
    "import logging\n",
    "import pandas as pd\n",
    "\n",
    "sys.path.append(\"..\")\n",
    "\n",
    "from src.utils.core_utils import setup_logging\n",
    "\n",
    "# Initialize logging\n",
    "file_log = \"customer_dynamic_feature.log\"\n",
    "root_logger = setup_logging(level=logging.DEBUG, log_file=file_log, remove_existing=True)"
   ]
  },
  {
   "cell_type": "code",
   "execution_count": 3,
   "metadata": {},
   "outputs": [
    {
     "name": "stderr",
     "output_type": "stream",
     "text": [
      "/Users/sharonshiao/Dropbox/Machine_learning/projects/fahsion_recommendation/venv/lib/python3.12/site-packages/tqdm/auto.py:21: TqdmWarning: IProgress not found. Please update jupyter and ipywidgets. See https://ipywidgets.readthedocs.io/en/stable/user_install.html\n",
      "  from .autonotebook import tqdm as notebook_tqdm\n"
     ]
    }
   ],
   "source": [
    "from src.feature_customers import CustomerDynamicFeaturePipelineConfig, CustomerDynamicFeaturePipeline"
   ]
  },
  {
   "cell_type": "markdown",
   "metadata": {},
   "source": [
    "# Run pipeline\n"
   ]
  },
  {
   "cell_type": "code",
   "execution_count": 4,
   "metadata": {},
   "outputs": [],
   "source": [
    "customer_dynamic_feature_config = CustomerDynamicFeaturePipelineConfig.create_default()"
   ]
  },
  {
   "cell_type": "code",
   "execution_count": 5,
   "metadata": {},
   "outputs": [],
   "source": [
    "customer_dynamic_feature_pipeline = CustomerDynamicFeaturePipeline(customer_dynamic_feature_config)"
   ]
  },
  {
   "cell_type": "code",
   "execution_count": 6,
   "metadata": {},
   "outputs": [
    {
     "name": "stderr",
     "output_type": "stream",
     "text": [
      "2025-05-31 19:10:34,882 - src.feature_customers - INFO - Setting up CustomerDynamicFeaturePipeline\n",
      "2025-05-31 19:10:34,883 - src.feature_customers - DEBUG - Config: {\n",
      "  \"config_processor\": {\n",
      "    \"start_week_num\": 76,\n",
      "    \"end_week_num\": 102,\n",
      "    \"k_items\": 5\n",
      "  },\n",
      "  \"subsample\": 0.05,\n",
      "  \"seed\": 42\n",
      "}\n"
     ]
    },
    {
     "data": {
      "text/plain": [
       "<src.feature_customers.CustomerDynamicFeaturePipeline at 0x15d6cb710>"
      ]
     },
     "execution_count": 6,
     "metadata": {},
     "output_type": "execute_result"
    }
   ],
   "source": [
    "customer_dynamic_feature_pipeline.setup()"
   ]
  },
  {
   "cell_type": "code",
   "execution_count": 7,
   "metadata": {},
   "outputs": [
    {
     "name": "stderr",
     "output_type": "stream",
     "text": [
      "2025-05-31 19:10:34,903 - src.feature_customers - INFO - Loading data for CustomerDynamicFeaturePipeline\n",
      "2025-05-31 19:10:34,904 - src.feature_extraction - INFO - Loading optimized raw data from transactions train 0.05 42\n",
      "2025-05-31 19:10:34,906 - src.feature_extraction - DEBUG - Loading data from ../data/transactions_train_sample_0.05_42.parquet\n",
      "2025-05-31 19:10:35,037 - src.feature_extraction - INFO - Loading optimized raw data from transactions valid 0.05 42\n",
      "2025-05-31 19:10:35,039 - src.feature_extraction - DEBUG - Loading data from ../data/transactions_valid_sample_0.05_42.parquet\n",
      "2025-05-31 19:10:35,043 - src.feature_extraction - INFO - Loading optimized raw data from transactions test 0.05 42\n",
      "2025-05-31 19:10:35,044 - src.feature_extraction - DEBUG - Loading data from ../data/transactions_test_sample_0.05_42.parquet\n",
      "2025-05-31 19:10:35,063 - src.features_articles - INFO - Loading article embedding result from ../data/preprocessed/articles_embedding/full\n",
      "2025-05-31 19:10:35,210 - src.features_articles - INFO - Loaded text embeddings from ../data/preprocessed/articles_embedding/full/text_embeddings.npy\n",
      "2025-05-31 19:10:35,310 - src.features_articles - INFO - Loaded image embeddings from ../data/preprocessed/articles_embedding/full/image_embeddings.npy\n",
      "2025-05-31 19:10:35,311 - src.features_articles - INFO - Loaded image missing flags from ../data/preprocessed/articles_embedding/full/image_missing.npy\n",
      "2025-05-31 19:10:35,356 - src.features_articles - INFO - Loaded id to index mapping from ../data/preprocessed/articles_embedding/full/id_to_index.json\n",
      "2025-05-31 19:10:35,361 - src.feature_customers - INFO - Processing customer dynamic features\n",
      "2025-05-31 19:10:35,378 - src.feature_customers - INFO - Getting last 5 items by week\n",
      "2025-05-31 19:10:36,336 - src.feature_customers - DEBUG - Last 5 items by week has shape: (101934, 4)\n",
      "2025-05-31 19:10:36,337 - src.feature_customers - INFO - Calculating average embeddings for 101934 customer-week combinations\n",
      "2025-05-31 19:10:40,379 - src.feature_customers - DEBUG - Results DataFrame has shape: (101934, 5)\n",
      "2025-05-31 19:10:40,385 - src.feature_customers - INFO - Generating cross join of customer-week pairs\n",
      "2025-05-31 19:10:40,428 - src.feature_customers - DEBUG - Cross join has shape: (1012203, 2)\n",
      "2025-05-31 19:10:40,428 - src.feature_customers - DEBUG - Cross join has columns: Index(['customer_id', 'week_num'], dtype='object')\n",
      "2025-05-31 19:10:40,483 - src.feature_customers - DEBUG - Cross join has shape: (1012203, 5)\n",
      "2025-05-31 19:10:40,484 - src.feature_customers - DEBUG - Cross join has columns: Index(['customer_id', 'week_num', 'customer_avg_price',\n",
      "       'customer_avg_text_embedding', 'customer_avg_image_embedding'],\n",
      "      dtype='object')\n",
      "2025-05-31 19:10:40,485 - src.feature_customers - INFO - Filling missing values\n",
      "2025-05-31 19:10:40,670 - src.feature_customers - DEBUG - Cross join after filling missing values has shape: (1012203, 5)\n",
      "2025-05-31 19:10:40,671 - src.feature_customers - DEBUG - Cross join after filling missing values has columns: Index(['customer_id', 'week_num', 'customer_avg_price',\n",
      "       'customer_avg_text_embedding', 'customer_avg_image_embedding'],\n",
      "      dtype='object')\n",
      "2025-05-31 19:10:40,710 - src.feature_customers - DEBUG - Missing values filled: customer_id                          0\n",
      "week_num                             0\n",
      "customer_avg_price                   0\n",
      "customer_avg_text_embedding     364396\n",
      "customer_avg_image_embedding    364396\n",
      "dtype: int64\n",
      "2025-05-31 19:10:40,722 - src.feature_customers - INFO - Saving customer dynamic feature result to ../data/preprocessed/customers_dynamic/subsample_0.05_42\n",
      "2025-05-31 19:10:57,511 - src.feature_customers - INFO - Saved data to ../data/preprocessed/customers_dynamic/subsample_0.05_42/data.parquet\n",
      "2025-05-31 19:10:57,513 - src.feature_customers - INFO - Saved feature names to ../data/preprocessed/customers_dynamic/subsample_0.05_42/feature_names.json\n"
     ]
    }
   ],
   "source": [
    "results_customer_dynamic_feature = customer_dynamic_feature_pipeline.run()"
   ]
  },
  {
   "cell_type": "markdown",
   "metadata": {},
   "source": [
    "# Checks\n"
   ]
  },
  {
   "cell_type": "code",
   "execution_count": 8,
   "metadata": {},
   "outputs": [
    {
     "name": "stdout",
     "output_type": "stream",
     "text": [
      "<class 'pandas.core.frame.DataFrame'>\n",
      "RangeIndex: 1012203 entries, 0 to 1012202\n",
      "Data columns (total 5 columns):\n",
      " #   Column                        Non-Null Count    Dtype  \n",
      "---  ------                        --------------    -----  \n",
      " 0   customer_id                   1012203 non-null  uint64 \n",
      " 1   week_num                      1012203 non-null  int64  \n",
      " 2   customer_avg_price            1012203 non-null  float64\n",
      " 3   customer_avg_text_embedding   647807 non-null   object \n",
      " 4   customer_avg_image_embedding  647807 non-null   object \n",
      "dtypes: float64(1), int64(1), object(2), uint64(1)\n",
      "memory usage: 38.6+ MB\n",
      "(1012203, 5)\n"
     ]
    },
    {
     "data": {
      "text/html": [
       "<div>\n",
       "<style scoped>\n",
       "    .dataframe tbody tr th:only-of-type {\n",
       "        vertical-align: middle;\n",
       "    }\n",
       "\n",
       "    .dataframe tbody tr th {\n",
       "        vertical-align: top;\n",
       "    }\n",
       "\n",
       "    .dataframe thead th {\n",
       "        text-align: right;\n",
       "    }\n",
       "</style>\n",
       "<table border=\"1\" class=\"dataframe\">\n",
       "  <thead>\n",
       "    <tr style=\"text-align: right;\">\n",
       "      <th></th>\n",
       "      <th>customer_id</th>\n",
       "      <th>week_num</th>\n",
       "      <th>customer_avg_price</th>\n",
       "      <th>customer_avg_text_embedding</th>\n",
       "      <th>customer_avg_image_embedding</th>\n",
       "    </tr>\n",
       "  </thead>\n",
       "  <tbody>\n",
       "    <tr>\n",
       "      <th>0</th>\n",
       "      <td>345001598676045</td>\n",
       "      <td>76</td>\n",
       "      <td>0.028990</td>\n",
       "      <td>NaN</td>\n",
       "      <td>NaN</td>\n",
       "    </tr>\n",
       "    <tr>\n",
       "      <th>1</th>\n",
       "      <td>345001598676045</td>\n",
       "      <td>77</td>\n",
       "      <td>0.029267</td>\n",
       "      <td>NaN</td>\n",
       "      <td>NaN</td>\n",
       "    </tr>\n",
       "    <tr>\n",
       "      <th>2</th>\n",
       "      <td>345001598676045</td>\n",
       "      <td>78</td>\n",
       "      <td>0.029543</td>\n",
       "      <td>NaN</td>\n",
       "      <td>NaN</td>\n",
       "    </tr>\n",
       "    <tr>\n",
       "      <th>3</th>\n",
       "      <td>345001598676045</td>\n",
       "      <td>79</td>\n",
       "      <td>0.029896</td>\n",
       "      <td>NaN</td>\n",
       "      <td>NaN</td>\n",
       "    </tr>\n",
       "    <tr>\n",
       "      <th>4</th>\n",
       "      <td>345001598676045</td>\n",
       "      <td>80</td>\n",
       "      <td>0.029613</td>\n",
       "      <td>NaN</td>\n",
       "      <td>NaN</td>\n",
       "    </tr>\n",
       "  </tbody>\n",
       "</table>\n",
       "</div>"
      ],
      "text/plain": [
       "       customer_id  week_num  customer_avg_price customer_avg_text_embedding  \\\n",
       "0  345001598676045        76            0.028990                         NaN   \n",
       "1  345001598676045        77            0.029267                         NaN   \n",
       "2  345001598676045        78            0.029543                         NaN   \n",
       "3  345001598676045        79            0.029896                         NaN   \n",
       "4  345001598676045        80            0.029613                         NaN   \n",
       "\n",
       "  customer_avg_image_embedding  \n",
       "0                          NaN  \n",
       "1                          NaN  \n",
       "2                          NaN  \n",
       "3                          NaN  \n",
       "4                          NaN  "
      ]
     },
     "metadata": {},
     "output_type": "display_data"
    },
    {
     "name": "stdout",
     "output_type": "stream",
     "text": [
      "{'numerical_features': ['customer_avg_price'], 'embedding_features': ['customer_avg_text_embedding', 'customer_avg_image_embedding'], 'one_hot_features': [], 'categorical_features': [], 'id_columns': ['customer_id', 'week_num']}\n"
     ]
    }
   ],
   "source": [
    "results_customer_dynamic_feature.data.info()\n",
    "print(results_customer_dynamic_feature.data.shape)\n",
    "display(results_customer_dynamic_feature.data.head())\n",
    "print(results_customer_dynamic_feature.feature_names)"
   ]
  },
  {
   "cell_type": "code",
   "execution_count": null,
   "metadata": {},
   "outputs": [],
   "source": []
  },
  {
   "cell_type": "code",
   "execution_count": null,
   "metadata": {},
   "outputs": [],
   "source": []
  }
 ],
 "metadata": {
  "kernelspec": {
   "display_name": "venv",
   "language": "python",
   "name": "python3"
  },
  "language_info": {
   "codemirror_mode": {
    "name": "ipython",
    "version": 3
   },
   "file_extension": ".py",
   "mimetype": "text/x-python",
   "name": "python",
   "nbconvert_exporter": "python",
   "pygments_lexer": "ipython3",
   "version": "3.12.10"
  }
 },
 "nbformat": 4,
 "nbformat_minor": 2
}
