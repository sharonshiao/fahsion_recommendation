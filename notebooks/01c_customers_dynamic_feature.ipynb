{
 "cells": [
  {
   "cell_type": "markdown",
   "metadata": {},
   "source": [
    "# 1C Customers dynamic features\n"
   ]
  },
  {
   "cell_type": "code",
   "execution_count": null,
   "metadata": {},
   "outputs": [],
   "source": [
    "%load_ext autoreload\n",
    "%autoreload 2"
   ]
  },
  {
   "cell_type": "code",
   "execution_count": null,
   "metadata": {},
   "outputs": [],
   "source": [
    "import sys\n",
    "import logging\n",
    "import pandas as pd\n",
    "\n",
    "sys.path.append(\"..\")\n",
    "\n",
    "from src.utils.core_utils import setup_logging\n",
    "\n",
    "# Initialize logging\n",
    "file_log = \"customer_dynamic_feature.log\"\n",
    "root_logger = setup_logging(level=logging.DEBUG, log_file=file_log, remove_existing=True)"
   ]
  },
  {
   "cell_type": "code",
   "execution_count": null,
   "metadata": {},
   "outputs": [],
   "source": [
    "from src.feature_customers import CustomerDynamicFeaturePipelineConfig, CustomerDynamicFeaturePipeline"
   ]
  },
  {
   "cell_type": "markdown",
   "metadata": {},
   "source": [
    "# Run pipeline\n"
   ]
  },
  {
   "cell_type": "code",
   "execution_count": null,
   "metadata": {},
   "outputs": [],
   "source": [
    "customer_dynamic_feature_config = CustomerDynamicFeaturePipelineConfig.create_default()"
   ]
  },
  {
   "cell_type": "code",
   "execution_count": null,
   "metadata": {},
   "outputs": [],
   "source": [
    "customer_dynamic_feature_pipeline = CustomerDynamicFeaturePipeline(customer_dynamic_feature_config)"
   ]
  },
  {
   "cell_type": "code",
   "execution_count": null,
   "metadata": {},
   "outputs": [],
   "source": [
    "customer_dynamic_feature_pipeline.setup()"
   ]
  },
  {
   "cell_type": "code",
   "execution_count": null,
   "metadata": {},
   "outputs": [],
   "source": [
    "results_customer_dynamic_feature = customer_dynamic_feature_pipeline.run()"
   ]
  },
  {
   "cell_type": "markdown",
   "metadata": {},
   "source": [
    "# Checks\n"
   ]
  },
  {
   "cell_type": "code",
   "execution_count": null,
   "metadata": {},
   "outputs": [],
   "source": [
    "results_customer_dynamic_feature.data.info()\n",
    "print(results_customer_dynamic_feature.data.shape)\n",
    "display(results_customer_dynamic_feature.data.head())\n",
    "print(results_customer_dynamic_feature.feature_names)"
   ]
  },
  {
   "cell_type": "code",
   "execution_count": null,
   "metadata": {},
   "outputs": [],
   "source": [
    "# Check the shape of the dataframe should match number of customers * number of weeks\n",
    "print(results_customer_dynamic_feature.data.shape)\n",
    "print(results_customer_dynamic_feature.data.customer_id.nunique())\n",
    "print(results_customer_dynamic_feature.data.week_num.value_counts())"
   ]
  },
  {
   "cell_type": "markdown",
   "metadata": {},
   "source": [
    "## Check that the avg embeddings make sense\n"
   ]
  },
  {
   "cell_type": "code",
   "execution_count": null,
   "metadata": {},
   "outputs": [],
   "source": [
    "import numpy as np\n",
    "\n",
    "from src.feature_customers import CustomerDynamicFeatureProcessor\n",
    "from src.feature_extraction import load_optimized_raw_data\n",
    "from src.features_articles import ArticleEmbeddingResult, get_path_to_article_features\n",
    "from src.utils.data_checks import test_feature_customer_avg_embedding, test_feature_customer_avg_embedding_pipeline"
   ]
  },
  {
   "cell_type": "code",
   "execution_count": null,
   "metadata": {},
   "outputs": [],
   "source": [
    "subsample = customer_dynamic_feature_config.subsample\n",
    "seed = customer_dynamic_feature_config.seed\n",
    "transactions_train = load_optimized_raw_data(data_type=\"transactions\", sample=\"train\", subsample=subsample, seed=seed)\n",
    "transactions_valid = load_optimized_raw_data(data_type=\"transactions\", sample=\"valid\", subsample=subsample, seed=seed)\n",
    "transactions_test = load_optimized_raw_data(data_type=\"transactions\", sample=\"test\", subsample=subsample, seed=seed)\n",
    "path_article_embeddings = get_path_to_article_features(feature_type=\"embedding\", subsample=1, seed=seed)\n",
    "results_article_embeddings = ArticleEmbeddingResult.load(path_to_dir=path_article_embeddings)"
   ]
  },
  {
   "cell_type": "code",
   "execution_count": null,
   "metadata": {},
   "outputs": [],
   "source": [
    "transactions = pd.concat([transactions_train, transactions_valid, transactions_test], ignore_index=True)\n",
    "del transactions_train, transactions_valid, transactions_test"
   ]
  },
  {
   "cell_type": "code",
   "execution_count": null,
   "metadata": {},
   "outputs": [],
   "source": [
    "# Test metadata of pipeline\n",
    "test_feature_customer_avg_embedding_pipeline(\n",
    "    results_customer_dynamic_feature,\n",
    "    transactions,\n",
    "    customer_dynamic_feature_config,\n",
    ")"
   ]
  },
  {
   "cell_type": "code",
   "execution_count": null,
   "metadata": {},
   "outputs": [],
   "source": [
    "# Test accuracy of avg embeddings\n",
    "for customer_id in results_customer_dynamic_feature.data.customer_id.unique()[:5]:\n",
    "    test_feature_customer_avg_embedding(\n",
    "        results_customer_dynamic_feature,\n",
    "        transactions,\n",
    "        results_article_embeddings,\n",
    "        customer_dynamic_feature_config,\n",
    "        customer_id,\n",
    "    )\n",
    "    print(\"=\" * 80)"
   ]
  },
  {
   "cell_type": "code",
   "execution_count": null,
   "metadata": {},
   "outputs": [],
   "source": []
  }
 ],
 "metadata": {
  "kernelspec": {
   "display_name": "venv",
   "language": "python",
   "name": "python3"
  },
  "language_info": {
   "codemirror_mode": {
    "name": "ipython",
    "version": 3
   },
   "file_extension": ".py",
   "mimetype": "text/x-python",
   "name": "python",
   "nbconvert_exporter": "python",
   "pygments_lexer": "ipython3"
  }
 },
 "nbformat": 4,
 "nbformat_minor": 2
}
