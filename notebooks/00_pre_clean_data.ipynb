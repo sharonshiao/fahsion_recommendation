{
 "cells": [
  {
   "cell_type": "markdown",
   "id": "9c0d002f",
   "metadata": {},
   "source": [
    "# Preprocess data to reduce size\n"
   ]
  },
  {
   "cell_type": "code",
   "execution_count": null,
   "id": "95dcd531",
   "metadata": {},
   "outputs": [],
   "source": [
    "%load_ext autoreload\n",
    "%autoreload 2"
   ]
  },
  {
   "cell_type": "code",
   "execution_count": null,
   "id": "a525a4b8",
   "metadata": {},
   "outputs": [],
   "source": [
    "import sys\n",
    "import logging\n",
    "\n",
    "sys.path.append(\"..\")\n",
    "\n",
    "from src.feature_extraction import RawDataOptimizer\n",
    "from src.utils.core_utils import setup_logging\n",
    "from src.config import DEFAULT_SUBSAMPLE, DEFAULT_SEED"
   ]
  },
  {
   "cell_type": "code",
   "execution_count": null,
   "id": "ce6a8bae",
   "metadata": {},
   "outputs": [],
   "source": [
    "# Initialize logging for the notebook session\n",
    "setup_logging(level=logging.DEBUG)"
   ]
  },
  {
   "cell_type": "code",
   "execution_count": null,
   "id": "adf454f9",
   "metadata": {},
   "outputs": [],
   "source": [
    "raw_data_optimizer_full = RawDataOptimizer(subsample=1)"
   ]
  },
  {
   "cell_type": "code",
   "execution_count": null,
   "id": "61db5d0d",
   "metadata": {},
   "outputs": [],
   "source": [
    "raw_data_optimizer_full.load_and_optimize()"
   ]
  },
  {
   "cell_type": "code",
   "execution_count": null,
   "id": "3ae5257d",
   "metadata": {},
   "outputs": [],
   "source": [
    "raw_data_optimizer_subsample = RawDataOptimizer(subsample=DEFAULT_SUBSAMPLE, seed=DEFAULT_SEED)"
   ]
  },
  {
   "cell_type": "code",
   "execution_count": null,
   "id": "ca950512",
   "metadata": {},
   "outputs": [],
   "source": [
    "raw_data_optimizer_subsample.load_and_optimize()"
   ]
  },
  {
   "cell_type": "code",
   "execution_count": null,
   "id": "cc02f891",
   "metadata": {},
   "outputs": [],
   "source": []
  },
  {
   "cell_type": "code",
   "execution_count": null,
   "id": "e2bfc805",
   "metadata": {},
   "outputs": [],
   "source": []
  }
 ],
 "metadata": {
  "kernelspec": {
   "display_name": "venv",
   "language": "python",
   "name": "python3"
  },
  "language_info": {
   "codemirror_mode": {
    "name": "ipython",
    "version": 3
   },
   "file_extension": ".py",
   "mimetype": "text/x-python",
   "name": "python",
   "nbconvert_exporter": "python",
   "pygments_lexer": "ipython3"
  }
 },
 "nbformat": 4,
 "nbformat_minor": 5
}
