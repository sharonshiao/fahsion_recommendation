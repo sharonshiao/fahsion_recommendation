{
 "cells": [
  {
   "cell_type": "markdown",
   "id": "9c0d002f",
   "metadata": {},
   "source": [
    "# Preprocess data to reduce size\n"
   ]
  },
  {
   "cell_type": "code",
   "execution_count": 1,
   "id": "95dcd531",
   "metadata": {},
   "outputs": [],
   "source": [
    "%load_ext autoreload\n",
    "%autoreload 2"
   ]
  },
  {
   "cell_type": "code",
   "execution_count": 3,
   "id": "a525a4b8",
   "metadata": {},
   "outputs": [],
   "source": [
    "import sys\n",
    "import logging\n",
    "\n",
    "sys.path.append(\"..\")\n",
    "\n",
    "from src.feature_extraction import RawDataOptimizer\n",
    "from src.utils.core_utils import setup_logging"
   ]
  },
  {
   "cell_type": "code",
   "execution_count": 4,
   "id": "ce6a8bae",
   "metadata": {},
   "outputs": [
    {
     "data": {
      "text/plain": [
       "<RootLogger root (DEBUG)>"
      ]
     },
     "execution_count": 4,
     "metadata": {},
     "output_type": "execute_result"
    }
   ],
   "source": [
    "# Initialize logging for the notebook session\n",
    "setup_logging(level=logging.DEBUG)"
   ]
  },
  {
   "cell_type": "code",
   "execution_count": 5,
   "id": "adf454f9",
   "metadata": {},
   "outputs": [],
   "source": [
    "raw_data_optimizer_full = RawDataOptimizer(subsample=1)"
   ]
  },
  {
   "cell_type": "code",
   "execution_count": 6,
   "id": "61db5d0d",
   "metadata": {},
   "outputs": [
    {
     "name": "stderr",
     "output_type": "stream",
     "text": [
      "2025-05-28 23:17:49 - src.feature_extraction - INFO - Loading and optimizing raw data\n",
      "2025-05-28 23:17:49 - src.feature_extraction - INFO - Reading raw transactions data\n",
      "2025-05-28 23:18:23 - src.feature_extraction - DEBUG - Shape of raw transactions data: (31788324, 5)\n",
      "2025-05-28 23:18:23 - src.feature_extraction - DEBUG - Shape of raw customers data: (1371980, 7)\n",
      "2025-05-28 23:18:23 - src.feature_extraction - DEBUG - Shape of raw articles data: (105542, 25)\n",
      "2025-05-28 23:18:23 - src.feature_extraction - DEBUG - Size of raw transactions data: 7.31 GB\n",
      "2025-05-28 23:18:23 - src.feature_extraction - DEBUG - Size of raw customers data: 470.60 MB\n",
      "2025-05-28 23:18:23 - src.feature_extraction - DEBUG - Size of raw articles data: 111.38 MB\n",
      "2025-05-28 23:18:23 - src.feature_extraction - INFO - Cleaning transactions data\n",
      "2025-05-28 23:19:12 - src.feature_extraction - DEBUG - Shape of cleaned transactions data: (31788324, 6)\n",
      "2025-05-28 23:19:12 - src.feature_extraction - DEBUG - Size of cleaned transactions data: 1.01 GB\n",
      "2025-05-28 23:19:12 - src.feature_extraction - INFO - Cleaning customers data\n",
      "2025-05-28 23:19:13 - src.feature_extraction - DEBUG - Shape of cleaned customers data: (1371980, 7)\n",
      "2025-05-28 23:19:14 - src.feature_extraction - DEBUG - Size of cleaned customers data: 325.36 MB\n",
      "2025-05-28 23:19:14 - src.feature_extraction - INFO - Cleaning articles data\n",
      "2025-05-28 23:19:14 - src.feature_extraction - DEBUG - Shape of cleaned articles data: (105542, 25)\n",
      "2025-05-28 23:19:14 - src.feature_extraction - DEBUG - Size of cleaned articles data: 101.82 MB\n",
      "2025-05-28 23:19:15 - src.feature_extraction - DEBUG - Shape of transactions test data: (240311, 6)\n",
      "2025-05-28 23:19:15 - src.feature_extraction - DEBUG - Shape of transactions valid data: (255241, 6)\n",
      "2025-05-28 23:19:15 - src.feature_extraction - DEBUG - Shape of transactions train data: (31292772, 6)\n",
      "2025-05-28 23:19:15 - src.feature_extraction - DEBUG - Size of transactions test data: 5.96 MB\n",
      "2025-05-28 23:19:15 - src.feature_extraction - DEBUG - Size of transactions valid data: 6.33 MB\n",
      "2025-05-28 23:19:15 - src.feature_extraction - DEBUG - Size of transactions train data: 775.92 MB\n",
      "2025-05-28 23:19:15 - src.feature_extraction - INFO - Creating customer-article mapping\n",
      "2025-05-28 23:19:16 - src.feature_extraction - DEBUG - Len of customer-article mapping: 72019\n",
      "2025-05-28 23:19:16 - src.feature_extraction - INFO - Creating customer-article mapping\n",
      "2025-05-28 23:19:17 - src.feature_extraction - DEBUG - Len of customer-article mapping: 68984\n",
      "2025-05-28 23:19:17 - src.feature_extraction - INFO - Saving processed data\n",
      "2025-05-28 23:19:20 - src.feature_extraction - DEBUG - Saved transactions train data to ../data/transactions_train.parquet\n",
      "2025-05-28 23:19:20 - src.feature_extraction - DEBUG - Saved transactions valid data to ../data/transactions_valid.parquet\n",
      "2025-05-28 23:19:20 - src.feature_extraction - DEBUG - Saved transactions test data to ../data/transactions_test.parquet\n",
      "2025-05-28 23:19:20 - src.feature_extraction - DEBUG - Saved customers data to ../data/customers.parquet\n",
      "2025-05-28 23:19:20 - src.feature_extraction - DEBUG - Saved articles data to ../data/articles.parquet\n",
      "2025-05-28 23:19:20 - src.feature_extraction - INFO - Data saved successfully\n"
     ]
    }
   ],
   "source": [
    "raw_data_optimizer_full.load_and_optimize()"
   ]
  },
  {
   "cell_type": "code",
   "execution_count": 7,
   "id": "3ae5257d",
   "metadata": {},
   "outputs": [],
   "source": [
    "raw_data_optimizer_subsample = RawDataOptimizer(subsample=0.05, seed=42)"
   ]
  },
  {
   "cell_type": "code",
   "execution_count": 8,
   "id": "ca950512",
   "metadata": {},
   "outputs": [
    {
     "name": "stderr",
     "output_type": "stream",
     "text": [
      "2025-05-28 23:19:20 - src.feature_extraction - INFO - Loading and optimizing raw data\n",
      "2025-05-28 23:19:20 - src.feature_extraction - INFO - Reading raw transactions data\n",
      "2025-05-28 23:19:54 - src.feature_extraction - DEBUG - Shape of raw transactions data: (31788324, 5)\n",
      "2025-05-28 23:19:54 - src.feature_extraction - DEBUG - Shape of raw customers data: (1371980, 7)\n",
      "2025-05-28 23:19:54 - src.feature_extraction - DEBUG - Shape of raw articles data: (105542, 25)\n",
      "2025-05-28 23:19:54 - src.feature_extraction - DEBUG - Size of raw transactions data: 7.31 GB\n",
      "2025-05-28 23:19:54 - src.feature_extraction - DEBUG - Size of raw customers data: 470.60 MB\n",
      "2025-05-28 23:19:54 - src.feature_extraction - DEBUG - Size of raw articles data: 111.38 MB\n",
      "2025-05-28 23:19:54 - src.feature_extraction - INFO - Cleaning transactions data\n",
      "2025-05-28 23:20:42 - src.feature_extraction - DEBUG - Shape of cleaned transactions data: (31788324, 6)\n",
      "2025-05-28 23:20:42 - src.feature_extraction - DEBUG - Size of cleaned transactions data: 1.01 GB\n",
      "2025-05-28 23:20:42 - src.feature_extraction - INFO - Cleaning customers data\n",
      "2025-05-28 23:20:43 - src.feature_extraction - DEBUG - Shape of cleaned customers data: (1371980, 7)\n",
      "2025-05-28 23:20:44 - src.feature_extraction - DEBUG - Size of cleaned customers data: 325.36 MB\n",
      "2025-05-28 23:20:44 - src.feature_extraction - INFO - Cleaning articles data\n",
      "2025-05-28 23:20:44 - src.feature_extraction - DEBUG - Shape of cleaned articles data: (105542, 25)\n",
      "2025-05-28 23:20:44 - src.feature_extraction - DEBUG - Size of cleaned articles data: 101.82 MB\n",
      "2025-05-28 23:20:44 - src.feature_extraction - INFO - Subsampling data\n",
      "2025-05-28 23:20:46 - src.feature_extraction - DEBUG - Shape of subsampled transactions data: (1598436, 6)\n",
      "2025-05-28 23:20:46 - src.feature_extraction - DEBUG - Shape of subsampled customers data: (68599, 7)\n",
      "2025-05-28 23:20:46 - src.feature_extraction - DEBUG - Shape of subsampled articles data: (77382, 25)\n",
      "2025-05-28 23:20:46 - src.feature_extraction - DEBUG - Size of subsampled transactions data: 39.63 MB\n",
      "2025-05-28 23:20:46 - src.feature_extraction - DEBUG - Size of subsampled customers data: 15.75 MB\n",
      "2025-05-28 23:20:46 - src.feature_extraction - DEBUG - Size of subsampled articles data: 74.49 MB\n",
      "2025-05-28 23:20:46 - src.feature_extraction - DEBUG - Shape of transactions test data: (12032, 6)\n",
      "2025-05-28 23:20:46 - src.feature_extraction - DEBUG - Shape of transactions valid data: (12946, 6)\n",
      "2025-05-28 23:20:46 - src.feature_extraction - DEBUG - Shape of transactions train data: (1573458, 6)\n",
      "2025-05-28 23:20:46 - src.feature_extraction - DEBUG - Size of transactions test data: 305.63 KB\n",
      "2025-05-28 23:20:46 - src.feature_extraction - DEBUG - Size of transactions valid data: 328.84 KB\n",
      "2025-05-28 23:20:46 - src.feature_extraction - DEBUG - Size of transactions train data: 39.01 MB\n",
      "2025-05-28 23:20:46 - src.feature_extraction - INFO - Creating customer-article mapping\n",
      "2025-05-28 23:20:46 - src.feature_extraction - DEBUG - Len of customer-article mapping: 3657\n",
      "2025-05-28 23:20:46 - src.feature_extraction - INFO - Creating customer-article mapping\n",
      "2025-05-28 23:20:46 - src.feature_extraction - DEBUG - Len of customer-article mapping: 3488\n",
      "2025-05-28 23:20:46 - src.feature_extraction - INFO - Saving processed data\n",
      "2025-05-28 23:20:46 - src.feature_extraction - DEBUG - Saved transactions train data to ../data/transactions_train_sample_0.05_42.parquet\n",
      "2025-05-28 23:20:46 - src.feature_extraction - DEBUG - Saved transactions valid data to ../data/transactions_valid_sample_0.05_42.parquet\n",
      "2025-05-28 23:20:46 - src.feature_extraction - DEBUG - Saved transactions test data to ../data/transactions_test_sample_0.05_42.parquet\n",
      "2025-05-28 23:20:46 - src.feature_extraction - DEBUG - Saved customers data to ../data/customers_sample_0.05_42.parquet\n",
      "2025-05-28 23:20:46 - src.feature_extraction - DEBUG - Saved articles data to ../data/articles_sample_0.05_42.parquet\n",
      "2025-05-28 23:20:46 - src.feature_extraction - INFO - Data saved successfully\n"
     ]
    }
   ],
   "source": [
    "raw_data_optimizer_subsample.load_and_optimize()"
   ]
  },
  {
   "cell_type": "code",
   "execution_count": null,
   "id": "cc02f891",
   "metadata": {},
   "outputs": [],
   "source": []
  },
  {
   "cell_type": "code",
   "execution_count": null,
   "id": "e2bfc805",
   "metadata": {},
   "outputs": [],
   "source": []
  }
 ],
 "metadata": {
  "kernelspec": {
   "display_name": "venv",
   "language": "python",
   "name": "python3"
  },
  "language_info": {
   "codemirror_mode": {
    "name": "ipython",
    "version": 3
   },
   "file_extension": ".py",
   "mimetype": "text/x-python",
   "name": "python",
   "nbconvert_exporter": "python",
   "pygments_lexer": "ipython3",
   "version": "3.12.10"
  }
 },
 "nbformat": 4,
 "nbformat_minor": 5
}
