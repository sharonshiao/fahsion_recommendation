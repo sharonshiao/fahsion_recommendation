{
 "cells": [
  {
   "cell_type": "markdown",
   "id": "9c0d002f",
   "metadata": {},
   "source": [
    "# Preprocess data to reduce size\n"
   ]
  },
  {
   "cell_type": "code",
   "execution_count": 1,
   "id": "95dcd531",
   "metadata": {},
   "outputs": [],
   "source": [
    "%load_ext autoreload\n",
    "%autoreload 2"
   ]
  },
  {
   "cell_type": "code",
   "execution_count": 2,
   "id": "a525a4b8",
   "metadata": {},
   "outputs": [],
   "source": [
    "import sys\n",
    "import logging\n",
    "\n",
    "sys.path.append(\"..\")\n",
    "\n",
    "from src.feature_extraction import RawDataOptimizer\n",
    "from src.utils.core_utils import setup_logging\n",
    "from src.config import DEFAULT_SUBSAMPLE, DEFAULT_SEED"
   ]
  },
  {
   "cell_type": "code",
   "execution_count": 3,
   "id": "ce6a8bae",
   "metadata": {},
   "outputs": [
    {
     "name": "stderr",
     "output_type": "stream",
     "text": [
      "2025-06-05 12:16:02,420 - src.utils.core_utils - INFO - Creating file handler with level: 10\n",
      "2025-06-05 12:16:02,421 - src.utils.core_utils - DEBUG - Logging setup complete to tmp.log\n"
     ]
    },
    {
     "data": {
      "text/plain": [
       "<RootLogger root (DEBUG)>"
      ]
     },
     "execution_count": 3,
     "metadata": {},
     "output_type": "execute_result"
    }
   ],
   "source": [
    "# Initialize logging for the notebook session\n",
    "setup_logging(level=logging.DEBUG)"
   ]
  },
  {
   "cell_type": "code",
   "execution_count": 4,
   "id": "adf454f9",
   "metadata": {},
   "outputs": [],
   "source": [
    "raw_data_optimizer_full = RawDataOptimizer(subsample=1)"
   ]
  },
  {
   "cell_type": "code",
   "execution_count": 5,
   "id": "61db5d0d",
   "metadata": {},
   "outputs": [
    {
     "name": "stderr",
     "output_type": "stream",
     "text": [
      "2025-06-05 12:16:02,440 - src.feature_extraction - INFO - Loading and optimizing raw data\n",
      "2025-06-05 12:16:02,440 - src.feature_extraction - INFO - Reading raw transactions data\n",
      "2025-06-05 12:16:38,813 - src.feature_extraction - DEBUG - Shape of raw transactions data: (31788324, 5)\n",
      "2025-06-05 12:16:38,814 - src.feature_extraction - DEBUG - Shape of raw customers data: (1371980, 7)\n",
      "2025-06-05 12:16:38,814 - src.feature_extraction - DEBUG - Shape of raw articles data: (105542, 25)\n",
      "2025-06-05 12:16:38,814 - src.feature_extraction - DEBUG - Size of raw transactions data: 7.31 GB\n",
      "2025-06-05 12:16:38,815 - src.feature_extraction - DEBUG - Size of raw customers data: 470.60 MB\n",
      "2025-06-05 12:16:38,815 - src.feature_extraction - DEBUG - Size of raw articles data: 111.38 MB\n",
      "2025-06-05 12:16:38,815 - src.feature_extraction - INFO - Cleaning transactions data\n",
      "2025-06-05 12:17:29,994 - src.feature_extraction - DEBUG - Shape of cleaned transactions data: (31788324, 6)\n",
      "2025-06-05 12:17:29,996 - src.feature_extraction - DEBUG - Size of cleaned transactions data: 1.01 GB\n",
      "2025-06-05 12:17:29,996 - src.feature_extraction - INFO - Cleaning customers data\n",
      "2025-06-05 12:17:30,756 - src.feature_extraction - DEBUG - Shape of cleaned customers data: (1371980, 7)\n",
      "2025-06-05 12:17:31,434 - src.feature_extraction - DEBUG - Size of cleaned customers data: 325.36 MB\n",
      "2025-06-05 12:17:31,435 - src.feature_extraction - INFO - Cleaning articles data\n",
      "2025-06-05 12:17:31,444 - src.feature_extraction - DEBUG - Shape of cleaned articles data: (105542, 25)\n",
      "2025-06-05 12:17:31,646 - src.feature_extraction - DEBUG - Size of cleaned articles data: 101.82 MB\n",
      "2025-06-05 12:17:32,612 - src.feature_extraction - DEBUG - Shape of transactions test data: (240311, 6)\n",
      "2025-06-05 12:17:32,612 - src.feature_extraction - DEBUG - Shape of transactions valid data: (255241, 6)\n",
      "2025-06-05 12:17:32,613 - src.feature_extraction - DEBUG - Shape of transactions train data: (31292772, 6)\n",
      "2025-06-05 12:17:32,614 - src.feature_extraction - DEBUG - Size of transactions test data: 5.96 MB\n",
      "2025-06-05 12:17:32,614 - src.feature_extraction - DEBUG - Size of transactions valid data: 6.33 MB\n",
      "2025-06-05 12:17:32,615 - src.feature_extraction - DEBUG - Size of transactions train data: 775.92 MB\n",
      "2025-06-05 12:17:32,615 - src.feature_extraction - INFO - Creating customer-article mapping\n",
      "2025-06-05 12:17:33,331 - src.feature_extraction - DEBUG - Len of customer-article mapping: 72019\n",
      "2025-06-05 12:17:33,332 - src.feature_extraction - INFO - Creating customer-article mapping\n",
      "2025-06-05 12:17:33,972 - src.feature_extraction - DEBUG - Len of customer-article mapping: 68984\n",
      "2025-06-05 12:17:33,972 - src.feature_extraction - INFO - Saving processed data\n",
      "2025-06-05 12:17:37,042 - src.feature_extraction - DEBUG - Saved transactions train data to ../data/transactions_train.parquet\n",
      "2025-06-05 12:17:37,044 - src.feature_extraction - DEBUG - Saved transactions valid data to ../data/transactions_valid.parquet\n",
      "2025-06-05 12:17:37,045 - src.feature_extraction - DEBUG - Saved transactions test data to ../data/transactions_test.parquet\n",
      "2025-06-05 12:17:37,045 - src.feature_extraction - DEBUG - Saved customers data to ../data/customers.parquet\n",
      "2025-06-05 12:17:37,046 - src.feature_extraction - DEBUG - Saved articles data to ../data/articles.parquet\n",
      "2025-06-05 12:17:37,046 - src.feature_extraction - INFO - Data saved successfully\n"
     ]
    }
   ],
   "source": [
    "raw_data_optimizer_full.load_and_optimize()"
   ]
  },
  {
   "cell_type": "code",
   "execution_count": 6,
   "id": "3ae5257d",
   "metadata": {},
   "outputs": [],
   "source": [
    "raw_data_optimizer_subsample = RawDataOptimizer(subsample=DEFAULT_SUBSAMPLE, seed=DEFAULT_SEED)"
   ]
  },
  {
   "cell_type": "code",
   "execution_count": 7,
   "id": "ca950512",
   "metadata": {},
   "outputs": [
    {
     "name": "stderr",
     "output_type": "stream",
     "text": [
      "2025-06-05 12:17:37,196 - src.feature_extraction - INFO - Loading and optimizing raw data\n",
      "2025-06-05 12:17:37,196 - src.feature_extraction - INFO - Reading raw transactions data\n",
      "2025-06-05 12:18:12,740 - src.feature_extraction - DEBUG - Shape of raw transactions data: (31788324, 5)\n",
      "2025-06-05 12:18:12,743 - src.feature_extraction - DEBUG - Shape of raw customers data: (1371980, 7)\n",
      "2025-06-05 12:18:12,744 - src.feature_extraction - DEBUG - Shape of raw articles data: (105542, 25)\n",
      "2025-06-05 12:18:12,744 - src.feature_extraction - DEBUG - Size of raw transactions data: 7.31 GB\n",
      "2025-06-05 12:18:12,744 - src.feature_extraction - DEBUG - Size of raw customers data: 470.60 MB\n",
      "2025-06-05 12:18:12,745 - src.feature_extraction - DEBUG - Size of raw articles data: 111.38 MB\n",
      "2025-06-05 12:18:12,745 - src.feature_extraction - INFO - Cleaning transactions data\n",
      "2025-06-05 12:19:03,025 - src.feature_extraction - DEBUG - Shape of cleaned transactions data: (31788324, 6)\n",
      "2025-06-05 12:19:03,027 - src.feature_extraction - DEBUG - Size of cleaned transactions data: 1.01 GB\n",
      "2025-06-05 12:19:03,027 - src.feature_extraction - INFO - Cleaning customers data\n",
      "2025-06-05 12:19:03,779 - src.feature_extraction - DEBUG - Shape of cleaned customers data: (1371980, 7)\n",
      "2025-06-05 12:19:04,455 - src.feature_extraction - DEBUG - Size of cleaned customers data: 325.36 MB\n",
      "2025-06-05 12:19:04,456 - src.feature_extraction - INFO - Cleaning articles data\n",
      "2025-06-05 12:19:04,467 - src.feature_extraction - DEBUG - Shape of cleaned articles data: (105542, 25)\n",
      "2025-06-05 12:19:04,667 - src.feature_extraction - DEBUG - Size of cleaned articles data: 101.82 MB\n",
      "2025-06-05 12:19:04,668 - src.feature_extraction - INFO - Subsampling data\n",
      "2025-06-05 12:19:08,449 - src.feature_extraction - DEBUG - Shape of subsampled transactions data: (7934383, 6)\n",
      "2025-06-05 12:19:08,449 - src.feature_extraction - DEBUG - Shape of subsampled customers data: (342995, 7)\n",
      "2025-06-05 12:19:08,450 - src.feature_extraction - DEBUG - Shape of subsampled articles data: (95295, 25)\n",
      "2025-06-05 12:19:08,450 - src.feature_extraction - DEBUG - Size of subsampled transactions data: 196.74 MB\n",
      "2025-06-05 12:19:08,633 - src.feature_extraction - DEBUG - Size of subsampled customers data: 78.73 MB\n",
      "2025-06-05 12:19:08,815 - src.feature_extraction - DEBUG - Size of subsampled articles data: 91.87 MB\n",
      "2025-06-05 12:19:09,091 - src.feature_extraction - DEBUG - Shape of transactions test data: (60199, 6)\n",
      "2025-06-05 12:19:09,092 - src.feature_extraction - DEBUG - Shape of transactions valid data: (63329, 6)\n",
      "2025-06-05 12:19:09,092 - src.feature_extraction - DEBUG - Shape of transactions train data: (7810855, 6)\n",
      "2025-06-05 12:19:09,093 - src.feature_extraction - DEBUG - Size of transactions test data: 1.49 MB\n",
      "2025-06-05 12:19:09,093 - src.feature_extraction - DEBUG - Size of transactions valid data: 1.57 MB\n",
      "2025-06-05 12:19:09,094 - src.feature_extraction - DEBUG - Size of transactions train data: 193.67 MB\n",
      "2025-06-05 12:19:09,094 - src.feature_extraction - INFO - Creating customer-article mapping\n",
      "2025-06-05 12:19:09,326 - src.feature_extraction - DEBUG - Len of customer-article mapping: 17907\n",
      "2025-06-05 12:19:09,328 - src.feature_extraction - INFO - Creating customer-article mapping\n",
      "2025-06-05 12:19:09,483 - src.feature_extraction - DEBUG - Len of customer-article mapping: 17290\n",
      "2025-06-05 12:19:09,484 - src.feature_extraction - INFO - Saving processed data\n",
      "2025-06-05 12:19:10,336 - src.feature_extraction - DEBUG - Saved transactions train data to ../data/transactions_train_sample_0.25_42.parquet\n",
      "2025-06-05 12:19:10,336 - src.feature_extraction - DEBUG - Saved transactions valid data to ../data/transactions_valid_sample_0.25_42.parquet\n",
      "2025-06-05 12:19:10,336 - src.feature_extraction - DEBUG - Saved transactions test data to ../data/transactions_test_sample_0.25_42.parquet\n",
      "2025-06-05 12:19:10,337 - src.feature_extraction - DEBUG - Saved customers data to ../data/customers_sample_0.25_42.parquet\n",
      "2025-06-05 12:19:10,337 - src.feature_extraction - DEBUG - Saved articles data to ../data/articles_sample_0.25_42.parquet\n",
      "2025-06-05 12:19:10,337 - src.feature_extraction - INFO - Data saved successfully\n"
     ]
    }
   ],
   "source": [
    "raw_data_optimizer_subsample.load_and_optimize()"
   ]
  },
  {
   "cell_type": "code",
   "execution_count": null,
   "id": "cc02f891",
   "metadata": {},
   "outputs": [],
   "source": []
  },
  {
   "cell_type": "code",
   "execution_count": null,
   "id": "e2bfc805",
   "metadata": {},
   "outputs": [],
   "source": []
  }
 ],
 "metadata": {
  "kernelspec": {
   "display_name": "venv",
   "language": "python",
   "name": "python3"
  },
  "language_info": {
   "codemirror_mode": {
    "name": "ipython",
    "version": 3
   },
   "file_extension": ".py",
   "mimetype": "text/x-python",
   "name": "python",
   "nbconvert_exporter": "python",
   "pygments_lexer": "ipython3",
   "version": "3.12.10"
  }
 },
 "nbformat": 4,
 "nbformat_minor": 5
}
