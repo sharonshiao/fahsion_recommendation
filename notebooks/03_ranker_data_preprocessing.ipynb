{
 "cells": [
  {
   "cell_type": "markdown",
   "id": "8e6a5ce0",
   "metadata": {},
   "source": [
    "# 03 Ranker data preprocessing\n"
   ]
  },
  {
   "cell_type": "code",
   "execution_count": 1,
   "id": "bf46d300",
   "metadata": {},
   "outputs": [],
   "source": [
    "%load_ext autoreload\n",
    "%autoreload 2"
   ]
  },
  {
   "cell_type": "code",
   "execution_count": 2,
   "id": "58c1abea",
   "metadata": {},
   "outputs": [],
   "source": [
    "import sys\n",
    "import logging\n",
    "import pandas as pd\n",
    "\n",
    "sys.path.append(\"..\")\n",
    "\n",
    "from src.utils.core_utils import setup_logging"
   ]
  },
  {
   "cell_type": "code",
   "execution_count": null,
   "id": "9e3543f2",
   "metadata": {},
   "outputs": [],
   "source": [
    "# Initialize logging\n",
    "file_log = \"ranker_data_preprocessing.log\"\n",
    "root_logger = setup_logging(level=logging.DEBUG, log_file=file_log, remove_existing=True)"
   ]
  },
  {
   "cell_type": "code",
   "execution_count": 4,
   "id": "30e34ccb",
   "metadata": {},
   "outputs": [],
   "source": [
    "from src.input_preprocessing import LightGBMDataProcessorConfig, LightGBMDataPipeline"
   ]
  },
  {
   "cell_type": "markdown",
   "id": "62fd2fc7",
   "metadata": {},
   "source": [
    "# Preprocess\n"
   ]
  },
  {
   "cell_type": "code",
   "execution_count": 5,
   "id": "54465f9e",
   "metadata": {},
   "outputs": [],
   "source": [
    "data_processor_config_train = LightGBMDataProcessorConfig.create_default(\"train\")\n",
    "data_processor_config_valid = LightGBMDataProcessorConfig.create_default(\"valid\")\n",
    "data_processor_config_test = LightGBMDataProcessorConfig.create_default(\"test\")"
   ]
  },
  {
   "cell_type": "code",
   "execution_count": 6,
   "id": "3494a780",
   "metadata": {},
   "outputs": [],
   "source": [
    "data_pipeline_train = LightGBMDataPipeline(data_processor_config_train)\n",
    "data_pipeline_valid = LightGBMDataPipeline(data_processor_config_valid)\n",
    "data_pipeline_test = LightGBMDataPipeline(data_processor_config_test)"
   ]
  },
  {
   "cell_type": "code",
   "execution_count": null,
   "id": "1300423b",
   "metadata": {},
   "outputs": [],
   "source": [
    "data_pipeline_train = data_pipeline_train.setup()"
   ]
  },
  {
   "cell_type": "code",
   "execution_count": null,
   "id": "6c6944e8",
   "metadata": {},
   "outputs": [],
   "source": [
    "results_train, _ = data_pipeline_train.run()"
   ]
  },
  {
   "cell_type": "code",
   "execution_count": null,
   "id": "0f05ae12",
   "metadata": {},
   "outputs": [],
   "source": [
    "data_pipeline_valid = data_pipeline_valid.setup()"
   ]
  },
  {
   "cell_type": "code",
   "execution_count": null,
   "id": "7c26ab8f",
   "metadata": {},
   "outputs": [],
   "source": [
    "results_valid_train, results_valid_inference = data_pipeline_valid.run()"
   ]
  },
  {
   "cell_type": "code",
   "execution_count": null,
   "id": "dac73794",
   "metadata": {},
   "outputs": [],
   "source": [
    "data_pipeline_test = data_pipeline_test.setup()"
   ]
  },
  {
   "cell_type": "code",
   "execution_count": null,
   "id": "978b4b2d",
   "metadata": {},
   "outputs": [],
   "source": [
    "_, results_test_inference = data_pipeline_test.run()"
   ]
  },
  {
   "cell_type": "markdown",
   "id": "78128cd8",
   "metadata": {},
   "source": [
    "# Debug\n"
   ]
  },
  {
   "cell_type": "code",
   "execution_count": null,
   "id": "9368c803",
   "metadata": {},
   "outputs": [],
   "source": [
    "print(results_train.data.shape)\n",
    "print(results_valid_train.data.shape)\n",
    "print(results_valid_inference.data.shape)"
   ]
  },
  {
   "cell_type": "code",
   "execution_count": null,
   "id": "74593fb5",
   "metadata": {},
   "outputs": [],
   "source": [
    "print(results_train.data.columns)\n",
    "print(results_valid_train.data.columns)\n",
    "print(results_valid_inference.data.columns)"
   ]
  },
  {
   "cell_type": "code",
   "execution_count": null,
   "id": "9da06975",
   "metadata": {},
   "outputs": [],
   "source": [
    "print(results_test_inference.data.shape)\n",
    "print(results_test_inference.data.columns)"
   ]
  },
  {
   "cell_type": "code",
   "execution_count": null,
   "id": "cf0173d3",
   "metadata": {},
   "outputs": [],
   "source": [
    "results_test_inference.get_feature_names_list()"
   ]
  },
  {
   "cell_type": "code",
   "execution_count": null,
   "id": "07a6028f",
   "metadata": {},
   "outputs": [],
   "source": [
    "results_train.use_type, results_valid_train.use_type, results_valid_inference.use_type, results_test_inference.use_type"
   ]
  },
  {
   "cell_type": "code",
   "execution_count": null,
   "id": "e5d9ab09",
   "metadata": {},
   "outputs": [],
   "source": []
  }
 ],
 "metadata": {
  "kernelspec": {
   "display_name": "venv",
   "language": "python",
   "name": "python3"
  },
  "language_info": {
   "codemirror_mode": {
    "name": "ipython",
    "version": 3
   },
   "file_extension": ".py",
   "mimetype": "text/x-python",
   "name": "python",
   "nbconvert_exporter": "python",
   "pygments_lexer": "ipython3",
   "version": "3.12.10"
  }
 },
 "nbformat": 4,
 "nbformat_minor": 5
}
