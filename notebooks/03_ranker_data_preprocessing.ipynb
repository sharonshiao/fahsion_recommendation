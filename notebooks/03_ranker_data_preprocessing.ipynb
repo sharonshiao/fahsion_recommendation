{
 "cells": [
  {
   "cell_type": "markdown",
   "id": "8e6a5ce0",
   "metadata": {},
   "source": [
    "# 03 Ranker data preprocessing\n",
    "\n",
    "Combine candidates with articles and features data to be used as input to ranker.\n"
   ]
  },
  {
   "cell_type": "code",
   "execution_count": null,
   "id": "bf46d300",
   "metadata": {},
   "outputs": [],
   "source": [
    "%load_ext autoreload\n",
    "%autoreload 2"
   ]
  },
  {
   "cell_type": "code",
   "execution_count": null,
   "id": "58c1abea",
   "metadata": {},
   "outputs": [],
   "source": [
    "import sys\n",
    "import logging\n",
    "import pandas as pd\n",
    "\n",
    "sys.path.append(\"..\")\n",
    "\n",
    "from src.utils.core_utils import setup_logging"
   ]
  },
  {
   "cell_type": "code",
   "execution_count": null,
   "id": "9e3543f2",
   "metadata": {},
   "outputs": [],
   "source": [
    "# Initialize logging\n",
    "file_log = \"ranker_data_preprocessing.log\"\n",
    "root_logger = setup_logging(level=logging.DEBUG, log_file=file_log, remove_existing=True)"
   ]
  },
  {
   "cell_type": "code",
   "execution_count": null,
   "id": "30e34ccb",
   "metadata": {},
   "outputs": [],
   "source": [
    "from src.input_preprocessing import LightGBMDataProcessorConfig, LightGBMDataPipeline"
   ]
  },
  {
   "cell_type": "markdown",
   "id": "62fd2fc7",
   "metadata": {},
   "source": [
    "# Preprocess\n"
   ]
  },
  {
   "cell_type": "code",
   "execution_count": null,
   "id": "54465f9e",
   "metadata": {},
   "outputs": [],
   "source": [
    "data_processor_config_train = LightGBMDataProcessorConfig.create_default(\"train\")\n",
    "data_processor_config_valid = LightGBMDataProcessorConfig.create_default(\"valid\")\n",
    "data_processor_config_test = LightGBMDataProcessorConfig.create_default(\"test\")"
   ]
  },
  {
   "cell_type": "code",
   "execution_count": null,
   "id": "3494a780",
   "metadata": {},
   "outputs": [],
   "source": [
    "data_pipeline_train = LightGBMDataPipeline(data_processor_config_train)\n",
    "data_pipeline_valid = LightGBMDataPipeline(data_processor_config_valid)\n",
    "data_pipeline_test = LightGBMDataPipeline(data_processor_config_test)"
   ]
  },
  {
   "cell_type": "code",
   "execution_count": null,
   "id": "1300423b",
   "metadata": {},
   "outputs": [],
   "source": [
    "data_pipeline_train = data_pipeline_train.setup()"
   ]
  },
  {
   "cell_type": "code",
   "execution_count": null,
   "id": "6c6944e8",
   "metadata": {},
   "outputs": [],
   "source": [
    "results_train, _ = data_pipeline_train.run()"
   ]
  },
  {
   "cell_type": "code",
   "execution_count": null,
   "id": "0f05ae12",
   "metadata": {},
   "outputs": [],
   "source": [
    "data_pipeline_valid = data_pipeline_valid.setup()"
   ]
  },
  {
   "cell_type": "code",
   "execution_count": null,
   "id": "7c26ab8f",
   "metadata": {},
   "outputs": [],
   "source": [
    "results_valid_train, results_valid_inference = data_pipeline_valid.run()"
   ]
  },
  {
   "cell_type": "code",
   "execution_count": null,
   "id": "dac73794",
   "metadata": {},
   "outputs": [],
   "source": [
    "data_pipeline_test = data_pipeline_test.setup()"
   ]
  },
  {
   "cell_type": "code",
   "execution_count": null,
   "id": "978b4b2d",
   "metadata": {},
   "outputs": [],
   "source": [
    "_, results_test_inference = data_pipeline_test.run()"
   ]
  },
  {
   "cell_type": "markdown",
   "id": "78128cd8",
   "metadata": {},
   "source": [
    "# Debug\n"
   ]
  },
  {
   "cell_type": "markdown",
   "id": "4ff1b0c8",
   "metadata": {},
   "source": [
    "## Check output shapes and meta\n"
   ]
  },
  {
   "cell_type": "code",
   "execution_count": null,
   "id": "2caf269b",
   "metadata": {},
   "outputs": [],
   "source": [
    "from src.candidate_generator import CandidateGeneratorResult, get_path_to_candidates\n",
    "from src.utils.data_checks import test_lightgbm_data_pipeline_metadata"
   ]
  },
  {
   "cell_type": "code",
   "execution_count": null,
   "id": "9eb55b46",
   "metadata": {},
   "outputs": [],
   "source": [
    "subsample = data_processor_config_train.subsample\n",
    "seed = data_processor_config_train.seed"
   ]
  },
  {
   "cell_type": "code",
   "execution_count": null,
   "id": "09d870e9",
   "metadata": {},
   "outputs": [],
   "source": [
    "path_to_candidates_train = get_path_to_candidates(sample=\"train\", subsample=subsample, seed=seed)\n",
    "path_to_candidates_valid = get_path_to_candidates(sample=\"valid\", subsample=subsample, seed=seed)\n",
    "path_to_candidates_test = get_path_to_candidates(sample=\"test\", subsample=subsample, seed=seed)\n",
    "candidates_train = CandidateGeneratorResult.load(path_to_candidates_train)\n",
    "candidates_valid = CandidateGeneratorResult.load(path_to_candidates_valid)\n",
    "candidates_test = CandidateGeneratorResult.load(path_to_candidates_test)"
   ]
  },
  {
   "cell_type": "code",
   "execution_count": null,
   "id": "f52b8cbc",
   "metadata": {},
   "outputs": [],
   "source": [
    "test_lightgbm_data_pipeline_metadata(results_train, candidates_train)\n",
    "\n",
    "test_lightgbm_data_pipeline_metadata(results_valid_train, candidates_valid)\n",
    "test_lightgbm_data_pipeline_metadata(results_valid_inference, candidates_valid)\n",
    "\n",
    "test_lightgbm_data_pipeline_metadata(results_test_inference, candidates_test)"
   ]
  },
  {
   "cell_type": "code",
   "execution_count": null,
   "id": "9368c803",
   "metadata": {},
   "outputs": [],
   "source": [
    "print(results_train.data.shape)\n",
    "print(results_valid_train.data.shape)\n",
    "print(results_valid_inference.data.shape)"
   ]
  },
  {
   "cell_type": "code",
   "execution_count": null,
   "id": "74593fb5",
   "metadata": {},
   "outputs": [],
   "source": [
    "print(results_train.data.columns)\n",
    "print(results_valid_train.data.columns)\n",
    "print(results_valid_inference.data.columns)"
   ]
  },
  {
   "cell_type": "code",
   "execution_count": null,
   "id": "9da06975",
   "metadata": {},
   "outputs": [],
   "source": [
    "print(results_test_inference.data.shape)\n",
    "print(results_test_inference.data.columns)"
   ]
  },
  {
   "cell_type": "code",
   "execution_count": null,
   "id": "cf0173d3",
   "metadata": {},
   "outputs": [],
   "source": [
    "results_test_inference.get_feature_names_list()"
   ]
  },
  {
   "cell_type": "code",
   "execution_count": null,
   "id": "07a6028f",
   "metadata": {},
   "outputs": [],
   "source": [
    "results_train.use_type, results_valid_train.use_type, results_valid_inference.use_type, results_test_inference.use_type"
   ]
  },
  {
   "cell_type": "markdown",
   "id": "b71a8981",
   "metadata": {},
   "source": [
    "## Check feature distribution\n"
   ]
  },
  {
   "cell_type": "code",
   "execution_count": null,
   "id": "9a47b4ce",
   "metadata": {},
   "outputs": [],
   "source": [
    "from src.utils.data_checks import test_input_articles_dynamic_features\n",
    "from src.features_articles import ArticleDynamicFeatureResult, ArticleEmbeddingResult, get_path_to_article_features\n",
    "from src.utils.data_checks import test_lightgbm_data_features\n",
    "from src.feature_customers import CustomerDynamicFeatureResult, get_path_to_customers_features\n",
    "\n",
    "path_to_customers_features_train = get_path_to_customers_features(\n",
    "    feature_type=\"dynamic\", subsample=subsample, seed=seed\n",
    ")\n",
    "customer_dynamic_features = CustomerDynamicFeatureResult.load(path_to_customers_features_train)\n",
    "\n",
    "\n",
    "path_to_article_features_train = get_path_to_article_features(feature_type=\"embedding\", subsample=1, seed=42)\n",
    "article_embeddings = ArticleEmbeddingResult.load(path_to_article_features_train)"
   ]
  },
  {
   "cell_type": "code",
   "execution_count": null,
   "id": "ecb46be0",
   "metadata": {},
   "outputs": [],
   "source": [
    "test_lightgbm_data_features(results_train, verbose=True)"
   ]
  },
  {
   "cell_type": "code",
   "execution_count": null,
   "id": "3c8ff800",
   "metadata": {},
   "outputs": [],
   "source": [
    "test_lightgbm_data_features(results_valid_train)\n",
    "\n",
    "test_lightgbm_data_features(results_valid_inference)\n",
    "\n",
    "test_lightgbm_data_features(results_test_inference)"
   ]
  },
  {
   "cell_type": "code",
   "execution_count": null,
   "id": "f36feeea",
   "metadata": {},
   "outputs": [],
   "source": []
  },
  {
   "cell_type": "markdown",
   "id": "65df5264",
   "metadata": {},
   "source": [
    "### Embedding similarity\n"
   ]
  },
  {
   "cell_type": "code",
   "execution_count": null,
   "id": "70e7876e",
   "metadata": {},
   "outputs": [],
   "source": [
    "from src.utils.data_checks import test_input_embedding_similarity, test_input_customer_avg_price"
   ]
  },
  {
   "cell_type": "code",
   "execution_count": null,
   "id": "53618943",
   "metadata": {},
   "outputs": [],
   "source": [
    "customer_ids = results_train.data.customer_id.unique()[:3]\n",
    "for customer_id in customer_ids:\n",
    "    print(f\"Testing customer {customer_id}\")\n",
    "    test_input_embedding_similarity(results_train, customer_dynamic_features, article_embeddings, customer_id)\n",
    "    print(\"=\" * 100)\n",
    "    print(\"\")"
   ]
  },
  {
   "cell_type": "code",
   "execution_count": null,
   "id": "9e007f18",
   "metadata": {},
   "outputs": [],
   "source": [
    "customer_ids = results_train.data.customer_id.unique()[:5]\n",
    "for customer_id in customer_ids:\n",
    "    print(f\"Testing customer {customer_id}\")\n",
    "    test_input_customer_avg_price(results_train, customer_dynamic_features, customer_id)\n",
    "    print(\"=\" * 100)\n",
    "    print(\"\")"
   ]
  },
  {
   "cell_type": "code",
   "execution_count": null,
   "id": "86f75215",
   "metadata": {},
   "outputs": [],
   "source": [
    "customer_ids = results_valid_inference.data.customer_id.unique()[:3]\n",
    "for customer_id in customer_ids:\n",
    "    print(f\"Testing customer {customer_id}\")\n",
    "    test_input_embedding_similarity(results_valid_inference, customer_dynamic_features, article_embeddings, customer_id)\n",
    "    print(\"=\" * 100)\n",
    "    print(\"\")"
   ]
  },
  {
   "cell_type": "code",
   "execution_count": null,
   "id": "35376104",
   "metadata": {},
   "outputs": [],
   "source": [
    "customer_ids = results_valid_train.data.customer_id.unique()[:5]\n",
    "for customer_id in customer_ids:\n",
    "    print(f\"Testing customer {customer_id}\")\n",
    "    test_input_customer_avg_price(results_valid_train, customer_dynamic_features, customer_id)\n",
    "    print(\"=\" * 100)\n",
    "    print(\"\")"
   ]
  },
  {
   "cell_type": "code",
   "execution_count": null,
   "id": "0354b247",
   "metadata": {},
   "outputs": [],
   "source": [
    "customer_ids = results_valid_inference.data.customer_id.unique()[:3]\n",
    "for customer_id in customer_ids:\n",
    "    print(f\"Testing customer {customer_id}\")\n",
    "    test_input_embedding_similarity(results_valid_inference, customer_dynamic_features, article_embeddings, customer_id)\n",
    "    print(\"=\" * 100)\n",
    "    print(\"\")"
   ]
  },
  {
   "cell_type": "code",
   "execution_count": null,
   "id": "ada6dba2",
   "metadata": {},
   "outputs": [],
   "source": [
    "customer_ids = results_valid_inference.data.customer_id.unique()[:5]\n",
    "for customer_id in customer_ids:\n",
    "    print(f\"Testing customer {customer_id}\")\n",
    "    test_input_customer_avg_price(results_valid_inference, customer_dynamic_features, customer_id)\n",
    "    print(\"=\" * 100)\n",
    "    print(\"\")"
   ]
  },
  {
   "cell_type": "code",
   "execution_count": null,
   "id": "bf7d41ad",
   "metadata": {},
   "outputs": [],
   "source": [
    "customer_ids = results_test_inference.data.customer_id.unique()[:3]\n",
    "for customer_id in customer_ids:\n",
    "    print(f\"Testing customer {customer_id}\")\n",
    "    test_input_embedding_similarity(results_test_inference, customer_dynamic_features, article_embeddings, customer_id)\n",
    "    print(\"=\" * 100)\n",
    "    print(\"\")"
   ]
  },
  {
   "cell_type": "code",
   "execution_count": null,
   "id": "fec78b40",
   "metadata": {},
   "outputs": [],
   "source": [
    "customer_ids = results_test_inference.data.customer_id.unique()[:5]\n",
    "for customer_id in customer_ids:\n",
    "    print(f\"Testing customer {customer_id}\")\n",
    "    test_input_customer_avg_price(results_test_inference, customer_dynamic_features, customer_id)\n",
    "    print(\"=\" * 100)\n",
    "    print(\"\")"
   ]
  },
  {
   "cell_type": "code",
   "execution_count": null,
   "id": "91b3b131",
   "metadata": {},
   "outputs": [],
   "source": []
  },
  {
   "cell_type": "markdown",
   "id": "3fc3523c",
   "metadata": {},
   "source": [
    "## Articles dynamic features\n",
    "\n",
    "- check that we join with the correct weeks\n"
   ]
  },
  {
   "cell_type": "code",
   "execution_count": null,
   "id": "212fb702",
   "metadata": {},
   "outputs": [],
   "source": [
    "from src.utils.data_checks import test_input_articles_dynamic_features\n",
    "from src.features_articles import ArticleDynamicFeatureResult, get_path_to_article_features"
   ]
  },
  {
   "cell_type": "code",
   "execution_count": null,
   "id": "7a1673e2",
   "metadata": {},
   "outputs": [],
   "source": [
    "path_to_article_features_train = get_path_to_article_features(feature_type=\"dynamic\", subsample=subsample, seed=seed)\n",
    "article_dynamic_features = ArticleDynamicFeatureResult.load(path_to_article_features_train)"
   ]
  },
  {
   "cell_type": "code",
   "execution_count": null,
   "id": "df116c30",
   "metadata": {},
   "outputs": [],
   "source": [
    "test_input_articles_dynamic_features(article_dynamic_features, results_train)"
   ]
  },
  {
   "cell_type": "code",
   "execution_count": null,
   "id": "67c738cf",
   "metadata": {},
   "outputs": [],
   "source": []
  },
  {
   "cell_type": "code",
   "execution_count": null,
   "id": "9b873804",
   "metadata": {},
   "outputs": [],
   "source": []
  },
  {
   "cell_type": "code",
   "execution_count": null,
   "id": "ab9224e2",
   "metadata": {},
   "outputs": [],
   "source": []
  }
 ],
 "metadata": {
  "kernelspec": {
   "display_name": "venv",
   "language": "python",
   "name": "python3"
  },
  "language_info": {
   "codemirror_mode": {
    "name": "ipython",
    "version": 3
   },
   "file_extension": ".py",
   "mimetype": "text/x-python",
   "name": "python",
   "nbconvert_exporter": "python",
   "pygments_lexer": "ipython3"
  }
 },
 "nbformat": 4,
 "nbformat_minor": 5
}
