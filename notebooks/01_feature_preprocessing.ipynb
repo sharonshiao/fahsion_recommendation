{
 "cells": [
  {
   "cell_type": "markdown",
   "id": "749807f0",
   "metadata": {},
   "source": [
    "# 01 Feature preprocessing\n"
   ]
  },
  {
   "cell_type": "code",
   "execution_count": null,
   "id": "f1edd7fe",
   "metadata": {},
   "outputs": [],
   "source": [
    "%load_ext autoreload\n",
    "%autoreload 2"
   ]
  },
  {
   "cell_type": "code",
   "execution_count": null,
   "id": "cd83015f",
   "metadata": {},
   "outputs": [],
   "source": [
    "import sys\n",
    "import logging\n",
    "import pandas as pd\n",
    "\n",
    "sys.path.append(\"..\")\n",
    "\n",
    "from src.utils.core_utils import setup_logging"
   ]
  },
  {
   "cell_type": "code",
   "execution_count": null,
   "id": "a89f0c2b",
   "metadata": {},
   "outputs": [],
   "source": [
    "# Initialize logging\n",
    "file_log = \"feature_preprocessing.log\"\n",
    "root_logger = setup_logging(level=logging.DEBUG, log_file=file_log, remove_existing=True)"
   ]
  },
  {
   "cell_type": "code",
   "execution_count": null,
   "id": "94b94fe1",
   "metadata": {},
   "outputs": [],
   "source": [
    "from src.feature_customers import (\n",
    "    CustomerStaticFeaturePipeline,\n",
    "    CustomerStaticFeaturePipelineConfig,\n",
    ")\n",
    "from src.features_articles import (\n",
    "    ArticleStaticFeaturePipeline,\n",
    "    ArticleStaticFeaturePipelineConfig,\n",
    ")"
   ]
  },
  {
   "cell_type": "markdown",
   "id": "adfcc4b4",
   "metadata": {},
   "source": [
    "# Customers Static\n"
   ]
  },
  {
   "cell_type": "code",
   "execution_count": null,
   "id": "acc5d12a",
   "metadata": {},
   "outputs": [],
   "source": [
    "customer_feature_static_config = CustomerStaticFeaturePipelineConfig.create_default()"
   ]
  },
  {
   "cell_type": "code",
   "execution_count": null,
   "id": "3017f123",
   "metadata": {},
   "outputs": [],
   "source": [
    "customer_feature_pipeline = CustomerStaticFeaturePipeline(config=customer_feature_static_config)"
   ]
  },
  {
   "cell_type": "code",
   "execution_count": null,
   "id": "174a0975",
   "metadata": {},
   "outputs": [],
   "source": [
    "customer_feature_pipeline = customer_feature_pipeline.setup()"
   ]
  },
  {
   "cell_type": "code",
   "execution_count": null,
   "id": "15167b47",
   "metadata": {},
   "outputs": [],
   "source": [
    "results_customers = customer_feature_pipeline.run()"
   ]
  },
  {
   "cell_type": "code",
   "execution_count": null,
   "id": "64d2d8b0",
   "metadata": {},
   "outputs": [],
   "source": [
    "results_customers.data.info()"
   ]
  },
  {
   "cell_type": "code",
   "execution_count": null,
   "id": "00b52a04",
   "metadata": {},
   "outputs": [],
   "source": [
    "results_customers.get_feature_list()"
   ]
  },
  {
   "cell_type": "code",
   "execution_count": null,
   "id": "987aeac4",
   "metadata": {},
   "outputs": [],
   "source": [
    "for col in results_customers.data.columns:\n",
    "    if col.startswith(\"customer_\"):\n",
    "        continue\n",
    "    print(f\"{col}: {results_customers.data[col].nunique()} unique values\")\n",
    "    display(results_customers.data[col].value_counts().head(10))"
   ]
  },
  {
   "cell_type": "markdown",
   "id": "044a3514",
   "metadata": {},
   "source": [
    "# Articles Static\n"
   ]
  },
  {
   "cell_type": "code",
   "execution_count": null,
   "id": "81808542",
   "metadata": {},
   "outputs": [],
   "source": [
    "article_feature_static_config = ArticleStaticFeaturePipelineConfig.create_default()"
   ]
  },
  {
   "cell_type": "code",
   "execution_count": null,
   "id": "dd3628d0",
   "metadata": {},
   "outputs": [],
   "source": [
    "# Create pipeline with default configuration\n",
    "article_pipeline = ArticleStaticFeaturePipeline(article_feature_static_config)"
   ]
  },
  {
   "cell_type": "code",
   "execution_count": null,
   "id": "db8f1ece",
   "metadata": {},
   "outputs": [],
   "source": [
    "# Setup and run\n",
    "article_pipeline.setup()\n",
    "results_articles = article_pipeline.run()"
   ]
  },
  {
   "cell_type": "code",
   "execution_count": null,
   "id": "f3042460",
   "metadata": {},
   "outputs": [],
   "source": [
    "results_articles.data.info()"
   ]
  },
  {
   "cell_type": "code",
   "execution_count": null,
   "id": "490968d5",
   "metadata": {},
   "outputs": [],
   "source": [
    "results_articles.get_feature_list()"
   ]
  },
  {
   "cell_type": "code",
   "execution_count": null,
   "id": "1a36406c",
   "metadata": {},
   "outputs": [],
   "source": []
  }
 ],
 "metadata": {
  "kernelspec": {
   "display_name": "venv",
   "language": "python",
   "name": "python3"
  },
  "language_info": {
   "codemirror_mode": {
    "name": "ipython",
    "version": 3
   },
   "file_extension": ".py",
   "mimetype": "text/x-python",
   "name": "python",
   "nbconvert_exporter": "python",
   "pygments_lexer": "ipython3"
  }
 },
 "nbformat": 4,
 "nbformat_minor": 5
}
