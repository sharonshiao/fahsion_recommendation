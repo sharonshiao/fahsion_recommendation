{
 "cells": [
  {
   "cell_type": "markdown",
   "id": "749807f0",
   "metadata": {},
   "source": [
    "# 01 Feature preprocessing\n"
   ]
  },
  {
   "cell_type": "code",
   "execution_count": 1,
   "id": "f1edd7fe",
   "metadata": {},
   "outputs": [],
   "source": [
    "%load_ext autoreload\n",
    "%autoreload 2"
   ]
  },
  {
   "cell_type": "code",
   "execution_count": 2,
   "id": "cd83015f",
   "metadata": {},
   "outputs": [],
   "source": [
    "import sys\n",
    "import logging\n",
    "import pandas as pd\n",
    "\n",
    "sys.path.append(\"..\")\n",
    "\n",
    "from src.utils.core_utils import setup_logging"
   ]
  },
  {
   "cell_type": "code",
   "execution_count": 3,
   "id": "a89f0c2b",
   "metadata": {},
   "outputs": [
    {
     "name": "stderr",
     "output_type": "stream",
     "text": [
      "2025-06-03 16:49:09,212 - src.utils.core_utils - INFO - Creating file handler with level: 10\n",
      "2025-06-03 16:49:09,212 - src.utils.core_utils - DEBUG - Logging setup complete to feature_preprocessing.log\n"
     ]
    }
   ],
   "source": [
    "# Initialize logging\n",
    "file_log = \"feature_preprocessing.log\"\n",
    "root_logger = setup_logging(level=logging.DEBUG, log_file=file_log, remove_existing=True)"
   ]
  },
  {
   "cell_type": "code",
   "execution_count": 4,
   "id": "94b94fe1",
   "metadata": {},
   "outputs": [
    {
     "name": "stderr",
     "output_type": "stream",
     "text": [
      "/Users/sharonshiao/Dropbox/Machine_learning/projects/fahsion_recommendation/venv/lib/python3.12/site-packages/tqdm/auto.py:21: TqdmWarning: IProgress not found. Please update jupyter and ipywidgets. See https://ipywidgets.readthedocs.io/en/stable/user_install.html\n",
      "  from .autonotebook import tqdm as notebook_tqdm\n"
     ]
    }
   ],
   "source": [
    "from src.feature_customers import (\n",
    "    CustomerStaticFeaturePipeline,\n",
    "    CustomerStaticFeaturePipelineConfig,\n",
    ")\n",
    "from src.features_articles import (\n",
    "    ArticleStaticFeaturePipeline,\n",
    "    ArticleStaticFeaturePipelineConfig,\n",
    ")"
   ]
  },
  {
   "cell_type": "markdown",
   "id": "adfcc4b4",
   "metadata": {},
   "source": [
    "# Customers Static\n"
   ]
  },
  {
   "cell_type": "code",
   "execution_count": 5,
   "id": "acc5d12a",
   "metadata": {},
   "outputs": [],
   "source": [
    "customer_feature_static_config = CustomerStaticFeaturePipelineConfig.create_default()"
   ]
  },
  {
   "cell_type": "code",
   "execution_count": 6,
   "id": "3017f123",
   "metadata": {},
   "outputs": [],
   "source": [
    "customer_feature_pipeline = CustomerStaticFeaturePipeline(config=customer_feature_static_config)"
   ]
  },
  {
   "cell_type": "code",
   "execution_count": 7,
   "id": "174a0975",
   "metadata": {},
   "outputs": [
    {
     "name": "stderr",
     "output_type": "stream",
     "text": [
      "2025-06-03 16:49:11,964 - src.feature_customers - INFO - Setting up CustomerFeaturePipeline with config:\n",
      "2025-06-03 16:49:11,964 - src.feature_customers - DEBUG - {\n",
      "  \"config_processor\": {\n",
      "    \"age_bins\": [\n",
      "      -Infinity,\n",
      "      18,\n",
      "      25,\n",
      "      35,\n",
      "      45,\n",
      "      55,\n",
      "      65,\n",
      "      Infinity\n",
      "    ],\n",
      "    \"keep_numeric_age\": true,\n",
      "    \"missing_value_strategy\": \"fill_unknown\",\n",
      "    \"missing_values_map\": {\n",
      "      \"fn\": 0,\n",
      "      \"active\": 0,\n",
      "      \"club_member_status\": \"unknown\",\n",
      "      \"fashion_news_frequency\": \"unknown\",\n",
      "      \"postal_code\": \"unknown\"\n",
      "    },\n",
      "    \"encoding_strategy\": \"ordinal\",\n",
      "    \"categorical_features\": [\n",
      "      \"club_member_status\",\n",
      "      \"fashion_news_frequency\",\n",
      "      \"postal_code\",\n",
      "      \"age_bin\"\n",
      "    ],\n",
      "    \"numerical_features\": [\n",
      "      \"fn\",\n",
      "      \"active\",\n",
      "      \"age\"\n",
      "    ],\n",
      "    \"one_hot_features\": []\n",
      "  },\n",
      "  \"subsample\": 0.05,\n",
      "  \"seed\": 42\n",
      "}\n"
     ]
    }
   ],
   "source": [
    "customer_feature_pipeline = customer_feature_pipeline.setup()"
   ]
  },
  {
   "cell_type": "code",
   "execution_count": 8,
   "id": "15167b47",
   "metadata": {},
   "outputs": [
    {
     "name": "stderr",
     "output_type": "stream",
     "text": [
      "2025-06-03 16:49:11,982 - src.feature_customers - INFO - Loading raw customer data for CustomerFeaturePipeline\n",
      "2025-06-03 16:49:11,982 - src.feature_extraction - INFO - Loading optimized raw data from customers train 0.05 42\n",
      "2025-06-03 16:49:11,983 - src.feature_extraction - DEBUG - Loading data from ../data/customers_sample_0.05_42.parquet\n",
      "2025-06-03 16:49:12,106 - src.feature_customers - DEBUG - Loaded raw customer data with shape: (68599, 7)\n",
      "2025-06-03 16:49:12,107 - src.feature_customers - INFO - Processing customer data\n",
      "2025-06-03 16:49:12,108 - src.feature_customers - DEBUG - Standardizing column names\n",
      "2025-06-03 16:49:12,109 - src.feature_customers - DEBUG - Handling missing values\n",
      "2025-06-03 16:49:12,118 - src.feature_customers - DEBUG - Creating demographic features\n",
      "2025-06-03 16:49:12,119 - src.feature_customers - INFO - Processing age feature\n",
      "2025-06-03 16:49:12,147 - src.feature_customers - DEBUG - Applying ordinal encoding\n",
      "2025-06-03 16:49:12,281 - src.feature_customers - INFO - Collecting feature names for 8 columns\n",
      "2025-06-03 16:49:12,282 - src.feature_customers - DEBUG - Collected 4 categorical features\n",
      "2025-06-03 16:49:12,282 - src.feature_customers - DEBUG - Collected 3 numerical features\n",
      "2025-06-03 16:49:12,283 - src.feature_customers - DEBUG - Collected 0 one-hot features\n",
      "2025-06-03 16:49:12,283 - src.feature_customers - INFO - Saving customer feature result to ../data/preprocessed/customers_static/subsample_0.05_42\n",
      "2025-06-03 16:49:12,302 - src.feature_customers - INFO - Saved data to ../data/preprocessed/customers_static/subsample_0.05_42/data.parquet\n",
      "2025-06-03 16:49:12,302 - src.feature_customers - INFO - Saved feature names to ../data/preprocessed/customers_static/subsample_0.05_42/feature_names.json\n",
      "2025-06-03 16:49:12,307 - src.feature_customers - INFO - Saved transformers to ../data/preprocessed/customers_static/subsample_0.05_42/transformers.pkl\n"
     ]
    }
   ],
   "source": [
    "results_customers = customer_feature_pipeline.run()"
   ]
  },
  {
   "cell_type": "code",
   "execution_count": 9,
   "id": "64d2d8b0",
   "metadata": {},
   "outputs": [
    {
     "name": "stdout",
     "output_type": "stream",
     "text": [
      "<class 'pandas.core.frame.DataFrame'>\n",
      "RangeIndex: 68599 entries, 0 to 68598\n",
      "Data columns (total 8 columns):\n",
      " #   Column                  Non-Null Count  Dtype  \n",
      "---  ------                  --------------  -----  \n",
      " 0   customer_id             68599 non-null  uint64 \n",
      " 1   fn                      68599 non-null  int8   \n",
      " 2   active                  68599 non-null  int8   \n",
      " 3   club_member_status      68599 non-null  float64\n",
      " 4   fashion_news_frequency  68599 non-null  float64\n",
      " 5   age                     68599 non-null  float64\n",
      " 6   postal_code             68599 non-null  float64\n",
      " 7   age_bin                 68599 non-null  float64\n",
      "dtypes: float64(5), int8(2), uint64(1)\n",
      "memory usage: 3.3 MB\n"
     ]
    }
   ],
   "source": [
    "results_customers.data.info()"
   ]
  },
  {
   "cell_type": "code",
   "execution_count": 10,
   "id": "00b52a04",
   "metadata": {},
   "outputs": [
    {
     "data": {
      "text/plain": [
       "['fn',\n",
       " 'active',\n",
       " 'age',\n",
       " 'club_member_status',\n",
       " 'fashion_news_frequency',\n",
       " 'postal_code',\n",
       " 'age_bin',\n",
       " 'customer_id']"
      ]
     },
     "execution_count": 10,
     "metadata": {},
     "output_type": "execute_result"
    }
   ],
   "source": [
    "results_customers.get_feature_list()"
   ]
  },
  {
   "cell_type": "code",
   "execution_count": 11,
   "id": "987aeac4",
   "metadata": {},
   "outputs": [
    {
     "name": "stdout",
     "output_type": "stream",
     "text": [
      "fn: 2 unique values\n"
     ]
    },
    {
     "data": {
      "text/plain": [
       "fn\n",
       "0    44700\n",
       "1    23899\n",
       "Name: count, dtype: int64"
      ]
     },
     "metadata": {},
     "output_type": "display_data"
    },
    {
     "name": "stdout",
     "output_type": "stream",
     "text": [
      "active: 2 unique values\n"
     ]
    },
    {
     "data": {
      "text/plain": [
       "active\n",
       "0    45352\n",
       "1    23247\n",
       "Name: count, dtype: int64"
      ]
     },
     "metadata": {},
     "output_type": "display_data"
    },
    {
     "name": "stdout",
     "output_type": "stream",
     "text": [
      "club_member_status: 4 unique values\n"
     ]
    },
    {
     "data": {
      "text/plain": [
       "club_member_status\n",
       "0.0    63599\n",
       "2.0     4669\n",
       "3.0      311\n",
       "1.0       20\n",
       "Name: count, dtype: int64"
      ]
     },
     "metadata": {},
     "output_type": "display_data"
    },
    {
     "name": "stdout",
     "output_type": "stream",
     "text": [
      "fashion_news_frequency: 4 unique values\n"
     ]
    },
    {
     "data": {
      "text/plain": [
       "fashion_news_frequency\n",
       "1.0    43870\n",
       "2.0    23912\n",
       "3.0      773\n",
       "0.0       44\n",
       "Name: count, dtype: int64"
      ]
     },
     "metadata": {},
     "output_type": "display_data"
    },
    {
     "name": "stdout",
     "output_type": "stream",
     "text": [
      "age: 78 unique values\n"
     ]
    },
    {
     "data": {
      "text/plain": [
       "age\n",
       "21.0    3341\n",
       "24.0    2878\n",
       "25.0    2760\n",
       "20.0    2753\n",
       "23.0    2678\n",
       "26.0    2660\n",
       "22.0    2533\n",
       "27.0    2441\n",
       "28.0    2234\n",
       "32.0    2134\n",
       "Name: count, dtype: int64"
      ]
     },
     "metadata": {},
     "output_type": "display_data"
    },
    {
     "name": "stdout",
     "output_type": "stream",
     "text": [
      "postal_code: 55304 unique values\n"
     ]
    },
    {
     "data": {
      "text/plain": [
       "postal_code\n",
       "9595.0     5960\n",
       "44144.0      12\n",
       "11060.0      11\n",
       "6805.0       11\n",
       "34995.0      10\n",
       "20638.0       9\n",
       "9290.0        9\n",
       "4896.0        9\n",
       "16321.0       8\n",
       "37963.0       8\n",
       "Name: count, dtype: int64"
      ]
     },
     "metadata": {},
     "output_type": "display_data"
    },
    {
     "name": "stdout",
     "output_type": "stream",
     "text": [
      "age_bin: 8 unique values\n"
     ]
    },
    {
     "data": {
      "text/plain": [
       "age_bin\n",
       "1.0    18888\n",
       "2.0    17793\n",
       "4.0    12803\n",
       "3.0     8482\n",
       "5.0     6265\n",
       "6.0     1876\n",
       "0.0     1732\n",
       "7.0      760\n",
       "Name: count, dtype: int64"
      ]
     },
     "metadata": {},
     "output_type": "display_data"
    }
   ],
   "source": [
    "for col in results_customers.data.columns:\n",
    "    if col.startswith(\"customer_\"):\n",
    "        continue\n",
    "    print(f\"{col}: {results_customers.data[col].nunique()} unique values\")\n",
    "    display(results_customers.data[col].value_counts().head(10))"
   ]
  },
  {
   "cell_type": "markdown",
   "id": "044a3514",
   "metadata": {},
   "source": [
    "# Articles Static\n"
   ]
  },
  {
   "cell_type": "code",
   "execution_count": 12,
   "id": "81808542",
   "metadata": {},
   "outputs": [],
   "source": [
    "article_feature_static_config = ArticleStaticFeaturePipelineConfig.create_default()"
   ]
  },
  {
   "cell_type": "code",
   "execution_count": 13,
   "id": "dd3628d0",
   "metadata": {},
   "outputs": [],
   "source": [
    "# Create pipeline with default configuration\n",
    "article_pipeline = ArticleStaticFeaturePipeline(article_feature_static_config)"
   ]
  },
  {
   "cell_type": "code",
   "execution_count": 14,
   "id": "db8f1ece",
   "metadata": {},
   "outputs": [
    {
     "name": "stderr",
     "output_type": "stream",
     "text": [
      "2025-06-03 16:49:12,443 - src.features_articles - INFO - Setting up ArticleFeaturePipeline with config:\n",
      "2025-06-03 16:49:12,444 - src.features_articles - DEBUG - {\n",
      "  \"config_processor\": {\n",
      "    \"encoding_strategy\": \"ordinal\",\n",
      "    \"categorical_features\": [\n",
      "      \"product_type_no\",\n",
      "      \"graphical_appearance_no\",\n",
      "      \"colour_group_code\",\n",
      "      \"perceived_colour_value_id\",\n",
      "      \"perceived_colour_master_id\",\n",
      "      \"department_no\",\n",
      "      \"index_code\",\n",
      "      \"index_group_no\",\n",
      "      \"section_no\",\n",
      "      \"garment_group_no\"\n",
      "    ],\n",
      "    \"numerical_features\": [],\n",
      "    \"one_hot_features\": []\n",
      "  },\n",
      "  \"subsample\": 0.05,\n",
      "  \"seed\": 42\n",
      "}\n",
      "2025-06-03 16:49:12,444 - src.features_articles - INFO - Loading raw article data for ArticleFeaturePipeline\n",
      "2025-06-03 16:49:12,445 - src.feature_extraction - INFO - Loading optimized raw data from articles train 0.05 42\n",
      "2025-06-03 16:49:12,445 - src.feature_extraction - DEBUG - Loading data from ../data/articles_sample_0.05_42.parquet\n",
      "2025-06-03 16:49:12,493 - src.features_articles - DEBUG - Loaded raw article data with shape: (77382, 25)\n",
      "2025-06-03 16:49:12,493 - src.features_articles - INFO - Processing article data\n",
      "2025-06-03 16:49:12,499 - src.features_articles - DEBUG - Collected 10 categorical features\n",
      "2025-06-03 16:49:12,500 - src.features_articles - DEBUG - Collected 0 numerical features\n",
      "2025-06-03 16:49:12,500 - src.features_articles - DEBUG - Collected 0 one-hot features\n",
      "2025-06-03 16:49:12,501 - src.features_articles - DEBUG - Applying ordinal encoding\n",
      "2025-06-03 16:49:12,501 - src.features_articles - DEBUG - Encoding column: product_type_no\n",
      "2025-06-03 16:49:12,523 - src.features_articles - DEBUG - Encoding column: graphical_appearance_no\n",
      "2025-06-03 16:49:12,545 - src.features_articles - DEBUG - Encoding column: colour_group_code\n",
      "2025-06-03 16:49:12,563 - src.features_articles - DEBUG - Encoding column: perceived_colour_value_id\n",
      "2025-06-03 16:49:12,581 - src.features_articles - DEBUG - Encoding column: perceived_colour_master_id\n",
      "2025-06-03 16:49:12,600 - src.features_articles - DEBUG - Encoding column: department_no\n",
      "2025-06-03 16:49:12,620 - src.features_articles - DEBUG - Encoding column: index_code\n",
      "2025-06-03 16:49:12,628 - src.features_articles - DEBUG - Encoding column: index_group_no\n",
      "2025-06-03 16:49:12,646 - src.features_articles - DEBUG - Encoding column: section_no\n",
      "2025-06-03 16:49:12,664 - src.features_articles - DEBUG - Encoding column: garment_group_no\n",
      "2025-06-03 16:49:12,684 - src.features_articles - INFO - Saving article feature result to ../data/preprocessed/articles_static/subsample_0.05_42\n",
      "2025-06-03 16:49:12,783 - src.features_articles - INFO - Saved data to ../data/preprocessed/articles_static/subsample_0.05_42/data.parquet\n",
      "2025-06-03 16:49:12,784 - src.features_articles - INFO - Saved feature names to ../data/preprocessed/articles_static/subsample_0.05_42/feature_names.json\n",
      "2025-06-03 16:49:12,784 - src.features_articles - INFO - Saved transformers to ../data/preprocessed/articles_static/subsample_0.05_42/transformers.pkl\n"
     ]
    }
   ],
   "source": [
    "# Setup and run\n",
    "article_pipeline.setup()\n",
    "results_articles = article_pipeline.run()"
   ]
  },
  {
   "cell_type": "code",
   "execution_count": 15,
   "id": "f3042460",
   "metadata": {},
   "outputs": [
    {
     "name": "stdout",
     "output_type": "stream",
     "text": [
      "<class 'pandas.core.frame.DataFrame'>\n",
      "RangeIndex: 77382 entries, 0 to 77381\n",
      "Data columns (total 25 columns):\n",
      " #   Column                        Non-Null Count  Dtype  \n",
      "---  ------                        --------------  -----  \n",
      " 0   article_id                    77382 non-null  int32  \n",
      " 1   product_code                  77382 non-null  int32  \n",
      " 2   prod_name                     77382 non-null  object \n",
      " 3   product_type_no               77382 non-null  float64\n",
      " 4   product_type_name             77382 non-null  object \n",
      " 5   product_group_name            77382 non-null  object \n",
      " 6   graphical_appearance_no       77382 non-null  float64\n",
      " 7   graphical_appearance_name     77382 non-null  object \n",
      " 8   colour_group_code             77382 non-null  float64\n",
      " 9   colour_group_name             77382 non-null  object \n",
      " 10  perceived_colour_value_id     77382 non-null  float64\n",
      " 11  perceived_colour_value_name   77382 non-null  object \n",
      " 12  perceived_colour_master_id    77382 non-null  float64\n",
      " 13  perceived_colour_master_name  77382 non-null  object \n",
      " 14  department_no                 77382 non-null  float64\n",
      " 15  department_name               77382 non-null  object \n",
      " 16  index_code                    77382 non-null  float64\n",
      " 17  index_name                    77382 non-null  object \n",
      " 18  index_group_no                77382 non-null  float64\n",
      " 19  index_group_name              77382 non-null  object \n",
      " 20  section_no                    77382 non-null  float64\n",
      " 21  section_name                  77382 non-null  object \n",
      " 22  garment_group_no              77382 non-null  float64\n",
      " 23  garment_group_name            77382 non-null  object \n",
      " 24  detail_desc                   77078 non-null  object \n",
      "dtypes: float64(10), int32(2), object(13)\n",
      "memory usage: 14.2+ MB\n"
     ]
    }
   ],
   "source": [
    "results_articles.data.info()"
   ]
  },
  {
   "cell_type": "code",
   "execution_count": 16,
   "id": "490968d5",
   "metadata": {},
   "outputs": [
    {
     "data": {
      "text/plain": [
       "['product_type_no',\n",
       " 'graphical_appearance_no',\n",
       " 'colour_group_code',\n",
       " 'perceived_colour_value_id',\n",
       " 'perceived_colour_master_id',\n",
       " 'department_no',\n",
       " 'index_code',\n",
       " 'index_group_no',\n",
       " 'section_no',\n",
       " 'garment_group_no',\n",
       " 'article_id']"
      ]
     },
     "execution_count": 16,
     "metadata": {},
     "output_type": "execute_result"
    }
   ],
   "source": [
    "results_articles.get_feature_list()"
   ]
  },
  {
   "cell_type": "code",
   "execution_count": null,
   "id": "1a36406c",
   "metadata": {},
   "outputs": [],
   "source": []
  }
 ],
 "metadata": {
  "kernelspec": {
   "display_name": "venv",
   "language": "python",
   "name": "python3"
  },
  "language_info": {
   "codemirror_mode": {
    "name": "ipython",
    "version": 3
   },
   "file_extension": ".py",
   "mimetype": "text/x-python",
   "name": "python",
   "nbconvert_exporter": "python",
   "pygments_lexer": "ipython3",
   "version": "3.12.10"
  }
 },
 "nbformat": 4,
 "nbformat_minor": 5
}
