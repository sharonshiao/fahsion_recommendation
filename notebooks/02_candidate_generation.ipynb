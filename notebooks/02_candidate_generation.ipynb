{
 "cells": [
  {
   "cell_type": "markdown",
   "metadata": {},
   "source": [
    "# 02 Candidate generation\n"
   ]
  },
  {
   "cell_type": "code",
   "execution_count": 1,
   "metadata": {},
   "outputs": [],
   "source": [
    "%load_ext autoreload\n",
    "%autoreload 2"
   ]
  },
  {
   "cell_type": "code",
   "execution_count": 2,
   "metadata": {},
   "outputs": [],
   "source": [
    "import sys\n",
    "import logging\n",
    "import pandas as pd\n",
    "\n",
    "sys.path.append(\"..\")\n",
    "\n",
    "from src.utils.core_utils import setup_logging"
   ]
  },
  {
   "cell_type": "code",
   "execution_count": 3,
   "metadata": {},
   "outputs": [
    {
     "name": "stderr",
     "output_type": "stream",
     "text": [
      "2025-06-03 14:56:28,735 - src.utils.core_utils - INFO - Creating file handler with level: 10\n",
      "2025-06-03 14:56:28,735 - src.utils.core_utils - DEBUG - Logging setup complete to candidate_generation.log\n"
     ]
    }
   ],
   "source": [
    "# Initialize logging\n",
    "file_log = \"candidate_generation.log\"\n",
    "root_logger = setup_logging(level=logging.DEBUG, log_file=file_log, remove_existing=True)"
   ]
  },
  {
   "cell_type": "code",
   "execution_count": 4,
   "metadata": {},
   "outputs": [],
   "source": [
    "from src.candidate_generator import CandidateGeneratorPipeline, CandidateGeneratorPipelineConfig"
   ]
  },
  {
   "cell_type": "markdown",
   "metadata": {},
   "source": [
    "# Config\n"
   ]
  },
  {
   "cell_type": "code",
   "execution_count": 5,
   "metadata": {},
   "outputs": [],
   "source": [
    "config_candidate_generation = CandidateGeneratorPipelineConfig.create_default()"
   ]
  },
  {
   "cell_type": "markdown",
   "metadata": {},
   "source": [
    "## Candidate generation\n"
   ]
  },
  {
   "cell_type": "code",
   "execution_count": 6,
   "metadata": {},
   "outputs": [],
   "source": [
    "candidate_generator_pipeline = CandidateGeneratorPipeline(config=config_candidate_generation)"
   ]
  },
  {
   "cell_type": "code",
   "execution_count": 7,
   "metadata": {},
   "outputs": [
    {
     "name": "stderr",
     "output_type": "stream",
     "text": [
      "2025-06-03 14:56:28,781 - src.candidate_generator - INFO - Setting up CandidateGeneratorPipeline\n",
      "2025-06-03 14:56:28,781 - src.candidate_generator - DEBUG - Pipeline config: {\n",
      "  \"train_start_date\": \"2020-07-29T00:00:00\",\n",
      "  \"train_end_date\": \"2020-09-08T00:00:00\",\n",
      "  \"n_sample_week_threshold_history\": -1,\n",
      "  \"negative_sample_strategies\": {\n",
      "    \"popularity\": {\n",
      "      \"top_k_items\": 30\n",
      "    },\n",
      "    \"repurchase\": {}\n",
      "  },\n",
      "  \"inference_sample_strategies\": {\n",
      "    \"popularity\": {\n",
      "      \"top_k_items\": 30\n",
      "    },\n",
      "    \"repurchase\": {}\n",
      "  },\n",
      "  \"subsample\": 0.05,\n",
      "  \"seed\": 42\n",
      "}\n"
     ]
    }
   ],
   "source": [
    "candidate_generator_pipeline = candidate_generator_pipeline.setup()"
   ]
  },
  {
   "cell_type": "code",
   "execution_count": 8,
   "metadata": {},
   "outputs": [
    {
     "name": "stderr",
     "output_type": "stream",
     "text": [
      "2025-06-03 14:56:28,789 - src.candidate_generator - INFO - Loading data for CandidateGeneratorPipeline\n",
      "2025-06-03 14:56:28,789 - src.feature_extraction - INFO - Loading optimized raw data from transactions train 0.05 42\n",
      "2025-06-03 14:56:28,790 - src.feature_extraction - DEBUG - Loading data from ../data/transactions_train_sample_0.05_42.parquet\n",
      "2025-06-03 14:56:28,878 - src.feature_extraction - INFO - Loading optimized raw data from transactions valid 0.05 42\n",
      "2025-06-03 14:56:28,879 - src.feature_extraction - DEBUG - Loading data from ../data/transactions_valid_sample_0.05_42.parquet\n",
      "2025-06-03 14:56:28,881 - src.feature_extraction - INFO - Loading optimized raw data from transactions test 0.05 42\n",
      "2025-06-03 14:56:28,882 - src.feature_extraction - DEBUG - Loading data from ../data/transactions_test_sample_0.05_42.parquet\n",
      "2025-06-03 14:56:28,884 - src.feature_extraction - INFO - Loading optimized raw data from articles train 0.05 42\n",
      "2025-06-03 14:56:28,884 - src.feature_extraction - DEBUG - Loading data from ../data/articles_sample_0.05_42.parquet\n",
      "2025-06-03 14:56:28,935 - src.candidate_generator - INFO - Running pipeline for training data\n",
      "2025-06-03 14:56:28,936 - src.candidate_generator - INFO - Preparing base transactions data\n",
      "2025-06-03 14:56:28,936 - src.candidate_generator - DEBUG - Shape of transactions before filtering: (1573458, 6)\n",
      "2025-06-03 14:56:28,947 - src.candidate_generator - DEBUG - Adding week column to transactions\n",
      "2025-06-03 14:56:29,046 - src.candidate_generator - INFO - Filtering transactions from 2020-07-22 00:00:00 to 2020-09-08 00:00:00\n",
      "2025-06-03 14:56:29,056 - src.candidate_generator - DEBUG - Shape of transactions after filtering: (99299, 7)\n",
      "2025-06-03 14:56:29,056 - src.candidate_generator - INFO - Preparing positive samples\n",
      "2025-06-03 14:56:29,057 - src.candidate_generator - INFO - Filtering transactions from 2020-07-29 00:00:00 to 2020-09-08 00:00:00\n",
      "2025-06-03 14:56:29,065 - src.candidate_generator - DEBUG - Number of positive samples: 75444\n",
      "2025-06-03 14:56:29,069 - src.candidate_generator - INFO - Generating negative samples for train\n",
      "2025-06-03 14:56:29,070 - src.sampling.manager - INFO - Initialized NegativeSamplingManager with strategies: ['popularity', 'repurchase']\n",
      "2025-06-03 14:56:29,070 - src.sampling.manager - INFO - Generating negative samples for train\n",
      "2025-06-03 14:56:29,070 - src.sampling.manager - DEBUG - Active strategies: ['popularity', 'repurchase']\n",
      "2025-06-03 14:56:29,071 - src.sampling.manager - INFO - Calculating popular items with top_k=30\n",
      "2025-06-03 14:56:29,074 - src.sampling.utils - INFO - Calculating weekly popular items\n",
      "2025-06-03 14:56:29,088 - src.sampling.utils - DEBUG - Shape of top_k_articles_by_week: (180, 3)\n",
      "2025-06-03 14:56:29,088 - src.sampling.utils - INFO - Calculating article weekly stats\n",
      "2025-06-03 14:56:30,492 - src.sampling.utils - DEBUG - Shape of article_weekly_stats: (35620, 5)\n",
      "2025-06-03 14:56:30,492 - src.sampling.manager - DEBUG - Generated 180 popular item entries\n",
      "2025-06-03 14:56:30,493 - src.sampling.manager - INFO - Generating popularity-based negative samples\n",
      "2025-06-03 14:56:30,493 - src.sampling.popularity - INFO - Preparing negative samples by popularity\n",
      "2025-06-03 14:56:30,493 - src.sampling.popularity - DEBUG - Merging customer-week pairs with popular items\n",
      "2025-06-03 14:56:30,526 - src.sampling.popularity - DEBUG - Shape of result: (690960, 3)\n",
      "2025-06-03 14:56:30,526 - src.sampling.popularity - DEBUG - Adding item metadata from weekly statistics\n",
      "2025-06-03 14:56:30,527 - src.sampling.popularity - DEBUG - Adding item metadata from weekly statistics\n",
      "2025-06-03 14:56:30,566 - src.sampling.popularity - DEBUG - Shape of result after adding item metadata: (690960, 5)\n",
      "2025-06-03 14:56:30,569 - src.sampling.popularity - DEBUG - Generated 690960 popularity-based samples\n",
      "2025-06-03 14:56:30,569 - src.sampling.popularity - DEBUG - Columns of samples: Index(['customer_id', 'week_num', 'article_id', 'price', 'sales_channel_id',\n",
      "       'source'],\n",
      "      dtype='object')\n",
      "2025-06-03 14:56:30,570 - src.sampling.manager - DEBUG - Generated 690960 popularity-based samples\n",
      "2025-06-03 14:56:30,570 - src.sampling.manager - DEBUG - Columns of samples: Index(['customer_id', 'week_num', 'article_id', 'price', 'sales_channel_id',\n",
      "       'source'],\n",
      "      dtype='object')\n",
      "2025-06-03 14:56:30,570 - src.sampling.manager - INFO - Generating repurchase-based negative samples\n",
      "2025-06-03 14:56:30,571 - src.sampling.repurchase - INFO - Preparing negative samples by previous purchases\n",
      "2025-06-03 14:56:30,571 - src.sampling.repurchase - DEBUG - Filtering transactions by customer_ids: [   10019067371664522    10698768556209946    31585195778922258 ...\n",
      " 18250230343577826715 18266947886864544032 18272919145455863988]\n",
      "2025-06-03 14:56:30,572 - src.sampling.repurchase - DEBUG - Filtering transactions by customer_ids\n",
      "2025-06-03 14:56:30,575 - src.sampling.repurchase - DEBUG - Creating week mapping\n",
      "2025-06-03 14:56:30,582 - src.sampling.repurchase - DEBUG - Shape of customer_weeks: (25258, 3)\n",
      "2025-06-03 14:56:30,582 - src.sampling.repurchase - DEBUG - Applying week mapping\n",
      "2025-06-03 14:56:30,590 - src.sampling.repurchase - DEBUG - Shape of prev_transactions after applying week mapping: (36820, 5)\n",
      "2025-06-03 14:56:30,591 - src.sampling.repurchase - DEBUG - Generated 36820 negative samples\n",
      "2025-06-03 14:56:30,591 - src.sampling.repurchase - DEBUG - Columns of result: Index(['customer_id', 'week_num', 'article_id', 'price', 'sales_channel_id',\n",
      "       'source'],\n",
      "      dtype='object')\n",
      "2025-06-03 14:56:30,592 - src.sampling.manager - DEBUG - Generated 36820 repurchase-based samples\n",
      "2025-06-03 14:56:30,592 - src.sampling.manager - DEBUG - Columns of samples: Index(['customer_id', 'week_num', 'article_id', 'price', 'sales_channel_id',\n",
      "       'source'],\n",
      "      dtype='object')\n",
      "2025-06-03 14:56:30,592 - src.sampling.manager - INFO - Combining negative samples from multiple sources\n",
      "2025-06-03 14:56:30,595 - src.sampling.manager - DEBUG - Combined 727780 samples before deduplication\n",
      "2025-06-03 14:56:30,664 - src.sampling.manager - DEBUG - Removing samples that exist in original transactions\n",
      "2025-06-03 14:56:30,856 - src.sampling.manager - DEBUG - Final negative sample count: 719470\n",
      "2025-06-03 14:56:30,857 - src.candidate_generator - INFO - Combining positive and negative samples\n",
      "2025-06-03 14:56:30,857 - src.candidate_generator - DEBUG - Number of positive samples: 75444\n",
      "2025-06-03 14:56:30,858 - src.candidate_generator - DEBUG - Number of negative samples: 719470\n",
      "2025-06-03 14:56:30,861 - src.candidate_generator - DEBUG - Number of combined samples: 794914\n",
      "2025-06-03 14:56:30,861 - src.candidate_generator - INFO - Generating transaction features\n",
      "2025-06-03 14:56:30,890 - src.candidate_generator - INFO - Adding date features\n",
      "2025-06-03 14:56:31,239 - src.candidate_generator - INFO - Adding best seller rank\n",
      "2025-06-03 14:56:31,316 - src.candidate_generator - INFO - Saving CandidateGeneratorResult to ../data/preprocessed/candidate_generator/train/subsample_0.05_42\n",
      "2025-06-03 14:56:31,454 - src.candidate_generator - INFO - CandidateGeneratorResult data saved to ../data/preprocessed/candidate_generator/train/subsample_0.05_42/data.parquet\n",
      "2025-06-03 14:56:31,457 - src.candidate_generator - INFO - CandidateGeneratorResult label saved to ../data/preprocessed/candidate_generator/train/subsample_0.05_42/label.npy\n",
      "2025-06-03 14:56:31,458 - src.candidate_generator - INFO - CandidateGeneratorResult feature_names saved to ../data/preprocessed/candidate_generator/train/subsample_0.05_42/feature_names.json\n",
      "2025-06-03 14:56:31,458 - src.candidate_generator - INFO - CandidateGeneratorResult metadata saved to ../data/preprocessed/candidate_generator/train/subsample_0.05_42/metadata.json\n",
      "2025-06-03 14:56:31,459 - src.candidate_generator - INFO - Preparing transactions data for inference\n",
      "2025-06-03 14:56:31,462 - src.candidate_generator - INFO - Preparing base transactions data\n",
      "2025-06-03 14:56:31,462 - src.candidate_generator - DEBUG - Shape of transactions before filtering: (1586404, 6)\n",
      "2025-06-03 14:56:31,466 - src.candidate_generator - DEBUG - Adding week column to transactions\n",
      "2025-06-03 14:56:31,565 - src.candidate_generator - INFO - Filtering transactions from 2020-07-22 00:00:00 to 2020-09-15 00:00:00\n",
      "2025-06-03 14:56:31,572 - src.candidate_generator - DEBUG - Shape of transactions after filtering: (112245, 7)\n",
      "2025-06-03 14:56:31,572 - src.candidate_generator - INFO - Preparing positive samples\n",
      "2025-06-03 14:56:31,573 - src.candidate_generator - INFO - Filtering transactions from 2020-09-09 00:00:00 to 2020-09-15 00:00:00\n",
      "2025-06-03 14:56:31,575 - src.candidate_generator - DEBUG - Number of positive samples: 11558\n",
      "2025-06-03 14:56:31,577 - src.candidate_generator - INFO - Generating negative samples for train\n",
      "2025-06-03 14:56:31,577 - src.sampling.manager - INFO - Initialized NegativeSamplingManager with strategies: ['popularity', 'repurchase']\n",
      "2025-06-03 14:56:31,578 - src.sampling.manager - INFO - Generating negative samples for train\n",
      "2025-06-03 14:56:31,578 - src.sampling.manager - DEBUG - Active strategies: ['popularity', 'repurchase']\n",
      "2025-06-03 14:56:31,578 - src.sampling.manager - INFO - Calculating popular items with top_k=30\n",
      "2025-06-03 14:56:31,581 - src.sampling.utils - INFO - Calculating weekly popular items\n",
      "2025-06-03 14:56:31,585 - src.sampling.utils - DEBUG - Shape of top_k_articles_by_week: (30, 3)\n",
      "2025-06-03 14:56:31,585 - src.sampling.utils - INFO - Calculating article weekly stats\n",
      "2025-06-03 14:56:31,809 - src.sampling.utils - DEBUG - Shape of article_weekly_stats: (5207, 5)\n",
      "2025-06-03 14:56:31,810 - src.sampling.manager - DEBUG - Generated 30 popular item entries\n",
      "2025-06-03 14:56:31,810 - src.sampling.manager - INFO - Generating popularity-based negative samples\n",
      "2025-06-03 14:56:31,811 - src.sampling.popularity - INFO - Preparing negative samples by popularity\n",
      "2025-06-03 14:56:31,811 - src.sampling.popularity - DEBUG - Merging customer-week pairs with popular items\n",
      "2025-06-03 14:56:31,817 - src.sampling.popularity - DEBUG - Shape of result: (109710, 3)\n",
      "2025-06-03 14:56:31,817 - src.sampling.popularity - DEBUG - Adding item metadata from weekly statistics\n",
      "2025-06-03 14:56:31,818 - src.sampling.popularity - DEBUG - Adding item metadata from weekly statistics\n",
      "2025-06-03 14:56:31,825 - src.sampling.popularity - DEBUG - Shape of result after adding item metadata: (109710, 5)\n",
      "2025-06-03 14:56:31,826 - src.sampling.popularity - DEBUG - Generated 109710 popularity-based samples\n",
      "2025-06-03 14:56:31,826 - src.sampling.popularity - DEBUG - Columns of samples: Index(['customer_id', 'week_num', 'article_id', 'price', 'sales_channel_id',\n",
      "       'source'],\n",
      "      dtype='object')\n",
      "2025-06-03 14:56:31,826 - src.sampling.manager - DEBUG - Generated 109710 popularity-based samples\n",
      "2025-06-03 14:56:31,827 - src.sampling.manager - DEBUG - Columns of samples: Index(['customer_id', 'week_num', 'article_id', 'price', 'sales_channel_id',\n",
      "       'source'],\n",
      "      dtype='object')\n",
      "2025-06-03 14:56:31,827 - src.sampling.manager - INFO - Generating repurchase-based negative samples\n",
      "2025-06-03 14:56:31,827 - src.sampling.repurchase - INFO - Preparing negative samples by previous purchases\n",
      "2025-06-03 14:56:31,828 - src.sampling.repurchase - DEBUG - Filtering transactions by customer_ids: [    8383252499052781    14401014487501724    72822669774031389 ...\n",
      " 18337562413996785614 18345676997796004651 18366395857079320349]\n",
      "2025-06-03 14:56:31,828 - src.sampling.repurchase - DEBUG - Filtering transactions by customer_ids\n",
      "2025-06-03 14:56:31,830 - src.sampling.repurchase - DEBUG - Creating week mapping\n",
      "2025-06-03 14:56:31,833 - src.sampling.repurchase - DEBUG - Shape of customer_weeks: (8015, 3)\n",
      "2025-06-03 14:56:31,833 - src.sampling.repurchase - DEBUG - Applying week mapping\n",
      "2025-06-03 14:56:31,838 - src.sampling.repurchase - DEBUG - Shape of prev_transactions after applying week mapping: (21144, 5)\n",
      "2025-06-03 14:56:31,838 - src.sampling.repurchase - DEBUG - Generated 21144 negative samples\n",
      "2025-06-03 14:56:31,839 - src.sampling.repurchase - DEBUG - Columns of result: Index(['customer_id', 'week_num', 'article_id', 'price', 'sales_channel_id',\n",
      "       'source'],\n",
      "      dtype='object')\n",
      "2025-06-03 14:56:31,839 - src.sampling.manager - DEBUG - Generated 21144 repurchase-based samples\n",
      "2025-06-03 14:56:31,840 - src.sampling.manager - DEBUG - Columns of samples: Index(['customer_id', 'week_num', 'article_id', 'price', 'sales_channel_id',\n",
      "       'source'],\n",
      "      dtype='object')\n",
      "2025-06-03 14:56:31,840 - src.sampling.manager - INFO - Combining negative samples from multiple sources\n",
      "2025-06-03 14:56:31,841 - src.sampling.manager - DEBUG - Combined 130854 samples before deduplication\n",
      "2025-06-03 14:56:31,852 - src.sampling.manager - DEBUG - Removing samples that exist in original transactions\n",
      "2025-06-03 14:56:31,883 - src.sampling.manager - DEBUG - Final negative sample count: 116168\n",
      "2025-06-03 14:56:31,884 - src.candidate_generator - INFO - Combining positive and negative samples\n",
      "2025-06-03 14:56:31,884 - src.candidate_generator - DEBUG - Number of positive samples: 11558\n",
      "2025-06-03 14:56:31,885 - src.candidate_generator - DEBUG - Number of negative samples: 116168\n",
      "2025-06-03 14:56:31,886 - src.candidate_generator - DEBUG - Number of combined samples: 127726\n",
      "2025-06-03 14:56:31,887 - src.candidate_generator - INFO - Generating transaction features\n",
      "2025-06-03 14:56:31,891 - src.candidate_generator - INFO - Adding date features\n",
      "2025-06-03 14:56:31,947 - src.candidate_generator - INFO - Adding best seller rank\n",
      "2025-06-03 14:56:31,957 - src.candidate_generator - INFO - Getting unique customer-week pairs for inference\n",
      "2025-06-03 14:56:31,958 - src.candidate_generator - DEBUG - Shape of unique_pairs: (3657, 3)\n",
      "2025-06-03 14:56:31,959 - src.candidate_generator - INFO - Preparing base transactions data\n",
      "2025-06-03 14:56:31,959 - src.candidate_generator - DEBUG - Shape of transactions before filtering: (1573458, 6)\n",
      "2025-06-03 14:56:31,961 - src.candidate_generator - DEBUG - Adding week column to transactions\n",
      "2025-06-03 14:56:32,054 - src.candidate_generator - INFO - Filtering transactions from 2020-07-22 00:00:00 to 2020-09-08 00:00:00\n",
      "2025-06-03 14:56:32,060 - src.candidate_generator - DEBUG - Shape of transactions after filtering: (99299, 7)\n",
      "2025-06-03 14:56:32,061 - src.candidate_generator - INFO - Generating negative samples for valid\n",
      "2025-06-03 14:56:32,061 - src.sampling.manager - INFO - Initialized NegativeSamplingManager with strategies: ['popularity', 'repurchase']\n",
      "2025-06-03 14:56:32,061 - src.sampling.manager - INFO - Generating negative samples for valid\n",
      "2025-06-03 14:56:32,061 - src.sampling.manager - DEBUG - Active strategies: ['popularity', 'repurchase']\n",
      "2025-06-03 14:56:32,062 - src.sampling.manager - INFO - Calculating popular items with top_k=30\n",
      "2025-06-03 14:56:32,064 - src.sampling.utils - INFO - Calculating weekly popular items\n",
      "2025-06-03 14:56:32,068 - src.sampling.utils - DEBUG - Shape of top_k_articles_by_week: (30, 3)\n",
      "2025-06-03 14:56:32,069 - src.sampling.utils - INFO - Calculating article weekly stats\n",
      "2025-06-03 14:56:32,293 - src.sampling.utils - DEBUG - Shape of article_weekly_stats: (5207, 5)\n",
      "2025-06-03 14:56:32,294 - src.sampling.manager - DEBUG - Generated 30 popular item entries\n",
      "2025-06-03 14:56:32,294 - src.sampling.manager - DEBUG - Created default prediction with 30 items\n",
      "2025-06-03 14:56:32,294 - src.sampling.manager - INFO - Generating popularity-based negative samples\n",
      "2025-06-03 14:56:32,295 - src.sampling.popularity - INFO - Preparing negative samples by popularity\n",
      "2025-06-03 14:56:32,295 - src.sampling.popularity - DEBUG - Merging customer-week pairs with popular items\n",
      "2025-06-03 14:56:32,302 - src.sampling.popularity - DEBUG - Shape of result: (109710, 4)\n",
      "2025-06-03 14:56:32,302 - src.sampling.popularity - DEBUG - Adding item metadata from weekly statistics\n",
      "2025-06-03 14:56:32,302 - src.sampling.popularity - DEBUG - Adding item metadata from weekly statistics\n",
      "2025-06-03 14:56:32,311 - src.sampling.popularity - DEBUG - Shape of result after adding item metadata: (109710, 6)\n",
      "2025-06-03 14:56:32,311 - src.sampling.popularity - DEBUG - Generated 109710 popularity-based samples\n",
      "2025-06-03 14:56:32,312 - src.sampling.popularity - DEBUG - Columns of samples: Index(['customer_id', 'week', 'week_num', 'article_id', 'price',\n",
      "       'sales_channel_id', 'source'],\n",
      "      dtype='object')\n",
      "2025-06-03 14:56:32,312 - src.sampling.manager - DEBUG - Generated 109710 popularity-based samples\n",
      "2025-06-03 14:56:32,312 - src.sampling.manager - DEBUG - Columns of samples: Index(['customer_id', 'week', 'week_num', 'article_id', 'price',\n",
      "       'sales_channel_id', 'source'],\n",
      "      dtype='object')\n",
      "2025-06-03 14:56:32,313 - src.sampling.manager - INFO - Generating repurchase-based negative samples\n",
      "2025-06-03 14:56:32,313 - src.sampling.repurchase - INFO - Preparing negative samples by previous purchases\n",
      "2025-06-03 14:56:32,313 - src.sampling.repurchase - DEBUG - Filtering transactions by customer_ids: [    8383252499052781    14401014487501724    72822669774031389 ...\n",
      " 18337562413996785614 18345676997796004651 18366395857079320349]\n",
      "2025-06-03 14:56:32,314 - src.sampling.repurchase - DEBUG - Filtering transactions by customer_ids\n",
      "2025-06-03 14:56:32,316 - src.sampling.repurchase - DEBUG - Creating week mapping\n",
      "2025-06-03 14:56:32,318 - src.sampling.repurchase - DEBUG - Shape of customer_weeks: (4358, 3)\n",
      "2025-06-03 14:56:32,318 - src.sampling.repurchase - DEBUG - Applying week mapping\n",
      "2025-06-03 14:56:32,321 - src.sampling.repurchase - DEBUG - Shape of prev_transactions after applying week mapping: (8198, 5)\n",
      "2025-06-03 14:56:32,322 - src.sampling.repurchase - DEBUG - Generated 8198 negative samples\n",
      "2025-06-03 14:56:32,322 - src.sampling.repurchase - DEBUG - Columns of result: Index(['customer_id', 'week_num', 'article_id', 'price', 'sales_channel_id',\n",
      "       'source'],\n",
      "      dtype='object')\n",
      "2025-06-03 14:56:32,322 - src.sampling.manager - DEBUG - Generated 8198 repurchase-based samples\n",
      "2025-06-03 14:56:32,323 - src.sampling.manager - DEBUG - Columns of samples: Index(['customer_id', 'week_num', 'article_id', 'price', 'sales_channel_id',\n",
      "       'source'],\n",
      "      dtype='object')\n",
      "2025-06-03 14:56:32,323 - src.sampling.manager - INFO - Combining negative samples from multiple sources\n",
      "2025-06-03 14:56:32,324 - src.sampling.manager - DEBUG - Combined 117908 samples before deduplication\n",
      "2025-06-03 14:56:32,340 - src.sampling.manager - DEBUG - Final negative sample count: 116834\n",
      "2025-06-03 14:56:32,341 - src.candidate_generator - INFO - Generating transaction features\n",
      "2025-06-03 14:56:32,345 - src.candidate_generator - INFO - Adding date features\n",
      "2025-06-03 14:56:32,399 - src.candidate_generator - INFO - Adding best seller rank\n",
      "2025-06-03 14:56:32,410 - src.candidate_generator - INFO - Saving CandidateGeneratorResult to ../data/preprocessed/candidate_generator/valid/subsample_0.05_42\n",
      "2025-06-03 14:56:32,434 - src.candidate_generator - INFO - CandidateGeneratorResult data saved to ../data/preprocessed/candidate_generator/valid/subsample_0.05_42/data.parquet\n",
      "2025-06-03 14:56:32,465 - src.candidate_generator - INFO - CandidateGeneratorResult data_inference saved to ../data/preprocessed/candidate_generator/valid/subsample_0.05_42/data_inference.parquet\n",
      "2025-06-03 14:56:32,467 - src.candidate_generator - INFO - CandidateGeneratorResult label saved to ../data/preprocessed/candidate_generator/valid/subsample_0.05_42/label.npy\n",
      "2025-06-03 14:56:32,468 - src.candidate_generator - INFO - CandidateGeneratorResult feature_names saved to ../data/preprocessed/candidate_generator/valid/subsample_0.05_42/feature_names.json\n",
      "2025-06-03 14:56:32,468 - src.candidate_generator - INFO - CandidateGeneratorResult default_prediction saved to ../data/preprocessed/candidate_generator/valid/subsample_0.05_42/default_prediction.npy\n",
      "2025-06-03 14:56:32,469 - src.candidate_generator - INFO - CandidateGeneratorResult metadata saved to ../data/preprocessed/candidate_generator/valid/subsample_0.05_42/metadata.json\n",
      "2025-06-03 14:56:32,473 - src.candidate_generator - INFO - Preparing transactions data for inference\n",
      "2025-06-03 14:56:32,476 - src.candidate_generator - INFO - Preparing base transactions data\n",
      "2025-06-03 14:56:32,477 - src.candidate_generator - DEBUG - Shape of transactions before filtering: (1598436, 6)\n",
      "2025-06-03 14:56:32,484 - src.candidate_generator - DEBUG - Adding week column to transactions\n",
      "2025-06-03 14:56:32,584 - src.candidate_generator - INFO - Filtering transactions from 2020-07-22 00:00:00 to 2020-09-22 00:00:00\n",
      "2025-06-03 14:56:32,592 - src.candidate_generator - DEBUG - Shape of transactions after filtering: (124277, 7)\n",
      "2025-06-03 14:56:32,592 - src.candidate_generator - INFO - Preparing positive samples\n",
      "2025-06-03 14:56:32,593 - src.candidate_generator - INFO - Filtering transactions from 2020-09-16 00:00:00 to 2020-09-22 00:00:00\n",
      "2025-06-03 14:56:32,595 - src.candidate_generator - DEBUG - Number of positive samples: 10794\n",
      "2025-06-03 14:56:32,597 - src.candidate_generator - INFO - Generating negative samples for train\n",
      "2025-06-03 14:56:32,597 - src.sampling.manager - INFO - Initialized NegativeSamplingManager with strategies: ['popularity', 'repurchase']\n",
      "2025-06-03 14:56:32,598 - src.sampling.manager - INFO - Generating negative samples for train\n",
      "2025-06-03 14:56:32,598 - src.sampling.manager - DEBUG - Active strategies: ['popularity', 'repurchase']\n",
      "2025-06-03 14:56:32,598 - src.sampling.manager - INFO - Calculating popular items with top_k=30\n",
      "2025-06-03 14:56:32,601 - src.sampling.utils - INFO - Calculating weekly popular items\n",
      "2025-06-03 14:56:32,605 - src.sampling.utils - DEBUG - Shape of top_k_articles_by_week: (30, 3)\n",
      "2025-06-03 14:56:32,605 - src.sampling.utils - INFO - Calculating article weekly stats\n",
      "2025-06-03 14:56:32,824 - src.sampling.utils - DEBUG - Shape of article_weekly_stats: (5036, 5)\n",
      "2025-06-03 14:56:32,824 - src.sampling.manager - DEBUG - Generated 30 popular item entries\n",
      "2025-06-03 14:56:32,824 - src.sampling.manager - INFO - Generating popularity-based negative samples\n",
      "2025-06-03 14:56:32,825 - src.sampling.popularity - INFO - Preparing negative samples by popularity\n",
      "2025-06-03 14:56:32,825 - src.sampling.popularity - DEBUG - Merging customer-week pairs with popular items\n",
      "2025-06-03 14:56:32,831 - src.sampling.popularity - DEBUG - Shape of result: (104640, 3)\n",
      "2025-06-03 14:56:32,831 - src.sampling.popularity - DEBUG - Adding item metadata from weekly statistics\n",
      "2025-06-03 14:56:32,831 - src.sampling.popularity - DEBUG - Adding item metadata from weekly statistics\n",
      "2025-06-03 14:56:32,838 - src.sampling.popularity - DEBUG - Shape of result after adding item metadata: (104640, 5)\n",
      "2025-06-03 14:56:32,839 - src.sampling.popularity - DEBUG - Generated 104640 popularity-based samples\n",
      "2025-06-03 14:56:32,839 - src.sampling.popularity - DEBUG - Columns of samples: Index(['customer_id', 'week_num', 'article_id', 'price', 'sales_channel_id',\n",
      "       'source'],\n",
      "      dtype='object')\n",
      "2025-06-03 14:56:32,840 - src.sampling.manager - DEBUG - Generated 104640 popularity-based samples\n",
      "2025-06-03 14:56:32,840 - src.sampling.manager - DEBUG - Columns of samples: Index(['customer_id', 'week_num', 'article_id', 'price', 'sales_channel_id',\n",
      "       'source'],\n",
      "      dtype='object')\n",
      "2025-06-03 14:56:32,840 - src.sampling.manager - INFO - Generating repurchase-based negative samples\n",
      "2025-06-03 14:56:32,841 - src.sampling.repurchase - INFO - Preparing negative samples by previous purchases\n",
      "2025-06-03 14:56:32,841 - src.sampling.repurchase - DEBUG - Filtering transactions by customer_ids: [   81250068469314753   117698131703306313   132612170747534254 ...\n",
      " 18409516201641617652 18430257223551121786 18432411165497420051]\n",
      "2025-06-03 14:56:32,841 - src.sampling.repurchase - DEBUG - Filtering transactions by customer_ids\n",
      "2025-06-03 14:56:32,843 - src.sampling.repurchase - DEBUG - Creating week mapping\n",
      "2025-06-03 14:56:32,846 - src.sampling.repurchase - DEBUG - Shape of customer_weeks: (8257, 3)\n",
      "2025-06-03 14:56:32,846 - src.sampling.repurchase - DEBUG - Applying week mapping\n",
      "2025-06-03 14:56:32,850 - src.sampling.repurchase - DEBUG - Shape of prev_transactions after applying week mapping: (8165, 5)\n",
      "2025-06-03 14:56:32,851 - src.sampling.repurchase - DEBUG - Generated 8165 negative samples\n",
      "2025-06-03 14:56:32,851 - src.sampling.repurchase - DEBUG - Columns of result: Index(['customer_id', 'week_num', 'article_id', 'price', 'sales_channel_id',\n",
      "       'source'],\n",
      "      dtype='object')\n",
      "2025-06-03 14:56:32,852 - src.sampling.manager - DEBUG - Generated 8165 repurchase-based samples\n",
      "2025-06-03 14:56:32,852 - src.sampling.manager - DEBUG - Columns of samples: Index(['customer_id', 'week_num', 'article_id', 'price', 'sales_channel_id',\n",
      "       'source'],\n",
      "      dtype='object')\n",
      "2025-06-03 14:56:32,852 - src.sampling.manager - INFO - Combining negative samples from multiple sources\n",
      "2025-06-03 14:56:32,853 - src.sampling.manager - DEBUG - Combined 112805 samples before deduplication\n",
      "2025-06-03 14:56:32,862 - src.sampling.manager - DEBUG - Removing samples that exist in original transactions\n",
      "2025-06-03 14:56:32,896 - src.sampling.manager - DEBUG - Final negative sample count: 110842\n",
      "2025-06-03 14:56:32,897 - src.candidate_generator - INFO - Combining positive and negative samples\n",
      "2025-06-03 14:56:32,897 - src.candidate_generator - DEBUG - Number of positive samples: 10794\n",
      "2025-06-03 14:56:32,897 - src.candidate_generator - DEBUG - Number of negative samples: 110842\n",
      "2025-06-03 14:56:32,899 - src.candidate_generator - DEBUG - Number of combined samples: 121636\n",
      "2025-06-03 14:56:32,899 - src.candidate_generator - INFO - Generating transaction features\n",
      "2025-06-03 14:56:32,904 - src.candidate_generator - INFO - Adding date features\n",
      "2025-06-03 14:56:32,957 - src.candidate_generator - INFO - Adding best seller rank\n",
      "2025-06-03 14:56:32,967 - src.candidate_generator - INFO - Getting unique customer-week pairs for inference\n",
      "2025-06-03 14:56:32,968 - src.candidate_generator - DEBUG - Shape of unique_pairs: (3488, 3)\n",
      "2025-06-03 14:56:32,968 - src.candidate_generator - INFO - Preparing base transactions data\n",
      "2025-06-03 14:56:32,969 - src.candidate_generator - DEBUG - Shape of transactions before filtering: (1586404, 6)\n",
      "2025-06-03 14:56:32,971 - src.candidate_generator - DEBUG - Adding week column to transactions\n",
      "2025-06-03 14:56:33,062 - src.candidate_generator - INFO - Filtering transactions from 2020-07-22 00:00:00 to 2020-09-15 00:00:00\n",
      "2025-06-03 14:56:33,069 - src.candidate_generator - DEBUG - Shape of transactions after filtering: (112245, 7)\n",
      "2025-06-03 14:56:33,069 - src.candidate_generator - INFO - Generating negative samples for test\n",
      "2025-06-03 14:56:33,069 - src.sampling.manager - INFO - Initialized NegativeSamplingManager with strategies: ['popularity', 'repurchase']\n",
      "2025-06-03 14:56:33,070 - src.sampling.manager - INFO - Generating negative samples for test\n",
      "2025-06-03 14:56:33,070 - src.sampling.manager - DEBUG - Active strategies: ['popularity', 'repurchase']\n",
      "2025-06-03 14:56:33,071 - src.sampling.manager - INFO - Calculating popular items with top_k=30\n",
      "2025-06-03 14:56:33,073 - src.sampling.utils - INFO - Calculating weekly popular items\n",
      "2025-06-03 14:56:33,077 - src.sampling.utils - DEBUG - Shape of top_k_articles_by_week: (30, 3)\n",
      "2025-06-03 14:56:33,078 - src.sampling.utils - INFO - Calculating article weekly stats\n",
      "2025-06-03 14:56:33,300 - src.sampling.utils - DEBUG - Shape of article_weekly_stats: (5036, 5)\n",
      "2025-06-03 14:56:33,301 - src.sampling.manager - DEBUG - Generated 30 popular item entries\n",
      "2025-06-03 14:56:33,301 - src.sampling.manager - DEBUG - Created default prediction with 30 items\n",
      "2025-06-03 14:56:33,301 - src.sampling.manager - INFO - Generating popularity-based negative samples\n",
      "2025-06-03 14:56:33,302 - src.sampling.popularity - INFO - Preparing negative samples by popularity\n",
      "2025-06-03 14:56:33,302 - src.sampling.popularity - DEBUG - Merging customer-week pairs with popular items\n",
      "2025-06-03 14:56:33,308 - src.sampling.popularity - DEBUG - Shape of result: (104640, 4)\n",
      "2025-06-03 14:56:33,309 - src.sampling.popularity - DEBUG - Adding item metadata from weekly statistics\n",
      "2025-06-03 14:56:33,309 - src.sampling.popularity - DEBUG - Adding item metadata from weekly statistics\n",
      "2025-06-03 14:56:33,316 - src.sampling.popularity - DEBUG - Shape of result after adding item metadata: (104640, 6)\n",
      "2025-06-03 14:56:33,316 - src.sampling.popularity - DEBUG - Generated 104640 popularity-based samples\n",
      "2025-06-03 14:56:33,317 - src.sampling.popularity - DEBUG - Columns of samples: Index(['customer_id', 'week', 'week_num', 'article_id', 'price',\n",
      "       'sales_channel_id', 'source'],\n",
      "      dtype='object')\n",
      "2025-06-03 14:56:33,317 - src.sampling.manager - DEBUG - Generated 104640 popularity-based samples\n",
      "2025-06-03 14:56:33,317 - src.sampling.manager - DEBUG - Columns of samples: Index(['customer_id', 'week', 'week_num', 'article_id', 'price',\n",
      "       'sales_channel_id', 'source'],\n",
      "      dtype='object')\n",
      "2025-06-03 14:56:33,318 - src.sampling.manager - INFO - Generating repurchase-based negative samples\n",
      "2025-06-03 14:56:33,318 - src.sampling.repurchase - INFO - Preparing negative samples by previous purchases\n",
      "2025-06-03 14:56:33,319 - src.sampling.repurchase - DEBUG - Filtering transactions by customer_ids: [   81250068469314753   117698131703306313   132612170747534254 ...\n",
      " 18409516201641617652 18430257223551121786 18432411165497420051]\n",
      "2025-06-03 14:56:33,319 - src.sampling.repurchase - DEBUG - Filtering transactions by customer_ids\n",
      "2025-06-03 14:56:33,320 - src.sampling.repurchase - DEBUG - Creating week mapping\n",
      "2025-06-03 14:56:33,323 - src.sampling.repurchase - DEBUG - Shape of customer_weeks: (4769, 3)\n",
      "2025-06-03 14:56:33,323 - src.sampling.repurchase - DEBUG - Applying week mapping\n",
      "2025-06-03 14:56:33,326 - src.sampling.repurchase - DEBUG - Shape of prev_transactions after applying week mapping: (8165, 5)\n",
      "2025-06-03 14:56:33,326 - src.sampling.repurchase - DEBUG - Generated 8165 negative samples\n",
      "2025-06-03 14:56:33,327 - src.sampling.repurchase - DEBUG - Columns of result: Index(['customer_id', 'week_num', 'article_id', 'price', 'sales_channel_id',\n",
      "       'source'],\n",
      "      dtype='object')\n",
      "2025-06-03 14:56:33,327 - src.sampling.manager - DEBUG - Generated 8165 repurchase-based samples\n",
      "2025-06-03 14:56:33,327 - src.sampling.manager - DEBUG - Columns of samples: Index(['customer_id', 'week_num', 'article_id', 'price', 'sales_channel_id',\n",
      "       'source'],\n",
      "      dtype='object')\n",
      "2025-06-03 14:56:33,327 - src.sampling.manager - INFO - Combining negative samples from multiple sources\n",
      "2025-06-03 14:56:33,329 - src.sampling.manager - DEBUG - Combined 112805 samples before deduplication\n",
      "2025-06-03 14:56:33,346 - src.sampling.manager - DEBUG - Final negative sample count: 111602\n",
      "2025-06-03 14:56:33,346 - src.candidate_generator - INFO - Generating transaction features\n",
      "2025-06-03 14:56:33,350 - src.candidate_generator - INFO - Adding date features\n",
      "2025-06-03 14:56:33,402 - src.candidate_generator - INFO - Adding best seller rank\n",
      "2025-06-03 14:56:33,411 - src.candidate_generator - INFO - Saving CandidateGeneratorResult to ../data/preprocessed/candidate_generator/test/subsample_0.05_42\n",
      "2025-06-03 14:56:33,434 - src.candidate_generator - INFO - CandidateGeneratorResult data saved to ../data/preprocessed/candidate_generator/test/subsample_0.05_42/data.parquet\n",
      "2025-06-03 14:56:33,453 - src.candidate_generator - INFO - CandidateGeneratorResult data_inference saved to ../data/preprocessed/candidate_generator/test/subsample_0.05_42/data_inference.parquet\n",
      "2025-06-03 14:56:33,455 - src.candidate_generator - INFO - CandidateGeneratorResult label saved to ../data/preprocessed/candidate_generator/test/subsample_0.05_42/label.npy\n",
      "2025-06-03 14:56:33,455 - src.candidate_generator - INFO - CandidateGeneratorResult feature_names saved to ../data/preprocessed/candidate_generator/test/subsample_0.05_42/feature_names.json\n",
      "2025-06-03 14:56:33,456 - src.candidate_generator - INFO - CandidateGeneratorResult default_prediction saved to ../data/preprocessed/candidate_generator/test/subsample_0.05_42/default_prediction.npy\n",
      "2025-06-03 14:56:33,457 - src.candidate_generator - INFO - CandidateGeneratorResult metadata saved to ../data/preprocessed/candidate_generator/test/subsample_0.05_42/metadata.json\n"
     ]
    }
   ],
   "source": [
    "candidates_train, candidates_valid, candidates_test = candidate_generator_pipeline.run()"
   ]
  },
  {
   "cell_type": "markdown",
   "metadata": {},
   "source": [
    "## For debug\n"
   ]
  },
  {
   "cell_type": "code",
   "execution_count": 9,
   "metadata": {},
   "outputs": [
    {
     "name": "stdout",
     "output_type": "stream",
     "text": [
      "['data', 'data_inference', 'label', 'feature_names', 'sample', 'default_prediction']\n",
      "['data', 'data_inference', 'label', 'feature_names', 'sample', 'default_prediction']\n",
      "['data', 'data_inference', 'label', 'feature_names', 'sample', 'default_prediction']\n"
     ]
    }
   ],
   "source": [
    "print(list(candidates_train.__dict__.keys()))\n",
    "print(list(candidates_valid.__dict__.keys()))\n",
    "print(list(candidates_test.__dict__.keys()))"
   ]
  },
  {
   "cell_type": "code",
   "execution_count": 10,
   "metadata": {},
   "outputs": [
    {
     "name": "stdout",
     "output_type": "stream",
     "text": [
      "['month', 'price', 'week_num', 'bestseller_rank', 'customer_id', 'article_id', 'week', 'source', 'label']\n",
      "['month', 'price', 'week_num', 'bestseller_rank', 'customer_id', 'article_id', 'week', 'source', 'label']\n",
      "['month', 'price', 'week_num', 'bestseller_rank', 'customer_id', 'article_id', 'week', 'source', 'label']\n"
     ]
    }
   ],
   "source": [
    "print(candidates_train.get_feature_list())\n",
    "print(candidates_valid.get_feature_list())\n",
    "print(candidates_test.get_feature_list())"
   ]
  },
  {
   "cell_type": "code",
   "execution_count": 11,
   "metadata": {},
   "outputs": [
    {
     "name": "stdout",
     "output_type": "stream",
     "text": [
      "(794914, 11)\n",
      "(127726, 11)\n",
      "(116834, 10)\n",
      "(121636, 11)\n",
      "(111602, 10)\n"
     ]
    }
   ],
   "source": [
    "print(candidates_train.data.shape)\n",
    "print(candidates_valid.data.shape)\n",
    "print(candidates_valid.data_inference.shape)\n",
    "print(candidates_test.data.shape)\n",
    "print(candidates_test.data_inference.shape)"
   ]
  },
  {
   "cell_type": "code",
   "execution_count": 12,
   "metadata": {},
   "outputs": [
    {
     "name": "stdout",
     "output_type": "stream",
     "text": [
      "(30,)\n",
      "(30,)\n"
     ]
    }
   ],
   "source": [
    "print(candidates_valid.default_prediction.shape)\n",
    "print(candidates_test.default_prediction.shape)"
   ]
  },
  {
   "cell_type": "code",
   "execution_count": 13,
   "metadata": {},
   "outputs": [
    {
     "name": "stdout",
     "output_type": "stream",
     "text": [
      "Train\n"
     ]
    },
    {
     "data": {
      "text/plain": [
       "source\n",
       "popularity    688747\n",
       "positive       75444\n",
       "repurchase     30723\n",
       "Name: count, dtype: int64"
      ]
     },
     "metadata": {},
     "output_type": "display_data"
    },
    {
     "name": "stdout",
     "output_type": "stream",
     "text": [
      "Valid: train\n"
     ]
    },
    {
     "data": {
      "text/plain": [
       "source\n",
       "popularity    109272\n",
       "positive       11558\n",
       "repurchase      6896\n",
       "Name: count, dtype: int64"
      ]
     },
     "metadata": {},
     "output_type": "display_data"
    },
    {
     "name": "stdout",
     "output_type": "stream",
     "text": [
      "Valid: inference\n"
     ]
    },
    {
     "data": {
      "text/plain": [
       "source\n",
       "popularity    109710\n",
       "repurchase      7124\n",
       "Name: count, dtype: int64"
      ]
     },
     "metadata": {},
     "output_type": "display_data"
    },
    {
     "name": "stdout",
     "output_type": "stream",
     "text": [
      "Test: train\n"
     ]
    },
    {
     "data": {
      "text/plain": [
       "source\n",
       "popularity    104093\n",
       "positive       10794\n",
       "repurchase      6749\n",
       "Name: count, dtype: int64"
      ]
     },
     "metadata": {},
     "output_type": "display_data"
    },
    {
     "name": "stdout",
     "output_type": "stream",
     "text": [
      "Test: inference\n"
     ]
    },
    {
     "data": {
      "text/plain": [
       "source\n",
       "popularity    104640\n",
       "repurchase      6962\n",
       "Name: count, dtype: int64"
      ]
     },
     "metadata": {},
     "output_type": "display_data"
    }
   ],
   "source": [
    "# Look at candidate sources\n",
    "print(\"Train\")\n",
    "display(candidates_train.data.source.value_counts())\n",
    "print(\"Valid: train\")\n",
    "display(candidates_valid.data.source.value_counts())\n",
    "print(\"Valid: inference\")\n",
    "display(candidates_valid.data_inference.source.value_counts())\n",
    "print(\"Test: train\")\n",
    "display(candidates_test.data.source.value_counts())\n",
    "print(\"Test: inference\")\n",
    "display(candidates_test.data_inference.source.value_counts())"
   ]
  },
  {
   "cell_type": "code",
   "execution_count": 14,
   "metadata": {},
   "outputs": [
    {
     "name": "stdout",
     "output_type": "stream",
     "text": [
      "<class 'pandas.core.frame.DataFrame'>\n",
      "RangeIndex: 794914 entries, 0 to 794913\n",
      "Data columns (total 11 columns):\n",
      " #   Column            Non-Null Count   Dtype  \n",
      "---  ------            --------------   -----  \n",
      " 0   customer_id       794914 non-null  uint64 \n",
      " 1   article_id        794914 non-null  int32  \n",
      " 2   price             794914 non-null  float32\n",
      " 3   sales_channel_id  794914 non-null  int8   \n",
      " 4   week_num          794914 non-null  int64  \n",
      " 5   source            794914 non-null  object \n",
      " 6   label             794914 non-null  int64  \n",
      " 7   week              794914 non-null  object \n",
      " 8   year              794914 non-null  int32  \n",
      " 9   month             794914 non-null  int32  \n",
      " 10  bestseller_rank   794914 non-null  float64\n",
      "dtypes: float32(1), float64(1), int32(3), int64(2), int8(1), object(2), uint64(1)\n",
      "memory usage: 49.3+ MB\n"
     ]
    }
   ],
   "source": [
    "candidates_train.data.info()"
   ]
  },
  {
   "cell_type": "markdown",
   "metadata": {},
   "source": [
    "# Checks\n"
   ]
  },
  {
   "cell_type": "code",
   "execution_count": 15,
   "metadata": {},
   "outputs": [
    {
     "name": "stderr",
     "output_type": "stream",
     "text": [
      "/Users/sharonshiao/Dropbox/Machine_learning/projects/fahsion_recommendation/venv/lib/python3.12/site-packages/tqdm/auto.py:21: TqdmWarning: IProgress not found. Please update jupyter and ipywidgets. See https://ipywidgets.readthedocs.io/en/stable/user_install.html\n",
      "  from .autonotebook import tqdm as notebook_tqdm\n"
     ]
    }
   ],
   "source": [
    "from src.feature_extraction import load_optimized_raw_data\n",
    "from src.utils.data_checks import test_candidate_generator, test_candidate_generator_pipeline"
   ]
  },
  {
   "cell_type": "code",
   "execution_count": 16,
   "metadata": {},
   "outputs": [
    {
     "name": "stderr",
     "output_type": "stream",
     "text": [
      "2025-06-03 14:56:36,604 - src.feature_extraction - INFO - Loading optimized raw data from transactions train 0.05 42\n",
      "2025-06-03 14:56:36,605 - src.feature_extraction - DEBUG - Loading data from ../data/transactions_train_sample_0.05_42.parquet\n",
      "2025-06-03 14:56:36,625 - src.feature_extraction - INFO - Loading optimized raw data from transactions valid 0.05 42\n",
      "2025-06-03 14:56:36,626 - src.feature_extraction - DEBUG - Loading data from ../data/transactions_valid_sample_0.05_42.parquet\n",
      "2025-06-03 14:56:36,629 - src.feature_extraction - INFO - Loading optimized raw data from transactions test 0.05 42\n",
      "2025-06-03 14:56:36,629 - src.feature_extraction - DEBUG - Loading data from ../data/transactions_test_sample_0.05_42.parquet\n"
     ]
    }
   ],
   "source": [
    "transactions_train = load_optimized_raw_data(\n",
    "    \"transactions\", \"train\", config_candidate_generation.subsample, config_candidate_generation.seed\n",
    ")\n",
    "transactions_valid = load_optimized_raw_data(\n",
    "    \"transactions\", \"valid\", config_candidate_generation.subsample, config_candidate_generation.seed\n",
    ")\n",
    "transactions_test = load_optimized_raw_data(\n",
    "    \"transactions\", \"test\", config_candidate_generation.subsample, config_candidate_generation.seed\n",
    ")"
   ]
  },
  {
   "cell_type": "code",
   "execution_count": 17,
   "metadata": {},
   "outputs": [],
   "source": [
    "transactions = pd.concat([transactions_train, transactions_valid, transactions_test])"
   ]
  },
  {
   "cell_type": "code",
   "execution_count": 18,
   "metadata": {},
   "outputs": [
    {
     "data": {
      "text/plain": [
       "{'train_start_date': Timestamp('2020-07-29 00:00:00'),\n",
       " 'train_end_date': Timestamp('2020-09-08 00:00:00'),\n",
       " 'n_sample_week_threshold_history': -1,\n",
       " 'negative_sample_strategies': {'popularity': {'top_k_items': 30},\n",
       "  'repurchase': {}},\n",
       " 'inference_sample_strategies': {'popularity': {'top_k_items': 30},\n",
       "  'repurchase': {}},\n",
       " 'subsample': 0.05,\n",
       " 'seed': 42}"
      ]
     },
     "execution_count": 18,
     "metadata": {},
     "output_type": "execute_result"
    }
   ],
   "source": [
    "config_candidate_generation.__dict__"
   ]
  },
  {
   "cell_type": "code",
   "execution_count": 19,
   "metadata": {},
   "outputs": [
    {
     "name": "stdout",
     "output_type": "stream",
     "text": [
      "Has data: True, sample: train\n",
      "Checking week range\n",
      "Checking default prediction\n",
      "Checking number of customers\n",
      "Checks passed\n",
      "Has data: True, sample: valid\n",
      "Checking week range\n",
      "Checking default prediction\n",
      "Checking number of customers\n",
      "Checks passed\n",
      "Has data: True, sample: test\n",
      "Checking week range\n",
      "Checking default prediction\n",
      "Checking number of customers\n",
      "Checks passed\n"
     ]
    }
   ],
   "source": [
    "# Test for meta data\n",
    "test_candidate_generator_pipeline(candidates_train, transactions, config_candidate_generation)\n",
    "test_candidate_generator_pipeline(candidates_valid, transactions, config_candidate_generation)\n",
    "test_candidate_generator_pipeline(candidates_test, transactions, config_candidate_generation)"
   ]
  },
  {
   "cell_type": "code",
   "execution_count": null,
   "metadata": {},
   "outputs": [],
   "source": []
  },
  {
   "cell_type": "code",
   "execution_count": 20,
   "metadata": {},
   "outputs": [
    {
     "name": "stdout",
     "output_type": "stream",
     "text": [
      "Sample: train\n",
      "Customer 10019067371664522\n",
      "Customer 10019067371664522 has 2 weeks: [97 99]\n",
      "Week 97\n",
      "Checking 4 article_ids in week 99\n",
      "Checks for customer 10019067371664522 and week 97 passed\n",
      "--------------------------------------------------------------------------------\n",
      "Week 99\n",
      "No next purchase week for customer 10019067371664522 and week 99 because it's the last week in train dataset\n",
      "================================================================================\n",
      "\n",
      "Customer 10698768556209946\n",
      "Customer 10698768556209946 has 5 weeks: [ 97  98  99 100 101]\n",
      "Week 97\n",
      "Checking 7 article_ids in week 98\n",
      "Checks for customer 10698768556209946 and week 97 passed\n",
      "--------------------------------------------------------------------------------\n",
      "Week 98\n",
      "Checking 3 article_ids in week 99\n",
      "Checks for customer 10698768556209946 and week 98 passed\n",
      "--------------------------------------------------------------------------------\n",
      "Week 99\n",
      "Checking 3 article_ids in week 100\n",
      "Checks for customer 10698768556209946 and week 99 passed\n",
      "--------------------------------------------------------------------------------\n",
      "Week 100\n",
      "Checking 5 article_ids in week 101\n",
      "Checks for customer 10698768556209946 and week 100 passed\n",
      "--------------------------------------------------------------------------------\n",
      "Week 101\n",
      "No next purchase week for customer 10698768556209946 and week 101 because it's the last week in train dataset\n",
      "================================================================================\n",
      "\n",
      "Customer 31585195778922258\n",
      "Customer 31585195778922258 has 3 weeks: [97 98 99]\n",
      "Week 97\n",
      "Checking 2 article_ids in week 98\n",
      "Checks for customer 31585195778922258 and week 97 passed\n",
      "--------------------------------------------------------------------------------\n",
      "Week 98\n",
      "Checking 10 article_ids in week 99\n",
      "Checks for customer 31585195778922258 and week 98 passed\n",
      "--------------------------------------------------------------------------------\n",
      "Week 99\n",
      "No next purchase week for customer 31585195778922258 and week 99 because it's the last week in train dataset\n",
      "================================================================================\n",
      "\n",
      "Customer 53752577903138881\n",
      "Customer 53752577903138881 has 2 weeks: [ 97 100]\n",
      "Week 97\n",
      "Checking 1 article_ids in week 100\n",
      "Checks for customer 53752577903138881 and week 97 passed\n",
      "--------------------------------------------------------------------------------\n",
      "Week 100\n",
      "No next purchase week for customer 53752577903138881 and week 100 because it's the last week in train dataset\n",
      "================================================================================\n",
      "\n",
      "Customer 54649140927275361\n",
      "Customer 54649140927275361 has 1 weeks: [97]\n",
      "Week 97\n",
      "No next purchase week for customer 54649140927275361 and week 97 because it's the last week in train dataset\n",
      "================================================================================\n",
      "\n",
      "Customer 110467586107431407\n",
      "Customer 110467586107431407 has 1 weeks: [97]\n",
      "Week 97\n",
      "No next purchase week for customer 110467586107431407 and week 97 because it's the last week in train dataset\n",
      "================================================================================\n",
      "\n",
      "Customer 116780613735995957\n",
      "Customer 116780613735995957 has 1 weeks: [97]\n",
      "Week 97\n",
      "No next purchase week for customer 116780613735995957 and week 97 because it's the last week in train dataset\n",
      "================================================================================\n",
      "\n",
      "Customer 117698131703306313\n",
      "Customer 117698131703306313 has 3 weeks: [ 97  99 101]\n",
      "Week 97\n",
      "Checking 7 article_ids in week 99\n",
      "Checks for customer 117698131703306313 and week 97 passed\n",
      "--------------------------------------------------------------------------------\n",
      "Week 99\n",
      "Checking 12 article_ids in week 101\n",
      "Checks for customer 117698131703306313 and week 99 passed\n",
      "--------------------------------------------------------------------------------\n",
      "Week 101\n",
      "No next purchase week for customer 117698131703306313 and week 101 because it's the last week in train dataset\n",
      "================================================================================\n",
      "\n",
      "Customer 163518335142430879\n",
      "Customer 163518335142430879 has 4 weeks: [ 97  98  99 100]\n",
      "Week 97\n",
      "Checking 2 article_ids in week 98\n",
      "Checks for customer 163518335142430879 and week 97 passed\n",
      "--------------------------------------------------------------------------------\n",
      "Week 98\n",
      "Checking 8 article_ids in week 99\n",
      "Checks for customer 163518335142430879 and week 98 passed\n",
      "--------------------------------------------------------------------------------\n",
      "Week 99\n",
      "Checking 7 article_ids in week 100\n",
      "Checks for customer 163518335142430879 and week 99 passed\n",
      "--------------------------------------------------------------------------------\n",
      "Week 100\n",
      "No next purchase week for customer 163518335142430879 and week 100 because it's the last week in train dataset\n",
      "================================================================================\n",
      "\n",
      "Customer 170568119408646898\n",
      "Customer 170568119408646898 has 2 weeks: [ 97 100]\n",
      "Week 97\n",
      "Checking 1 article_ids in week 100\n",
      "Checks for customer 170568119408646898 and week 97 passed\n",
      "--------------------------------------------------------------------------------\n",
      "Week 100\n",
      "No next purchase week for customer 170568119408646898 and week 100 because it's the last week in train dataset\n",
      "================================================================================\n",
      "\n",
      "Checks passed\n"
     ]
    }
   ],
   "source": [
    "customer_ids = candidates_train.data.customer_id.unique()[:10]\n",
    "test_candidate_generator(candidates_train, transactions, config_candidate_generation, customer_ids)"
   ]
  },
  {
   "cell_type": "code",
   "execution_count": 21,
   "metadata": {},
   "outputs": [
    {
     "name": "stdout",
     "output_type": "stream",
     "text": [
      "Sample: valid\n",
      "Customer 8383252499052781\n",
      "Customer 8383252499052781 has 1 weeks: [101]\n",
      "Week 101\n",
      "Checking 1 article_ids in week 103\n",
      "Checks for customer 8383252499052781 and week 101 passed\n",
      "--------------------------------------------------------------------------------\n",
      "================================================================================\n",
      "\n",
      "Customer 14401014487501724\n",
      "Customer 14401014487501724 has 1 weeks: [102]\n",
      "Week 102\n",
      "Checking 2 article_ids in week 103\n",
      "Checks for customer 14401014487501724 and week 102 passed\n",
      "--------------------------------------------------------------------------------\n",
      "================================================================================\n",
      "\n",
      "Customer 72822669774031389\n",
      "Customer 72822669774031389 has 0 weeks: []\n",
      "================================================================================\n",
      "\n",
      "Customer 82992461741828036\n",
      "Customer 82992461741828036 has 1 weeks: [101]\n",
      "Week 101\n",
      "Checking 15 article_ids in week 103\n",
      "Checks for customer 82992461741828036 and week 101 passed\n",
      "--------------------------------------------------------------------------------\n",
      "================================================================================\n",
      "\n",
      "Customer 117698131703306313\n",
      "Customer 117698131703306313 has 1 weeks: [101]\n",
      "Week 101\n",
      "Checking 6 article_ids in week 103\n",
      "Checks for customer 117698131703306313 and week 101 passed\n",
      "--------------------------------------------------------------------------------\n",
      "================================================================================\n",
      "\n",
      "Customer 130214141654700513\n",
      "Customer 130214141654700513 has 1 weeks: [101]\n",
      "Week 101\n",
      "Checking 1 article_ids in week 103\n",
      "Checks for customer 130214141654700513 and week 101 passed\n",
      "--------------------------------------------------------------------------------\n",
      "================================================================================\n",
      "\n",
      "Customer 176864430739778373\n",
      "Customer 176864430739778373 has 0 weeks: []\n",
      "================================================================================\n",
      "\n",
      "Customer 195869430447868821\n",
      "Customer 195869430447868821 has 1 weeks: [102]\n",
      "Week 102\n",
      "Checking 9 article_ids in week 103\n",
      "Checks for customer 195869430447868821 and week 102 passed\n",
      "--------------------------------------------------------------------------------\n",
      "================================================================================\n",
      "\n",
      "Customer 207286176905422457\n",
      "Customer 207286176905422457 has 0 weeks: []\n",
      "================================================================================\n",
      "\n",
      "Customer 216381992442990863\n",
      "Customer 216381992442990863 has 1 weeks: [102]\n",
      "Week 102\n",
      "Checking 5 article_ids in week 103\n",
      "Checks for customer 216381992442990863 and week 102 passed\n",
      "--------------------------------------------------------------------------------\n",
      "================================================================================\n",
      "\n",
      "Checks passed\n"
     ]
    }
   ],
   "source": [
    "customer_ids = candidates_valid.data.customer_id.unique()[:10]\n",
    "test_candidate_generator(candidates_valid, transactions, config_candidate_generation, customer_ids)"
   ]
  },
  {
   "cell_type": "code",
   "execution_count": 22,
   "metadata": {},
   "outputs": [
    {
     "name": "stdout",
     "output_type": "stream",
     "text": [
      "Sample: test\n",
      "Customer 81250068469314753\n",
      "Customer 81250068469314753 has 1 weeks: [103]\n",
      "Week 103\n",
      "Checking 5 article_ids in week 104\n",
      "Checks for customer 81250068469314753 and week 103 passed\n",
      "--------------------------------------------------------------------------------\n",
      "================================================================================\n",
      "\n",
      "Customer 117698131703306313\n",
      "Customer 117698131703306313 has 1 weeks: [103]\n",
      "Week 103\n",
      "Checking 1 article_ids in week 104\n",
      "Checks for customer 117698131703306313 and week 103 passed\n",
      "--------------------------------------------------------------------------------\n",
      "================================================================================\n",
      "\n",
      "Customer 132612170747534254\n",
      "Customer 132612170747534254 has 0 weeks: []\n",
      "================================================================================\n",
      "\n",
      "Customer 202827240789788864\n",
      "Customer 202827240789788864 has 0 weeks: []\n",
      "================================================================================\n",
      "\n",
      "Customer 290365578982007187\n",
      "Customer 290365578982007187 has 1 weeks: [97]\n",
      "Week 97\n",
      "Checking 1 article_ids in week 104\n",
      "Checks for customer 290365578982007187 and week 97 passed\n",
      "--------------------------------------------------------------------------------\n",
      "================================================================================\n",
      "\n",
      "Customer 315841156395478830\n",
      "Customer 315841156395478830 has 1 weeks: [101]\n",
      "Week 101\n",
      "Checking 1 article_ids in week 104\n",
      "Checks for customer 315841156395478830 and week 101 passed\n",
      "--------------------------------------------------------------------------------\n",
      "================================================================================\n",
      "\n",
      "Customer 323624318320577533\n",
      "Customer 323624318320577533 has 0 weeks: []\n",
      "================================================================================\n",
      "\n",
      "Customer 362955613191520070\n",
      "Customer 362955613191520070 has 0 weeks: []\n",
      "================================================================================\n",
      "\n",
      "Customer 392729168975118753\n",
      "Customer 392729168975118753 has 1 weeks: [103]\n",
      "Week 103\n",
      "Checking 7 article_ids in week 104\n",
      "Checks for customer 392729168975118753 and week 103 passed\n",
      "--------------------------------------------------------------------------------\n",
      "================================================================================\n",
      "\n",
      "Customer 414745606575257731\n",
      "Customer 414745606575257731 has 0 weeks: []\n",
      "================================================================================\n",
      "\n",
      "Checks passed\n"
     ]
    }
   ],
   "source": [
    "customer_ids = candidates_test.data.customer_id.unique()[:10]\n",
    "test_candidate_generator(candidates_test, transactions, config_candidate_generation, customer_ids)"
   ]
  },
  {
   "cell_type": "code",
   "execution_count": null,
   "metadata": {},
   "outputs": [],
   "source": []
  },
  {
   "cell_type": "code",
   "execution_count": null,
   "metadata": {},
   "outputs": [],
   "source": []
  }
 ],
 "metadata": {
  "kernelspec": {
   "display_name": "venv",
   "language": "python",
   "name": "python3"
  },
  "language_info": {
   "name": "python",
   "version": "3.12.10"
  }
 },
 "nbformat": 4,
 "nbformat_minor": 2
}
