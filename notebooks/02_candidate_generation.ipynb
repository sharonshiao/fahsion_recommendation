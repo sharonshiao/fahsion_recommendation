{
 "cells": [
  {
   "cell_type": "markdown",
   "metadata": {},
   "source": [
    "# 02 Candidate generation\n"
   ]
  },
  {
   "cell_type": "code",
   "execution_count": 1,
   "metadata": {},
   "outputs": [],
   "source": [
    "%load_ext autoreload\n",
    "%autoreload 2"
   ]
  },
  {
   "cell_type": "code",
   "execution_count": 2,
   "metadata": {},
   "outputs": [],
   "source": [
    "import sys\n",
    "import logging\n",
    "import pandas as pd\n",
    "\n",
    "sys.path.append(\"..\")\n",
    "\n",
    "from src.utils.core_utils import setup_logging, set_seed"
   ]
  },
  {
   "cell_type": "code",
   "execution_count": 3,
   "metadata": {},
   "outputs": [
    {
     "name": "stderr",
     "output_type": "stream",
     "text": [
      "2025-06-05 12:43:13,299 - src.utils.core_utils - INFO - Creating file handler with level: 10\n",
      "2025-06-05 12:43:13,300 - src.utils.core_utils - DEBUG - Logging setup complete to candidate_generation.log\n"
     ]
    }
   ],
   "source": [
    "# Initialize logging\n",
    "file_log = \"candidate_generation.log\"\n",
    "root_logger = setup_logging(level=logging.DEBUG, log_file=file_log, remove_existing=True)\n",
    "\n",
    "# Set seed\n",
    "set_seed(123)"
   ]
  },
  {
   "cell_type": "code",
   "execution_count": 4,
   "metadata": {},
   "outputs": [],
   "source": [
    "from src.candidate_generator import CandidateGeneratorPipeline, CandidateGeneratorPipelineConfig"
   ]
  },
  {
   "cell_type": "markdown",
   "metadata": {},
   "source": [
    "# Config\n"
   ]
  },
  {
   "cell_type": "code",
   "execution_count": 5,
   "metadata": {},
   "outputs": [],
   "source": [
    "config_candidate_generation = CandidateGeneratorPipelineConfig.create_default()"
   ]
  },
  {
   "cell_type": "markdown",
   "metadata": {},
   "source": [
    "## Candidate generation\n"
   ]
  },
  {
   "cell_type": "code",
   "execution_count": 6,
   "metadata": {},
   "outputs": [],
   "source": [
    "candidate_generator_pipeline = CandidateGeneratorPipeline(config=config_candidate_generation)"
   ]
  },
  {
   "cell_type": "code",
   "execution_count": 7,
   "metadata": {},
   "outputs": [
    {
     "name": "stderr",
     "output_type": "stream",
     "text": [
      "2025-06-05 12:43:13,358 - src.candidate_generator - INFO - Setting up CandidateGeneratorPipeline\n",
      "2025-06-05 12:43:13,359 - src.candidate_generator - DEBUG - Pipeline config: {\n",
      "  \"train_start_date\": \"2020-07-01T00:00:00\",\n",
      "  \"train_end_date\": \"2020-09-08T00:00:00\",\n",
      "  \"history_start_date\": \"2020-01-01T00:00:00\",\n",
      "  \"n_sample_week_threshold\": -1,\n",
      "  \"negative_sample_strategies\": {\n",
      "    \"popularity\": {\n",
      "      \"top_k_items\": 30\n",
      "    },\n",
      "    \"repurchase\": {\n",
      "      \"strategy\": \"last_k_items\",\n",
      "      \"k\": 12\n",
      "    }\n",
      "  },\n",
      "  \"inference_sample_strategies\": {\n",
      "    \"popularity\": {\n",
      "      \"top_k_items\": 30\n",
      "    },\n",
      "    \"repurchase\": {\n",
      "      \"strategy\": \"last_k_items\",\n",
      "      \"k\": 12\n",
      "    }\n",
      "  },\n",
      "  \"subsample\": 0.25,\n",
      "  \"seed\": 42,\n",
      "  \"restrict_positive_samples\": true,\n",
      "  \"neg_to_pos_ratio\": 30.0\n",
      "}\n"
     ]
    }
   ],
   "source": [
    "candidate_generator_pipeline = candidate_generator_pipeline.setup()"
   ]
  },
  {
   "cell_type": "code",
   "execution_count": 8,
   "metadata": {},
   "outputs": [
    {
     "name": "stderr",
     "output_type": "stream",
     "text": [
      "2025-06-05 12:43:13,368 - src.candidate_generator - INFO - Loading data for CandidateGeneratorPipeline\n",
      "2025-06-05 12:43:13,368 - src.feature_extraction - INFO - Loading optimized raw data from transactions train 0.25 42\n",
      "2025-06-05 12:43:13,369 - src.feature_extraction - DEBUG - Loading data from ../data/transactions_train_sample_0.25_42.parquet\n",
      "2025-06-05 12:43:14,263 - src.feature_extraction - INFO - Loading optimized raw data from transactions valid 0.25 42\n",
      "2025-06-05 12:43:14,264 - src.feature_extraction - DEBUG - Loading data from ../data/transactions_valid_sample_0.25_42.parquet\n",
      "2025-06-05 12:43:14,275 - src.feature_extraction - INFO - Loading optimized raw data from transactions test 0.25 42\n",
      "2025-06-05 12:43:14,276 - src.feature_extraction - DEBUG - Loading data from ../data/transactions_test_sample_0.25_42.parquet\n",
      "2025-06-05 12:43:14,286 - src.feature_extraction - INFO - Loading optimized raw data from articles train 0.25 42\n",
      "2025-06-05 12:43:14,287 - src.feature_extraction - DEBUG - Loading data from ../data/articles_sample_0.25_42.parquet\n",
      "2025-06-05 12:43:14,344 - src.candidate_generator - INFO - Running pipeline for training data\n",
      "2025-06-05 12:43:14,345 - src.candidate_generator - INFO - Preparing base transactions data\n",
      "2025-06-05 12:43:14,345 - src.candidate_generator - DEBUG - Shape of transactions before filtering: (7810855, 6)\n",
      "2025-06-05 12:43:14,392 - src.candidate_generator - DEBUG - Adding week column to transactions\n",
      "2025-06-05 12:43:14,905 - src.candidate_generator - INFO - Filtering transactions from 2020-01-01 00:00:00 to 2020-09-08 00:00:00\n",
      "2025-06-05 12:43:15,049 - src.candidate_generator - DEBUG - Shape of transactions after filtering: (2618771, 7)\n",
      "2025-06-05 12:43:15,050 - src.candidate_generator - INFO - Preparing positive samples\n",
      "2025-06-05 12:43:15,050 - src.candidate_generator - INFO - Filtering transactions from 2020-07-01 00:00:00 to 2020-09-08 00:00:00\n",
      "2025-06-05 12:43:15,125 - src.candidate_generator - DEBUG - Number of positive samples: 651375\n",
      "2025-06-05 12:43:15,157 - src.candidate_generator - INFO - Generating negative samples for train\n",
      "2025-06-05 12:43:15,158 - src.sampling.manager - INFO - Initialized NegativeSamplingManager with strategies: ['popularity', 'repurchase']\n",
      "2025-06-05 12:43:15,158 - src.sampling.manager - INFO - Generating negative samples for train\n",
      "2025-06-05 12:43:15,158 - src.sampling.manager - DEBUG - Active strategies: ['popularity', 'repurchase']\n",
      "2025-06-05 12:43:15,159 - src.sampling.manager - INFO - Calculating popular items with top_k=30\n",
      "2025-06-05 12:43:15,183 - src.sampling.utils - INFO - Calculating weekly popular items\n",
      "2025-06-05 12:43:15,241 - src.sampling.utils - DEBUG - Shape of top_k_articles_by_week: (300, 3)\n",
      "2025-06-05 12:43:15,241 - src.sampling.utils - INFO - Calculating article weekly stats\n",
      "2025-06-05 12:43:20,507 - src.sampling.utils - DEBUG - Shape of article_weekly_stats: (131808, 5)\n",
      "2025-06-05 12:43:20,508 - src.sampling.manager - DEBUG - Generated 300 popular item entries\n",
      "2025-06-05 12:43:20,508 - src.sampling.manager - INFO - Generating popularity-based negative samples\n",
      "2025-06-05 12:43:20,509 - src.sampling.popularity - INFO - Preparing negative samples by popularity\n",
      "2025-06-05 12:43:20,509 - src.sampling.popularity - DEBUG - Merging customer-week pairs with popular items\n",
      "2025-06-05 12:43:20,734 - src.sampling.popularity - DEBUG - Shape of result: (5844960, 3)\n",
      "2025-06-05 12:43:20,734 - src.sampling.popularity - DEBUG - Adding item metadata from weekly statistics\n",
      "2025-06-05 12:43:20,735 - src.sampling.popularity - DEBUG - Adding item metadata from weekly statistics\n",
      "2025-06-05 12:43:21,061 - src.sampling.popularity - DEBUG - Shape of result after adding item metadata: (5844960, 5)\n",
      "2025-06-05 12:43:21,068 - src.sampling.popularity - DEBUG - Generated 5844960 popularity-based samples\n",
      "2025-06-05 12:43:21,069 - src.sampling.popularity - DEBUG - Columns of samples: Index(['customer_id', 'week_num', 'article_id', 'price', 'sales_channel_id',\n",
      "       'source'],\n",
      "      dtype='object')\n",
      "2025-06-05 12:43:21,069 - src.sampling.manager - DEBUG - Generated 5844960 popularity-based samples\n",
      "2025-06-05 12:43:21,070 - src.sampling.manager - DEBUG - Columns of samples: Index(['customer_id', 'week_num', 'article_id', 'price', 'sales_channel_id',\n",
      "       'source'],\n",
      "      dtype='object')\n",
      "2025-06-05 12:43:21,070 - src.sampling.manager - INFO - Generating repurchase-based negative samples\n",
      "2025-06-05 12:43:21,070 - src.sampling.repurchase - INFO - Preparing negative samples by previous purchases\n",
      "2025-06-05 12:43:21,082 - src.sampling.repurchase - DEBUG - Filtering transactions by customer_ids: [   10019067371664522    10698768556209946    13238763363016949 ...\n",
      " 18370984204925928181 18388468782576530159 18397674668217205000]\n",
      "2025-06-05 12:43:21,083 - src.sampling.repurchase - DEBUG - Filtering transactions by customer_ids\n",
      "2025-06-05 12:43:21,133 - src.sampling.repurchase - INFO - Getting last k items for weeks 93 to 102\n",
      "2025-06-05 12:43:21,720 - src.sampling.repurchase - DEBUG - Getting last k items for week 93\n",
      "2025-06-05 12:43:21,787 - src.sampling.repurchase - DEBUG - Getting last k items for week 94\n",
      "2025-06-05 12:43:21,857 - src.sampling.repurchase - DEBUG - Getting last k items for week 95\n",
      "2025-06-05 12:43:21,935 - src.sampling.repurchase - DEBUG - Getting last k items for week 96\n",
      "2025-06-05 12:43:22,015 - src.sampling.repurchase - DEBUG - Getting last k items for week 97\n",
      "2025-06-05 12:43:22,092 - src.sampling.repurchase - DEBUG - Getting last k items for week 98\n",
      "2025-06-05 12:43:22,177 - src.sampling.repurchase - DEBUG - Getting last k items for week 99\n",
      "2025-06-05 12:43:22,257 - src.sampling.repurchase - DEBUG - Getting last k items for week 100\n",
      "2025-06-05 12:43:22,344 - src.sampling.repurchase - DEBUG - Getting last k items for week 101\n",
      "2025-06-05 12:43:22,430 - src.sampling.repurchase - DEBUG - Getting last k items for week 102\n",
      "2025-06-05 12:43:22,583 - src.sampling.repurchase - DEBUG - Generated 7922764 negative samples\n",
      "2025-06-05 12:43:22,583 - src.sampling.repurchase - DEBUG - Columns of result: Index(['customer_id', 'week_num', 'article_id', 'price', 'sales_channel_id',\n",
      "       'source'],\n",
      "      dtype='object')\n",
      "2025-06-05 12:43:22,593 - src.sampling.manager - DEBUG - Generated 7922764 repurchase-based samples\n",
      "2025-06-05 12:43:22,594 - src.sampling.manager - DEBUG - Columns of samples: Index(['customer_id', 'week_num', 'article_id', 'price', 'sales_channel_id',\n",
      "       'source'],\n",
      "      dtype='object')\n",
      "2025-06-05 12:43:22,594 - src.sampling.manager - INFO - Combining negative samples from multiple sources\n",
      "2025-06-05 12:43:22,691 - src.sampling.manager - DEBUG - Combined 13767724 samples before deduplication\n",
      "2025-06-05 12:43:26,950 - src.sampling.manager - DEBUG - Final negative sample count: 13609235\n",
      "2025-06-05 12:43:26,962 - src.candidate_generator - INFO - Combining positive and negative samples\n",
      "2025-06-05 12:43:26,963 - src.candidate_generator - DEBUG - Number of positive samples: 651375\n",
      "2025-06-05 12:43:26,963 - src.candidate_generator - DEBUG - Number of negative samples: 13609235\n",
      "2025-06-05 12:43:29,765 - src.candidate_generator - DEBUG - Number of combined samples: 13609235\n",
      "2025-06-05 12:43:29,766 - src.candidate_generator - INFO - Adjusting negative to positive ratio to 30.0\n",
      "2025-06-05 12:43:29,768 - src.candidate_generator - INFO - Current ratio 395.9790268945803 is greater than expected ratio 30.0, subsampling negative samples\n",
      "2025-06-05 12:43:53,821 - src.candidate_generator - INFO - Finished subsampling negative samples\n",
      "2025-06-05 12:43:53,822 - src.candidate_generator - INFO - Observed negative to positive ratio 29.987165276238258\n",
      "2025-06-05 12:43:53,822 - src.candidate_generator - INFO - Total number of samples 1062302\n",
      "2025-06-05 12:43:53,832 - src.candidate_generator - INFO - Generating transaction features\n",
      "2025-06-05 12:43:53,876 - src.candidate_generator - INFO - Adding date features\n",
      "2025-06-05 12:43:54,358 - src.candidate_generator - INFO - Adding best seller rank\n",
      "2025-06-05 12:43:54,472 - src.candidate_generator - INFO - Saving CandidateGeneratorResult to ../data/preprocessed/candidate_generator/train/subsample_0.25_42\n",
      "2025-06-05 12:43:54,689 - src.candidate_generator - INFO - CandidateGeneratorResult data saved to ../data/preprocessed/candidate_generator/train/subsample_0.25_42/data.parquet\n",
      "2025-06-05 12:43:54,694 - src.candidate_generator - INFO - CandidateGeneratorResult label saved to ../data/preprocessed/candidate_generator/train/subsample_0.25_42/label.npy\n",
      "2025-06-05 12:43:54,695 - src.candidate_generator - INFO - CandidateGeneratorResult feature_names saved to ../data/preprocessed/candidate_generator/train/subsample_0.25_42/feature_names.json\n",
      "2025-06-05 12:43:54,695 - src.candidate_generator - INFO - CandidateGeneratorResult metadata saved to ../data/preprocessed/candidate_generator/train/subsample_0.25_42/metadata.json\n",
      "2025-06-05 12:43:54,696 - src.candidate_generator - INFO - Preparing transactions data for inference\n",
      "2025-06-05 12:43:54,703 - src.candidate_generator - INFO - Preparing base transactions data\n",
      "2025-06-05 12:43:54,704 - src.candidate_generator - DEBUG - Shape of transactions before filtering: (7874184, 6)\n",
      "2025-06-05 12:43:54,712 - src.candidate_generator - DEBUG - Adding week column to transactions\n",
      "2025-06-05 12:43:55,182 - src.candidate_generator - INFO - Filtering transactions from 2020-01-01 00:00:00 to 2020-09-15 00:00:00\n",
      "2025-06-05 12:43:55,285 - src.candidate_generator - DEBUG - Shape of transactions after filtering: (2682100, 7)\n",
      "2025-06-05 12:43:55,285 - src.candidate_generator - INFO - Preparing positive samples\n",
      "2025-06-05 12:43:55,286 - src.candidate_generator - INFO - Filtering transactions from 2020-09-09 00:00:00 to 2020-09-15 00:00:00\n",
      "2025-06-05 12:43:55,296 - src.candidate_generator - DEBUG - Number of positive samples: 56496\n",
      "2025-06-05 12:43:55,299 - src.candidate_generator - INFO - Generating negative samples for train\n",
      "2025-06-05 12:43:55,300 - src.sampling.manager - INFO - Initialized NegativeSamplingManager with strategies: ['popularity', 'repurchase']\n",
      "2025-06-05 12:43:55,300 - src.sampling.manager - INFO - Generating negative samples for train\n",
      "2025-06-05 12:43:55,300 - src.sampling.manager - DEBUG - Active strategies: ['popularity', 'repurchase']\n",
      "2025-06-05 12:43:55,301 - src.sampling.manager - INFO - Calculating popular items with top_k=30\n",
      "2025-06-05 12:43:55,305 - src.sampling.utils - INFO - Calculating weekly popular items\n",
      "2025-06-05 12:43:55,312 - src.sampling.utils - DEBUG - Shape of top_k_articles_by_week: (30, 3)\n",
      "2025-06-05 12:43:55,313 - src.sampling.utils - INFO - Calculating article weekly stats\n",
      "2025-06-05 12:43:55,806 - src.sampling.utils - DEBUG - Shape of article_weekly_stats: (11776, 5)\n",
      "2025-06-05 12:43:55,806 - src.sampling.manager - DEBUG - Generated 30 popular item entries\n",
      "2025-06-05 12:43:55,807 - src.sampling.manager - INFO - Generating popularity-based negative samples\n",
      "2025-06-05 12:43:55,807 - src.sampling.popularity - INFO - Preparing negative samples by popularity\n",
      "2025-06-05 12:43:55,807 - src.sampling.popularity - DEBUG - Merging customer-week pairs with popular items\n",
      "2025-06-05 12:43:55,828 - src.sampling.popularity - DEBUG - Shape of result: (537210, 3)\n",
      "2025-06-05 12:43:55,829 - src.sampling.popularity - DEBUG - Adding item metadata from weekly statistics\n",
      "2025-06-05 12:43:55,829 - src.sampling.popularity - DEBUG - Adding item metadata from weekly statistics\n",
      "2025-06-05 12:43:55,855 - src.sampling.popularity - DEBUG - Shape of result after adding item metadata: (537210, 5)\n",
      "2025-06-05 12:43:55,856 - src.sampling.popularity - DEBUG - Generated 537210 popularity-based samples\n",
      "2025-06-05 12:43:55,856 - src.sampling.popularity - DEBUG - Columns of samples: Index(['customer_id', 'week_num', 'article_id', 'price', 'sales_channel_id',\n",
      "       'source'],\n",
      "      dtype='object')\n",
      "2025-06-05 12:43:55,857 - src.sampling.manager - DEBUG - Generated 537210 popularity-based samples\n",
      "2025-06-05 12:43:55,857 - src.sampling.manager - DEBUG - Columns of samples: Index(['customer_id', 'week_num', 'article_id', 'price', 'sales_channel_id',\n",
      "       'source'],\n",
      "      dtype='object')\n",
      "2025-06-05 12:43:55,857 - src.sampling.manager - INFO - Generating repurchase-based negative samples\n",
      "2025-06-05 12:43:55,857 - src.sampling.repurchase - INFO - Preparing negative samples by previous purchases\n",
      "2025-06-05 12:43:55,863 - src.sampling.repurchase - DEBUG - Filtering transactions by customer_ids: [    7009916629804102     8383252499052781    14401014487501724 ...\n",
      " 18428843215742906704 18444799607866739422 18446250046654386343]\n",
      "2025-06-05 12:43:55,864 - src.sampling.repurchase - DEBUG - Filtering transactions by customer_ids\n",
      "2025-06-05 12:43:55,890 - src.sampling.repurchase - INFO - Getting last k items for weeks 103 to 103\n",
      "2025-06-05 12:43:55,971 - src.sampling.repurchase - DEBUG - Getting last k items for week 103\n",
      "2025-06-05 12:43:55,987 - src.sampling.repurchase - DEBUG - Generated 145937 negative samples\n",
      "2025-06-05 12:43:55,988 - src.sampling.repurchase - DEBUG - Columns of result: Index(['customer_id', 'week_num', 'article_id', 'price', 'sales_channel_id',\n",
      "       'source'],\n",
      "      dtype='object')\n",
      "2025-06-05 12:43:55,988 - src.sampling.manager - DEBUG - Generated 145937 repurchase-based samples\n",
      "2025-06-05 12:43:55,988 - src.sampling.manager - DEBUG - Columns of samples: Index(['customer_id', 'week_num', 'article_id', 'price', 'sales_channel_id',\n",
      "       'source'],\n",
      "      dtype='object')\n",
      "2025-06-05 12:43:55,989 - src.sampling.manager - INFO - Combining negative samples from multiple sources\n",
      "2025-06-05 12:43:55,991 - src.sampling.manager - DEBUG - Combined 683147 samples before deduplication\n",
      "2025-06-05 12:43:56,077 - src.sampling.manager - DEBUG - Final negative sample count: 678339\n",
      "2025-06-05 12:43:56,078 - src.candidate_generator - INFO - Combining positive and negative samples\n",
      "2025-06-05 12:43:56,078 - src.candidate_generator - DEBUG - Number of positive samples: 56496\n",
      "2025-06-05 12:43:56,079 - src.candidate_generator - DEBUG - Number of negative samples: 678339\n",
      "2025-06-05 12:43:56,158 - src.candidate_generator - DEBUG - Number of combined samples: 678339\n",
      "2025-06-05 12:43:56,159 - src.candidate_generator - INFO - Adjusting negative to positive ratio to 30.0\n",
      "2025-06-05 12:43:56,160 - src.candidate_generator - INFO - Current ratio 188.37437185929647 is greater than expected ratio 30.0, subsampling negative samples\n",
      "2025-06-05 12:43:56,632 - src.candidate_generator - INFO - Finished subsampling negative samples\n",
      "2025-06-05 12:43:56,634 - src.candidate_generator - INFO - Observed negative to positive ratio 30.80960357342267\n",
      "2025-06-05 12:43:56,634 - src.candidate_generator - INFO - Total number of samples 113942\n",
      "2025-06-05 12:43:56,635 - src.candidate_generator - INFO - Generating transaction features\n",
      "2025-06-05 12:43:56,644 - src.candidate_generator - INFO - Adding date features\n",
      "2025-06-05 12:43:56,693 - src.candidate_generator - INFO - Adding best seller rank\n",
      "2025-06-05 12:43:56,741 - src.candidate_generator - INFO - Getting unique customer-week pairs for inference\n",
      "2025-06-05 12:43:56,742 - src.candidate_generator - DEBUG - Shape of unique_pairs: (17907, 3)\n",
      "2025-06-05 12:43:56,742 - src.candidate_generator - INFO - Preparing base transactions data\n",
      "2025-06-05 12:43:56,743 - src.candidate_generator - DEBUG - Shape of transactions before filtering: (7810855, 6)\n",
      "2025-06-05 12:43:56,750 - src.candidate_generator - DEBUG - Adding week column to transactions\n",
      "2025-06-05 12:43:57,222 - src.candidate_generator - INFO - Filtering transactions from 2020-01-01 00:00:00 to 2020-09-08 00:00:00\n",
      "2025-06-05 12:43:57,296 - src.candidate_generator - DEBUG - Shape of transactions after filtering: (2618771, 7)\n",
      "2025-06-05 12:43:57,297 - src.candidate_generator - INFO - Generating negative samples for valid\n",
      "2025-06-05 12:43:57,297 - src.sampling.manager - INFO - Initialized NegativeSamplingManager with strategies: ['popularity', 'repurchase']\n",
      "2025-06-05 12:43:57,298 - src.sampling.manager - INFO - Generating negative samples for valid\n",
      "2025-06-05 12:43:57,298 - src.sampling.manager - DEBUG - Active strategies: ['popularity', 'repurchase']\n",
      "2025-06-05 12:43:57,298 - src.sampling.manager - INFO - Calculating popular items with top_k=30\n",
      "2025-06-05 12:43:57,302 - src.sampling.utils - INFO - Calculating weekly popular items\n",
      "2025-06-05 12:43:57,310 - src.sampling.utils - DEBUG - Shape of top_k_articles_by_week: (30, 3)\n",
      "2025-06-05 12:43:57,311 - src.sampling.utils - INFO - Calculating article weekly stats\n",
      "2025-06-05 12:43:57,801 - src.sampling.utils - DEBUG - Shape of article_weekly_stats: (11776, 5)\n",
      "2025-06-05 12:43:57,801 - src.sampling.manager - DEBUG - Generated 30 popular item entries\n",
      "2025-06-05 12:43:57,802 - src.sampling.manager - DEBUG - Created default prediction with 30 items\n",
      "2025-06-05 12:43:57,802 - src.sampling.manager - INFO - Generating popularity-based negative samples\n",
      "2025-06-05 12:43:57,802 - src.sampling.popularity - INFO - Preparing negative samples by popularity\n",
      "2025-06-05 12:43:57,803 - src.sampling.popularity - DEBUG - Merging customer-week pairs with popular items\n",
      "2025-06-05 12:43:57,826 - src.sampling.popularity - DEBUG - Shape of result: (537210, 4)\n",
      "2025-06-05 12:43:57,827 - src.sampling.popularity - DEBUG - Adding item metadata from weekly statistics\n",
      "2025-06-05 12:43:57,827 - src.sampling.popularity - DEBUG - Adding item metadata from weekly statistics\n",
      "2025-06-05 12:43:57,854 - src.sampling.popularity - DEBUG - Shape of result after adding item metadata: (537210, 6)\n",
      "2025-06-05 12:43:57,855 - src.sampling.popularity - DEBUG - Generated 537210 popularity-based samples\n",
      "2025-06-05 12:43:57,856 - src.sampling.popularity - DEBUG - Columns of samples: Index(['customer_id', 'week', 'week_num', 'article_id', 'price',\n",
      "       'sales_channel_id', 'source'],\n",
      "      dtype='object')\n",
      "2025-06-05 12:43:57,856 - src.sampling.manager - DEBUG - Generated 537210 popularity-based samples\n",
      "2025-06-05 12:43:57,857 - src.sampling.manager - DEBUG - Columns of samples: Index(['customer_id', 'week', 'week_num', 'article_id', 'price',\n",
      "       'sales_channel_id', 'source'],\n",
      "      dtype='object')\n",
      "2025-06-05 12:43:57,857 - src.sampling.manager - INFO - Generating repurchase-based negative samples\n",
      "2025-06-05 12:43:57,857 - src.sampling.repurchase - INFO - Preparing negative samples by previous purchases\n",
      "2025-06-05 12:43:57,860 - src.sampling.repurchase - DEBUG - Filtering transactions by customer_ids: [    7009916629804102     8383252499052781    14401014487501724 ...\n",
      " 18428843215742906704 18444799607866739422 18446250046654386343]\n",
      "2025-06-05 12:43:57,860 - src.sampling.repurchase - DEBUG - Filtering transactions by customer_ids\n",
      "2025-06-05 12:43:57,885 - src.sampling.repurchase - INFO - Getting last k items for weeks 103 to 103\n",
      "2025-06-05 12:43:57,956 - src.sampling.repurchase - DEBUG - Getting last k items for week 103\n",
      "2025-06-05 12:43:57,966 - src.sampling.repurchase - DEBUG - Generated 145937 negative samples\n",
      "2025-06-05 12:43:57,966 - src.sampling.repurchase - DEBUG - Columns of result: Index(['customer_id', 'week_num', 'article_id', 'price', 'sales_channel_id',\n",
      "       'source'],\n",
      "      dtype='object')\n",
      "2025-06-05 12:43:57,966 - src.sampling.manager - DEBUG - Generated 145937 repurchase-based samples\n",
      "2025-06-05 12:43:57,967 - src.sampling.manager - DEBUG - Columns of samples: Index(['customer_id', 'week_num', 'article_id', 'price', 'sales_channel_id',\n",
      "       'source'],\n",
      "      dtype='object')\n",
      "2025-06-05 12:43:57,967 - src.sampling.manager - INFO - Combining negative samples from multiple sources\n",
      "2025-06-05 12:43:57,969 - src.sampling.manager - DEBUG - Combined 683147 samples before deduplication\n",
      "2025-06-05 12:43:58,069 - src.sampling.manager - DEBUG - Final negative sample count: 678339\n",
      "2025-06-05 12:43:58,069 - src.candidate_generator - INFO - Generating transaction features\n",
      "2025-06-05 12:43:58,093 - src.candidate_generator - INFO - Adding date features\n",
      "2025-06-05 12:43:58,391 - src.candidate_generator - INFO - Adding best seller rank\n",
      "2025-06-05 12:43:58,439 - src.candidate_generator - INFO - Saving CandidateGeneratorResult to ../data/preprocessed/candidate_generator/valid/subsample_0.25_42\n",
      "2025-06-05 12:43:58,463 - src.candidate_generator - INFO - CandidateGeneratorResult data saved to ../data/preprocessed/candidate_generator/valid/subsample_0.25_42/data.parquet\n",
      "2025-06-05 12:43:58,580 - src.candidate_generator - INFO - CandidateGeneratorResult data_inference saved to ../data/preprocessed/candidate_generator/valid/subsample_0.25_42/data_inference.parquet\n",
      "2025-06-05 12:43:58,581 - src.candidate_generator - INFO - CandidateGeneratorResult label saved to ../data/preprocessed/candidate_generator/valid/subsample_0.25_42/label.npy\n",
      "2025-06-05 12:43:58,582 - src.candidate_generator - INFO - CandidateGeneratorResult feature_names saved to ../data/preprocessed/candidate_generator/valid/subsample_0.25_42/feature_names.json\n",
      "2025-06-05 12:43:58,582 - src.candidate_generator - INFO - CandidateGeneratorResult default_prediction saved to ../data/preprocessed/candidate_generator/valid/subsample_0.25_42/default_prediction.npy\n",
      "2025-06-05 12:43:58,583 - src.candidate_generator - INFO - CandidateGeneratorResult metadata saved to ../data/preprocessed/candidate_generator/valid/subsample_0.25_42/metadata.json\n",
      "2025-06-05 12:43:58,589 - src.candidate_generator - INFO - Preparing transactions data for inference\n",
      "2025-06-05 12:43:58,596 - src.candidate_generator - INFO - Preparing base transactions data\n",
      "2025-06-05 12:43:58,596 - src.candidate_generator - DEBUG - Shape of transactions before filtering: (7934383, 6)\n",
      "2025-06-05 12:43:58,602 - src.candidate_generator - DEBUG - Adding week column to transactions\n",
      "2025-06-05 12:43:59,079 - src.candidate_generator - INFO - Filtering transactions from 2020-01-01 00:00:00 to 2020-09-22 00:00:00\n",
      "2025-06-05 12:43:59,180 - src.candidate_generator - DEBUG - Shape of transactions after filtering: (2742299, 7)\n",
      "2025-06-05 12:43:59,180 - src.candidate_generator - INFO - Preparing positive samples\n",
      "2025-06-05 12:43:59,181 - src.candidate_generator - INFO - Filtering transactions from 2020-09-16 00:00:00 to 2020-09-22 00:00:00\n",
      "2025-06-05 12:43:59,192 - src.candidate_generator - DEBUG - Number of positive samples: 53570\n",
      "2025-06-05 12:43:59,195 - src.candidate_generator - INFO - Generating negative samples for train\n",
      "2025-06-05 12:43:59,195 - src.sampling.manager - INFO - Initialized NegativeSamplingManager with strategies: ['popularity', 'repurchase']\n",
      "2025-06-05 12:43:59,196 - src.sampling.manager - INFO - Generating negative samples for train\n",
      "2025-06-05 12:43:59,196 - src.sampling.manager - DEBUG - Active strategies: ['popularity', 'repurchase']\n",
      "2025-06-05 12:43:59,196 - src.sampling.manager - INFO - Calculating popular items with top_k=30\n",
      "2025-06-05 12:43:59,201 - src.sampling.utils - INFO - Calculating weekly popular items\n",
      "2025-06-05 12:43:59,208 - src.sampling.utils - DEBUG - Shape of top_k_articles_by_week: (30, 3)\n",
      "2025-06-05 12:43:59,208 - src.sampling.utils - INFO - Calculating article weekly stats\n",
      "2025-06-05 12:43:59,687 - src.sampling.utils - DEBUG - Shape of article_weekly_stats: (11260, 5)\n",
      "2025-06-05 12:43:59,687 - src.sampling.manager - DEBUG - Generated 30 popular item entries\n",
      "2025-06-05 12:43:59,688 - src.sampling.manager - INFO - Generating popularity-based negative samples\n",
      "2025-06-05 12:43:59,688 - src.sampling.popularity - INFO - Preparing negative samples by popularity\n",
      "2025-06-05 12:43:59,688 - src.sampling.popularity - DEBUG - Merging customer-week pairs with popular items\n",
      "2025-06-05 12:43:59,709 - src.sampling.popularity - DEBUG - Shape of result: (518700, 3)\n",
      "2025-06-05 12:43:59,710 - src.sampling.popularity - DEBUG - Adding item metadata from weekly statistics\n",
      "2025-06-05 12:43:59,710 - src.sampling.popularity - DEBUG - Adding item metadata from weekly statistics\n",
      "2025-06-05 12:43:59,734 - src.sampling.popularity - DEBUG - Shape of result after adding item metadata: (518700, 5)\n",
      "2025-06-05 12:43:59,735 - src.sampling.popularity - DEBUG - Generated 518700 popularity-based samples\n",
      "2025-06-05 12:43:59,735 - src.sampling.popularity - DEBUG - Columns of samples: Index(['customer_id', 'week_num', 'article_id', 'price', 'sales_channel_id',\n",
      "       'source'],\n",
      "      dtype='object')\n",
      "2025-06-05 12:43:59,736 - src.sampling.manager - DEBUG - Generated 518700 popularity-based samples\n",
      "2025-06-05 12:43:59,736 - src.sampling.manager - DEBUG - Columns of samples: Index(['customer_id', 'week_num', 'article_id', 'price', 'sales_channel_id',\n",
      "       'source'],\n",
      "      dtype='object')\n",
      "2025-06-05 12:43:59,736 - src.sampling.manager - INFO - Generating repurchase-based negative samples\n",
      "2025-06-05 12:43:59,737 - src.sampling.repurchase - INFO - Preparing negative samples by previous purchases\n",
      "2025-06-05 12:43:59,740 - src.sampling.repurchase - DEBUG - Filtering transactions by customer_ids: [   11484807043854349    20272533257771816    25135118671870114 ...\n",
      " 18430257223551121786 18432411165497420051 18440902715633436014]\n",
      "2025-06-05 12:43:59,740 - src.sampling.repurchase - DEBUG - Filtering transactions by customer_ids\n",
      "2025-06-05 12:43:59,766 - src.sampling.repurchase - INFO - Getting last k items for weeks 104 to 104\n",
      "2025-06-05 12:43:59,847 - src.sampling.repurchase - DEBUG - Getting last k items for week 104\n",
      "2025-06-05 12:43:59,861 - src.sampling.repurchase - DEBUG - Generated 142122 negative samples\n",
      "2025-06-05 12:43:59,862 - src.sampling.repurchase - DEBUG - Columns of result: Index(['customer_id', 'week_num', 'article_id', 'price', 'sales_channel_id',\n",
      "       'source'],\n",
      "      dtype='object')\n",
      "2025-06-05 12:43:59,862 - src.sampling.manager - DEBUG - Generated 142122 repurchase-based samples\n",
      "2025-06-05 12:43:59,863 - src.sampling.manager - DEBUG - Columns of samples: Index(['customer_id', 'week_num', 'article_id', 'price', 'sales_channel_id',\n",
      "       'source'],\n",
      "      dtype='object')\n",
      "2025-06-05 12:43:59,863 - src.sampling.manager - INFO - Combining negative samples from multiple sources\n",
      "2025-06-05 12:43:59,864 - src.sampling.manager - DEBUG - Combined 660822 samples before deduplication\n",
      "2025-06-05 12:43:59,950 - src.sampling.manager - DEBUG - Final negative sample count: 656391\n",
      "2025-06-05 12:43:59,950 - src.candidate_generator - INFO - Combining positive and negative samples\n",
      "2025-06-05 12:43:59,951 - src.candidate_generator - DEBUG - Number of positive samples: 53570\n",
      "2025-06-05 12:43:59,951 - src.candidate_generator - DEBUG - Number of negative samples: 656391\n",
      "2025-06-05 12:44:00,024 - src.candidate_generator - DEBUG - Number of combined samples: 656391\n",
      "2025-06-05 12:44:00,024 - src.candidate_generator - INFO - Adjusting negative to positive ratio to 30.0\n",
      "2025-06-05 12:44:00,025 - src.candidate_generator - INFO - Current ratio 163.262012012012 is greater than expected ratio 30.0, subsampling negative samples\n",
      "2025-06-05 12:44:00,495 - src.candidate_generator - INFO - Finished subsampling negative samples\n",
      "2025-06-05 12:44:00,496 - src.candidate_generator - INFO - Observed negative to positive ratio 30.806556556556558\n",
      "2025-06-05 12:44:00,496 - src.candidate_generator - INFO - Total number of samples 127099\n",
      "2025-06-05 12:44:00,497 - src.candidate_generator - INFO - Generating transaction features\n",
      "2025-06-05 12:44:00,503 - src.candidate_generator - INFO - Adding date features\n",
      "2025-06-05 12:44:00,559 - src.candidate_generator - INFO - Adding best seller rank\n",
      "2025-06-05 12:44:00,571 - src.candidate_generator - INFO - Getting unique customer-week pairs for inference\n",
      "2025-06-05 12:44:00,572 - src.candidate_generator - DEBUG - Shape of unique_pairs: (17290, 3)\n",
      "2025-06-05 12:44:00,572 - src.candidate_generator - INFO - Preparing base transactions data\n",
      "2025-06-05 12:44:00,573 - src.candidate_generator - DEBUG - Shape of transactions before filtering: (7874184, 6)\n",
      "2025-06-05 12:44:00,578 - src.candidate_generator - DEBUG - Adding week column to transactions\n",
      "2025-06-05 12:44:01,055 - src.candidate_generator - INFO - Filtering transactions from 2020-01-01 00:00:00 to 2020-09-15 00:00:00\n",
      "2025-06-05 12:44:01,132 - src.candidate_generator - DEBUG - Shape of transactions after filtering: (2682100, 7)\n",
      "2025-06-05 12:44:01,133 - src.candidate_generator - INFO - Generating negative samples for test\n",
      "2025-06-05 12:44:01,133 - src.sampling.manager - INFO - Initialized NegativeSamplingManager with strategies: ['popularity', 'repurchase']\n",
      "2025-06-05 12:44:01,134 - src.sampling.manager - INFO - Generating negative samples for test\n",
      "2025-06-05 12:44:01,134 - src.sampling.manager - DEBUG - Active strategies: ['popularity', 'repurchase']\n",
      "2025-06-05 12:44:01,134 - src.sampling.manager - INFO - Calculating popular items with top_k=30\n",
      "2025-06-05 12:44:01,139 - src.sampling.utils - INFO - Calculating weekly popular items\n",
      "2025-06-05 12:44:01,146 - src.sampling.utils - DEBUG - Shape of top_k_articles_by_week: (30, 3)\n",
      "2025-06-05 12:44:01,147 - src.sampling.utils - INFO - Calculating article weekly stats\n",
      "2025-06-05 12:44:01,606 - src.sampling.utils - DEBUG - Shape of article_weekly_stats: (11260, 5)\n",
      "2025-06-05 12:44:01,607 - src.sampling.manager - DEBUG - Generated 30 popular item entries\n",
      "2025-06-05 12:44:01,607 - src.sampling.manager - DEBUG - Created default prediction with 30 items\n",
      "2025-06-05 12:44:01,607 - src.sampling.manager - INFO - Generating popularity-based negative samples\n",
      "2025-06-05 12:44:01,608 - src.sampling.popularity - INFO - Preparing negative samples by popularity\n",
      "2025-06-05 12:44:01,608 - src.sampling.popularity - DEBUG - Merging customer-week pairs with popular items\n",
      "2025-06-05 12:44:01,631 - src.sampling.popularity - DEBUG - Shape of result: (518700, 4)\n",
      "2025-06-05 12:44:01,631 - src.sampling.popularity - DEBUG - Adding item metadata from weekly statistics\n",
      "2025-06-05 12:44:01,632 - src.sampling.popularity - DEBUG - Adding item metadata from weekly statistics\n",
      "2025-06-05 12:44:01,656 - src.sampling.popularity - DEBUG - Shape of result after adding item metadata: (518700, 6)\n",
      "2025-06-05 12:44:01,658 - src.sampling.popularity - DEBUG - Generated 518700 popularity-based samples\n",
      "2025-06-05 12:44:01,658 - src.sampling.popularity - DEBUG - Columns of samples: Index(['customer_id', 'week', 'week_num', 'article_id', 'price',\n",
      "       'sales_channel_id', 'source'],\n",
      "      dtype='object')\n",
      "2025-06-05 12:44:01,658 - src.sampling.manager - DEBUG - Generated 518700 popularity-based samples\n",
      "2025-06-05 12:44:01,659 - src.sampling.manager - DEBUG - Columns of samples: Index(['customer_id', 'week', 'week_num', 'article_id', 'price',\n",
      "       'sales_channel_id', 'source'],\n",
      "      dtype='object')\n",
      "2025-06-05 12:44:01,659 - src.sampling.manager - INFO - Generating repurchase-based negative samples\n",
      "2025-06-05 12:44:01,659 - src.sampling.repurchase - INFO - Preparing negative samples by previous purchases\n",
      "2025-06-05 12:44:01,662 - src.sampling.repurchase - DEBUG - Filtering transactions by customer_ids: [   11484807043854349    20272533257771816    25135118671870114 ...\n",
      " 18430257223551121786 18432411165497420051 18440902715633436014]\n",
      "2025-06-05 12:44:01,662 - src.sampling.repurchase - DEBUG - Filtering transactions by customer_ids\n",
      "2025-06-05 12:44:01,687 - src.sampling.repurchase - INFO - Getting last k items for weeks 104 to 104\n",
      "2025-06-05 12:44:01,756 - src.sampling.repurchase - DEBUG - Getting last k items for week 104\n",
      "2025-06-05 12:44:01,765 - src.sampling.repurchase - DEBUG - Generated 142122 negative samples\n",
      "2025-06-05 12:44:01,766 - src.sampling.repurchase - DEBUG - Columns of result: Index(['customer_id', 'week_num', 'article_id', 'price', 'sales_channel_id',\n",
      "       'source'],\n",
      "      dtype='object')\n",
      "2025-06-05 12:44:01,766 - src.sampling.manager - DEBUG - Generated 142122 repurchase-based samples\n",
      "2025-06-05 12:44:01,767 - src.sampling.manager - DEBUG - Columns of samples: Index(['customer_id', 'week_num', 'article_id', 'price', 'sales_channel_id',\n",
      "       'source'],\n",
      "      dtype='object')\n",
      "2025-06-05 12:44:01,767 - src.sampling.manager - INFO - Combining negative samples from multiple sources\n",
      "2025-06-05 12:44:01,769 - src.sampling.manager - DEBUG - Combined 660822 samples before deduplication\n",
      "2025-06-05 12:44:01,862 - src.sampling.manager - DEBUG - Final negative sample count: 656391\n",
      "2025-06-05 12:44:01,863 - src.candidate_generator - INFO - Generating transaction features\n",
      "2025-06-05 12:44:01,886 - src.candidate_generator - INFO - Adding date features\n",
      "2025-06-05 12:44:02,175 - src.candidate_generator - INFO - Adding best seller rank\n",
      "2025-06-05 12:44:02,220 - src.candidate_generator - INFO - Saving CandidateGeneratorResult to ../data/preprocessed/candidate_generator/test/subsample_0.25_42\n",
      "2025-06-05 12:44:02,247 - src.candidate_generator - INFO - CandidateGeneratorResult data saved to ../data/preprocessed/candidate_generator/test/subsample_0.25_42/data.parquet\n",
      "2025-06-05 12:44:02,346 - src.candidate_generator - INFO - CandidateGeneratorResult data_inference saved to ../data/preprocessed/candidate_generator/test/subsample_0.25_42/data_inference.parquet\n",
      "2025-06-05 12:44:02,347 - src.candidate_generator - INFO - CandidateGeneratorResult label saved to ../data/preprocessed/candidate_generator/test/subsample_0.25_42/label.npy\n",
      "2025-06-05 12:44:02,347 - src.candidate_generator - INFO - CandidateGeneratorResult feature_names saved to ../data/preprocessed/candidate_generator/test/subsample_0.25_42/feature_names.json\n",
      "2025-06-05 12:44:02,348 - src.candidate_generator - INFO - CandidateGeneratorResult default_prediction saved to ../data/preprocessed/candidate_generator/test/subsample_0.25_42/default_prediction.npy\n",
      "2025-06-05 12:44:02,348 - src.candidate_generator - INFO - CandidateGeneratorResult metadata saved to ../data/preprocessed/candidate_generator/test/subsample_0.25_42/metadata.json\n"
     ]
    }
   ],
   "source": [
    "candidates_train, candidates_valid, candidates_test = candidate_generator_pipeline.run()"
   ]
  },
  {
   "cell_type": "markdown",
   "metadata": {},
   "source": [
    "## For debug\n"
   ]
  },
  {
   "cell_type": "code",
   "execution_count": 9,
   "metadata": {},
   "outputs": [
    {
     "name": "stdout",
     "output_type": "stream",
     "text": [
      "['data', 'data_inference', 'label', 'feature_names', 'sample', 'default_prediction']\n",
      "['data', 'data_inference', 'label', 'feature_names', 'sample', 'default_prediction']\n",
      "['data', 'data_inference', 'label', 'feature_names', 'sample', 'default_prediction']\n"
     ]
    }
   ],
   "source": [
    "print(list(candidates_train.__dict__.keys()))\n",
    "print(list(candidates_valid.__dict__.keys()))\n",
    "print(list(candidates_test.__dict__.keys()))"
   ]
  },
  {
   "cell_type": "code",
   "execution_count": 10,
   "metadata": {},
   "outputs": [
    {
     "name": "stdout",
     "output_type": "stream",
     "text": [
      "['month', 'price', 'week_num', 'bestseller_rank', 'customer_id', 'article_id', 'week', 'source', 'label']\n",
      "['month', 'price', 'week_num', 'bestseller_rank', 'customer_id', 'article_id', 'week', 'source', 'label']\n",
      "['month', 'price', 'week_num', 'bestseller_rank', 'customer_id', 'article_id', 'week', 'source', 'label']\n"
     ]
    }
   ],
   "source": [
    "print(candidates_train.get_feature_list())\n",
    "print(candidates_valid.get_feature_list())\n",
    "print(candidates_test.get_feature_list())"
   ]
  },
  {
   "cell_type": "code",
   "execution_count": 11,
   "metadata": {},
   "outputs": [
    {
     "name": "stdout",
     "output_type": "stream",
     "text": [
      "(1062302, 11)\n",
      "(113942, 11)\n",
      "(678339, 10)\n",
      "(127099, 11)\n",
      "(656391, 10)\n"
     ]
    }
   ],
   "source": [
    "print(candidates_train.data.shape)\n",
    "print(candidates_valid.data.shape)\n",
    "print(candidates_valid.data_inference.shape)\n",
    "print(candidates_test.data.shape)\n",
    "print(candidates_test.data_inference.shape)"
   ]
  },
  {
   "cell_type": "code",
   "execution_count": 12,
   "metadata": {},
   "outputs": [
    {
     "name": "stdout",
     "output_type": "stream",
     "text": [
      "(30,)\n",
      "(30,)\n"
     ]
    }
   ],
   "source": [
    "print(candidates_valid.default_prediction.shape)\n",
    "print(candidates_test.default_prediction.shape)"
   ]
  },
  {
   "cell_type": "code",
   "execution_count": 13,
   "metadata": {},
   "outputs": [
    {
     "name": "stdout",
     "output_type": "stream",
     "text": [
      "Train\n"
     ]
    },
    {
     "data": {
      "text/plain": [
       "source\n",
       "repurchase    611826\n",
       "popularity    450476\n",
       "Name: count, dtype: int64"
      ]
     },
     "metadata": {},
     "output_type": "display_data"
    },
    {
     "name": "stdout",
     "output_type": "stream",
     "text": [
      "Valid: train\n"
     ]
    },
    {
     "data": {
      "text/plain": [
       "source\n",
       "popularity    89759\n",
       "repurchase    24183\n",
       "Name: count, dtype: int64"
      ]
     },
     "metadata": {},
     "output_type": "display_data"
    },
    {
     "name": "stdout",
     "output_type": "stream",
     "text": [
      "Valid: inference\n"
     ]
    },
    {
     "data": {
      "text/plain": [
       "source\n",
       "popularity    537210\n",
       "repurchase    141129\n",
       "Name: count, dtype: int64"
      ]
     },
     "metadata": {},
     "output_type": "display_data"
    },
    {
     "name": "stdout",
     "output_type": "stream",
     "text": [
      "Test: train\n"
     ]
    },
    {
     "data": {
      "text/plain": [
       "source\n",
       "popularity    99915\n",
       "repurchase    27184\n",
       "Name: count, dtype: int64"
      ]
     },
     "metadata": {},
     "output_type": "display_data"
    },
    {
     "name": "stdout",
     "output_type": "stream",
     "text": [
      "Test: inference\n"
     ]
    },
    {
     "data": {
      "text/plain": [
       "source\n",
       "popularity    518700\n",
       "repurchase    137691\n",
       "Name: count, dtype: int64"
      ]
     },
     "metadata": {},
     "output_type": "display_data"
    }
   ],
   "source": [
    "# Look at candidate sources\n",
    "print(\"Train\")\n",
    "display(candidates_train.data.source.value_counts())\n",
    "print(\"Valid: train\")\n",
    "display(candidates_valid.data.source.value_counts())\n",
    "print(\"Valid: inference\")\n",
    "display(candidates_valid.data_inference.source.value_counts())\n",
    "print(\"Test: train\")\n",
    "display(candidates_test.data.source.value_counts())\n",
    "print(\"Test: inference\")\n",
    "display(candidates_test.data_inference.source.value_counts())"
   ]
  },
  {
   "cell_type": "code",
   "execution_count": 14,
   "metadata": {},
   "outputs": [
    {
     "name": "stdout",
     "output_type": "stream",
     "text": [
      "<class 'pandas.core.frame.DataFrame'>\n",
      "RangeIndex: 1062302 entries, 0 to 1062301\n",
      "Data columns (total 11 columns):\n",
      " #   Column            Non-Null Count    Dtype  \n",
      "---  ------            --------------    -----  \n",
      " 0   customer_id       1062302 non-null  uint64 \n",
      " 1   week_num          1062302 non-null  int64  \n",
      " 2   article_id        1062302 non-null  int32  \n",
      " 3   price             1062302 non-null  float32\n",
      " 4   sales_channel_id  1062302 non-null  int8   \n",
      " 5   source            1062302 non-null  object \n",
      " 6   label             1062302 non-null  int64  \n",
      " 7   week              1062302 non-null  object \n",
      " 8   year              1062302 non-null  int32  \n",
      " 9   month             1062302 non-null  int32  \n",
      " 10  bestseller_rank   1062302 non-null  float64\n",
      "dtypes: float32(1), float64(1), int32(3), int64(2), int8(1), object(2), uint64(1)\n",
      "memory usage: 65.9+ MB\n"
     ]
    }
   ],
   "source": [
    "candidates_train.data.info()"
   ]
  },
  {
   "cell_type": "markdown",
   "metadata": {},
   "source": [
    "# Checks\n"
   ]
  },
  {
   "cell_type": "code",
   "execution_count": 15,
   "metadata": {},
   "outputs": [
    {
     "name": "stderr",
     "output_type": "stream",
     "text": [
      "2025-06-05 12:44:03,160 - matplotlib - DEBUG - matplotlib data path: /Users/sharonshiao/Dropbox/Machine_learning/projects/fahsion_recommendation/venv/lib/python3.12/site-packages/matplotlib/mpl-data\n",
      "2025-06-05 12:44:03,165 - matplotlib - DEBUG - CONFIGDIR=/Users/sharonshiao/.matplotlib\n",
      "2025-06-05 12:44:03,206 - matplotlib - DEBUG - interactive is False\n",
      "2025-06-05 12:44:03,206 - matplotlib - DEBUG - platform is darwin\n",
      "2025-06-05 12:44:03,289 - matplotlib - DEBUG - CACHEDIR=/Users/sharonshiao/.matplotlib\n",
      "2025-06-05 12:44:03,294 - matplotlib.font_manager - DEBUG - Using fontManager instance from /Users/sharonshiao/.matplotlib/fontlist-v390.json\n",
      "/Users/sharonshiao/Dropbox/Machine_learning/projects/fahsion_recommendation/venv/lib/python3.12/site-packages/tqdm/auto.py:21: TqdmWarning: IProgress not found. Please update jupyter and ipywidgets. See https://ipywidgets.readthedocs.io/en/stable/user_install.html\n",
      "  from .autonotebook import tqdm as notebook_tqdm\n"
     ]
    }
   ],
   "source": [
    "from src.feature_extraction import load_optimized_raw_data\n",
    "from src.utils.data_checks import test_candidate_generator, test_candidate_generator_pipeline"
   ]
  },
  {
   "cell_type": "code",
   "execution_count": 16,
   "metadata": {},
   "outputs": [
    {
     "name": "stderr",
     "output_type": "stream",
     "text": [
      "2025-06-05 12:44:18,022 - src.feature_extraction - INFO - Loading optimized raw data from transactions train 0.25 42\n",
      "2025-06-05 12:44:18,023 - src.feature_extraction - DEBUG - Loading data from ../data/transactions_train_sample_0.25_42.parquet\n",
      "2025-06-05 12:44:18,075 - src.feature_extraction - INFO - Loading optimized raw data from transactions valid 0.25 42\n",
      "2025-06-05 12:44:18,076 - src.feature_extraction - DEBUG - Loading data from ../data/transactions_valid_sample_0.25_42.parquet\n",
      "2025-06-05 12:44:18,084 - src.feature_extraction - INFO - Loading optimized raw data from transactions test 0.25 42\n",
      "2025-06-05 12:44:18,084 - src.feature_extraction - DEBUG - Loading data from ../data/transactions_test_sample_0.25_42.parquet\n"
     ]
    }
   ],
   "source": [
    "transactions_train = load_optimized_raw_data(\n",
    "    \"transactions\", \"train\", config_candidate_generation.subsample, config_candidate_generation.seed\n",
    ")\n",
    "transactions_valid = load_optimized_raw_data(\n",
    "    \"transactions\", \"valid\", config_candidate_generation.subsample, config_candidate_generation.seed\n",
    ")\n",
    "transactions_test = load_optimized_raw_data(\n",
    "    \"transactions\", \"test\", config_candidate_generation.subsample, config_candidate_generation.seed\n",
    ")"
   ]
  },
  {
   "cell_type": "code",
   "execution_count": 17,
   "metadata": {},
   "outputs": [],
   "source": [
    "transactions = pd.concat([transactions_train, transactions_valid, transactions_test])"
   ]
  },
  {
   "cell_type": "code",
   "execution_count": 18,
   "metadata": {},
   "outputs": [
    {
     "data": {
      "text/plain": [
       "{'train_start_date': Timestamp('2020-07-01 00:00:00'),\n",
       " 'train_end_date': Timestamp('2020-09-08 00:00:00'),\n",
       " 'history_start_date': Timestamp('2020-01-01 00:00:00'),\n",
       " 'n_sample_week_threshold': -1,\n",
       " 'negative_sample_strategies': {'popularity': {'top_k_items': 30},\n",
       "  'repurchase': {'strategy': 'last_k_items', 'k': 12}},\n",
       " 'inference_sample_strategies': {'popularity': {'top_k_items': 30},\n",
       "  'repurchase': {'strategy': 'last_k_items', 'k': 12}},\n",
       " 'subsample': 0.25,\n",
       " 'seed': 42,\n",
       " 'restrict_positive_samples': True,\n",
       " 'neg_to_pos_ratio': 30.0}"
      ]
     },
     "execution_count": 18,
     "metadata": {},
     "output_type": "execute_result"
    }
   ],
   "source": [
    "config_candidate_generation.__dict__"
   ]
  },
  {
   "cell_type": "code",
   "execution_count": 19,
   "metadata": {},
   "outputs": [
    {
     "name": "stdout",
     "output_type": "stream",
     "text": [
      "Has data: True, sample: train\n",
      "Checking week range\n",
      "Checking default prediction\n",
      "Checking number of customers\n",
      "Checks passed\n",
      "Has data: True, sample: valid\n",
      "Checking week range\n",
      "Checking default prediction\n",
      "Checking number of customers\n",
      "Checks passed\n",
      "Has data: True, sample: test\n",
      "Checking week range\n",
      "Checking default prediction\n",
      "Checking number of customers\n",
      "Checks passed\n"
     ]
    }
   ],
   "source": [
    "# Test for meta data\n",
    "test_candidate_generator_pipeline(candidates_train, transactions, config_candidate_generation)\n",
    "test_candidate_generator_pipeline(candidates_valid, transactions, config_candidate_generation)\n",
    "test_candidate_generator_pipeline(candidates_test, transactions, config_candidate_generation)"
   ]
  },
  {
   "cell_type": "code",
   "execution_count": null,
   "metadata": {},
   "outputs": [],
   "source": []
  },
  {
   "cell_type": "code",
   "execution_count": 20,
   "metadata": {},
   "outputs": [
    {
     "name": "stdout",
     "output_type": "stream",
     "text": [
      "Testing candidate generator\n",
      "Sample: train\n",
      "Testing positive examples\n",
      "Testing negative examples\n",
      "Skipping repurchases test because neg_to_pos_ratio is not -1\n",
      "Checks passed\n"
     ]
    }
   ],
   "source": [
    "customer_ids = candidates_train.data.customer_id.unique()[:10]\n",
    "test_candidate_generator(candidates_train, transactions, config_candidate_generation, customer_ids)"
   ]
  },
  {
   "cell_type": "code",
   "execution_count": 21,
   "metadata": {},
   "outputs": [
    {
     "name": "stdout",
     "output_type": "stream",
     "text": [
      "Testing candidate generator\n",
      "Sample: valid\n",
      "Testing positive examples\n",
      "Testing negative examples\n",
      "Skipping repurchases test because neg_to_pos_ratio is not -1\n",
      "Checks passed\n"
     ]
    }
   ],
   "source": [
    "customer_ids = candidates_valid.data.customer_id.unique()[:10]\n",
    "test_candidate_generator(candidates_valid, transactions, config_candidate_generation, customer_ids)"
   ]
  },
  {
   "cell_type": "code",
   "execution_count": 22,
   "metadata": {},
   "outputs": [
    {
     "name": "stdout",
     "output_type": "stream",
     "text": [
      "Testing candidate generator\n",
      "Sample: test\n",
      "Testing positive examples\n",
      "Testing negative examples\n",
      "Skipping repurchases test because neg_to_pos_ratio is not -1\n",
      "Checks passed\n"
     ]
    }
   ],
   "source": [
    "customer_ids = candidates_test.data.customer_id.unique()[:10]\n",
    "test_candidate_generator(candidates_test, transactions, config_candidate_generation, customer_ids)"
   ]
  },
  {
   "cell_type": "code",
   "execution_count": null,
   "metadata": {},
   "outputs": [],
   "source": []
  },
  {
   "cell_type": "markdown",
   "metadata": {},
   "source": [
    "# Adhoc\n"
   ]
  },
  {
   "cell_type": "code",
   "execution_count": 23,
   "metadata": {},
   "outputs": [
    {
     "data": {
      "text/plain": [
       "source      label\n",
       "popularity  0        431794\n",
       "            1         18682\n",
       "repurchase  0        596226\n",
       "            1         15600\n",
       "dtype: int64"
      ]
     },
     "execution_count": 23,
     "metadata": {},
     "output_type": "execute_result"
    }
   ],
   "source": [
    "candidates_train.data.groupby([\"source\", \"label\"]).size()"
   ]
  },
  {
   "cell_type": "code",
   "execution_count": 24,
   "metadata": {},
   "outputs": [
    {
     "data": {
      "text/plain": [
       "source      label\n",
       "popularity  0        87581\n",
       "            1         2178\n",
       "repurchase  0        22779\n",
       "            1         1404\n",
       "dtype: int64"
      ]
     },
     "execution_count": 24,
     "metadata": {},
     "output_type": "execute_result"
    }
   ],
   "source": [
    "candidates_valid.data.groupby([\"source\", \"label\"]).size()"
   ]
  },
  {
   "cell_type": "code",
   "execution_count": 25,
   "metadata": {},
   "outputs": [
    {
     "data": {
      "text/plain": [
       "source      label\n",
       "popularity  0        97369\n",
       "            1         2546\n",
       "repurchase  0        25734\n",
       "            1         1450\n",
       "dtype: int64"
      ]
     },
     "execution_count": 25,
     "metadata": {},
     "output_type": "execute_result"
    }
   ],
   "source": [
    "candidates_test.data.groupby([\"source\", \"label\"]).size()"
   ]
  },
  {
   "cell_type": "code",
   "execution_count": null,
   "metadata": {},
   "outputs": [],
   "source": []
  }
 ],
 "metadata": {
  "kernelspec": {
   "display_name": "venv",
   "language": "python",
   "name": "python3"
  },
  "language_info": {
   "codemirror_mode": {
    "name": "ipython",
    "version": 3
   },
   "file_extension": ".py",
   "mimetype": "text/x-python",
   "name": "python",
   "nbconvert_exporter": "python",
   "pygments_lexer": "ipython3",
   "version": "3.12.10"
  }
 },
 "nbformat": 4,
 "nbformat_minor": 2
}
