{
 "cells": [
  {
   "cell_type": "markdown",
   "metadata": {},
   "source": [
    "# 02 Candidate generation\n"
   ]
  },
  {
   "cell_type": "code",
   "execution_count": null,
   "metadata": {},
   "outputs": [],
   "source": [
    "%load_ext autoreload\n",
    "%autoreload 2"
   ]
  },
  {
   "cell_type": "code",
   "execution_count": null,
   "metadata": {},
   "outputs": [],
   "source": [
    "import sys\n",
    "import logging\n",
    "import pandas as pd\n",
    "\n",
    "sys.path.append(\"..\")\n",
    "\n",
    "from src.utils.core_utils import setup_logging, set_seed"
   ]
  },
  {
   "cell_type": "code",
   "execution_count": null,
   "metadata": {},
   "outputs": [],
   "source": [
    "# Initialize logging\n",
    "file_log = \"candidate_generation.log\"\n",
    "root_logger = setup_logging(level=logging.DEBUG, log_file=file_log, remove_existing=True)\n",
    "\n",
    "# Set seed\n",
    "set_seed(123)"
   ]
  },
  {
   "cell_type": "code",
   "execution_count": null,
   "metadata": {},
   "outputs": [],
   "source": [
    "from src.candidate_generator import CandidateGeneratorPipeline, CandidateGeneratorPipelineConfig"
   ]
  },
  {
   "cell_type": "markdown",
   "metadata": {},
   "source": [
    "# Config\n"
   ]
  },
  {
   "cell_type": "code",
   "execution_count": null,
   "metadata": {},
   "outputs": [],
   "source": [
    "config_candidate_generation = CandidateGeneratorPipelineConfig.create_default()"
   ]
  },
  {
   "cell_type": "markdown",
   "metadata": {},
   "source": [
    "## Candidate generation\n"
   ]
  },
  {
   "cell_type": "code",
   "execution_count": null,
   "metadata": {},
   "outputs": [],
   "source": [
    "candidate_generator_pipeline = CandidateGeneratorPipeline(config=config_candidate_generation)"
   ]
  },
  {
   "cell_type": "code",
   "execution_count": null,
   "metadata": {},
   "outputs": [],
   "source": [
    "candidate_generator_pipeline = candidate_generator_pipeline.setup()"
   ]
  },
  {
   "cell_type": "code",
   "execution_count": null,
   "metadata": {},
   "outputs": [],
   "source": [
    "candidates_train, candidates_valid, candidates_test = candidate_generator_pipeline.run()"
   ]
  },
  {
   "cell_type": "markdown",
   "metadata": {},
   "source": [
    "## For debug\n"
   ]
  },
  {
   "cell_type": "code",
   "execution_count": null,
   "metadata": {},
   "outputs": [],
   "source": [
    "print(list(candidates_train.__dict__.keys()))\n",
    "print(list(candidates_valid.__dict__.keys()))\n",
    "print(list(candidates_test.__dict__.keys()))"
   ]
  },
  {
   "cell_type": "code",
   "execution_count": null,
   "metadata": {},
   "outputs": [],
   "source": [
    "print(candidates_train.get_feature_list())\n",
    "print(candidates_valid.get_feature_list())\n",
    "print(candidates_test.get_feature_list())"
   ]
  },
  {
   "cell_type": "code",
   "execution_count": null,
   "metadata": {},
   "outputs": [],
   "source": [
    "print(candidates_train.data.shape)\n",
    "print(candidates_valid.data.shape)\n",
    "print(candidates_valid.data_inference.shape)\n",
    "print(candidates_test.data.shape)\n",
    "print(candidates_test.data_inference.shape)"
   ]
  },
  {
   "cell_type": "code",
   "execution_count": null,
   "metadata": {},
   "outputs": [],
   "source": [
    "print(candidates_valid.default_prediction.shape)\n",
    "print(candidates_test.default_prediction.shape)"
   ]
  },
  {
   "cell_type": "code",
   "execution_count": null,
   "metadata": {},
   "outputs": [],
   "source": [
    "# Look at candidate sources\n",
    "print(\"Train\")\n",
    "display(candidates_train.data.source.value_counts())\n",
    "print(\"Valid: train\")\n",
    "display(candidates_valid.data.source.value_counts())\n",
    "print(\"Valid: inference\")\n",
    "display(candidates_valid.data_inference.source.value_counts())\n",
    "print(\"Test: train\")\n",
    "display(candidates_test.data.source.value_counts())\n",
    "print(\"Test: inference\")\n",
    "display(candidates_test.data_inference.source.value_counts())"
   ]
  },
  {
   "cell_type": "code",
   "execution_count": null,
   "metadata": {},
   "outputs": [],
   "source": [
    "candidates_train.data.info()"
   ]
  },
  {
   "cell_type": "markdown",
   "metadata": {},
   "source": [
    "# Checks\n"
   ]
  },
  {
   "cell_type": "code",
   "execution_count": null,
   "metadata": {},
   "outputs": [],
   "source": [
    "from src.feature_extraction import load_optimized_raw_data\n",
    "from src.utils.data_checks import test_candidate_generator, test_candidate_generator_pipeline"
   ]
  },
  {
   "cell_type": "code",
   "execution_count": null,
   "metadata": {},
   "outputs": [],
   "source": [
    "transactions_train = load_optimized_raw_data(\n",
    "    \"transactions\", \"train\", config_candidate_generation.subsample, config_candidate_generation.seed\n",
    ")\n",
    "transactions_valid = load_optimized_raw_data(\n",
    "    \"transactions\", \"valid\", config_candidate_generation.subsample, config_candidate_generation.seed\n",
    ")\n",
    "transactions_test = load_optimized_raw_data(\n",
    "    \"transactions\", \"test\", config_candidate_generation.subsample, config_candidate_generation.seed\n",
    ")"
   ]
  },
  {
   "cell_type": "code",
   "execution_count": null,
   "metadata": {},
   "outputs": [],
   "source": [
    "transactions = pd.concat([transactions_train, transactions_valid, transactions_test])"
   ]
  },
  {
   "cell_type": "code",
   "execution_count": null,
   "metadata": {},
   "outputs": [],
   "source": [
    "config_candidate_generation.__dict__"
   ]
  },
  {
   "cell_type": "code",
   "execution_count": null,
   "metadata": {},
   "outputs": [],
   "source": [
    "# Test for meta data\n",
    "test_candidate_generator_pipeline(candidates_train, transactions, config_candidate_generation)\n",
    "test_candidate_generator_pipeline(candidates_valid, transactions, config_candidate_generation)\n",
    "test_candidate_generator_pipeline(candidates_test, transactions, config_candidate_generation)"
   ]
  },
  {
   "cell_type": "code",
   "execution_count": null,
   "metadata": {},
   "outputs": [],
   "source": []
  },
  {
   "cell_type": "code",
   "execution_count": null,
   "metadata": {},
   "outputs": [],
   "source": [
    "customer_ids = candidates_train.data.customer_id.unique()[:10]\n",
    "test_candidate_generator(candidates_train, transactions, config_candidate_generation, customer_ids)"
   ]
  },
  {
   "cell_type": "code",
   "execution_count": null,
   "metadata": {},
   "outputs": [],
   "source": [
    "customer_ids = candidates_valid.data.customer_id.unique()[:10]\n",
    "test_candidate_generator(candidates_valid, transactions, config_candidate_generation, customer_ids)"
   ]
  },
  {
   "cell_type": "code",
   "execution_count": null,
   "metadata": {},
   "outputs": [],
   "source": [
    "customer_ids = candidates_test.data.customer_id.unique()[:10]\n",
    "test_candidate_generator(candidates_test, transactions, config_candidate_generation, customer_ids)"
   ]
  },
  {
   "cell_type": "code",
   "execution_count": null,
   "metadata": {},
   "outputs": [],
   "source": []
  },
  {
   "cell_type": "markdown",
   "metadata": {},
   "source": [
    "# Adhoc\n"
   ]
  },
  {
   "cell_type": "code",
   "execution_count": null,
   "metadata": {},
   "outputs": [],
   "source": [
    "candidates_train.data.groupby([\"source\", \"label\"]).size()"
   ]
  },
  {
   "cell_type": "code",
   "execution_count": null,
   "metadata": {},
   "outputs": [],
   "source": [
    "candidates_valid.data.groupby([\"source\", \"label\"]).size()"
   ]
  },
  {
   "cell_type": "code",
   "execution_count": null,
   "metadata": {},
   "outputs": [],
   "source": [
    "candidates_test.data.groupby([\"source\", \"label\"]).size()"
   ]
  },
  {
   "cell_type": "code",
   "execution_count": null,
   "metadata": {},
   "outputs": [],
   "source": []
  }
 ],
 "metadata": {
  "kernelspec": {
   "display_name": "venv",
   "language": "python",
   "name": "python3"
  },
  "language_info": {
   "codemirror_mode": {
    "name": "ipython",
    "version": 3
   },
   "file_extension": ".py",
   "mimetype": "text/x-python",
   "name": "python",
   "nbconvert_exporter": "python",
   "pygments_lexer": "ipython3"
  }
 },
 "nbformat": 4,
 "nbformat_minor": 2
}
